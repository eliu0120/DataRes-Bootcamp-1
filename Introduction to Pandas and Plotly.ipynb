{
 "cells": [
  {
   "cell_type": "markdown",
   "metadata": {},
   "source": [
    "# Data Science Bootcamp: Introduction to Pandas and Plotly Workshop"
   ]
  },
  {
   "cell_type": "markdown",
   "metadata": {},
   "source": [
    "This is the jupyter notebook for the Introduction to Pandas and Plotly workshop. In this notebook, we will go over how to use pandas and plotly by running/writing code on an online dataset. At the end, we will have an exercise making visuals together."
   ]
  },
  {
   "cell_type": "markdown",
   "metadata": {},
   "source": [
    "## Introduction to Pandas"
   ]
  },
  {
   "cell_type": "markdown",
   "metadata": {},
   "source": [
    "### Getting Started"
   ]
  },
  {
   "cell_type": "markdown",
   "metadata": {},
   "source": [
    "To start using pandas like any other package, we need to import it."
   ]
  },
  {
   "cell_type": "code",
   "execution_count": 65,
   "metadata": {},
   "outputs": [],
   "source": [
    "import pandas as pd"
   ]
  },
  {
   "cell_type": "markdown",
   "metadata": {},
   "source": [
    "(Tip: use the \"Run\" button to run a cell, or the shortcut command-R, if on a Mac, with the cell highlighted to run it)"
   ]
  },
  {
   "cell_type": "markdown",
   "metadata": {},
   "source": [
    "Pandas is truly useful if we have data to work with. Once you found the necessary data, the next step is to load the data on jupyter. There are various ways you can load the data depending on where it came from:\n",
    "* Download the data manually and load it from its location in your file system\n",
    "* Use the urlretrieve function from the urllib.request to download CSV files from a raw URL\n",
    "* Use a link to a CSV/JSON/HTML etc. file you would like to use\n",
    "\n",
    "In this instance, we will simply read a CSV file we have a link to online."
   ]
  },
  {
   "cell_type": "code",
   "execution_count": 50,
   "metadata": {},
   "outputs": [],
   "source": [
    "car_crashes = pd.read_csv('https://raw.githubusercontent.com/mwaskom/seaborn-data/master/car_crashes.csv')"
   ]
  },
  {
   "cell_type": "markdown",
   "metadata": {},
   "source": [
    "We can then take a look at the first few rows of our dataframe by issuing the following line of code:"
   ]
  },
  {
   "cell_type": "code",
   "execution_count": 51,
   "metadata": {},
   "outputs": [
    {
     "data": {
      "text/html": [
       "<div>\n",
       "<style scoped>\n",
       "    .dataframe tbody tr th:only-of-type {\n",
       "        vertical-align: middle;\n",
       "    }\n",
       "\n",
       "    .dataframe tbody tr th {\n",
       "        vertical-align: top;\n",
       "    }\n",
       "\n",
       "    .dataframe thead th {\n",
       "        text-align: right;\n",
       "    }\n",
       "</style>\n",
       "<table border=\"1\" class=\"dataframe\">\n",
       "  <thead>\n",
       "    <tr style=\"text-align: right;\">\n",
       "      <th></th>\n",
       "      <th>total</th>\n",
       "      <th>speeding</th>\n",
       "      <th>alcohol</th>\n",
       "      <th>not_distracted</th>\n",
       "      <th>no_previous</th>\n",
       "      <th>ins_premium</th>\n",
       "      <th>ins_losses</th>\n",
       "      <th>abbrev</th>\n",
       "    </tr>\n",
       "  </thead>\n",
       "  <tbody>\n",
       "    <tr>\n",
       "      <th>0</th>\n",
       "      <td>18.8</td>\n",
       "      <td>7.332</td>\n",
       "      <td>5.640</td>\n",
       "      <td>18.048</td>\n",
       "      <td>15.040</td>\n",
       "      <td>784.55</td>\n",
       "      <td>145.08</td>\n",
       "      <td>AL</td>\n",
       "    </tr>\n",
       "    <tr>\n",
       "      <th>1</th>\n",
       "      <td>18.1</td>\n",
       "      <td>7.421</td>\n",
       "      <td>4.525</td>\n",
       "      <td>16.290</td>\n",
       "      <td>17.014</td>\n",
       "      <td>1053.48</td>\n",
       "      <td>133.93</td>\n",
       "      <td>AK</td>\n",
       "    </tr>\n",
       "    <tr>\n",
       "      <th>2</th>\n",
       "      <td>18.6</td>\n",
       "      <td>6.510</td>\n",
       "      <td>5.208</td>\n",
       "      <td>15.624</td>\n",
       "      <td>17.856</td>\n",
       "      <td>899.47</td>\n",
       "      <td>110.35</td>\n",
       "      <td>AZ</td>\n",
       "    </tr>\n",
       "    <tr>\n",
       "      <th>3</th>\n",
       "      <td>22.4</td>\n",
       "      <td>4.032</td>\n",
       "      <td>5.824</td>\n",
       "      <td>21.056</td>\n",
       "      <td>21.280</td>\n",
       "      <td>827.34</td>\n",
       "      <td>142.39</td>\n",
       "      <td>AR</td>\n",
       "    </tr>\n",
       "    <tr>\n",
       "      <th>4</th>\n",
       "      <td>12.0</td>\n",
       "      <td>4.200</td>\n",
       "      <td>3.360</td>\n",
       "      <td>10.920</td>\n",
       "      <td>10.680</td>\n",
       "      <td>878.41</td>\n",
       "      <td>165.63</td>\n",
       "      <td>CA</td>\n",
       "    </tr>\n",
       "  </tbody>\n",
       "</table>\n",
       "</div>"
      ],
      "text/plain": [
       "   total  speeding  alcohol  not_distracted  no_previous  ins_premium  \\\n",
       "0   18.8     7.332    5.640          18.048       15.040       784.55   \n",
       "1   18.1     7.421    4.525          16.290       17.014      1053.48   \n",
       "2   18.6     6.510    5.208          15.624       17.856       899.47   \n",
       "3   22.4     4.032    5.824          21.056       21.280       827.34   \n",
       "4   12.0     4.200    3.360          10.920       10.680       878.41   \n",
       "\n",
       "   ins_losses abbrev  \n",
       "0      145.08     AL  \n",
       "1      133.93     AK  \n",
       "2      110.35     AZ  \n",
       "3      142.39     AR  \n",
       "4      165.63     CA  "
      ]
     },
     "execution_count": 51,
     "metadata": {},
     "output_type": "execute_result"
    }
   ],
   "source": [
    "car_crashes.head()"
   ]
  },
  {
   "cell_type": "markdown",
   "metadata": {},
   "source": [
    "Now our dataframe is saved in the variable car_crashes and we can use it analyze the data. Let's look at the columns our dataset."
   ]
  },
  {
   "cell_type": "code",
   "execution_count": 52,
   "metadata": {},
   "outputs": [
    {
     "data": {
      "text/plain": [
       "Index(['total', 'speeding', 'alcohol', 'not_distracted', 'no_previous',\n",
       "       'ins_premium', 'ins_losses', 'abbrev'],\n",
       "      dtype='object')"
      ]
     },
     "execution_count": 52,
     "metadata": {},
     "output_type": "execute_result"
    }
   ],
   "source": [
    "car_crashes.columns"
   ]
  },
  {
   "cell_type": "markdown",
   "metadata": {},
   "source": [
    "Notice how this function does not have () at the end. You will notice some functions in pandas do not have parentheses. It's weird and there's probably some complex reason for it that I am not knowledgable on.\n",
    "\n",
    "Let's store the columns as a list so we can more easily reference it."
   ]
  },
  {
   "cell_type": "code",
   "execution_count": 53,
   "metadata": {},
   "outputs": [
    {
     "data": {
      "text/plain": [
       "['total',\n",
       " 'speeding',\n",
       " 'alcohol',\n",
       " 'not_distracted',\n",
       " 'no_previous',\n",
       " 'ins_premium',\n",
       " 'ins_losses',\n",
       " 'abbrev']"
      ]
     },
     "execution_count": 53,
     "metadata": {},
     "output_type": "execute_result"
    }
   ],
   "source": [
    "cols = list(car_crashes.columns)\n",
    "cols"
   ]
  },
  {
   "cell_type": "markdown",
   "metadata": {},
   "source": [
    "### Data Manipulation"
   ]
  },
  {
   "cell_type": "markdown",
   "metadata": {},
   "source": [
    "Now that we have our dataset stored as a dataframe, we need to learn how pandas can help us manipulate it so we can get some interesting insights. Run the following line of code below."
   ]
  },
  {
   "cell_type": "code",
   "execution_count": 54,
   "metadata": {},
   "outputs": [
    {
     "data": {
      "text/html": [
       "<div>\n",
       "<style scoped>\n",
       "    .dataframe tbody tr th:only-of-type {\n",
       "        vertical-align: middle;\n",
       "    }\n",
       "\n",
       "    .dataframe tbody tr th {\n",
       "        vertical-align: top;\n",
       "    }\n",
       "\n",
       "    .dataframe thead th {\n",
       "        text-align: right;\n",
       "    }\n",
       "</style>\n",
       "<table border=\"1\" class=\"dataframe\">\n",
       "  <thead>\n",
       "    <tr style=\"text-align: right;\">\n",
       "      <th></th>\n",
       "      <th>total</th>\n",
       "      <th>speeding</th>\n",
       "      <th>alcohol</th>\n",
       "      <th>not_distracted</th>\n",
       "      <th>no_previous</th>\n",
       "      <th>ins_premium</th>\n",
       "      <th>ins_losses</th>\n",
       "      <th>abbrev</th>\n",
       "    </tr>\n",
       "  </thead>\n",
       "  <tbody>\n",
       "    <tr>\n",
       "      <th>0</th>\n",
       "      <td>18.8</td>\n",
       "      <td>7.332</td>\n",
       "      <td>5.640</td>\n",
       "      <td>18.048</td>\n",
       "      <td>15.040</td>\n",
       "      <td>784.55</td>\n",
       "      <td>145.08</td>\n",
       "      <td>AL</td>\n",
       "    </tr>\n",
       "    <tr>\n",
       "      <th>1</th>\n",
       "      <td>18.1</td>\n",
       "      <td>7.421</td>\n",
       "      <td>4.525</td>\n",
       "      <td>16.290</td>\n",
       "      <td>17.014</td>\n",
       "      <td>1053.48</td>\n",
       "      <td>133.93</td>\n",
       "      <td>AK</td>\n",
       "    </tr>\n",
       "    <tr>\n",
       "      <th>2</th>\n",
       "      <td>18.6</td>\n",
       "      <td>6.510</td>\n",
       "      <td>5.208</td>\n",
       "      <td>15.624</td>\n",
       "      <td>17.856</td>\n",
       "      <td>899.47</td>\n",
       "      <td>110.35</td>\n",
       "      <td>AZ</td>\n",
       "    </tr>\n",
       "    <tr>\n",
       "      <th>3</th>\n",
       "      <td>22.4</td>\n",
       "      <td>4.032</td>\n",
       "      <td>5.824</td>\n",
       "      <td>21.056</td>\n",
       "      <td>21.280</td>\n",
       "      <td>827.34</td>\n",
       "      <td>142.39</td>\n",
       "      <td>AR</td>\n",
       "    </tr>\n",
       "    <tr>\n",
       "      <th>4</th>\n",
       "      <td>12.0</td>\n",
       "      <td>4.200</td>\n",
       "      <td>3.360</td>\n",
       "      <td>10.920</td>\n",
       "      <td>10.680</td>\n",
       "      <td>878.41</td>\n",
       "      <td>165.63</td>\n",
       "      <td>CA</td>\n",
       "    </tr>\n",
       "    <tr>\n",
       "      <th>5</th>\n",
       "      <td>13.6</td>\n",
       "      <td>5.032</td>\n",
       "      <td>3.808</td>\n",
       "      <td>10.744</td>\n",
       "      <td>12.920</td>\n",
       "      <td>835.50</td>\n",
       "      <td>139.91</td>\n",
       "      <td>CO</td>\n",
       "    </tr>\n",
       "    <tr>\n",
       "      <th>6</th>\n",
       "      <td>10.8</td>\n",
       "      <td>4.968</td>\n",
       "      <td>3.888</td>\n",
       "      <td>9.396</td>\n",
       "      <td>8.856</td>\n",
       "      <td>1068.73</td>\n",
       "      <td>167.02</td>\n",
       "      <td>CT</td>\n",
       "    </tr>\n",
       "    <tr>\n",
       "      <th>7</th>\n",
       "      <td>16.2</td>\n",
       "      <td>6.156</td>\n",
       "      <td>4.860</td>\n",
       "      <td>14.094</td>\n",
       "      <td>16.038</td>\n",
       "      <td>1137.87</td>\n",
       "      <td>151.48</td>\n",
       "      <td>DE</td>\n",
       "    </tr>\n",
       "    <tr>\n",
       "      <th>8</th>\n",
       "      <td>5.9</td>\n",
       "      <td>2.006</td>\n",
       "      <td>1.593</td>\n",
       "      <td>5.900</td>\n",
       "      <td>5.900</td>\n",
       "      <td>1273.89</td>\n",
       "      <td>136.05</td>\n",
       "      <td>DC</td>\n",
       "    </tr>\n",
       "    <tr>\n",
       "      <th>9</th>\n",
       "      <td>17.9</td>\n",
       "      <td>3.759</td>\n",
       "      <td>5.191</td>\n",
       "      <td>16.468</td>\n",
       "      <td>16.826</td>\n",
       "      <td>1160.13</td>\n",
       "      <td>144.18</td>\n",
       "      <td>FL</td>\n",
       "    </tr>\n",
       "    <tr>\n",
       "      <th>10</th>\n",
       "      <td>15.6</td>\n",
       "      <td>2.964</td>\n",
       "      <td>3.900</td>\n",
       "      <td>14.820</td>\n",
       "      <td>14.508</td>\n",
       "      <td>913.15</td>\n",
       "      <td>142.80</td>\n",
       "      <td>GA</td>\n",
       "    </tr>\n",
       "    <tr>\n",
       "      <th>11</th>\n",
       "      <td>17.5</td>\n",
       "      <td>9.450</td>\n",
       "      <td>7.175</td>\n",
       "      <td>14.350</td>\n",
       "      <td>15.225</td>\n",
       "      <td>861.18</td>\n",
       "      <td>120.92</td>\n",
       "      <td>HI</td>\n",
       "    </tr>\n",
       "    <tr>\n",
       "      <th>12</th>\n",
       "      <td>15.3</td>\n",
       "      <td>5.508</td>\n",
       "      <td>4.437</td>\n",
       "      <td>13.005</td>\n",
       "      <td>14.994</td>\n",
       "      <td>641.96</td>\n",
       "      <td>82.75</td>\n",
       "      <td>ID</td>\n",
       "    </tr>\n",
       "    <tr>\n",
       "      <th>13</th>\n",
       "      <td>12.8</td>\n",
       "      <td>4.608</td>\n",
       "      <td>4.352</td>\n",
       "      <td>12.032</td>\n",
       "      <td>12.288</td>\n",
       "      <td>803.11</td>\n",
       "      <td>139.15</td>\n",
       "      <td>IL</td>\n",
       "    </tr>\n",
       "    <tr>\n",
       "      <th>14</th>\n",
       "      <td>14.5</td>\n",
       "      <td>3.625</td>\n",
       "      <td>4.205</td>\n",
       "      <td>13.775</td>\n",
       "      <td>13.775</td>\n",
       "      <td>710.46</td>\n",
       "      <td>108.92</td>\n",
       "      <td>IN</td>\n",
       "    </tr>\n",
       "    <tr>\n",
       "      <th>15</th>\n",
       "      <td>15.7</td>\n",
       "      <td>2.669</td>\n",
       "      <td>3.925</td>\n",
       "      <td>15.229</td>\n",
       "      <td>13.659</td>\n",
       "      <td>649.06</td>\n",
       "      <td>114.47</td>\n",
       "      <td>IA</td>\n",
       "    </tr>\n",
       "    <tr>\n",
       "      <th>16</th>\n",
       "      <td>17.8</td>\n",
       "      <td>4.806</td>\n",
       "      <td>4.272</td>\n",
       "      <td>13.706</td>\n",
       "      <td>15.130</td>\n",
       "      <td>780.45</td>\n",
       "      <td>133.80</td>\n",
       "      <td>KS</td>\n",
       "    </tr>\n",
       "    <tr>\n",
       "      <th>17</th>\n",
       "      <td>21.4</td>\n",
       "      <td>4.066</td>\n",
       "      <td>4.922</td>\n",
       "      <td>16.692</td>\n",
       "      <td>16.264</td>\n",
       "      <td>872.51</td>\n",
       "      <td>137.13</td>\n",
       "      <td>KY</td>\n",
       "    </tr>\n",
       "    <tr>\n",
       "      <th>18</th>\n",
       "      <td>20.5</td>\n",
       "      <td>7.175</td>\n",
       "      <td>6.765</td>\n",
       "      <td>14.965</td>\n",
       "      <td>20.090</td>\n",
       "      <td>1281.55</td>\n",
       "      <td>194.78</td>\n",
       "      <td>LA</td>\n",
       "    </tr>\n",
       "    <tr>\n",
       "      <th>19</th>\n",
       "      <td>15.1</td>\n",
       "      <td>5.738</td>\n",
       "      <td>4.530</td>\n",
       "      <td>13.137</td>\n",
       "      <td>12.684</td>\n",
       "      <td>661.88</td>\n",
       "      <td>96.57</td>\n",
       "      <td>ME</td>\n",
       "    </tr>\n",
       "    <tr>\n",
       "      <th>20</th>\n",
       "      <td>12.5</td>\n",
       "      <td>4.250</td>\n",
       "      <td>4.000</td>\n",
       "      <td>8.875</td>\n",
       "      <td>12.375</td>\n",
       "      <td>1048.78</td>\n",
       "      <td>192.70</td>\n",
       "      <td>MD</td>\n",
       "    </tr>\n",
       "    <tr>\n",
       "      <th>21</th>\n",
       "      <td>8.2</td>\n",
       "      <td>1.886</td>\n",
       "      <td>2.870</td>\n",
       "      <td>7.134</td>\n",
       "      <td>6.560</td>\n",
       "      <td>1011.14</td>\n",
       "      <td>135.63</td>\n",
       "      <td>MA</td>\n",
       "    </tr>\n",
       "    <tr>\n",
       "      <th>22</th>\n",
       "      <td>14.1</td>\n",
       "      <td>3.384</td>\n",
       "      <td>3.948</td>\n",
       "      <td>13.395</td>\n",
       "      <td>10.857</td>\n",
       "      <td>1110.61</td>\n",
       "      <td>152.26</td>\n",
       "      <td>MI</td>\n",
       "    </tr>\n",
       "    <tr>\n",
       "      <th>23</th>\n",
       "      <td>9.6</td>\n",
       "      <td>2.208</td>\n",
       "      <td>2.784</td>\n",
       "      <td>8.448</td>\n",
       "      <td>8.448</td>\n",
       "      <td>777.18</td>\n",
       "      <td>133.35</td>\n",
       "      <td>MN</td>\n",
       "    </tr>\n",
       "    <tr>\n",
       "      <th>24</th>\n",
       "      <td>17.6</td>\n",
       "      <td>2.640</td>\n",
       "      <td>5.456</td>\n",
       "      <td>1.760</td>\n",
       "      <td>17.600</td>\n",
       "      <td>896.07</td>\n",
       "      <td>155.77</td>\n",
       "      <td>MS</td>\n",
       "    </tr>\n",
       "    <tr>\n",
       "      <th>25</th>\n",
       "      <td>16.1</td>\n",
       "      <td>6.923</td>\n",
       "      <td>5.474</td>\n",
       "      <td>14.812</td>\n",
       "      <td>13.524</td>\n",
       "      <td>790.32</td>\n",
       "      <td>144.45</td>\n",
       "      <td>MO</td>\n",
       "    </tr>\n",
       "    <tr>\n",
       "      <th>26</th>\n",
       "      <td>21.4</td>\n",
       "      <td>8.346</td>\n",
       "      <td>9.416</td>\n",
       "      <td>17.976</td>\n",
       "      <td>18.190</td>\n",
       "      <td>816.21</td>\n",
       "      <td>85.15</td>\n",
       "      <td>MT</td>\n",
       "    </tr>\n",
       "    <tr>\n",
       "      <th>27</th>\n",
       "      <td>14.9</td>\n",
       "      <td>1.937</td>\n",
       "      <td>5.215</td>\n",
       "      <td>13.857</td>\n",
       "      <td>13.410</td>\n",
       "      <td>732.28</td>\n",
       "      <td>114.82</td>\n",
       "      <td>NE</td>\n",
       "    </tr>\n",
       "    <tr>\n",
       "      <th>28</th>\n",
       "      <td>14.7</td>\n",
       "      <td>5.439</td>\n",
       "      <td>4.704</td>\n",
       "      <td>13.965</td>\n",
       "      <td>14.553</td>\n",
       "      <td>1029.87</td>\n",
       "      <td>138.71</td>\n",
       "      <td>NV</td>\n",
       "    </tr>\n",
       "    <tr>\n",
       "      <th>29</th>\n",
       "      <td>11.6</td>\n",
       "      <td>4.060</td>\n",
       "      <td>3.480</td>\n",
       "      <td>10.092</td>\n",
       "      <td>9.628</td>\n",
       "      <td>746.54</td>\n",
       "      <td>120.21</td>\n",
       "      <td>NH</td>\n",
       "    </tr>\n",
       "    <tr>\n",
       "      <th>30</th>\n",
       "      <td>11.2</td>\n",
       "      <td>1.792</td>\n",
       "      <td>3.136</td>\n",
       "      <td>9.632</td>\n",
       "      <td>8.736</td>\n",
       "      <td>1301.52</td>\n",
       "      <td>159.85</td>\n",
       "      <td>NJ</td>\n",
       "    </tr>\n",
       "    <tr>\n",
       "      <th>31</th>\n",
       "      <td>18.4</td>\n",
       "      <td>3.496</td>\n",
       "      <td>4.968</td>\n",
       "      <td>12.328</td>\n",
       "      <td>18.032</td>\n",
       "      <td>869.85</td>\n",
       "      <td>120.75</td>\n",
       "      <td>NM</td>\n",
       "    </tr>\n",
       "    <tr>\n",
       "      <th>32</th>\n",
       "      <td>12.3</td>\n",
       "      <td>3.936</td>\n",
       "      <td>3.567</td>\n",
       "      <td>10.824</td>\n",
       "      <td>9.840</td>\n",
       "      <td>1234.31</td>\n",
       "      <td>150.01</td>\n",
       "      <td>NY</td>\n",
       "    </tr>\n",
       "    <tr>\n",
       "      <th>33</th>\n",
       "      <td>16.8</td>\n",
       "      <td>6.552</td>\n",
       "      <td>5.208</td>\n",
       "      <td>15.792</td>\n",
       "      <td>13.608</td>\n",
       "      <td>708.24</td>\n",
       "      <td>127.82</td>\n",
       "      <td>NC</td>\n",
       "    </tr>\n",
       "    <tr>\n",
       "      <th>34</th>\n",
       "      <td>23.9</td>\n",
       "      <td>5.497</td>\n",
       "      <td>10.038</td>\n",
       "      <td>23.661</td>\n",
       "      <td>20.554</td>\n",
       "      <td>688.75</td>\n",
       "      <td>109.72</td>\n",
       "      <td>ND</td>\n",
       "    </tr>\n",
       "    <tr>\n",
       "      <th>35</th>\n",
       "      <td>14.1</td>\n",
       "      <td>3.948</td>\n",
       "      <td>4.794</td>\n",
       "      <td>13.959</td>\n",
       "      <td>11.562</td>\n",
       "      <td>697.73</td>\n",
       "      <td>133.52</td>\n",
       "      <td>OH</td>\n",
       "    </tr>\n",
       "    <tr>\n",
       "      <th>36</th>\n",
       "      <td>19.9</td>\n",
       "      <td>6.368</td>\n",
       "      <td>5.771</td>\n",
       "      <td>18.308</td>\n",
       "      <td>18.706</td>\n",
       "      <td>881.51</td>\n",
       "      <td>178.86</td>\n",
       "      <td>OK</td>\n",
       "    </tr>\n",
       "    <tr>\n",
       "      <th>37</th>\n",
       "      <td>12.8</td>\n",
       "      <td>4.224</td>\n",
       "      <td>3.328</td>\n",
       "      <td>8.576</td>\n",
       "      <td>11.520</td>\n",
       "      <td>804.71</td>\n",
       "      <td>104.61</td>\n",
       "      <td>OR</td>\n",
       "    </tr>\n",
       "    <tr>\n",
       "      <th>38</th>\n",
       "      <td>18.2</td>\n",
       "      <td>9.100</td>\n",
       "      <td>5.642</td>\n",
       "      <td>17.472</td>\n",
       "      <td>16.016</td>\n",
       "      <td>905.99</td>\n",
       "      <td>153.86</td>\n",
       "      <td>PA</td>\n",
       "    </tr>\n",
       "    <tr>\n",
       "      <th>39</th>\n",
       "      <td>11.1</td>\n",
       "      <td>3.774</td>\n",
       "      <td>4.218</td>\n",
       "      <td>10.212</td>\n",
       "      <td>8.769</td>\n",
       "      <td>1148.99</td>\n",
       "      <td>148.58</td>\n",
       "      <td>RI</td>\n",
       "    </tr>\n",
       "    <tr>\n",
       "      <th>40</th>\n",
       "      <td>23.9</td>\n",
       "      <td>9.082</td>\n",
       "      <td>9.799</td>\n",
       "      <td>22.944</td>\n",
       "      <td>19.359</td>\n",
       "      <td>858.97</td>\n",
       "      <td>116.29</td>\n",
       "      <td>SC</td>\n",
       "    </tr>\n",
       "    <tr>\n",
       "      <th>41</th>\n",
       "      <td>19.4</td>\n",
       "      <td>6.014</td>\n",
       "      <td>6.402</td>\n",
       "      <td>19.012</td>\n",
       "      <td>16.684</td>\n",
       "      <td>669.31</td>\n",
       "      <td>96.87</td>\n",
       "      <td>SD</td>\n",
       "    </tr>\n",
       "    <tr>\n",
       "      <th>42</th>\n",
       "      <td>19.5</td>\n",
       "      <td>4.095</td>\n",
       "      <td>5.655</td>\n",
       "      <td>15.990</td>\n",
       "      <td>15.795</td>\n",
       "      <td>767.91</td>\n",
       "      <td>155.57</td>\n",
       "      <td>TN</td>\n",
       "    </tr>\n",
       "    <tr>\n",
       "      <th>43</th>\n",
       "      <td>19.4</td>\n",
       "      <td>7.760</td>\n",
       "      <td>7.372</td>\n",
       "      <td>17.654</td>\n",
       "      <td>16.878</td>\n",
       "      <td>1004.75</td>\n",
       "      <td>156.83</td>\n",
       "      <td>TX</td>\n",
       "    </tr>\n",
       "    <tr>\n",
       "      <th>44</th>\n",
       "      <td>11.3</td>\n",
       "      <td>4.859</td>\n",
       "      <td>1.808</td>\n",
       "      <td>9.944</td>\n",
       "      <td>10.848</td>\n",
       "      <td>809.38</td>\n",
       "      <td>109.48</td>\n",
       "      <td>UT</td>\n",
       "    </tr>\n",
       "    <tr>\n",
       "      <th>45</th>\n",
       "      <td>13.6</td>\n",
       "      <td>4.080</td>\n",
       "      <td>4.080</td>\n",
       "      <td>13.056</td>\n",
       "      <td>12.920</td>\n",
       "      <td>716.20</td>\n",
       "      <td>109.61</td>\n",
       "      <td>VT</td>\n",
       "    </tr>\n",
       "    <tr>\n",
       "      <th>46</th>\n",
       "      <td>12.7</td>\n",
       "      <td>2.413</td>\n",
       "      <td>3.429</td>\n",
       "      <td>11.049</td>\n",
       "      <td>11.176</td>\n",
       "      <td>768.95</td>\n",
       "      <td>153.72</td>\n",
       "      <td>VA</td>\n",
       "    </tr>\n",
       "    <tr>\n",
       "      <th>47</th>\n",
       "      <td>10.6</td>\n",
       "      <td>4.452</td>\n",
       "      <td>3.498</td>\n",
       "      <td>8.692</td>\n",
       "      <td>9.116</td>\n",
       "      <td>890.03</td>\n",
       "      <td>111.62</td>\n",
       "      <td>WA</td>\n",
       "    </tr>\n",
       "    <tr>\n",
       "      <th>48</th>\n",
       "      <td>23.8</td>\n",
       "      <td>8.092</td>\n",
       "      <td>6.664</td>\n",
       "      <td>23.086</td>\n",
       "      <td>20.706</td>\n",
       "      <td>992.61</td>\n",
       "      <td>152.56</td>\n",
       "      <td>WV</td>\n",
       "    </tr>\n",
       "    <tr>\n",
       "      <th>49</th>\n",
       "      <td>13.8</td>\n",
       "      <td>4.968</td>\n",
       "      <td>4.554</td>\n",
       "      <td>5.382</td>\n",
       "      <td>11.592</td>\n",
       "      <td>670.31</td>\n",
       "      <td>106.62</td>\n",
       "      <td>WI</td>\n",
       "    </tr>\n",
       "    <tr>\n",
       "      <th>50</th>\n",
       "      <td>17.4</td>\n",
       "      <td>7.308</td>\n",
       "      <td>5.568</td>\n",
       "      <td>14.094</td>\n",
       "      <td>15.660</td>\n",
       "      <td>791.14</td>\n",
       "      <td>122.04</td>\n",
       "      <td>WY</td>\n",
       "    </tr>\n",
       "  </tbody>\n",
       "</table>\n",
       "</div>"
      ],
      "text/plain": [
       "    total  speeding  alcohol  not_distracted  no_previous  ins_premium  \\\n",
       "0    18.8     7.332    5.640          18.048       15.040       784.55   \n",
       "1    18.1     7.421    4.525          16.290       17.014      1053.48   \n",
       "2    18.6     6.510    5.208          15.624       17.856       899.47   \n",
       "3    22.4     4.032    5.824          21.056       21.280       827.34   \n",
       "4    12.0     4.200    3.360          10.920       10.680       878.41   \n",
       "5    13.6     5.032    3.808          10.744       12.920       835.50   \n",
       "6    10.8     4.968    3.888           9.396        8.856      1068.73   \n",
       "7    16.2     6.156    4.860          14.094       16.038      1137.87   \n",
       "8     5.9     2.006    1.593           5.900        5.900      1273.89   \n",
       "9    17.9     3.759    5.191          16.468       16.826      1160.13   \n",
       "10   15.6     2.964    3.900          14.820       14.508       913.15   \n",
       "11   17.5     9.450    7.175          14.350       15.225       861.18   \n",
       "12   15.3     5.508    4.437          13.005       14.994       641.96   \n",
       "13   12.8     4.608    4.352          12.032       12.288       803.11   \n",
       "14   14.5     3.625    4.205          13.775       13.775       710.46   \n",
       "15   15.7     2.669    3.925          15.229       13.659       649.06   \n",
       "16   17.8     4.806    4.272          13.706       15.130       780.45   \n",
       "17   21.4     4.066    4.922          16.692       16.264       872.51   \n",
       "18   20.5     7.175    6.765          14.965       20.090      1281.55   \n",
       "19   15.1     5.738    4.530          13.137       12.684       661.88   \n",
       "20   12.5     4.250    4.000           8.875       12.375      1048.78   \n",
       "21    8.2     1.886    2.870           7.134        6.560      1011.14   \n",
       "22   14.1     3.384    3.948          13.395       10.857      1110.61   \n",
       "23    9.6     2.208    2.784           8.448        8.448       777.18   \n",
       "24   17.6     2.640    5.456           1.760       17.600       896.07   \n",
       "25   16.1     6.923    5.474          14.812       13.524       790.32   \n",
       "26   21.4     8.346    9.416          17.976       18.190       816.21   \n",
       "27   14.9     1.937    5.215          13.857       13.410       732.28   \n",
       "28   14.7     5.439    4.704          13.965       14.553      1029.87   \n",
       "29   11.6     4.060    3.480          10.092        9.628       746.54   \n",
       "30   11.2     1.792    3.136           9.632        8.736      1301.52   \n",
       "31   18.4     3.496    4.968          12.328       18.032       869.85   \n",
       "32   12.3     3.936    3.567          10.824        9.840      1234.31   \n",
       "33   16.8     6.552    5.208          15.792       13.608       708.24   \n",
       "34   23.9     5.497   10.038          23.661       20.554       688.75   \n",
       "35   14.1     3.948    4.794          13.959       11.562       697.73   \n",
       "36   19.9     6.368    5.771          18.308       18.706       881.51   \n",
       "37   12.8     4.224    3.328           8.576       11.520       804.71   \n",
       "38   18.2     9.100    5.642          17.472       16.016       905.99   \n",
       "39   11.1     3.774    4.218          10.212        8.769      1148.99   \n",
       "40   23.9     9.082    9.799          22.944       19.359       858.97   \n",
       "41   19.4     6.014    6.402          19.012       16.684       669.31   \n",
       "42   19.5     4.095    5.655          15.990       15.795       767.91   \n",
       "43   19.4     7.760    7.372          17.654       16.878      1004.75   \n",
       "44   11.3     4.859    1.808           9.944       10.848       809.38   \n",
       "45   13.6     4.080    4.080          13.056       12.920       716.20   \n",
       "46   12.7     2.413    3.429          11.049       11.176       768.95   \n",
       "47   10.6     4.452    3.498           8.692        9.116       890.03   \n",
       "48   23.8     8.092    6.664          23.086       20.706       992.61   \n",
       "49   13.8     4.968    4.554           5.382       11.592       670.31   \n",
       "50   17.4     7.308    5.568          14.094       15.660       791.14   \n",
       "\n",
       "    ins_losses abbrev  \n",
       "0       145.08     AL  \n",
       "1       133.93     AK  \n",
       "2       110.35     AZ  \n",
       "3       142.39     AR  \n",
       "4       165.63     CA  \n",
       "5       139.91     CO  \n",
       "6       167.02     CT  \n",
       "7       151.48     DE  \n",
       "8       136.05     DC  \n",
       "9       144.18     FL  \n",
       "10      142.80     GA  \n",
       "11      120.92     HI  \n",
       "12       82.75     ID  \n",
       "13      139.15     IL  \n",
       "14      108.92     IN  \n",
       "15      114.47     IA  \n",
       "16      133.80     KS  \n",
       "17      137.13     KY  \n",
       "18      194.78     LA  \n",
       "19       96.57     ME  \n",
       "20      192.70     MD  \n",
       "21      135.63     MA  \n",
       "22      152.26     MI  \n",
       "23      133.35     MN  \n",
       "24      155.77     MS  \n",
       "25      144.45     MO  \n",
       "26       85.15     MT  \n",
       "27      114.82     NE  \n",
       "28      138.71     NV  \n",
       "29      120.21     NH  \n",
       "30      159.85     NJ  \n",
       "31      120.75     NM  \n",
       "32      150.01     NY  \n",
       "33      127.82     NC  \n",
       "34      109.72     ND  \n",
       "35      133.52     OH  \n",
       "36      178.86     OK  \n",
       "37      104.61     OR  \n",
       "38      153.86     PA  \n",
       "39      148.58     RI  \n",
       "40      116.29     SC  \n",
       "41       96.87     SD  \n",
       "42      155.57     TN  \n",
       "43      156.83     TX  \n",
       "44      109.48     UT  \n",
       "45      109.61     VT  \n",
       "46      153.72     VA  \n",
       "47      111.62     WA  \n",
       "48      152.56     WV  \n",
       "49      106.62     WI  \n",
       "50      122.04     WY  "
      ]
     },
     "execution_count": 54,
     "metadata": {},
     "output_type": "execute_result"
    }
   ],
   "source": [
    "car_crashes[cols].head(100)"
   ]
  },
  {
   "cell_type": "markdown",
   "metadata": {},
   "source": [
    "Using the [] with a list inside, we were able to indicate what specific columns we want (in this case, all of them), and with the .head(7) function we asked for the first 7 rows of the dataframe. We can also get the last rows with the `tail` function."
   ]
  },
  {
   "cell_type": "code",
   "execution_count": 55,
   "metadata": {},
   "outputs": [
    {
     "data": {
      "text/html": [
       "<div>\n",
       "<style scoped>\n",
       "    .dataframe tbody tr th:only-of-type {\n",
       "        vertical-align: middle;\n",
       "    }\n",
       "\n",
       "    .dataframe tbody tr th {\n",
       "        vertical-align: top;\n",
       "    }\n",
       "\n",
       "    .dataframe thead th {\n",
       "        text-align: right;\n",
       "    }\n",
       "</style>\n",
       "<table border=\"1\" class=\"dataframe\">\n",
       "  <thead>\n",
       "    <tr style=\"text-align: right;\">\n",
       "      <th></th>\n",
       "      <th>total</th>\n",
       "      <th>speeding</th>\n",
       "      <th>abbrev</th>\n",
       "    </tr>\n",
       "  </thead>\n",
       "  <tbody>\n",
       "    <tr>\n",
       "      <th>46</th>\n",
       "      <td>12.7</td>\n",
       "      <td>2.413</td>\n",
       "      <td>VA</td>\n",
       "    </tr>\n",
       "    <tr>\n",
       "      <th>47</th>\n",
       "      <td>10.6</td>\n",
       "      <td>4.452</td>\n",
       "      <td>WA</td>\n",
       "    </tr>\n",
       "    <tr>\n",
       "      <th>48</th>\n",
       "      <td>23.8</td>\n",
       "      <td>8.092</td>\n",
       "      <td>WV</td>\n",
       "    </tr>\n",
       "    <tr>\n",
       "      <th>49</th>\n",
       "      <td>13.8</td>\n",
       "      <td>4.968</td>\n",
       "      <td>WI</td>\n",
       "    </tr>\n",
       "    <tr>\n",
       "      <th>50</th>\n",
       "      <td>17.4</td>\n",
       "      <td>7.308</td>\n",
       "      <td>WY</td>\n",
       "    </tr>\n",
       "  </tbody>\n",
       "</table>\n",
       "</div>"
      ],
      "text/plain": [
       "    total  speeding abbrev\n",
       "46   12.7     2.413     VA\n",
       "47   10.6     4.452     WA\n",
       "48   23.8     8.092     WV\n",
       "49   13.8     4.968     WI\n",
       "50   17.4     7.308     WY"
      ]
     },
     "execution_count": 55,
     "metadata": {},
     "output_type": "execute_result"
    }
   ],
   "source": [
    "car_crashes[['total', 'speeding', 'abbrev']].tail(5)"
   ]
  },
  {
   "cell_type": "markdown",
   "metadata": {},
   "source": [
    "To get an overall idea of our dataset, we can use the shape function to see the rows and columns in the dataset."
   ]
  },
  {
   "cell_type": "code",
   "execution_count": 56,
   "metadata": {},
   "outputs": [
    {
     "data": {
      "text/plain": [
       "(51, 8)"
      ]
     },
     "execution_count": 56,
     "metadata": {},
     "output_type": "execute_result"
    }
   ],
   "source": [
    "car_crashes.shape"
   ]
  },
  {
   "cell_type": "markdown",
   "metadata": {},
   "source": [
    "Additionally we can gather more in-depth information on the dataset, like what are the types of data we have (strings, integers, etc.)"
   ]
  },
  {
   "cell_type": "code",
   "execution_count": 57,
   "metadata": {},
   "outputs": [
    {
     "name": "stdout",
     "output_type": "stream",
     "text": [
      "<class 'pandas.core.frame.DataFrame'>\n",
      "RangeIndex: 51 entries, 0 to 50\n",
      "Data columns (total 8 columns):\n",
      " #   Column          Non-Null Count  Dtype  \n",
      "---  ------          --------------  -----  \n",
      " 0   total           51 non-null     float64\n",
      " 1   speeding        51 non-null     float64\n",
      " 2   alcohol         51 non-null     float64\n",
      " 3   not_distracted  51 non-null     float64\n",
      " 4   no_previous     51 non-null     float64\n",
      " 5   ins_premium     51 non-null     float64\n",
      " 6   ins_losses      51 non-null     float64\n",
      " 7   abbrev          51 non-null     object \n",
      "dtypes: float64(7), object(1)\n",
      "memory usage: 3.3+ KB\n"
     ]
    }
   ],
   "source": [
    "car_crashes.info()"
   ]
  },
  {
   "cell_type": "markdown",
   "metadata": {},
   "source": [
    "We observe that most of our columns are of type `float64`, which means they are numbers with a decimal (64 bits) instead of whole numbers (`int`). The `abbrev` column is an object, which basically means it is text."
   ]
  },
  {
   "cell_type": "markdown",
   "metadata": {},
   "source": [
    "**Aside:** we can see that we are not dealing with null values--missing information. If any of the rows have null values, we have a few options as to how to deal with them:\n",
    "* We could simply remove them with the line of code `car_crashes.dropna(subset=['nameOfColHere'], inplace=True)`, where the subset is the list of columns we consider and inplace means to actually change the orignial dataframe, not return a copy\n",
    "* We can change the values with some estimate, such as the median. For example this function would be `car_crashes['nameOfCol'].fillna(car_crashes['nameOfCol'].median(), inplace=True)` where we fill the na values with the median of all the column and we make sure there is done to the original dataframe (inplace)\n",
    "* If there are too many null values and making estimations would produce inaccurate data, you can drop the column entirely with the line of code `car_crashes.drop(columns=['nameOfCol'], inplace=True)`\n",
    "* Sometimes the null values are necessary as they can indicate there is no information for the column (e.g. a `middle name` column for a person who does not possess a middle name). In these instances we may keep the values NA to track which users do not have such information."
   ]
  },
  {
   "cell_type": "markdown",
   "metadata": {},
   "source": [
    "If we would like a statistical summary of our numerical data, we can issue the following function"
   ]
  },
  {
   "cell_type": "code",
   "execution_count": 58,
   "metadata": {},
   "outputs": [
    {
     "data": {
      "text/html": [
       "<div>\n",
       "<style scoped>\n",
       "    .dataframe tbody tr th:only-of-type {\n",
       "        vertical-align: middle;\n",
       "    }\n",
       "\n",
       "    .dataframe tbody tr th {\n",
       "        vertical-align: top;\n",
       "    }\n",
       "\n",
       "    .dataframe thead th {\n",
       "        text-align: right;\n",
       "    }\n",
       "</style>\n",
       "<table border=\"1\" class=\"dataframe\">\n",
       "  <thead>\n",
       "    <tr style=\"text-align: right;\">\n",
       "      <th></th>\n",
       "      <th>total</th>\n",
       "      <th>speeding</th>\n",
       "      <th>alcohol</th>\n",
       "      <th>not_distracted</th>\n",
       "      <th>no_previous</th>\n",
       "      <th>ins_premium</th>\n",
       "      <th>ins_losses</th>\n",
       "    </tr>\n",
       "  </thead>\n",
       "  <tbody>\n",
       "    <tr>\n",
       "      <th>count</th>\n",
       "      <td>51.000000</td>\n",
       "      <td>51.000000</td>\n",
       "      <td>51.000000</td>\n",
       "      <td>51.000000</td>\n",
       "      <td>51.000000</td>\n",
       "      <td>51.000000</td>\n",
       "      <td>51.000000</td>\n",
       "    </tr>\n",
       "    <tr>\n",
       "      <th>mean</th>\n",
       "      <td>15.790196</td>\n",
       "      <td>4.998196</td>\n",
       "      <td>4.886784</td>\n",
       "      <td>13.573176</td>\n",
       "      <td>14.004882</td>\n",
       "      <td>886.957647</td>\n",
       "      <td>134.493137</td>\n",
       "    </tr>\n",
       "    <tr>\n",
       "      <th>std</th>\n",
       "      <td>4.122002</td>\n",
       "      <td>2.017747</td>\n",
       "      <td>1.729133</td>\n",
       "      <td>4.508977</td>\n",
       "      <td>3.764672</td>\n",
       "      <td>178.296285</td>\n",
       "      <td>24.835922</td>\n",
       "    </tr>\n",
       "    <tr>\n",
       "      <th>min</th>\n",
       "      <td>5.900000</td>\n",
       "      <td>1.792000</td>\n",
       "      <td>1.593000</td>\n",
       "      <td>1.760000</td>\n",
       "      <td>5.900000</td>\n",
       "      <td>641.960000</td>\n",
       "      <td>82.750000</td>\n",
       "    </tr>\n",
       "    <tr>\n",
       "      <th>25%</th>\n",
       "      <td>12.750000</td>\n",
       "      <td>3.766500</td>\n",
       "      <td>3.894000</td>\n",
       "      <td>10.478000</td>\n",
       "      <td>11.348000</td>\n",
       "      <td>768.430000</td>\n",
       "      <td>114.645000</td>\n",
       "    </tr>\n",
       "    <tr>\n",
       "      <th>50%</th>\n",
       "      <td>15.600000</td>\n",
       "      <td>4.608000</td>\n",
       "      <td>4.554000</td>\n",
       "      <td>13.857000</td>\n",
       "      <td>13.775000</td>\n",
       "      <td>858.970000</td>\n",
       "      <td>136.050000</td>\n",
       "    </tr>\n",
       "    <tr>\n",
       "      <th>75%</th>\n",
       "      <td>18.500000</td>\n",
       "      <td>6.439000</td>\n",
       "      <td>5.604000</td>\n",
       "      <td>16.140000</td>\n",
       "      <td>16.755000</td>\n",
       "      <td>1007.945000</td>\n",
       "      <td>151.870000</td>\n",
       "    </tr>\n",
       "    <tr>\n",
       "      <th>max</th>\n",
       "      <td>23.900000</td>\n",
       "      <td>9.450000</td>\n",
       "      <td>10.038000</td>\n",
       "      <td>23.661000</td>\n",
       "      <td>21.280000</td>\n",
       "      <td>1301.520000</td>\n",
       "      <td>194.780000</td>\n",
       "    </tr>\n",
       "  </tbody>\n",
       "</table>\n",
       "</div>"
      ],
      "text/plain": [
       "           total   speeding    alcohol  not_distracted  no_previous  \\\n",
       "count  51.000000  51.000000  51.000000       51.000000    51.000000   \n",
       "mean   15.790196   4.998196   4.886784       13.573176    14.004882   \n",
       "std     4.122002   2.017747   1.729133        4.508977     3.764672   \n",
       "min     5.900000   1.792000   1.593000        1.760000     5.900000   \n",
       "25%    12.750000   3.766500   3.894000       10.478000    11.348000   \n",
       "50%    15.600000   4.608000   4.554000       13.857000    13.775000   \n",
       "75%    18.500000   6.439000   5.604000       16.140000    16.755000   \n",
       "max    23.900000   9.450000  10.038000       23.661000    21.280000   \n",
       "\n",
       "       ins_premium  ins_losses  \n",
       "count    51.000000   51.000000  \n",
       "mean    886.957647  134.493137  \n",
       "std     178.296285   24.835922  \n",
       "min     641.960000   82.750000  \n",
       "25%     768.430000  114.645000  \n",
       "50%     858.970000  136.050000  \n",
       "75%    1007.945000  151.870000  \n",
       "max    1301.520000  194.780000  "
      ]
     },
     "execution_count": 58,
     "metadata": {},
     "output_type": "execute_result"
    }
   ],
   "source": [
    "car_crashes.describe()"
   ]
  },
  {
   "cell_type": "markdown",
   "metadata": {},
   "source": [
    "To look at subsets of our dataframe that meet a certain criteria (e.g. only car crashes in states that start with the letter A), we can additionally use a list that contains True and False values to subset certain rows we are concerned with. Consider the following below."
   ]
  },
  {
   "cell_type": "code",
   "execution_count": 59,
   "metadata": {},
   "outputs": [
    {
     "data": {
      "text/html": [
       "<div>\n",
       "<style scoped>\n",
       "    .dataframe tbody tr th:only-of-type {\n",
       "        vertical-align: middle;\n",
       "    }\n",
       "\n",
       "    .dataframe tbody tr th {\n",
       "        vertical-align: top;\n",
       "    }\n",
       "\n",
       "    .dataframe thead th {\n",
       "        text-align: right;\n",
       "    }\n",
       "</style>\n",
       "<table border=\"1\" class=\"dataframe\">\n",
       "  <thead>\n",
       "    <tr style=\"text-align: right;\">\n",
       "      <th></th>\n",
       "      <th>total</th>\n",
       "      <th>speeding</th>\n",
       "      <th>alcohol</th>\n",
       "      <th>not_distracted</th>\n",
       "      <th>no_previous</th>\n",
       "      <th>ins_premium</th>\n",
       "      <th>ins_losses</th>\n",
       "      <th>abbrev</th>\n",
       "    </tr>\n",
       "  </thead>\n",
       "  <tbody>\n",
       "    <tr>\n",
       "      <th>0</th>\n",
       "      <td>18.8</td>\n",
       "      <td>7.332</td>\n",
       "      <td>5.640</td>\n",
       "      <td>18.048</td>\n",
       "      <td>15.040</td>\n",
       "      <td>784.55</td>\n",
       "      <td>145.08</td>\n",
       "      <td>AL</td>\n",
       "    </tr>\n",
       "    <tr>\n",
       "      <th>1</th>\n",
       "      <td>18.1</td>\n",
       "      <td>7.421</td>\n",
       "      <td>4.525</td>\n",
       "      <td>16.290</td>\n",
       "      <td>17.014</td>\n",
       "      <td>1053.48</td>\n",
       "      <td>133.93</td>\n",
       "      <td>AK</td>\n",
       "    </tr>\n",
       "    <tr>\n",
       "      <th>2</th>\n",
       "      <td>18.6</td>\n",
       "      <td>6.510</td>\n",
       "      <td>5.208</td>\n",
       "      <td>15.624</td>\n",
       "      <td>17.856</td>\n",
       "      <td>899.47</td>\n",
       "      <td>110.35</td>\n",
       "      <td>AZ</td>\n",
       "    </tr>\n",
       "    <tr>\n",
       "      <th>3</th>\n",
       "      <td>22.4</td>\n",
       "      <td>4.032</td>\n",
       "      <td>5.824</td>\n",
       "      <td>21.056</td>\n",
       "      <td>21.280</td>\n",
       "      <td>827.34</td>\n",
       "      <td>142.39</td>\n",
       "      <td>AR</td>\n",
       "    </tr>\n",
       "    <tr>\n",
       "      <th>7</th>\n",
       "      <td>16.2</td>\n",
       "      <td>6.156</td>\n",
       "      <td>4.860</td>\n",
       "      <td>14.094</td>\n",
       "      <td>16.038</td>\n",
       "      <td>1137.87</td>\n",
       "      <td>151.48</td>\n",
       "      <td>DE</td>\n",
       "    </tr>\n",
       "    <tr>\n",
       "      <th>9</th>\n",
       "      <td>17.9</td>\n",
       "      <td>3.759</td>\n",
       "      <td>5.191</td>\n",
       "      <td>16.468</td>\n",
       "      <td>16.826</td>\n",
       "      <td>1160.13</td>\n",
       "      <td>144.18</td>\n",
       "      <td>FL</td>\n",
       "    </tr>\n",
       "    <tr>\n",
       "      <th>11</th>\n",
       "      <td>17.5</td>\n",
       "      <td>9.450</td>\n",
       "      <td>7.175</td>\n",
       "      <td>14.350</td>\n",
       "      <td>15.225</td>\n",
       "      <td>861.18</td>\n",
       "      <td>120.92</td>\n",
       "      <td>HI</td>\n",
       "    </tr>\n",
       "    <tr>\n",
       "      <th>15</th>\n",
       "      <td>15.7</td>\n",
       "      <td>2.669</td>\n",
       "      <td>3.925</td>\n",
       "      <td>15.229</td>\n",
       "      <td>13.659</td>\n",
       "      <td>649.06</td>\n",
       "      <td>114.47</td>\n",
       "      <td>IA</td>\n",
       "    </tr>\n",
       "    <tr>\n",
       "      <th>16</th>\n",
       "      <td>17.8</td>\n",
       "      <td>4.806</td>\n",
       "      <td>4.272</td>\n",
       "      <td>13.706</td>\n",
       "      <td>15.130</td>\n",
       "      <td>780.45</td>\n",
       "      <td>133.80</td>\n",
       "      <td>KS</td>\n",
       "    </tr>\n",
       "    <tr>\n",
       "      <th>17</th>\n",
       "      <td>21.4</td>\n",
       "      <td>4.066</td>\n",
       "      <td>4.922</td>\n",
       "      <td>16.692</td>\n",
       "      <td>16.264</td>\n",
       "      <td>872.51</td>\n",
       "      <td>137.13</td>\n",
       "      <td>KY</td>\n",
       "    </tr>\n",
       "    <tr>\n",
       "      <th>18</th>\n",
       "      <td>20.5</td>\n",
       "      <td>7.175</td>\n",
       "      <td>6.765</td>\n",
       "      <td>14.965</td>\n",
       "      <td>20.090</td>\n",
       "      <td>1281.55</td>\n",
       "      <td>194.78</td>\n",
       "      <td>LA</td>\n",
       "    </tr>\n",
       "    <tr>\n",
       "      <th>24</th>\n",
       "      <td>17.6</td>\n",
       "      <td>2.640</td>\n",
       "      <td>5.456</td>\n",
       "      <td>1.760</td>\n",
       "      <td>17.600</td>\n",
       "      <td>896.07</td>\n",
       "      <td>155.77</td>\n",
       "      <td>MS</td>\n",
       "    </tr>\n",
       "    <tr>\n",
       "      <th>25</th>\n",
       "      <td>16.1</td>\n",
       "      <td>6.923</td>\n",
       "      <td>5.474</td>\n",
       "      <td>14.812</td>\n",
       "      <td>13.524</td>\n",
       "      <td>790.32</td>\n",
       "      <td>144.45</td>\n",
       "      <td>MO</td>\n",
       "    </tr>\n",
       "    <tr>\n",
       "      <th>26</th>\n",
       "      <td>21.4</td>\n",
       "      <td>8.346</td>\n",
       "      <td>9.416</td>\n",
       "      <td>17.976</td>\n",
       "      <td>18.190</td>\n",
       "      <td>816.21</td>\n",
       "      <td>85.15</td>\n",
       "      <td>MT</td>\n",
       "    </tr>\n",
       "    <tr>\n",
       "      <th>31</th>\n",
       "      <td>18.4</td>\n",
       "      <td>3.496</td>\n",
       "      <td>4.968</td>\n",
       "      <td>12.328</td>\n",
       "      <td>18.032</td>\n",
       "      <td>869.85</td>\n",
       "      <td>120.75</td>\n",
       "      <td>NM</td>\n",
       "    </tr>\n",
       "    <tr>\n",
       "      <th>33</th>\n",
       "      <td>16.8</td>\n",
       "      <td>6.552</td>\n",
       "      <td>5.208</td>\n",
       "      <td>15.792</td>\n",
       "      <td>13.608</td>\n",
       "      <td>708.24</td>\n",
       "      <td>127.82</td>\n",
       "      <td>NC</td>\n",
       "    </tr>\n",
       "    <tr>\n",
       "      <th>34</th>\n",
       "      <td>23.9</td>\n",
       "      <td>5.497</td>\n",
       "      <td>10.038</td>\n",
       "      <td>23.661</td>\n",
       "      <td>20.554</td>\n",
       "      <td>688.75</td>\n",
       "      <td>109.72</td>\n",
       "      <td>ND</td>\n",
       "    </tr>\n",
       "    <tr>\n",
       "      <th>36</th>\n",
       "      <td>19.9</td>\n",
       "      <td>6.368</td>\n",
       "      <td>5.771</td>\n",
       "      <td>18.308</td>\n",
       "      <td>18.706</td>\n",
       "      <td>881.51</td>\n",
       "      <td>178.86</td>\n",
       "      <td>OK</td>\n",
       "    </tr>\n",
       "    <tr>\n",
       "      <th>38</th>\n",
       "      <td>18.2</td>\n",
       "      <td>9.100</td>\n",
       "      <td>5.642</td>\n",
       "      <td>17.472</td>\n",
       "      <td>16.016</td>\n",
       "      <td>905.99</td>\n",
       "      <td>153.86</td>\n",
       "      <td>PA</td>\n",
       "    </tr>\n",
       "    <tr>\n",
       "      <th>40</th>\n",
       "      <td>23.9</td>\n",
       "      <td>9.082</td>\n",
       "      <td>9.799</td>\n",
       "      <td>22.944</td>\n",
       "      <td>19.359</td>\n",
       "      <td>858.97</td>\n",
       "      <td>116.29</td>\n",
       "      <td>SC</td>\n",
       "    </tr>\n",
       "    <tr>\n",
       "      <th>41</th>\n",
       "      <td>19.4</td>\n",
       "      <td>6.014</td>\n",
       "      <td>6.402</td>\n",
       "      <td>19.012</td>\n",
       "      <td>16.684</td>\n",
       "      <td>669.31</td>\n",
       "      <td>96.87</td>\n",
       "      <td>SD</td>\n",
       "    </tr>\n",
       "    <tr>\n",
       "      <th>42</th>\n",
       "      <td>19.5</td>\n",
       "      <td>4.095</td>\n",
       "      <td>5.655</td>\n",
       "      <td>15.990</td>\n",
       "      <td>15.795</td>\n",
       "      <td>767.91</td>\n",
       "      <td>155.57</td>\n",
       "      <td>TN</td>\n",
       "    </tr>\n",
       "    <tr>\n",
       "      <th>43</th>\n",
       "      <td>19.4</td>\n",
       "      <td>7.760</td>\n",
       "      <td>7.372</td>\n",
       "      <td>17.654</td>\n",
       "      <td>16.878</td>\n",
       "      <td>1004.75</td>\n",
       "      <td>156.83</td>\n",
       "      <td>TX</td>\n",
       "    </tr>\n",
       "    <tr>\n",
       "      <th>48</th>\n",
       "      <td>23.8</td>\n",
       "      <td>8.092</td>\n",
       "      <td>6.664</td>\n",
       "      <td>23.086</td>\n",
       "      <td>20.706</td>\n",
       "      <td>992.61</td>\n",
       "      <td>152.56</td>\n",
       "      <td>WV</td>\n",
       "    </tr>\n",
       "    <tr>\n",
       "      <th>50</th>\n",
       "      <td>17.4</td>\n",
       "      <td>7.308</td>\n",
       "      <td>5.568</td>\n",
       "      <td>14.094</td>\n",
       "      <td>15.660</td>\n",
       "      <td>791.14</td>\n",
       "      <td>122.04</td>\n",
       "      <td>WY</td>\n",
       "    </tr>\n",
       "  </tbody>\n",
       "</table>\n",
       "</div>"
      ],
      "text/plain": [
       "    total  speeding  alcohol  not_distracted  no_previous  ins_premium  \\\n",
       "0    18.8     7.332    5.640          18.048       15.040       784.55   \n",
       "1    18.1     7.421    4.525          16.290       17.014      1053.48   \n",
       "2    18.6     6.510    5.208          15.624       17.856       899.47   \n",
       "3    22.4     4.032    5.824          21.056       21.280       827.34   \n",
       "7    16.2     6.156    4.860          14.094       16.038      1137.87   \n",
       "9    17.9     3.759    5.191          16.468       16.826      1160.13   \n",
       "11   17.5     9.450    7.175          14.350       15.225       861.18   \n",
       "15   15.7     2.669    3.925          15.229       13.659       649.06   \n",
       "16   17.8     4.806    4.272          13.706       15.130       780.45   \n",
       "17   21.4     4.066    4.922          16.692       16.264       872.51   \n",
       "18   20.5     7.175    6.765          14.965       20.090      1281.55   \n",
       "24   17.6     2.640    5.456           1.760       17.600       896.07   \n",
       "25   16.1     6.923    5.474          14.812       13.524       790.32   \n",
       "26   21.4     8.346    9.416          17.976       18.190       816.21   \n",
       "31   18.4     3.496    4.968          12.328       18.032       869.85   \n",
       "33   16.8     6.552    5.208          15.792       13.608       708.24   \n",
       "34   23.9     5.497   10.038          23.661       20.554       688.75   \n",
       "36   19.9     6.368    5.771          18.308       18.706       881.51   \n",
       "38   18.2     9.100    5.642          17.472       16.016       905.99   \n",
       "40   23.9     9.082    9.799          22.944       19.359       858.97   \n",
       "41   19.4     6.014    6.402          19.012       16.684       669.31   \n",
       "42   19.5     4.095    5.655          15.990       15.795       767.91   \n",
       "43   19.4     7.760    7.372          17.654       16.878      1004.75   \n",
       "48   23.8     8.092    6.664          23.086       20.706       992.61   \n",
       "50   17.4     7.308    5.568          14.094       15.660       791.14   \n",
       "\n",
       "    ins_losses abbrev  \n",
       "0       145.08     AL  \n",
       "1       133.93     AK  \n",
       "2       110.35     AZ  \n",
       "3       142.39     AR  \n",
       "7       151.48     DE  \n",
       "9       144.18     FL  \n",
       "11      120.92     HI  \n",
       "15      114.47     IA  \n",
       "16      133.80     KS  \n",
       "17      137.13     KY  \n",
       "18      194.78     LA  \n",
       "24      155.77     MS  \n",
       "25      144.45     MO  \n",
       "26       85.15     MT  \n",
       "31      120.75     NM  \n",
       "33      127.82     NC  \n",
       "34      109.72     ND  \n",
       "36      178.86     OK  \n",
       "38      153.86     PA  \n",
       "40      116.29     SC  \n",
       "41       96.87     SD  \n",
       "42      155.57     TN  \n",
       "43      156.83     TX  \n",
       "48      152.56     WV  \n",
       "50      122.04     WY  "
      ]
     },
     "execution_count": 59,
     "metadata": {},
     "output_type": "execute_result"
    }
   ],
   "source": [
    "car_crashes[car_crashes['total'] > car_crashes['total'].median()]"
   ]
  },
  {
   "cell_type": "markdown",
   "metadata": {},
   "source": [
    "We make a True/False list by issuing that we want car crash totals > the median to be true, else false. We implement this list in our square brackets to only return the rows of the dataset that correspond to the True rows of the list.\n",
    "\n",
    "We can observe that we have all the states with a total number of accidents above the 50th percentile."
   ]
  },
  {
   "cell_type": "markdown",
   "metadata": {},
   "source": [
    "Let's sort this in descending order by speeding to see what the highest number of speeding crashes are for this above 50th percentile group of states."
   ]
  },
  {
   "cell_type": "code",
   "execution_count": 60,
   "metadata": {},
   "outputs": [
    {
     "data": {
      "text/html": [
       "<div>\n",
       "<style scoped>\n",
       "    .dataframe tbody tr th:only-of-type {\n",
       "        vertical-align: middle;\n",
       "    }\n",
       "\n",
       "    .dataframe tbody tr th {\n",
       "        vertical-align: top;\n",
       "    }\n",
       "\n",
       "    .dataframe thead th {\n",
       "        text-align: right;\n",
       "    }\n",
       "</style>\n",
       "<table border=\"1\" class=\"dataframe\">\n",
       "  <thead>\n",
       "    <tr style=\"text-align: right;\">\n",
       "      <th></th>\n",
       "      <th>total</th>\n",
       "      <th>speeding</th>\n",
       "      <th>alcohol</th>\n",
       "      <th>not_distracted</th>\n",
       "      <th>no_previous</th>\n",
       "      <th>ins_premium</th>\n",
       "      <th>ins_losses</th>\n",
       "      <th>abbrev</th>\n",
       "    </tr>\n",
       "  </thead>\n",
       "  <tbody>\n",
       "    <tr>\n",
       "      <th>11</th>\n",
       "      <td>17.5</td>\n",
       "      <td>9.450</td>\n",
       "      <td>7.175</td>\n",
       "      <td>14.350</td>\n",
       "      <td>15.225</td>\n",
       "      <td>861.18</td>\n",
       "      <td>120.92</td>\n",
       "      <td>HI</td>\n",
       "    </tr>\n",
       "    <tr>\n",
       "      <th>38</th>\n",
       "      <td>18.2</td>\n",
       "      <td>9.100</td>\n",
       "      <td>5.642</td>\n",
       "      <td>17.472</td>\n",
       "      <td>16.016</td>\n",
       "      <td>905.99</td>\n",
       "      <td>153.86</td>\n",
       "      <td>PA</td>\n",
       "    </tr>\n",
       "    <tr>\n",
       "      <th>40</th>\n",
       "      <td>23.9</td>\n",
       "      <td>9.082</td>\n",
       "      <td>9.799</td>\n",
       "      <td>22.944</td>\n",
       "      <td>19.359</td>\n",
       "      <td>858.97</td>\n",
       "      <td>116.29</td>\n",
       "      <td>SC</td>\n",
       "    </tr>\n",
       "    <tr>\n",
       "      <th>26</th>\n",
       "      <td>21.4</td>\n",
       "      <td>8.346</td>\n",
       "      <td>9.416</td>\n",
       "      <td>17.976</td>\n",
       "      <td>18.190</td>\n",
       "      <td>816.21</td>\n",
       "      <td>85.15</td>\n",
       "      <td>MT</td>\n",
       "    </tr>\n",
       "    <tr>\n",
       "      <th>48</th>\n",
       "      <td>23.8</td>\n",
       "      <td>8.092</td>\n",
       "      <td>6.664</td>\n",
       "      <td>23.086</td>\n",
       "      <td>20.706</td>\n",
       "      <td>992.61</td>\n",
       "      <td>152.56</td>\n",
       "      <td>WV</td>\n",
       "    </tr>\n",
       "    <tr>\n",
       "      <th>43</th>\n",
       "      <td>19.4</td>\n",
       "      <td>7.760</td>\n",
       "      <td>7.372</td>\n",
       "      <td>17.654</td>\n",
       "      <td>16.878</td>\n",
       "      <td>1004.75</td>\n",
       "      <td>156.83</td>\n",
       "      <td>TX</td>\n",
       "    </tr>\n",
       "    <tr>\n",
       "      <th>1</th>\n",
       "      <td>18.1</td>\n",
       "      <td>7.421</td>\n",
       "      <td>4.525</td>\n",
       "      <td>16.290</td>\n",
       "      <td>17.014</td>\n",
       "      <td>1053.48</td>\n",
       "      <td>133.93</td>\n",
       "      <td>AK</td>\n",
       "    </tr>\n",
       "    <tr>\n",
       "      <th>0</th>\n",
       "      <td>18.8</td>\n",
       "      <td>7.332</td>\n",
       "      <td>5.640</td>\n",
       "      <td>18.048</td>\n",
       "      <td>15.040</td>\n",
       "      <td>784.55</td>\n",
       "      <td>145.08</td>\n",
       "      <td>AL</td>\n",
       "    </tr>\n",
       "    <tr>\n",
       "      <th>50</th>\n",
       "      <td>17.4</td>\n",
       "      <td>7.308</td>\n",
       "      <td>5.568</td>\n",
       "      <td>14.094</td>\n",
       "      <td>15.660</td>\n",
       "      <td>791.14</td>\n",
       "      <td>122.04</td>\n",
       "      <td>WY</td>\n",
       "    </tr>\n",
       "    <tr>\n",
       "      <th>18</th>\n",
       "      <td>20.5</td>\n",
       "      <td>7.175</td>\n",
       "      <td>6.765</td>\n",
       "      <td>14.965</td>\n",
       "      <td>20.090</td>\n",
       "      <td>1281.55</td>\n",
       "      <td>194.78</td>\n",
       "      <td>LA</td>\n",
       "    </tr>\n",
       "    <tr>\n",
       "      <th>25</th>\n",
       "      <td>16.1</td>\n",
       "      <td>6.923</td>\n",
       "      <td>5.474</td>\n",
       "      <td>14.812</td>\n",
       "      <td>13.524</td>\n",
       "      <td>790.32</td>\n",
       "      <td>144.45</td>\n",
       "      <td>MO</td>\n",
       "    </tr>\n",
       "    <tr>\n",
       "      <th>33</th>\n",
       "      <td>16.8</td>\n",
       "      <td>6.552</td>\n",
       "      <td>5.208</td>\n",
       "      <td>15.792</td>\n",
       "      <td>13.608</td>\n",
       "      <td>708.24</td>\n",
       "      <td>127.82</td>\n",
       "      <td>NC</td>\n",
       "    </tr>\n",
       "    <tr>\n",
       "      <th>2</th>\n",
       "      <td>18.6</td>\n",
       "      <td>6.510</td>\n",
       "      <td>5.208</td>\n",
       "      <td>15.624</td>\n",
       "      <td>17.856</td>\n",
       "      <td>899.47</td>\n",
       "      <td>110.35</td>\n",
       "      <td>AZ</td>\n",
       "    </tr>\n",
       "    <tr>\n",
       "      <th>36</th>\n",
       "      <td>19.9</td>\n",
       "      <td>6.368</td>\n",
       "      <td>5.771</td>\n",
       "      <td>18.308</td>\n",
       "      <td>18.706</td>\n",
       "      <td>881.51</td>\n",
       "      <td>178.86</td>\n",
       "      <td>OK</td>\n",
       "    </tr>\n",
       "    <tr>\n",
       "      <th>7</th>\n",
       "      <td>16.2</td>\n",
       "      <td>6.156</td>\n",
       "      <td>4.860</td>\n",
       "      <td>14.094</td>\n",
       "      <td>16.038</td>\n",
       "      <td>1137.87</td>\n",
       "      <td>151.48</td>\n",
       "      <td>DE</td>\n",
       "    </tr>\n",
       "    <tr>\n",
       "      <th>41</th>\n",
       "      <td>19.4</td>\n",
       "      <td>6.014</td>\n",
       "      <td>6.402</td>\n",
       "      <td>19.012</td>\n",
       "      <td>16.684</td>\n",
       "      <td>669.31</td>\n",
       "      <td>96.87</td>\n",
       "      <td>SD</td>\n",
       "    </tr>\n",
       "    <tr>\n",
       "      <th>34</th>\n",
       "      <td>23.9</td>\n",
       "      <td>5.497</td>\n",
       "      <td>10.038</td>\n",
       "      <td>23.661</td>\n",
       "      <td>20.554</td>\n",
       "      <td>688.75</td>\n",
       "      <td>109.72</td>\n",
       "      <td>ND</td>\n",
       "    </tr>\n",
       "    <tr>\n",
       "      <th>16</th>\n",
       "      <td>17.8</td>\n",
       "      <td>4.806</td>\n",
       "      <td>4.272</td>\n",
       "      <td>13.706</td>\n",
       "      <td>15.130</td>\n",
       "      <td>780.45</td>\n",
       "      <td>133.80</td>\n",
       "      <td>KS</td>\n",
       "    </tr>\n",
       "    <tr>\n",
       "      <th>42</th>\n",
       "      <td>19.5</td>\n",
       "      <td>4.095</td>\n",
       "      <td>5.655</td>\n",
       "      <td>15.990</td>\n",
       "      <td>15.795</td>\n",
       "      <td>767.91</td>\n",
       "      <td>155.57</td>\n",
       "      <td>TN</td>\n",
       "    </tr>\n",
       "    <tr>\n",
       "      <th>17</th>\n",
       "      <td>21.4</td>\n",
       "      <td>4.066</td>\n",
       "      <td>4.922</td>\n",
       "      <td>16.692</td>\n",
       "      <td>16.264</td>\n",
       "      <td>872.51</td>\n",
       "      <td>137.13</td>\n",
       "      <td>KY</td>\n",
       "    </tr>\n",
       "    <tr>\n",
       "      <th>3</th>\n",
       "      <td>22.4</td>\n",
       "      <td>4.032</td>\n",
       "      <td>5.824</td>\n",
       "      <td>21.056</td>\n",
       "      <td>21.280</td>\n",
       "      <td>827.34</td>\n",
       "      <td>142.39</td>\n",
       "      <td>AR</td>\n",
       "    </tr>\n",
       "    <tr>\n",
       "      <th>9</th>\n",
       "      <td>17.9</td>\n",
       "      <td>3.759</td>\n",
       "      <td>5.191</td>\n",
       "      <td>16.468</td>\n",
       "      <td>16.826</td>\n",
       "      <td>1160.13</td>\n",
       "      <td>144.18</td>\n",
       "      <td>FL</td>\n",
       "    </tr>\n",
       "    <tr>\n",
       "      <th>31</th>\n",
       "      <td>18.4</td>\n",
       "      <td>3.496</td>\n",
       "      <td>4.968</td>\n",
       "      <td>12.328</td>\n",
       "      <td>18.032</td>\n",
       "      <td>869.85</td>\n",
       "      <td>120.75</td>\n",
       "      <td>NM</td>\n",
       "    </tr>\n",
       "    <tr>\n",
       "      <th>15</th>\n",
       "      <td>15.7</td>\n",
       "      <td>2.669</td>\n",
       "      <td>3.925</td>\n",
       "      <td>15.229</td>\n",
       "      <td>13.659</td>\n",
       "      <td>649.06</td>\n",
       "      <td>114.47</td>\n",
       "      <td>IA</td>\n",
       "    </tr>\n",
       "    <tr>\n",
       "      <th>24</th>\n",
       "      <td>17.6</td>\n",
       "      <td>2.640</td>\n",
       "      <td>5.456</td>\n",
       "      <td>1.760</td>\n",
       "      <td>17.600</td>\n",
       "      <td>896.07</td>\n",
       "      <td>155.77</td>\n",
       "      <td>MS</td>\n",
       "    </tr>\n",
       "  </tbody>\n",
       "</table>\n",
       "</div>"
      ],
      "text/plain": [
       "    total  speeding  alcohol  not_distracted  no_previous  ins_premium  \\\n",
       "11   17.5     9.450    7.175          14.350       15.225       861.18   \n",
       "38   18.2     9.100    5.642          17.472       16.016       905.99   \n",
       "40   23.9     9.082    9.799          22.944       19.359       858.97   \n",
       "26   21.4     8.346    9.416          17.976       18.190       816.21   \n",
       "48   23.8     8.092    6.664          23.086       20.706       992.61   \n",
       "43   19.4     7.760    7.372          17.654       16.878      1004.75   \n",
       "1    18.1     7.421    4.525          16.290       17.014      1053.48   \n",
       "0    18.8     7.332    5.640          18.048       15.040       784.55   \n",
       "50   17.4     7.308    5.568          14.094       15.660       791.14   \n",
       "18   20.5     7.175    6.765          14.965       20.090      1281.55   \n",
       "25   16.1     6.923    5.474          14.812       13.524       790.32   \n",
       "33   16.8     6.552    5.208          15.792       13.608       708.24   \n",
       "2    18.6     6.510    5.208          15.624       17.856       899.47   \n",
       "36   19.9     6.368    5.771          18.308       18.706       881.51   \n",
       "7    16.2     6.156    4.860          14.094       16.038      1137.87   \n",
       "41   19.4     6.014    6.402          19.012       16.684       669.31   \n",
       "34   23.9     5.497   10.038          23.661       20.554       688.75   \n",
       "16   17.8     4.806    4.272          13.706       15.130       780.45   \n",
       "42   19.5     4.095    5.655          15.990       15.795       767.91   \n",
       "17   21.4     4.066    4.922          16.692       16.264       872.51   \n",
       "3    22.4     4.032    5.824          21.056       21.280       827.34   \n",
       "9    17.9     3.759    5.191          16.468       16.826      1160.13   \n",
       "31   18.4     3.496    4.968          12.328       18.032       869.85   \n",
       "15   15.7     2.669    3.925          15.229       13.659       649.06   \n",
       "24   17.6     2.640    5.456           1.760       17.600       896.07   \n",
       "\n",
       "    ins_losses abbrev  \n",
       "11      120.92     HI  \n",
       "38      153.86     PA  \n",
       "40      116.29     SC  \n",
       "26       85.15     MT  \n",
       "48      152.56     WV  \n",
       "43      156.83     TX  \n",
       "1       133.93     AK  \n",
       "0       145.08     AL  \n",
       "50      122.04     WY  \n",
       "18      194.78     LA  \n",
       "25      144.45     MO  \n",
       "33      127.82     NC  \n",
       "2       110.35     AZ  \n",
       "36      178.86     OK  \n",
       "7       151.48     DE  \n",
       "41       96.87     SD  \n",
       "34      109.72     ND  \n",
       "16      133.80     KS  \n",
       "42      155.57     TN  \n",
       "17      137.13     KY  \n",
       "3       142.39     AR  \n",
       "9       144.18     FL  \n",
       "31      120.75     NM  \n",
       "15      114.47     IA  \n",
       "24      155.77     MS  "
      ]
     },
     "execution_count": 60,
     "metadata": {},
     "output_type": "execute_result"
    }
   ],
   "source": [
    "car_crashes[car_crashes['total'] > car_crashes['total'].median()].sort_values(by=['speeding'], ascending=False).head(26)"
   ]
  },
  {
   "cell_type": "markdown",
   "metadata": {},
   "source": [
    "Looks like Hawaii has the highest number of speeding related accidents among the >50th percentile."
   ]
  },
  {
   "cell_type": "markdown",
   "metadata": {},
   "source": [
    "Let's compare the mean number of alcohol related car crashes for states with total car crashes above and below the 50th percentile. For this we will get a little fancy and use the `groupby` function. First, we need to make an additional column to use for grouping."
   ]
  },
  {
   "cell_type": "code",
   "execution_count": 61,
   "metadata": {},
   "outputs": [
    {
     "data": {
      "text/html": [
       "<div>\n",
       "<style scoped>\n",
       "    .dataframe tbody tr th:only-of-type {\n",
       "        vertical-align: middle;\n",
       "    }\n",
       "\n",
       "    .dataframe tbody tr th {\n",
       "        vertical-align: top;\n",
       "    }\n",
       "\n",
       "    .dataframe thead th {\n",
       "        text-align: right;\n",
       "    }\n",
       "</style>\n",
       "<table border=\"1\" class=\"dataframe\">\n",
       "  <thead>\n",
       "    <tr style=\"text-align: right;\">\n",
       "      <th></th>\n",
       "      <th>total</th>\n",
       "      <th>speeding</th>\n",
       "      <th>alcohol</th>\n",
       "      <th>not_distracted</th>\n",
       "      <th>no_previous</th>\n",
       "      <th>ins_premium</th>\n",
       "      <th>ins_losses</th>\n",
       "      <th>abbrev</th>\n",
       "      <th>above_fiftieth</th>\n",
       "    </tr>\n",
       "  </thead>\n",
       "  <tbody>\n",
       "    <tr>\n",
       "      <th>0</th>\n",
       "      <td>18.8</td>\n",
       "      <td>7.332</td>\n",
       "      <td>5.640</td>\n",
       "      <td>18.048</td>\n",
       "      <td>15.040</td>\n",
       "      <td>784.55</td>\n",
       "      <td>145.08</td>\n",
       "      <td>AL</td>\n",
       "      <td>True</td>\n",
       "    </tr>\n",
       "    <tr>\n",
       "      <th>1</th>\n",
       "      <td>18.1</td>\n",
       "      <td>7.421</td>\n",
       "      <td>4.525</td>\n",
       "      <td>16.290</td>\n",
       "      <td>17.014</td>\n",
       "      <td>1053.48</td>\n",
       "      <td>133.93</td>\n",
       "      <td>AK</td>\n",
       "      <td>True</td>\n",
       "    </tr>\n",
       "    <tr>\n",
       "      <th>2</th>\n",
       "      <td>18.6</td>\n",
       "      <td>6.510</td>\n",
       "      <td>5.208</td>\n",
       "      <td>15.624</td>\n",
       "      <td>17.856</td>\n",
       "      <td>899.47</td>\n",
       "      <td>110.35</td>\n",
       "      <td>AZ</td>\n",
       "      <td>True</td>\n",
       "    </tr>\n",
       "    <tr>\n",
       "      <th>3</th>\n",
       "      <td>22.4</td>\n",
       "      <td>4.032</td>\n",
       "      <td>5.824</td>\n",
       "      <td>21.056</td>\n",
       "      <td>21.280</td>\n",
       "      <td>827.34</td>\n",
       "      <td>142.39</td>\n",
       "      <td>AR</td>\n",
       "      <td>True</td>\n",
       "    </tr>\n",
       "    <tr>\n",
       "      <th>4</th>\n",
       "      <td>12.0</td>\n",
       "      <td>4.200</td>\n",
       "      <td>3.360</td>\n",
       "      <td>10.920</td>\n",
       "      <td>10.680</td>\n",
       "      <td>878.41</td>\n",
       "      <td>165.63</td>\n",
       "      <td>CA</td>\n",
       "      <td>False</td>\n",
       "    </tr>\n",
       "  </tbody>\n",
       "</table>\n",
       "</div>"
      ],
      "text/plain": [
       "   total  speeding  alcohol  not_distracted  no_previous  ins_premium  \\\n",
       "0   18.8     7.332    5.640          18.048       15.040       784.55   \n",
       "1   18.1     7.421    4.525          16.290       17.014      1053.48   \n",
       "2   18.6     6.510    5.208          15.624       17.856       899.47   \n",
       "3   22.4     4.032    5.824          21.056       21.280       827.34   \n",
       "4   12.0     4.200    3.360          10.920       10.680       878.41   \n",
       "\n",
       "   ins_losses abbrev  above_fiftieth  \n",
       "0      145.08     AL            True  \n",
       "1      133.93     AK            True  \n",
       "2      110.35     AZ            True  \n",
       "3      142.39     AR            True  \n",
       "4      165.63     CA           False  "
      ]
     },
     "execution_count": 61,
     "metadata": {},
     "output_type": "execute_result"
    }
   ],
   "source": [
    "car_crashes['above_fiftieth'] =  car_crashes['total'] > car_crashes['total'].median()\n",
    "car_crashes.head()"
   ]
  },
  {
   "cell_type": "markdown",
   "metadata": {},
   "source": [
    "Then we will apply `groupby`."
   ]
  },
  {
   "cell_type": "code",
   "execution_count": 62,
   "metadata": {},
   "outputs": [
    {
     "data": {
      "text/plain": [
       "above_fiftieth\n",
       "False    3.749462\n",
       "True     6.069600\n",
       "Name: alcohol, dtype: float64"
      ]
     },
     "execution_count": 62,
     "metadata": {},
     "output_type": "execute_result"
    }
   ],
   "source": [
    "car_crashes.groupby('above_fiftieth')['alcohol'].mean()"
   ]
  },
  {
   "cell_type": "markdown",
   "metadata": {},
   "source": [
    "We can observe that there seems to be more alcohol related accidents in states which have a higher number of car crashes."
   ]
  },
  {
   "cell_type": "markdown",
   "metadata": {},
   "source": [
    "Now that we have done that, let's see the abbreviations of the states with the minimum number of total crashes. We can do this in two orders."
   ]
  },
  {
   "cell_type": "code",
   "execution_count": 63,
   "metadata": {},
   "outputs": [
    {
     "data": {
      "text/plain": [
       "8    DC\n",
       "Name: abbrev, dtype: object"
      ]
     },
     "execution_count": 63,
     "metadata": {},
     "output_type": "execute_result"
    }
   ],
   "source": [
    "car_crashes[car_crashes['total'] == car_crashes['total'].min()]['abbrev']"
   ]
  },
  {
   "cell_type": "code",
   "execution_count": 64,
   "metadata": {},
   "outputs": [
    {
     "data": {
      "text/plain": [
       "8    DC\n",
       "Name: abbrev, dtype: object"
      ]
     },
     "execution_count": 64,
     "metadata": {},
     "output_type": "execute_result"
    }
   ],
   "source": [
    "car_crashes['abbrev'][car_crashes['total'] == car_crashes['total'].min()]"
   ]
  },
  {
   "cell_type": "markdown",
   "metadata": {},
   "source": [
    "**Food for thought:** What is the difference between the first and second line of code?"
   ]
  },
  {
   "cell_type": "markdown",
   "metadata": {},
   "source": [
    "Now that we have done some basic data manipulation, let's visualize what's happening with our dataset!"
   ]
  },
  {
   "cell_type": "markdown",
   "metadata": {},
   "source": [
    "## Introduction to Plotly"
   ]
  },
  {
   "cell_type": "markdown",
   "metadata": {},
   "source": [
    "As a usual first step, let's import the plotly library. However, plotly hosts various different graphing libraries to use, so we will import multiple libraries and save them as acryonyms for ease of use later."
   ]
  },
  {
   "cell_type": "markdown",
   "metadata": {},
   "source": [
    "First, let's get a distribution plot of the `total` column. For this we will use the `figure_factory` library. You can read more about these types of plots [here](https://plotly.com/python/figure-factories/)."
   ]
  },
  {
   "cell_type": "code",
   "execution_count": 41,
   "metadata": {
    "scrolled": false
   },
   "outputs": [
    {
     "data": {
      "application/vnd.plotly.v1+json": {
       "config": {
        "plotlyServerURL": "https://plot.ly"
       },
       "data": [
        {
         "autobinx": false,
         "histnorm": "probability density",
         "legendgroup": "total",
         "marker": {
          "color": "rgb(31, 119, 180)"
         },
         "name": "total",
         "opacity": 0.7,
         "type": "histogram",
         "x": [
          18.8,
          18.1,
          18.6,
          22.4,
          12,
          13.6,
          10.8,
          16.2,
          5.9,
          17.9,
          15.6,
          17.5,
          15.3,
          12.8,
          14.5,
          15.7,
          17.8,
          21.4,
          20.5,
          15.1,
          12.5,
          8.2,
          14.1,
          9.6,
          17.6,
          16.1,
          21.4,
          14.9,
          14.7,
          11.6,
          11.2,
          18.4,
          12.3,
          16.8,
          23.9,
          14.1,
          19.9,
          12.8,
          18.2,
          11.1,
          23.9,
          19.4,
          19.5,
          19.4,
          11.3,
          13.6,
          12.7,
          10.6,
          23.8,
          13.8,
          17.4
         ],
         "xaxis": "x",
         "xbins": {
          "end": 23.9,
          "size": 1,
          "start": 5.9
         },
         "yaxis": "y"
        },
        {
         "legendgroup": "total",
         "marker": {
          "color": "rgb(31, 119, 180)"
         },
         "mode": "lines",
         "name": "total",
         "showlegend": false,
         "type": "scatter",
         "x": [
          5.9,
          5.936,
          5.972,
          6.008,
          6.0440000000000005,
          6.08,
          6.1160000000000005,
          6.152,
          6.188000000000001,
          6.224,
          6.260000000000001,
          6.296,
          6.332000000000001,
          6.368,
          6.404,
          6.44,
          6.476,
          6.5120000000000005,
          6.548,
          6.5840000000000005,
          6.62,
          6.656000000000001,
          6.692,
          6.728000000000001,
          6.764,
          6.800000000000001,
          6.836,
          6.872,
          6.908,
          6.944000000000001,
          6.98,
          7.016,
          7.0520000000000005,
          7.088,
          7.1240000000000006,
          7.16,
          7.196000000000001,
          7.232,
          7.268000000000001,
          7.304,
          7.34,
          7.376,
          7.412000000000001,
          7.448,
          7.484,
          7.5200000000000005,
          7.556,
          7.5920000000000005,
          7.628,
          7.664000000000001,
          7.7,
          7.736000000000001,
          7.772,
          7.808,
          7.844,
          7.880000000000001,
          7.916,
          7.952,
          7.988,
          8.024000000000001,
          8.06,
          8.096,
          8.132000000000001,
          8.168,
          8.204,
          8.24,
          8.276,
          8.312000000000001,
          8.348,
          8.384,
          8.42,
          8.456,
          8.492,
          8.528,
          8.564,
          8.600000000000001,
          8.636000000000001,
          8.672,
          8.708,
          8.744,
          8.780000000000001,
          8.816,
          8.852,
          8.888,
          8.924,
          8.96,
          8.996,
          9.032,
          9.068000000000001,
          9.104000000000001,
          9.14,
          9.176,
          9.212,
          9.248000000000001,
          9.284,
          9.32,
          9.356,
          9.392,
          9.428,
          9.464,
          9.5,
          9.536000000000001,
          9.572000000000001,
          9.608,
          9.644,
          9.68,
          9.716000000000001,
          9.752,
          9.788,
          9.824,
          9.86,
          9.896,
          9.932,
          9.968,
          10.004000000000001,
          10.04,
          10.076,
          10.112,
          10.148,
          10.184000000000001,
          10.22,
          10.256,
          10.292000000000002,
          10.328,
          10.364,
          10.4,
          10.436,
          10.472000000000001,
          10.508,
          10.544,
          10.58,
          10.616,
          10.652000000000001,
          10.688,
          10.724,
          10.760000000000002,
          10.796,
          10.832,
          10.868,
          10.904,
          10.940000000000001,
          10.975999999999999,
          11.012,
          11.048,
          11.084,
          11.120000000000001,
          11.156,
          11.192,
          11.228000000000002,
          11.264,
          11.3,
          11.336,
          11.372,
          11.408000000000001,
          11.443999999999999,
          11.48,
          11.516,
          11.552,
          11.588000000000001,
          11.624,
          11.66,
          11.696000000000002,
          11.732,
          11.768,
          11.804,
          11.84,
          11.876000000000001,
          11.911999999999999,
          11.948,
          11.984,
          12.02,
          12.056000000000001,
          12.092,
          12.128,
          12.164000000000001,
          12.2,
          12.236,
          12.272,
          12.308,
          12.344000000000001,
          12.38,
          12.416,
          12.452,
          12.488,
          12.524000000000001,
          12.56,
          12.596,
          12.632000000000001,
          12.668,
          12.704,
          12.74,
          12.776,
          12.812000000000001,
          12.848,
          12.884,
          12.92,
          12.956,
          12.992,
          13.028,
          13.064,
          13.100000000000001,
          13.136,
          13.172,
          13.208,
          13.244,
          13.280000000000001,
          13.316,
          13.352,
          13.388000000000002,
          13.424,
          13.46,
          13.496,
          13.532,
          13.568000000000001,
          13.604,
          13.64,
          13.676,
          13.712,
          13.748000000000001,
          13.784,
          13.82,
          13.856000000000002,
          13.892,
          13.928,
          13.964,
          14,
          14.036,
          14.072000000000001,
          14.108,
          14.144,
          14.18,
          14.216000000000001,
          14.252,
          14.288,
          14.324,
          14.360000000000001,
          14.396,
          14.432,
          14.468,
          14.504,
          14.540000000000001,
          14.576,
          14.612,
          14.648,
          14.684000000000001,
          14.72,
          14.756,
          14.792,
          14.828000000000001,
          14.864,
          14.9,
          14.936,
          14.972,
          15.008000000000001,
          15.044,
          15.08,
          15.116,
          15.152000000000001,
          15.188,
          15.224,
          15.26,
          15.296000000000001,
          15.332,
          15.368,
          15.404,
          15.44,
          15.476,
          15.512,
          15.548,
          15.584,
          15.620000000000001,
          15.656,
          15.692,
          15.728,
          15.764000000000001,
          15.8,
          15.836,
          15.872,
          15.908,
          15.944,
          15.98,
          16.016,
          16.052,
          16.088,
          16.124000000000002,
          16.16,
          16.195999999999998,
          16.232,
          16.268,
          16.304000000000002,
          16.34,
          16.376,
          16.412,
          16.448,
          16.484,
          16.52,
          16.556,
          16.592,
          16.628,
          16.664,
          16.700000000000003,
          16.736,
          16.772,
          16.808,
          16.844,
          16.880000000000003,
          16.916,
          16.951999999999998,
          16.988,
          17.024,
          17.060000000000002,
          17.096,
          17.131999999999998,
          17.168,
          17.204,
          17.240000000000002,
          17.276,
          17.312,
          17.348,
          17.384,
          17.42,
          17.456,
          17.492,
          17.528,
          17.564,
          17.6,
          17.636000000000003,
          17.672,
          17.708,
          17.744,
          17.78,
          17.816000000000003,
          17.852,
          17.887999999999998,
          17.924,
          17.96,
          17.996000000000002,
          18.032,
          18.067999999999998,
          18.104,
          18.14,
          18.176000000000002,
          18.212,
          18.248,
          18.284,
          18.32,
          18.356,
          18.392000000000003,
          18.428,
          18.464,
          18.5,
          18.536,
          18.572000000000003,
          18.608,
          18.644,
          18.68,
          18.716,
          18.752000000000002,
          18.788,
          18.823999999999998,
          18.86,
          18.896,
          18.932000000000002,
          18.968,
          19.003999999999998,
          19.04,
          19.076,
          19.112000000000002,
          19.148,
          19.184,
          19.22,
          19.256,
          19.292,
          19.328000000000003,
          19.364,
          19.4,
          19.436,
          19.472,
          19.508000000000003,
          19.544,
          19.58,
          19.616,
          19.652,
          19.688000000000002,
          19.724,
          19.759999999999998,
          19.796,
          19.832,
          19.868000000000002,
          19.904,
          19.939999999999998,
          19.976,
          20.012,
          20.048000000000002,
          20.084,
          20.12,
          20.156,
          20.192,
          20.228,
          20.264000000000003,
          20.3,
          20.336,
          20.372,
          20.408,
          20.444000000000003,
          20.48,
          20.516,
          20.552,
          20.588,
          20.624000000000002,
          20.66,
          20.695999999999998,
          20.732,
          20.768,
          20.804000000000002,
          20.84,
          20.876,
          20.912,
          20.948,
          20.984,
          21.02,
          21.056,
          21.092,
          21.128,
          21.164,
          21.200000000000003,
          21.236,
          21.272,
          21.308,
          21.344,
          21.380000000000003,
          21.416,
          21.451999999999998,
          21.488,
          21.524,
          21.560000000000002,
          21.596,
          21.631999999999998,
          21.668,
          21.704,
          21.740000000000002,
          21.776,
          21.812,
          21.848,
          21.884,
          21.92,
          21.956000000000003,
          21.991999999999997,
          22.028,
          22.064,
          22.1,
          22.136000000000003,
          22.171999999999997,
          22.208,
          22.244,
          22.28,
          22.316000000000003,
          22.352000000000004,
          22.387999999999998,
          22.424,
          22.46,
          22.496000000000002,
          22.532000000000004,
          22.567999999999998,
          22.604,
          22.64,
          22.676000000000002,
          22.712000000000003,
          22.747999999999998,
          22.784,
          22.82,
          22.856,
          22.892000000000003,
          22.927999999999997,
          22.964,
          23,
          23.036,
          23.072000000000003,
          23.107999999999997,
          23.144,
          23.18,
          23.216,
          23.252000000000002,
          23.288000000000004,
          23.323999999999998,
          23.36,
          23.396,
          23.432000000000002,
          23.468000000000004,
          23.503999999999998,
          23.54,
          23.576,
          23.612000000000002,
          23.648000000000003,
          23.683999999999997,
          23.72,
          23.756,
          23.792,
          23.828000000000003,
          23.863999999999997
         ],
         "xaxis": "x",
         "y": [
          0.0073882262040503525,
          0.007492359017058086,
          0.0075976224898012985,
          0.007704064049891381,
          0.0078117330932222315,
          0.007920680972844932,
          0.008030960984465369,
          0.008142628348535803,
          0.008255740188916423,
          0.008370355508087455,
          0.008486535158897348,
          0.00860434181283726,
          0.008723839924836706,
          0.008845095694580316,
          0.00896817702434983,
          0.009093153473400721,
          0.009220096208886964,
          0.009349077953352606,
          0.009480172928813016,
          0.00961345679745348,
          0.009749006598977233,
          0.009886900684639878,
          0.010027218648011033,
          0.010170041252509237,
          0.010315450355760081,
          0.010463528830832323,
          0.010614360484410886,
          0.010768029971970391,
          0.010924622710017042,
          0.01108422478547112,
          0.01124692286226697,
          0.011412804085251506,
          0.011581955981466791,
          0.011754466358906755,
          0.011930423202842452,
          0.012109914569814561,
          0.012293028479396667,
          0.012479852803836906,
          0.01267047515569031,
          0.012864982773558421,
          0.013063462406057512,
          0.013266000194141016,
          0.013472681551906222,
          0.01368359104601998,
          0.013898812273902472,
          0.014118427740812442,
          0.0143425187359819,
          0.014571165207952567,
          0.014804445639270683,
          0.015042436920700928,
          0.01528521422512462,
          0.01553285088129129,
          0.015785418247596605,
          0.01604298558606389,
          0.016305619936709818,
          0.016573385992478446,
          0.01684634597493162,
          0.01712455951088646,
          0.017408083510193833,
          0.017696972044854698,
          0.017991276229673326,
          0.018291044104649143,
          0.018596320519310174,
          0.01890714701919367,
          0.019223561734679817,
          0.01954559927238601,
          0.01987329060932938,
          0.02020666299006569,
          0.020545739827012122,
          0.02089054060416085,
          0.021241080784389604,
          0.02159737172057252,
          0.021959420570694287,
          0.022327230217165688,
          0.02270079919053785,
          0.02308012159780653,
          0.023465187055495048,
          0.023855980627699395,
          0.024252482769272377,
          0.02465466927432009,
          0.025062511230174774,
          0.02547597497700338,
          0.02589502207320182,
          0.026319609266717656,
          0.026749688472434512,
          0.02718520675574297,
          0.027626106322411633,
          0.028072324514863373,
          0.02852379381494898,
          0.028980441853300235,
          0.029442191425332973,
          0.029908960513956546,
          0.030380662319035967,
          0.03085720529363749,
          0.03133849318707701,
          0.03182442509477548,
          0.032314895514912026,
          0.032809794411851986,
          0.03330900728631071,
          0.033812415252201654,
          0.03431989512010082,
          0.0348313194872457,
          0.03534655683397144,
          0.035865471626473196,
          0.03638792442576738,
          0.0369137720027113,
          0.03744286745892568,
          0.03797506035344985,
          0.03851019683494684,
          0.03904811977925991,
          0.03958866893211128,
          0.04013168105671856,
          0.04067699008609377,
          0.041224427279777265,
          0.04177382138474767,
          0.04232499880023764,
          0.04287778374617726,
          0.04343199843497414,
          0.04398746324633433,
          0.04454399690481768,
          0.04510141665981493,
          0.04565953846762877,
          0.04621817717533316,
          0.046777146706083655,
          0.04733626024554595,
          0.04789533042910679,
          0.04845416952953284,
          0.049012589644737314,
          0.04957040288531942,
          0.050127421561539154,
          0.050683458369394224,
          0.05123832657546752,
          0.051791840200219534,
          0.05234381419940202,
          0.052894064643279316,
          0.05344240889334639,
          0.05398866577624325,
          0.05453265575457342,
          0.05507420109434224,
          0.055613126028743444,
          0.056149256918031396,
          0.05668242240522918,
          0.05721245356743572,
          0.057739184062506506,
          0.058262450270898956,
          0.0587820914324847,
          0.059297949778148895,
          0.05980987065600954,
          0.060317702652107286,
          0.06082129770543058,
          0.06132051121715915,
          0.061815202154023745,
          0.06230523314569747,
          0.06279047057615103,
          0.06327078466892003,
          0.06374604956625128,
          0.06421614340210817,
          0.06468094836903648,
          0.06514035077890336,
          0.06559424111754221,
          0.06604251409334923,
          0.0664850686798943,
          0.06692180815262191,
          0.0673526401197351,
          0.06777747654736468,
          0.06819623377914401,
          0.06860883255031816,
          0.06901519799652936,
          0.06941525965743296,
          0.06980895147530551,
          0.07019621178881826,
          0.07057698332215612,
          0.07095121316967147,
          0.07131885277626678,
          0.07167985791370704,
          0.07203418865306778,
          0.07238180933352678,
          0.07272268852771219,
          0.07305679900382032,
          0.07338411768471739,
          0.07370462560423907,
          0.07401830786090183,
          0.07432515356923526,
          0.07462515580894462,
          0.07491831157210571,
          0.07520462170859253,
          0.07548409086992836,
          0.07575672745174868,
          0.07602254353505276,
          0.07628155482641588,
          0.07653378059732253,
          0.0767792436227731,
          0.07701797011930588,
          0.07724998968256419,
          0.07747533522452942,
          0.07769404291052653,
          0.07790615209609794,
          0.07811170526382885,
          0.0783107479601937,
          0.07850332873248142,
          0.07868949906584306,
          0.07886931332049252,
          0.07904282866907866,
          0.07921010503423224,
          0.07937120502628008,
          0.0795261938811042,
          0.07967513939811344,
          0.07981811187827983,
          0.0799551840621838,
          0.08008643106799744,
          0.08021193032932808,
          0.08033176153283006,
          0.0804460065554874,
          0.08055474940145792,
          0.08065807613836323,
          0.08075607483290144,
          0.08084883548565241,
          0.08093644996494175,
          0.08101901193962217,
          0.08109661681063204,
          0.08116936164118284,
          0.08123734508543105,
          0.08130066731548638,
          0.0813594299466098,
          0.08141373596045771,
          0.08146368962622945,
          0.08150939641958185,
          0.08155096293917723,
          0.08158849682073929,
          0.08162210664849859,
          0.08165190186391512,
          0.08167799267157923,
          0.08170048994219868,
          0.08171950511259318,
          0.08173515008262934,
          0.08174753710904249,
          0.08175677869610552,
          0.08176298748312094,
          0.08176627612872583,
          0.08176675719201851,
          0.08176454301053009,
          0.08175974557508318,
          0.08175247640159805,
          0.08174284639992306,
          0.08173096573978798,
          0.0817169437139949,
          0.08170088859898211,
          0.08168290751291545,
          0.08166310627148007,
          0.08164158924156585,
          0.08161845919305713,
          0.08159381714895828,
          0.08156776223410195,
          0.08154039152270784,
          0.08151179988507531,
          0.08148207983370943,
          0.0814513213691988,
          0.08141961182617466,
          0.08138703571969942,
          0.08135367459244243,
          0.08131960686301623,
          0.08128490767585525,
          0.0812496487530315,
          0.08121389824840786,
          0.08117772060454076,
          0.08114117641274644,
          0.08110432227675295,
          0.08106721068036096,
          0.08102988985954142,
          0.08099240367939492,
          0.08095479151639898,
          0.08091708814636621,
          0.08087932363853131,
          0.08084152325617946,
          0.0808037073642212,
          0.08076589134411002,
          0.08072808551648622,
          0.08069029507192185,
          0.0806525200101236,
          0.08061475508793897,
          0.08057698977648993,
          0.08053920822774457,
          0.08050138925081345,
          0.0804635062982381,
          0.08042552746251719,
          0.08038741548309035,
          0.08034912776397626,
          0.08031061640223566,
          0.08027182822740168,
          0.08023270485199402,
          0.08019318273320264,
          0.080153193245799,
          0.08011266276630162,
          0.08007151276839321,
          0.08002965992955384,
          0.07998701624884533,
          0.07994348917574894,
          0.07989898174992713,
          0.0798533927517485,
          0.07980661686338375,
          0.07975854484024826,
          0.07970906369253634,
          0.07965805687656224,
          0.07960540449559105,
          0.07955098350981571,
          0.07949466795510535,
          0.0794363291701244,
          0.07937583603139338,
          0.07931305519583824,
          0.079247851350349,
          0.07918008746784655,
          0.07910962506933353,
          0.07903632449138454,
          0.07896004515851368,
          0.0788806458598377,
          0.07879798502943784,
          0.07871192102981094,
          0.07862231243778554,
          0.07852901833227016,
          0.07843189858319052,
          0.07833081414096703,
          0.07822562732587805,
          0.07811620211665109,
          0.07800240443762399,
          0.07788410244381735,
          0.07776116680326443,
          0.07763347097594574,
          0.07750089148868669,
          0.07736330820538037,
          0.07722060459191157,
          0.07707266797516708,
          0.07691938979553403,
          0.07676066585230018,
          0.07659639654139147,
          0.07642648708489555,
          0.07625084775184655,
          0.07606939406976213,
          0.07588204702645135,
          0.07568873326163436,
          0.0754893852479407,
          0.07528394146088113,
          0.07507234653741346,
          0.07485455142275463,
          0.07463051350511785,
          0.07440019673808775,
          0.07416357175037228,
          0.07392061594270896,
          0.0736713135717274,
          0.07341565582060901,
          0.07315364085641259,
          0.07288527387397109,
          0.07261056712629506,
          0.07232953994145178,
          0.07204221872592255,
          0.07174863695447195,
          0.07144883514659492,
          0.07114286082963937,
          0.07083076848873299,
          0.07051261950367271,
          0.070188482072965,
          0.06985843112523508,
          0.06952254821824873,
          0.06918092142581951,
          0.06883364521289868,
          0.06848082029917095,
          0.068122553511502,
          0.06775895762560662,
          0.06739015119732754,
          0.06701625838393498,
          0.06663740875587532,
          0.06625373709941537,
          0.06586538321064278,
          0.06547249168130045,
          0.06507521167694312,
          0.06467369670791703,
          0.06426810439367507,
          0.06385859622094577,
          0.06344533729628488,
          0.06302849609354137,
          0.06260824419677688,
          0.06218475603917832,
          0.061758208638507305,
          0.06132878132962851,
          0.06089665549465989,
          0.0604620142912841,
          0.06002504237975814,
          0.059585925649153056,
          0.059144850943350605,
          0.05870200578731506,
          0.058257578114153115,
          0.057811755993463505,
          0.05736472736147027,
          0.05691667975342065,
          0.05646780003871898,
          0.05601827415925414,
          0.05556828687136642,
          0.055118021491884286,
          0.054667659648648365,
          0.054217381035925195,
          0.05376736317509607,
          0.053317781180992924,
          0.052868807534234896,
          0.05242061185990415,
          0.05197336071288096,
          0.05152721737014264,
          0.051082341630312764,
          0.0506388896207291,
          0.050197013612282945,
          0.049756861842262926,
          0.04931857834542024,
          0.04888230279345357,
          0.048448170343095814,
          0.04801631149296619,
          0.04758685194933476,
          0.04715991250092866,
          0.04673560890289325,
          0.04631405177000424,
          0.04589534647921057,
          0.04547959308157098,
          0.045066886223633223,
          0.04465731507828663,
          0.0442509632851049,
          0.043847908900181976,
          0.04344822435544614,
          0.04305197642742695,
          0.04265922621543153,
          0.04227002912907669,
          0.04188443488510774,
          0.04150248751342195,
          0.041124225372203484,
          0.04074968117206175,
          0.040378882009055636,
          0.040011849406472025,
          0.03964859936521757,
          0.03928914242267019,
          0.03893348371982643,
          0.03858162307657031,
          0.03823355507487919,
          0.037889269149772316,
          0.03754874968779745,
          0.037211976132842356,
          0.036878923099048985,
          0.036549560490598466,
          0.03622385362812749,
          0.035901763381527875,
          0.035583246308873884,
          0.03526825480121282,
          0.03495673723294879,
          0.03464863811754086,
          0.034343898268231816,
          0.034042454963514705,
          0.03374424211704099,
          0.03344919045166625,
          0.03315722767732466,
          0.032868278672418184,
          0.03258226566840132,
          0.03229910843723824,
          0.03201872448140424,
          0.031741029226100816,
          0.031465936213348915,
          0.031193357297624034,
          0.030923202842691608,
          0.030655381919302085,
          0.03038980250340162,
          0.03012637167451334,
          0.029864995813945572,
          0.029605580802480203,
          0.029348032217198186,
          0.02909225552709778,
          0.028838156287164286,
          0.028585640330552227,
          0.028334613958542577,
          0.02808498412794258,
          0.02783665863559934,
          0.02758954629970248,
          0.027343557137558195,
          0.02709860253952059,
          0.026854595438775688,
          0.02661145047667887,
          0.02636908416335512,
          0.02612741503328093,
          0.025886363795574473,
          0.025645853478732317,
          0.025405809569560157,
          0.02516616014605746,
          0.024926836004026804,
          0.024687770777192045,
          0.02444890105062135,
          0.024210166467265964,
          0.023971509827438727,
          0.02373287718107097,
          0.02349421791260261,
          0.023255484818373914,
          0.02301663417640496,
          0.022777625808463965,
          0.022538423134342678,
          0.022298993218274523,
          0.022059306807446263,
          0.021819338362573854,
          0.021579066080528522
         ],
         "yaxis": "y"
        },
        {
         "legendgroup": "total",
         "marker": {
          "color": "rgb(31, 119, 180)",
          "symbol": "line-ns-open"
         },
         "mode": "markers",
         "name": "total",
         "showlegend": false,
         "type": "scatter",
         "x": [
          18.8,
          18.1,
          18.6,
          22.4,
          12,
          13.6,
          10.8,
          16.2,
          5.9,
          17.9,
          15.6,
          17.5,
          15.3,
          12.8,
          14.5,
          15.7,
          17.8,
          21.4,
          20.5,
          15.1,
          12.5,
          8.2,
          14.1,
          9.6,
          17.6,
          16.1,
          21.4,
          14.9,
          14.7,
          11.6,
          11.2,
          18.4,
          12.3,
          16.8,
          23.9,
          14.1,
          19.9,
          12.8,
          18.2,
          11.1,
          23.9,
          19.4,
          19.5,
          19.4,
          11.3,
          13.6,
          12.7,
          10.6,
          23.8,
          13.8,
          17.4
         ],
         "xaxis": "x",
         "y": [
          "total",
          "total",
          "total",
          "total",
          "total",
          "total",
          "total",
          "total",
          "total",
          "total",
          "total",
          "total",
          "total",
          "total",
          "total",
          "total",
          "total",
          "total",
          "total",
          "total",
          "total",
          "total",
          "total",
          "total",
          "total",
          "total",
          "total",
          "total",
          "total",
          "total",
          "total",
          "total",
          "total",
          "total",
          "total",
          "total",
          "total",
          "total",
          "total",
          "total",
          "total",
          "total",
          "total",
          "total",
          "total",
          "total",
          "total",
          "total",
          "total",
          "total",
          "total"
         ],
         "yaxis": "y2"
        }
       ],
       "layout": {
        "barmode": "overlay",
        "hovermode": "closest",
        "legend": {
         "traceorder": "reversed"
        },
        "template": {
         "data": {
          "bar": [
           {
            "error_x": {
             "color": "#2a3f5f"
            },
            "error_y": {
             "color": "#2a3f5f"
            },
            "marker": {
             "line": {
              "color": "#E5ECF6",
              "width": 0.5
             },
             "pattern": {
              "fillmode": "overlay",
              "size": 10,
              "solidity": 0.2
             }
            },
            "type": "bar"
           }
          ],
          "barpolar": [
           {
            "marker": {
             "line": {
              "color": "#E5ECF6",
              "width": 0.5
             },
             "pattern": {
              "fillmode": "overlay",
              "size": 10,
              "solidity": 0.2
             }
            },
            "type": "barpolar"
           }
          ],
          "carpet": [
           {
            "aaxis": {
             "endlinecolor": "#2a3f5f",
             "gridcolor": "white",
             "linecolor": "white",
             "minorgridcolor": "white",
             "startlinecolor": "#2a3f5f"
            },
            "baxis": {
             "endlinecolor": "#2a3f5f",
             "gridcolor": "white",
             "linecolor": "white",
             "minorgridcolor": "white",
             "startlinecolor": "#2a3f5f"
            },
            "type": "carpet"
           }
          ],
          "choropleth": [
           {
            "colorbar": {
             "outlinewidth": 0,
             "ticks": ""
            },
            "type": "choropleth"
           }
          ],
          "contour": [
           {
            "colorbar": {
             "outlinewidth": 0,
             "ticks": ""
            },
            "colorscale": [
             [
              0,
              "#0d0887"
             ],
             [
              0.1111111111111111,
              "#46039f"
             ],
             [
              0.2222222222222222,
              "#7201a8"
             ],
             [
              0.3333333333333333,
              "#9c179e"
             ],
             [
              0.4444444444444444,
              "#bd3786"
             ],
             [
              0.5555555555555556,
              "#d8576b"
             ],
             [
              0.6666666666666666,
              "#ed7953"
             ],
             [
              0.7777777777777778,
              "#fb9f3a"
             ],
             [
              0.8888888888888888,
              "#fdca26"
             ],
             [
              1,
              "#f0f921"
             ]
            ],
            "type": "contour"
           }
          ],
          "contourcarpet": [
           {
            "colorbar": {
             "outlinewidth": 0,
             "ticks": ""
            },
            "type": "contourcarpet"
           }
          ],
          "heatmap": [
           {
            "colorbar": {
             "outlinewidth": 0,
             "ticks": ""
            },
            "colorscale": [
             [
              0,
              "#0d0887"
             ],
             [
              0.1111111111111111,
              "#46039f"
             ],
             [
              0.2222222222222222,
              "#7201a8"
             ],
             [
              0.3333333333333333,
              "#9c179e"
             ],
             [
              0.4444444444444444,
              "#bd3786"
             ],
             [
              0.5555555555555556,
              "#d8576b"
             ],
             [
              0.6666666666666666,
              "#ed7953"
             ],
             [
              0.7777777777777778,
              "#fb9f3a"
             ],
             [
              0.8888888888888888,
              "#fdca26"
             ],
             [
              1,
              "#f0f921"
             ]
            ],
            "type": "heatmap"
           }
          ],
          "heatmapgl": [
           {
            "colorbar": {
             "outlinewidth": 0,
             "ticks": ""
            },
            "colorscale": [
             [
              0,
              "#0d0887"
             ],
             [
              0.1111111111111111,
              "#46039f"
             ],
             [
              0.2222222222222222,
              "#7201a8"
             ],
             [
              0.3333333333333333,
              "#9c179e"
             ],
             [
              0.4444444444444444,
              "#bd3786"
             ],
             [
              0.5555555555555556,
              "#d8576b"
             ],
             [
              0.6666666666666666,
              "#ed7953"
             ],
             [
              0.7777777777777778,
              "#fb9f3a"
             ],
             [
              0.8888888888888888,
              "#fdca26"
             ],
             [
              1,
              "#f0f921"
             ]
            ],
            "type": "heatmapgl"
           }
          ],
          "histogram": [
           {
            "marker": {
             "pattern": {
              "fillmode": "overlay",
              "size": 10,
              "solidity": 0.2
             }
            },
            "type": "histogram"
           }
          ],
          "histogram2d": [
           {
            "colorbar": {
             "outlinewidth": 0,
             "ticks": ""
            },
            "colorscale": [
             [
              0,
              "#0d0887"
             ],
             [
              0.1111111111111111,
              "#46039f"
             ],
             [
              0.2222222222222222,
              "#7201a8"
             ],
             [
              0.3333333333333333,
              "#9c179e"
             ],
             [
              0.4444444444444444,
              "#bd3786"
             ],
             [
              0.5555555555555556,
              "#d8576b"
             ],
             [
              0.6666666666666666,
              "#ed7953"
             ],
             [
              0.7777777777777778,
              "#fb9f3a"
             ],
             [
              0.8888888888888888,
              "#fdca26"
             ],
             [
              1,
              "#f0f921"
             ]
            ],
            "type": "histogram2d"
           }
          ],
          "histogram2dcontour": [
           {
            "colorbar": {
             "outlinewidth": 0,
             "ticks": ""
            },
            "colorscale": [
             [
              0,
              "#0d0887"
             ],
             [
              0.1111111111111111,
              "#46039f"
             ],
             [
              0.2222222222222222,
              "#7201a8"
             ],
             [
              0.3333333333333333,
              "#9c179e"
             ],
             [
              0.4444444444444444,
              "#bd3786"
             ],
             [
              0.5555555555555556,
              "#d8576b"
             ],
             [
              0.6666666666666666,
              "#ed7953"
             ],
             [
              0.7777777777777778,
              "#fb9f3a"
             ],
             [
              0.8888888888888888,
              "#fdca26"
             ],
             [
              1,
              "#f0f921"
             ]
            ],
            "type": "histogram2dcontour"
           }
          ],
          "mesh3d": [
           {
            "colorbar": {
             "outlinewidth": 0,
             "ticks": ""
            },
            "type": "mesh3d"
           }
          ],
          "parcoords": [
           {
            "line": {
             "colorbar": {
              "outlinewidth": 0,
              "ticks": ""
             }
            },
            "type": "parcoords"
           }
          ],
          "pie": [
           {
            "automargin": true,
            "type": "pie"
           }
          ],
          "scatter": [
           {
            "marker": {
             "colorbar": {
              "outlinewidth": 0,
              "ticks": ""
             }
            },
            "type": "scatter"
           }
          ],
          "scatter3d": [
           {
            "line": {
             "colorbar": {
              "outlinewidth": 0,
              "ticks": ""
             }
            },
            "marker": {
             "colorbar": {
              "outlinewidth": 0,
              "ticks": ""
             }
            },
            "type": "scatter3d"
           }
          ],
          "scattercarpet": [
           {
            "marker": {
             "colorbar": {
              "outlinewidth": 0,
              "ticks": ""
             }
            },
            "type": "scattercarpet"
           }
          ],
          "scattergeo": [
           {
            "marker": {
             "colorbar": {
              "outlinewidth": 0,
              "ticks": ""
             }
            },
            "type": "scattergeo"
           }
          ],
          "scattergl": [
           {
            "marker": {
             "colorbar": {
              "outlinewidth": 0,
              "ticks": ""
             }
            },
            "type": "scattergl"
           }
          ],
          "scattermapbox": [
           {
            "marker": {
             "colorbar": {
              "outlinewidth": 0,
              "ticks": ""
             }
            },
            "type": "scattermapbox"
           }
          ],
          "scatterpolar": [
           {
            "marker": {
             "colorbar": {
              "outlinewidth": 0,
              "ticks": ""
             }
            },
            "type": "scatterpolar"
           }
          ],
          "scatterpolargl": [
           {
            "marker": {
             "colorbar": {
              "outlinewidth": 0,
              "ticks": ""
             }
            },
            "type": "scatterpolargl"
           }
          ],
          "scatterternary": [
           {
            "marker": {
             "colorbar": {
              "outlinewidth": 0,
              "ticks": ""
             }
            },
            "type": "scatterternary"
           }
          ],
          "surface": [
           {
            "colorbar": {
             "outlinewidth": 0,
             "ticks": ""
            },
            "colorscale": [
             [
              0,
              "#0d0887"
             ],
             [
              0.1111111111111111,
              "#46039f"
             ],
             [
              0.2222222222222222,
              "#7201a8"
             ],
             [
              0.3333333333333333,
              "#9c179e"
             ],
             [
              0.4444444444444444,
              "#bd3786"
             ],
             [
              0.5555555555555556,
              "#d8576b"
             ],
             [
              0.6666666666666666,
              "#ed7953"
             ],
             [
              0.7777777777777778,
              "#fb9f3a"
             ],
             [
              0.8888888888888888,
              "#fdca26"
             ],
             [
              1,
              "#f0f921"
             ]
            ],
            "type": "surface"
           }
          ],
          "table": [
           {
            "cells": {
             "fill": {
              "color": "#EBF0F8"
             },
             "line": {
              "color": "white"
             }
            },
            "header": {
             "fill": {
              "color": "#C8D4E3"
             },
             "line": {
              "color": "white"
             }
            },
            "type": "table"
           }
          ]
         },
         "layout": {
          "annotationdefaults": {
           "arrowcolor": "#2a3f5f",
           "arrowhead": 0,
           "arrowwidth": 1
          },
          "autotypenumbers": "strict",
          "coloraxis": {
           "colorbar": {
            "outlinewidth": 0,
            "ticks": ""
           }
          },
          "colorscale": {
           "diverging": [
            [
             0,
             "#8e0152"
            ],
            [
             0.1,
             "#c51b7d"
            ],
            [
             0.2,
             "#de77ae"
            ],
            [
             0.3,
             "#f1b6da"
            ],
            [
             0.4,
             "#fde0ef"
            ],
            [
             0.5,
             "#f7f7f7"
            ],
            [
             0.6,
             "#e6f5d0"
            ],
            [
             0.7,
             "#b8e186"
            ],
            [
             0.8,
             "#7fbc41"
            ],
            [
             0.9,
             "#4d9221"
            ],
            [
             1,
             "#276419"
            ]
           ],
           "sequential": [
            [
             0,
             "#0d0887"
            ],
            [
             0.1111111111111111,
             "#46039f"
            ],
            [
             0.2222222222222222,
             "#7201a8"
            ],
            [
             0.3333333333333333,
             "#9c179e"
            ],
            [
             0.4444444444444444,
             "#bd3786"
            ],
            [
             0.5555555555555556,
             "#d8576b"
            ],
            [
             0.6666666666666666,
             "#ed7953"
            ],
            [
             0.7777777777777778,
             "#fb9f3a"
            ],
            [
             0.8888888888888888,
             "#fdca26"
            ],
            [
             1,
             "#f0f921"
            ]
           ],
           "sequentialminus": [
            [
             0,
             "#0d0887"
            ],
            [
             0.1111111111111111,
             "#46039f"
            ],
            [
             0.2222222222222222,
             "#7201a8"
            ],
            [
             0.3333333333333333,
             "#9c179e"
            ],
            [
             0.4444444444444444,
             "#bd3786"
            ],
            [
             0.5555555555555556,
             "#d8576b"
            ],
            [
             0.6666666666666666,
             "#ed7953"
            ],
            [
             0.7777777777777778,
             "#fb9f3a"
            ],
            [
             0.8888888888888888,
             "#fdca26"
            ],
            [
             1,
             "#f0f921"
            ]
           ]
          },
          "colorway": [
           "#636efa",
           "#EF553B",
           "#00cc96",
           "#ab63fa",
           "#FFA15A",
           "#19d3f3",
           "#FF6692",
           "#B6E880",
           "#FF97FF",
           "#FECB52"
          ],
          "font": {
           "color": "#2a3f5f"
          },
          "geo": {
           "bgcolor": "white",
           "lakecolor": "white",
           "landcolor": "#E5ECF6",
           "showlakes": true,
           "showland": true,
           "subunitcolor": "white"
          },
          "hoverlabel": {
           "align": "left"
          },
          "hovermode": "closest",
          "mapbox": {
           "style": "light"
          },
          "paper_bgcolor": "white",
          "plot_bgcolor": "#E5ECF6",
          "polar": {
           "angularaxis": {
            "gridcolor": "white",
            "linecolor": "white",
            "ticks": ""
           },
           "bgcolor": "#E5ECF6",
           "radialaxis": {
            "gridcolor": "white",
            "linecolor": "white",
            "ticks": ""
           }
          },
          "scene": {
           "xaxis": {
            "backgroundcolor": "#E5ECF6",
            "gridcolor": "white",
            "gridwidth": 2,
            "linecolor": "white",
            "showbackground": true,
            "ticks": "",
            "zerolinecolor": "white"
           },
           "yaxis": {
            "backgroundcolor": "#E5ECF6",
            "gridcolor": "white",
            "gridwidth": 2,
            "linecolor": "white",
            "showbackground": true,
            "ticks": "",
            "zerolinecolor": "white"
           },
           "zaxis": {
            "backgroundcolor": "#E5ECF6",
            "gridcolor": "white",
            "gridwidth": 2,
            "linecolor": "white",
            "showbackground": true,
            "ticks": "",
            "zerolinecolor": "white"
           }
          },
          "shapedefaults": {
           "line": {
            "color": "#2a3f5f"
           }
          },
          "ternary": {
           "aaxis": {
            "gridcolor": "white",
            "linecolor": "white",
            "ticks": ""
           },
           "baxis": {
            "gridcolor": "white",
            "linecolor": "white",
            "ticks": ""
           },
           "bgcolor": "#E5ECF6",
           "caxis": {
            "gridcolor": "white",
            "linecolor": "white",
            "ticks": ""
           }
          },
          "title": {
           "x": 0.05
          },
          "xaxis": {
           "automargin": true,
           "gridcolor": "white",
           "linecolor": "white",
           "ticks": "",
           "title": {
            "standoff": 15
           },
           "zerolinecolor": "white",
           "zerolinewidth": 2
          },
          "yaxis": {
           "automargin": true,
           "gridcolor": "white",
           "linecolor": "white",
           "ticks": "",
           "title": {
            "standoff": 15
           },
           "zerolinecolor": "white",
           "zerolinewidth": 2
          }
         }
        },
        "xaxis": {
         "anchor": "y2",
         "domain": [
          0,
          1
         ],
         "zeroline": false
        },
        "yaxis": {
         "anchor": "free",
         "domain": [
          0.35,
          1
         ],
         "position": 0
        },
        "yaxis2": {
         "anchor": "x",
         "domain": [
          0,
          0.25
         ],
         "dtick": 1,
         "showticklabels": false
        }
       }
      },
      "text/html": [
       "<div>                            <div id=\"4acfed06-fc26-4506-b0b0-d7c07f44eb59\" class=\"plotly-graph-div\" style=\"height:525px; width:100%;\"></div>            <script type=\"text/javascript\">                require([\"plotly\"], function(Plotly) {                    window.PLOTLYENV=window.PLOTLYENV || {};                                    if (document.getElementById(\"4acfed06-fc26-4506-b0b0-d7c07f44eb59\")) {                    Plotly.newPlot(                        \"4acfed06-fc26-4506-b0b0-d7c07f44eb59\",                        [{\"autobinx\":false,\"histnorm\":\"probability density\",\"legendgroup\":\"total\",\"marker\":{\"color\":\"rgb(31, 119, 180)\"},\"name\":\"total\",\"opacity\":0.7,\"type\":\"histogram\",\"x\":[18.8,18.1,18.6,22.4,12.0,13.6,10.8,16.2,5.9,17.9,15.6,17.5,15.3,12.8,14.5,15.7,17.8,21.4,20.5,15.1,12.5,8.2,14.1,9.6,17.6,16.1,21.4,14.9,14.7,11.6,11.2,18.4,12.3,16.8,23.9,14.1,19.9,12.8,18.2,11.1,23.9,19.4,19.5,19.4,11.3,13.6,12.7,10.6,23.8,13.8,17.4],\"xaxis\":\"x\",\"xbins\":{\"end\":23.9,\"size\":1.0,\"start\":5.9},\"yaxis\":\"y\"},{\"legendgroup\":\"total\",\"marker\":{\"color\":\"rgb(31, 119, 180)\"},\"mode\":\"lines\",\"name\":\"total\",\"showlegend\":false,\"type\":\"scatter\",\"x\":[5.9,5.936,5.972,6.008,6.0440000000000005,6.08,6.1160000000000005,6.152,6.188000000000001,6.224,6.260000000000001,6.296,6.332000000000001,6.368,6.404,6.44,6.476,6.5120000000000005,6.548,6.5840000000000005,6.62,6.656000000000001,6.692,6.728000000000001,6.764,6.800000000000001,6.836,6.872,6.908,6.944000000000001,6.98,7.016,7.0520000000000005,7.088,7.1240000000000006,7.16,7.196000000000001,7.232,7.268000000000001,7.304,7.34,7.376,7.412000000000001,7.448,7.484,7.5200000000000005,7.556,7.5920000000000005,7.628,7.664000000000001,7.7,7.736000000000001,7.772,7.808,7.844,7.880000000000001,7.916,7.952,7.988,8.024000000000001,8.06,8.096,8.132000000000001,8.168,8.204,8.24,8.276,8.312000000000001,8.348,8.384,8.42,8.456,8.492,8.528,8.564,8.600000000000001,8.636000000000001,8.672,8.708,8.744,8.780000000000001,8.816,8.852,8.888,8.924,8.96,8.996,9.032,9.068000000000001,9.104000000000001,9.14,9.176,9.212,9.248000000000001,9.284,9.32,9.356,9.392,9.428,9.464,9.5,9.536000000000001,9.572000000000001,9.608,9.644,9.68,9.716000000000001,9.752,9.788,9.824,9.86,9.896,9.932,9.968,10.004000000000001,10.04,10.076,10.112,10.148,10.184000000000001,10.22,10.256,10.292000000000002,10.328,10.364,10.4,10.436,10.472000000000001,10.508,10.544,10.58,10.616,10.652000000000001,10.688,10.724,10.760000000000002,10.796,10.832,10.868,10.904,10.940000000000001,10.975999999999999,11.012,11.048,11.084,11.120000000000001,11.156,11.192,11.228000000000002,11.264,11.3,11.336,11.372,11.408000000000001,11.443999999999999,11.48,11.516,11.552,11.588000000000001,11.624,11.66,11.696000000000002,11.732,11.768,11.804,11.84,11.876000000000001,11.911999999999999,11.948,11.984,12.02,12.056000000000001,12.092,12.128,12.164000000000001,12.2,12.236,12.272,12.308,12.344000000000001,12.38,12.416,12.452,12.488,12.524000000000001,12.56,12.596,12.632000000000001,12.668,12.704,12.74,12.776,12.812000000000001,12.848,12.884,12.92,12.956,12.992,13.028,13.064,13.100000000000001,13.136,13.172,13.208,13.244,13.280000000000001,13.316,13.352,13.388000000000002,13.424,13.46,13.496,13.532,13.568000000000001,13.604,13.64,13.676,13.712,13.748000000000001,13.784,13.82,13.856000000000002,13.892,13.928,13.964,14.0,14.036,14.072000000000001,14.108,14.144,14.18,14.216000000000001,14.252,14.288,14.324,14.360000000000001,14.396,14.432,14.468,14.504,14.540000000000001,14.576,14.612,14.648,14.684000000000001,14.72,14.756,14.792,14.828000000000001,14.864,14.9,14.936,14.972,15.008000000000001,15.044,15.08,15.116,15.152000000000001,15.188,15.224,15.26,15.296000000000001,15.332,15.368,15.404,15.44,15.476,15.512,15.548,15.584,15.620000000000001,15.656,15.692,15.728,15.764000000000001,15.8,15.836,15.872,15.908,15.944,15.98,16.016,16.052,16.088,16.124000000000002,16.16,16.195999999999998,16.232,16.268,16.304000000000002,16.34,16.376,16.412,16.448,16.484,16.52,16.556,16.592,16.628,16.664,16.700000000000003,16.736,16.772,16.808,16.844,16.880000000000003,16.916,16.951999999999998,16.988,17.024,17.060000000000002,17.096,17.131999999999998,17.168,17.204,17.240000000000002,17.276,17.312,17.348,17.384,17.42,17.456,17.492,17.528,17.564,17.6,17.636000000000003,17.672,17.708,17.744,17.78,17.816000000000003,17.852,17.887999999999998,17.924,17.96,17.996000000000002,18.032,18.067999999999998,18.104,18.14,18.176000000000002,18.212,18.248,18.284,18.32,18.356,18.392000000000003,18.428,18.464,18.5,18.536,18.572000000000003,18.608,18.644,18.68,18.716,18.752000000000002,18.788,18.823999999999998,18.86,18.896,18.932000000000002,18.968,19.003999999999998,19.04,19.076,19.112000000000002,19.148,19.184,19.22,19.256,19.292,19.328000000000003,19.364,19.4,19.436,19.472,19.508000000000003,19.544,19.58,19.616,19.652,19.688000000000002,19.724,19.759999999999998,19.796,19.832,19.868000000000002,19.904,19.939999999999998,19.976,20.012,20.048000000000002,20.084,20.12,20.156,20.192,20.228,20.264000000000003,20.3,20.336,20.372,20.408,20.444000000000003,20.48,20.516,20.552,20.588,20.624000000000002,20.66,20.695999999999998,20.732,20.768,20.804000000000002,20.84,20.876,20.912,20.948,20.984,21.02,21.056,21.092,21.128,21.164,21.200000000000003,21.236,21.272,21.308,21.344,21.380000000000003,21.416,21.451999999999998,21.488,21.524,21.560000000000002,21.596,21.631999999999998,21.668,21.704,21.740000000000002,21.776,21.812,21.848,21.884,21.92,21.956000000000003,21.991999999999997,22.028,22.064,22.1,22.136000000000003,22.171999999999997,22.208,22.244,22.28,22.316000000000003,22.352000000000004,22.387999999999998,22.424,22.46,22.496000000000002,22.532000000000004,22.567999999999998,22.604,22.64,22.676000000000002,22.712000000000003,22.747999999999998,22.784,22.82,22.856,22.892000000000003,22.927999999999997,22.964,23.0,23.036,23.072000000000003,23.107999999999997,23.144,23.18,23.216,23.252000000000002,23.288000000000004,23.323999999999998,23.36,23.396,23.432000000000002,23.468000000000004,23.503999999999998,23.54,23.576,23.612000000000002,23.648000000000003,23.683999999999997,23.72,23.756,23.792,23.828000000000003,23.863999999999997],\"xaxis\":\"x\",\"y\":[0.0073882262040503525,0.007492359017058086,0.0075976224898012985,0.007704064049891381,0.0078117330932222315,0.007920680972844932,0.008030960984465369,0.008142628348535803,0.008255740188916423,0.008370355508087455,0.008486535158897348,0.00860434181283726,0.008723839924836706,0.008845095694580316,0.00896817702434983,0.009093153473400721,0.009220096208886964,0.009349077953352606,0.009480172928813016,0.00961345679745348,0.009749006598977233,0.009886900684639878,0.010027218648011033,0.010170041252509237,0.010315450355760081,0.010463528830832323,0.010614360484410886,0.010768029971970391,0.010924622710017042,0.01108422478547112,0.01124692286226697,0.011412804085251506,0.011581955981466791,0.011754466358906755,0.011930423202842452,0.012109914569814561,0.012293028479396667,0.012479852803836906,0.01267047515569031,0.012864982773558421,0.013063462406057512,0.013266000194141016,0.013472681551906222,0.01368359104601998,0.013898812273902472,0.014118427740812442,0.0143425187359819,0.014571165207952567,0.014804445639270683,0.015042436920700928,0.01528521422512462,0.01553285088129129,0.015785418247596605,0.01604298558606389,0.016305619936709818,0.016573385992478446,0.01684634597493162,0.01712455951088646,0.017408083510193833,0.017696972044854698,0.017991276229673326,0.018291044104649143,0.018596320519310174,0.01890714701919367,0.019223561734679817,0.01954559927238601,0.01987329060932938,0.02020666299006569,0.020545739827012122,0.02089054060416085,0.021241080784389604,0.02159737172057252,0.021959420570694287,0.022327230217165688,0.02270079919053785,0.02308012159780653,0.023465187055495048,0.023855980627699395,0.024252482769272377,0.02465466927432009,0.025062511230174774,0.02547597497700338,0.02589502207320182,0.026319609266717656,0.026749688472434512,0.02718520675574297,0.027626106322411633,0.028072324514863373,0.02852379381494898,0.028980441853300235,0.029442191425332973,0.029908960513956546,0.030380662319035967,0.03085720529363749,0.03133849318707701,0.03182442509477548,0.032314895514912026,0.032809794411851986,0.03330900728631071,0.033812415252201654,0.03431989512010082,0.0348313194872457,0.03534655683397144,0.035865471626473196,0.03638792442576738,0.0369137720027113,0.03744286745892568,0.03797506035344985,0.03851019683494684,0.03904811977925991,0.03958866893211128,0.04013168105671856,0.04067699008609377,0.041224427279777265,0.04177382138474767,0.04232499880023764,0.04287778374617726,0.04343199843497414,0.04398746324633433,0.04454399690481768,0.04510141665981493,0.04565953846762877,0.04621817717533316,0.046777146706083655,0.04733626024554595,0.04789533042910679,0.04845416952953284,0.049012589644737314,0.04957040288531942,0.050127421561539154,0.050683458369394224,0.05123832657546752,0.051791840200219534,0.05234381419940202,0.052894064643279316,0.05344240889334639,0.05398866577624325,0.05453265575457342,0.05507420109434224,0.055613126028743444,0.056149256918031396,0.05668242240522918,0.05721245356743572,0.057739184062506506,0.058262450270898956,0.0587820914324847,0.059297949778148895,0.05980987065600954,0.060317702652107286,0.06082129770543058,0.06132051121715915,0.061815202154023745,0.06230523314569747,0.06279047057615103,0.06327078466892003,0.06374604956625128,0.06421614340210817,0.06468094836903648,0.06514035077890336,0.06559424111754221,0.06604251409334923,0.0664850686798943,0.06692180815262191,0.0673526401197351,0.06777747654736468,0.06819623377914401,0.06860883255031816,0.06901519799652936,0.06941525965743296,0.06980895147530551,0.07019621178881826,0.07057698332215612,0.07095121316967147,0.07131885277626678,0.07167985791370704,0.07203418865306778,0.07238180933352678,0.07272268852771219,0.07305679900382032,0.07338411768471739,0.07370462560423907,0.07401830786090183,0.07432515356923526,0.07462515580894462,0.07491831157210571,0.07520462170859253,0.07548409086992836,0.07575672745174868,0.07602254353505276,0.07628155482641588,0.07653378059732253,0.0767792436227731,0.07701797011930588,0.07724998968256419,0.07747533522452942,0.07769404291052653,0.07790615209609794,0.07811170526382885,0.0783107479601937,0.07850332873248142,0.07868949906584306,0.07886931332049252,0.07904282866907866,0.07921010503423224,0.07937120502628008,0.0795261938811042,0.07967513939811344,0.07981811187827983,0.0799551840621838,0.08008643106799744,0.08021193032932808,0.08033176153283006,0.0804460065554874,0.08055474940145792,0.08065807613836323,0.08075607483290144,0.08084883548565241,0.08093644996494175,0.08101901193962217,0.08109661681063204,0.08116936164118284,0.08123734508543105,0.08130066731548638,0.0813594299466098,0.08141373596045771,0.08146368962622945,0.08150939641958185,0.08155096293917723,0.08158849682073929,0.08162210664849859,0.08165190186391512,0.08167799267157923,0.08170048994219868,0.08171950511259318,0.08173515008262934,0.08174753710904249,0.08175677869610552,0.08176298748312094,0.08176627612872583,0.08176675719201851,0.08176454301053009,0.08175974557508318,0.08175247640159805,0.08174284639992306,0.08173096573978798,0.0817169437139949,0.08170088859898211,0.08168290751291545,0.08166310627148007,0.08164158924156585,0.08161845919305713,0.08159381714895828,0.08156776223410195,0.08154039152270784,0.08151179988507531,0.08148207983370943,0.0814513213691988,0.08141961182617466,0.08138703571969942,0.08135367459244243,0.08131960686301623,0.08128490767585525,0.0812496487530315,0.08121389824840786,0.08117772060454076,0.08114117641274644,0.08110432227675295,0.08106721068036096,0.08102988985954142,0.08099240367939492,0.08095479151639898,0.08091708814636621,0.08087932363853131,0.08084152325617946,0.0808037073642212,0.08076589134411002,0.08072808551648622,0.08069029507192185,0.0806525200101236,0.08061475508793897,0.08057698977648993,0.08053920822774457,0.08050138925081345,0.0804635062982381,0.08042552746251719,0.08038741548309035,0.08034912776397626,0.08031061640223566,0.08027182822740168,0.08023270485199402,0.08019318273320264,0.080153193245799,0.08011266276630162,0.08007151276839321,0.08002965992955384,0.07998701624884533,0.07994348917574894,0.07989898174992713,0.0798533927517485,0.07980661686338375,0.07975854484024826,0.07970906369253634,0.07965805687656224,0.07960540449559105,0.07955098350981571,0.07949466795510535,0.0794363291701244,0.07937583603139338,0.07931305519583824,0.079247851350349,0.07918008746784655,0.07910962506933353,0.07903632449138454,0.07896004515851368,0.0788806458598377,0.07879798502943784,0.07871192102981094,0.07862231243778554,0.07852901833227016,0.07843189858319052,0.07833081414096703,0.07822562732587805,0.07811620211665109,0.07800240443762399,0.07788410244381735,0.07776116680326443,0.07763347097594574,0.07750089148868669,0.07736330820538037,0.07722060459191157,0.07707266797516708,0.07691938979553403,0.07676066585230018,0.07659639654139147,0.07642648708489555,0.07625084775184655,0.07606939406976213,0.07588204702645135,0.07568873326163436,0.0754893852479407,0.07528394146088113,0.07507234653741346,0.07485455142275463,0.07463051350511785,0.07440019673808775,0.07416357175037228,0.07392061594270896,0.0736713135717274,0.07341565582060901,0.07315364085641259,0.07288527387397109,0.07261056712629506,0.07232953994145178,0.07204221872592255,0.07174863695447195,0.07144883514659492,0.07114286082963937,0.07083076848873299,0.07051261950367271,0.070188482072965,0.06985843112523508,0.06952254821824873,0.06918092142581951,0.06883364521289868,0.06848082029917095,0.068122553511502,0.06775895762560662,0.06739015119732754,0.06701625838393498,0.06663740875587532,0.06625373709941537,0.06586538321064278,0.06547249168130045,0.06507521167694312,0.06467369670791703,0.06426810439367507,0.06385859622094577,0.06344533729628488,0.06302849609354137,0.06260824419677688,0.06218475603917832,0.061758208638507305,0.06132878132962851,0.06089665549465989,0.0604620142912841,0.06002504237975814,0.059585925649153056,0.059144850943350605,0.05870200578731506,0.058257578114153115,0.057811755993463505,0.05736472736147027,0.05691667975342065,0.05646780003871898,0.05601827415925414,0.05556828687136642,0.055118021491884286,0.054667659648648365,0.054217381035925195,0.05376736317509607,0.053317781180992924,0.052868807534234896,0.05242061185990415,0.05197336071288096,0.05152721737014264,0.051082341630312764,0.0506388896207291,0.050197013612282945,0.049756861842262926,0.04931857834542024,0.04888230279345357,0.048448170343095814,0.04801631149296619,0.04758685194933476,0.04715991250092866,0.04673560890289325,0.04631405177000424,0.04589534647921057,0.04547959308157098,0.045066886223633223,0.04465731507828663,0.0442509632851049,0.043847908900181976,0.04344822435544614,0.04305197642742695,0.04265922621543153,0.04227002912907669,0.04188443488510774,0.04150248751342195,0.041124225372203484,0.04074968117206175,0.040378882009055636,0.040011849406472025,0.03964859936521757,0.03928914242267019,0.03893348371982643,0.03858162307657031,0.03823355507487919,0.037889269149772316,0.03754874968779745,0.037211976132842356,0.036878923099048985,0.036549560490598466,0.03622385362812749,0.035901763381527875,0.035583246308873884,0.03526825480121282,0.03495673723294879,0.03464863811754086,0.034343898268231816,0.034042454963514705,0.03374424211704099,0.03344919045166625,0.03315722767732466,0.032868278672418184,0.03258226566840132,0.03229910843723824,0.03201872448140424,0.031741029226100816,0.031465936213348915,0.031193357297624034,0.030923202842691608,0.030655381919302085,0.03038980250340162,0.03012637167451334,0.029864995813945572,0.029605580802480203,0.029348032217198186,0.02909225552709778,0.028838156287164286,0.028585640330552227,0.028334613958542577,0.02808498412794258,0.02783665863559934,0.02758954629970248,0.027343557137558195,0.02709860253952059,0.026854595438775688,0.02661145047667887,0.02636908416335512,0.02612741503328093,0.025886363795574473,0.025645853478732317,0.025405809569560157,0.02516616014605746,0.024926836004026804,0.024687770777192045,0.02444890105062135,0.024210166467265964,0.023971509827438727,0.02373287718107097,0.02349421791260261,0.023255484818373914,0.02301663417640496,0.022777625808463965,0.022538423134342678,0.022298993218274523,0.022059306807446263,0.021819338362573854,0.021579066080528522],\"yaxis\":\"y\"},{\"legendgroup\":\"total\",\"marker\":{\"color\":\"rgb(31, 119, 180)\",\"symbol\":\"line-ns-open\"},\"mode\":\"markers\",\"name\":\"total\",\"showlegend\":false,\"type\":\"scatter\",\"x\":[18.8,18.1,18.6,22.4,12.0,13.6,10.8,16.2,5.9,17.9,15.6,17.5,15.3,12.8,14.5,15.7,17.8,21.4,20.5,15.1,12.5,8.2,14.1,9.6,17.6,16.1,21.4,14.9,14.7,11.6,11.2,18.4,12.3,16.8,23.9,14.1,19.9,12.8,18.2,11.1,23.9,19.4,19.5,19.4,11.3,13.6,12.7,10.6,23.8,13.8,17.4],\"xaxis\":\"x\",\"y\":[\"total\",\"total\",\"total\",\"total\",\"total\",\"total\",\"total\",\"total\",\"total\",\"total\",\"total\",\"total\",\"total\",\"total\",\"total\",\"total\",\"total\",\"total\",\"total\",\"total\",\"total\",\"total\",\"total\",\"total\",\"total\",\"total\",\"total\",\"total\",\"total\",\"total\",\"total\",\"total\",\"total\",\"total\",\"total\",\"total\",\"total\",\"total\",\"total\",\"total\",\"total\",\"total\",\"total\",\"total\",\"total\",\"total\",\"total\",\"total\",\"total\",\"total\",\"total\"],\"yaxis\":\"y2\"}],                        {\"barmode\":\"overlay\",\"hovermode\":\"closest\",\"legend\":{\"traceorder\":\"reversed\"},\"template\":{\"data\":{\"bar\":[{\"error_x\":{\"color\":\"#2a3f5f\"},\"error_y\":{\"color\":\"#2a3f5f\"},\"marker\":{\"line\":{\"color\":\"#E5ECF6\",\"width\":0.5},\"pattern\":{\"fillmode\":\"overlay\",\"size\":10,\"solidity\":0.2}},\"type\":\"bar\"}],\"barpolar\":[{\"marker\":{\"line\":{\"color\":\"#E5ECF6\",\"width\":0.5},\"pattern\":{\"fillmode\":\"overlay\",\"size\":10,\"solidity\":0.2}},\"type\":\"barpolar\"}],\"carpet\":[{\"aaxis\":{\"endlinecolor\":\"#2a3f5f\",\"gridcolor\":\"white\",\"linecolor\":\"white\",\"minorgridcolor\":\"white\",\"startlinecolor\":\"#2a3f5f\"},\"baxis\":{\"endlinecolor\":\"#2a3f5f\",\"gridcolor\":\"white\",\"linecolor\":\"white\",\"minorgridcolor\":\"white\",\"startlinecolor\":\"#2a3f5f\"},\"type\":\"carpet\"}],\"choropleth\":[{\"colorbar\":{\"outlinewidth\":0,\"ticks\":\"\"},\"type\":\"choropleth\"}],\"contour\":[{\"colorbar\":{\"outlinewidth\":0,\"ticks\":\"\"},\"colorscale\":[[0.0,\"#0d0887\"],[0.1111111111111111,\"#46039f\"],[0.2222222222222222,\"#7201a8\"],[0.3333333333333333,\"#9c179e\"],[0.4444444444444444,\"#bd3786\"],[0.5555555555555556,\"#d8576b\"],[0.6666666666666666,\"#ed7953\"],[0.7777777777777778,\"#fb9f3a\"],[0.8888888888888888,\"#fdca26\"],[1.0,\"#f0f921\"]],\"type\":\"contour\"}],\"contourcarpet\":[{\"colorbar\":{\"outlinewidth\":0,\"ticks\":\"\"},\"type\":\"contourcarpet\"}],\"heatmap\":[{\"colorbar\":{\"outlinewidth\":0,\"ticks\":\"\"},\"colorscale\":[[0.0,\"#0d0887\"],[0.1111111111111111,\"#46039f\"],[0.2222222222222222,\"#7201a8\"],[0.3333333333333333,\"#9c179e\"],[0.4444444444444444,\"#bd3786\"],[0.5555555555555556,\"#d8576b\"],[0.6666666666666666,\"#ed7953\"],[0.7777777777777778,\"#fb9f3a\"],[0.8888888888888888,\"#fdca26\"],[1.0,\"#f0f921\"]],\"type\":\"heatmap\"}],\"heatmapgl\":[{\"colorbar\":{\"outlinewidth\":0,\"ticks\":\"\"},\"colorscale\":[[0.0,\"#0d0887\"],[0.1111111111111111,\"#46039f\"],[0.2222222222222222,\"#7201a8\"],[0.3333333333333333,\"#9c179e\"],[0.4444444444444444,\"#bd3786\"],[0.5555555555555556,\"#d8576b\"],[0.6666666666666666,\"#ed7953\"],[0.7777777777777778,\"#fb9f3a\"],[0.8888888888888888,\"#fdca26\"],[1.0,\"#f0f921\"]],\"type\":\"heatmapgl\"}],\"histogram\":[{\"marker\":{\"pattern\":{\"fillmode\":\"overlay\",\"size\":10,\"solidity\":0.2}},\"type\":\"histogram\"}],\"histogram2d\":[{\"colorbar\":{\"outlinewidth\":0,\"ticks\":\"\"},\"colorscale\":[[0.0,\"#0d0887\"],[0.1111111111111111,\"#46039f\"],[0.2222222222222222,\"#7201a8\"],[0.3333333333333333,\"#9c179e\"],[0.4444444444444444,\"#bd3786\"],[0.5555555555555556,\"#d8576b\"],[0.6666666666666666,\"#ed7953\"],[0.7777777777777778,\"#fb9f3a\"],[0.8888888888888888,\"#fdca26\"],[1.0,\"#f0f921\"]],\"type\":\"histogram2d\"}],\"histogram2dcontour\":[{\"colorbar\":{\"outlinewidth\":0,\"ticks\":\"\"},\"colorscale\":[[0.0,\"#0d0887\"],[0.1111111111111111,\"#46039f\"],[0.2222222222222222,\"#7201a8\"],[0.3333333333333333,\"#9c179e\"],[0.4444444444444444,\"#bd3786\"],[0.5555555555555556,\"#d8576b\"],[0.6666666666666666,\"#ed7953\"],[0.7777777777777778,\"#fb9f3a\"],[0.8888888888888888,\"#fdca26\"],[1.0,\"#f0f921\"]],\"type\":\"histogram2dcontour\"}],\"mesh3d\":[{\"colorbar\":{\"outlinewidth\":0,\"ticks\":\"\"},\"type\":\"mesh3d\"}],\"parcoords\":[{\"line\":{\"colorbar\":{\"outlinewidth\":0,\"ticks\":\"\"}},\"type\":\"parcoords\"}],\"pie\":[{\"automargin\":true,\"type\":\"pie\"}],\"scatter\":[{\"marker\":{\"colorbar\":{\"outlinewidth\":0,\"ticks\":\"\"}},\"type\":\"scatter\"}],\"scatter3d\":[{\"line\":{\"colorbar\":{\"outlinewidth\":0,\"ticks\":\"\"}},\"marker\":{\"colorbar\":{\"outlinewidth\":0,\"ticks\":\"\"}},\"type\":\"scatter3d\"}],\"scattercarpet\":[{\"marker\":{\"colorbar\":{\"outlinewidth\":0,\"ticks\":\"\"}},\"type\":\"scattercarpet\"}],\"scattergeo\":[{\"marker\":{\"colorbar\":{\"outlinewidth\":0,\"ticks\":\"\"}},\"type\":\"scattergeo\"}],\"scattergl\":[{\"marker\":{\"colorbar\":{\"outlinewidth\":0,\"ticks\":\"\"}},\"type\":\"scattergl\"}],\"scattermapbox\":[{\"marker\":{\"colorbar\":{\"outlinewidth\":0,\"ticks\":\"\"}},\"type\":\"scattermapbox\"}],\"scatterpolar\":[{\"marker\":{\"colorbar\":{\"outlinewidth\":0,\"ticks\":\"\"}},\"type\":\"scatterpolar\"}],\"scatterpolargl\":[{\"marker\":{\"colorbar\":{\"outlinewidth\":0,\"ticks\":\"\"}},\"type\":\"scatterpolargl\"}],\"scatterternary\":[{\"marker\":{\"colorbar\":{\"outlinewidth\":0,\"ticks\":\"\"}},\"type\":\"scatterternary\"}],\"surface\":[{\"colorbar\":{\"outlinewidth\":0,\"ticks\":\"\"},\"colorscale\":[[0.0,\"#0d0887\"],[0.1111111111111111,\"#46039f\"],[0.2222222222222222,\"#7201a8\"],[0.3333333333333333,\"#9c179e\"],[0.4444444444444444,\"#bd3786\"],[0.5555555555555556,\"#d8576b\"],[0.6666666666666666,\"#ed7953\"],[0.7777777777777778,\"#fb9f3a\"],[0.8888888888888888,\"#fdca26\"],[1.0,\"#f0f921\"]],\"type\":\"surface\"}],\"table\":[{\"cells\":{\"fill\":{\"color\":\"#EBF0F8\"},\"line\":{\"color\":\"white\"}},\"header\":{\"fill\":{\"color\":\"#C8D4E3\"},\"line\":{\"color\":\"white\"}},\"type\":\"table\"}]},\"layout\":{\"annotationdefaults\":{\"arrowcolor\":\"#2a3f5f\",\"arrowhead\":0,\"arrowwidth\":1},\"autotypenumbers\":\"strict\",\"coloraxis\":{\"colorbar\":{\"outlinewidth\":0,\"ticks\":\"\"}},\"colorscale\":{\"diverging\":[[0,\"#8e0152\"],[0.1,\"#c51b7d\"],[0.2,\"#de77ae\"],[0.3,\"#f1b6da\"],[0.4,\"#fde0ef\"],[0.5,\"#f7f7f7\"],[0.6,\"#e6f5d0\"],[0.7,\"#b8e186\"],[0.8,\"#7fbc41\"],[0.9,\"#4d9221\"],[1,\"#276419\"]],\"sequential\":[[0.0,\"#0d0887\"],[0.1111111111111111,\"#46039f\"],[0.2222222222222222,\"#7201a8\"],[0.3333333333333333,\"#9c179e\"],[0.4444444444444444,\"#bd3786\"],[0.5555555555555556,\"#d8576b\"],[0.6666666666666666,\"#ed7953\"],[0.7777777777777778,\"#fb9f3a\"],[0.8888888888888888,\"#fdca26\"],[1.0,\"#f0f921\"]],\"sequentialminus\":[[0.0,\"#0d0887\"],[0.1111111111111111,\"#46039f\"],[0.2222222222222222,\"#7201a8\"],[0.3333333333333333,\"#9c179e\"],[0.4444444444444444,\"#bd3786\"],[0.5555555555555556,\"#d8576b\"],[0.6666666666666666,\"#ed7953\"],[0.7777777777777778,\"#fb9f3a\"],[0.8888888888888888,\"#fdca26\"],[1.0,\"#f0f921\"]]},\"colorway\":[\"#636efa\",\"#EF553B\",\"#00cc96\",\"#ab63fa\",\"#FFA15A\",\"#19d3f3\",\"#FF6692\",\"#B6E880\",\"#FF97FF\",\"#FECB52\"],\"font\":{\"color\":\"#2a3f5f\"},\"geo\":{\"bgcolor\":\"white\",\"lakecolor\":\"white\",\"landcolor\":\"#E5ECF6\",\"showlakes\":true,\"showland\":true,\"subunitcolor\":\"white\"},\"hoverlabel\":{\"align\":\"left\"},\"hovermode\":\"closest\",\"mapbox\":{\"style\":\"light\"},\"paper_bgcolor\":\"white\",\"plot_bgcolor\":\"#E5ECF6\",\"polar\":{\"angularaxis\":{\"gridcolor\":\"white\",\"linecolor\":\"white\",\"ticks\":\"\"},\"bgcolor\":\"#E5ECF6\",\"radialaxis\":{\"gridcolor\":\"white\",\"linecolor\":\"white\",\"ticks\":\"\"}},\"scene\":{\"xaxis\":{\"backgroundcolor\":\"#E5ECF6\",\"gridcolor\":\"white\",\"gridwidth\":2,\"linecolor\":\"white\",\"showbackground\":true,\"ticks\":\"\",\"zerolinecolor\":\"white\"},\"yaxis\":{\"backgroundcolor\":\"#E5ECF6\",\"gridcolor\":\"white\",\"gridwidth\":2,\"linecolor\":\"white\",\"showbackground\":true,\"ticks\":\"\",\"zerolinecolor\":\"white\"},\"zaxis\":{\"backgroundcolor\":\"#E5ECF6\",\"gridcolor\":\"white\",\"gridwidth\":2,\"linecolor\":\"white\",\"showbackground\":true,\"ticks\":\"\",\"zerolinecolor\":\"white\"}},\"shapedefaults\":{\"line\":{\"color\":\"#2a3f5f\"}},\"ternary\":{\"aaxis\":{\"gridcolor\":\"white\",\"linecolor\":\"white\",\"ticks\":\"\"},\"baxis\":{\"gridcolor\":\"white\",\"linecolor\":\"white\",\"ticks\":\"\"},\"bgcolor\":\"#E5ECF6\",\"caxis\":{\"gridcolor\":\"white\",\"linecolor\":\"white\",\"ticks\":\"\"}},\"title\":{\"x\":0.05},\"xaxis\":{\"automargin\":true,\"gridcolor\":\"white\",\"linecolor\":\"white\",\"ticks\":\"\",\"title\":{\"standoff\":15},\"zerolinecolor\":\"white\",\"zerolinewidth\":2},\"yaxis\":{\"automargin\":true,\"gridcolor\":\"white\",\"linecolor\":\"white\",\"ticks\":\"\",\"title\":{\"standoff\":15},\"zerolinecolor\":\"white\",\"zerolinewidth\":2}}},\"xaxis\":{\"anchor\":\"y2\",\"domain\":[0.0,1.0],\"zeroline\":false},\"yaxis\":{\"anchor\":\"free\",\"domain\":[0.35,1],\"position\":0.0},\"yaxis2\":{\"anchor\":\"x\",\"domain\":[0,0.25],\"dtick\":1,\"showticklabels\":false}},                        {\"responsive\": true}                    ).then(function(){\n",
       "                            \n",
       "var gd = document.getElementById('4acfed06-fc26-4506-b0b0-d7c07f44eb59');\n",
       "var x = new MutationObserver(function (mutations, observer) {{\n",
       "        var display = window.getComputedStyle(gd).display;\n",
       "        if (!display || display === 'none') {{\n",
       "            console.log([gd, 'removed!']);\n",
       "            Plotly.purge(gd);\n",
       "            observer.disconnect();\n",
       "        }}\n",
       "}});\n",
       "\n",
       "// Listen for the removal of the full notebook cells\n",
       "var notebookContainer = gd.closest('#notebook-container');\n",
       "if (notebookContainer) {{\n",
       "    x.observe(notebookContainer, {childList: true});\n",
       "}}\n",
       "\n",
       "// Listen for the clearing of the current output cell\n",
       "var outputEl = gd.closest('.output');\n",
       "if (outputEl) {{\n",
       "    x.observe(outputEl, {childList: true});\n",
       "}}\n",
       "\n",
       "                        })                };                });            </script>        </div>"
      ]
     },
     "metadata": {},
     "output_type": "display_data"
    }
   ],
   "source": [
    "import plotly.figure_factory as ff\n",
    "\n",
    "fig = ff.create_distplot([car_crashes['total']], ['total'])\n",
    "fig.show()"
   ]
  },
  {
   "cell_type": "markdown",
   "metadata": {},
   "source": [
    "Plotly is designed to render graphical figures. The rendering process uses the Plotly.js JavaScript library under the hood (although Python developers using this module very rarely need to interact with the Javascript library directly). Figures can be represented in Python either as `dicts` or as instances of the `plotly.graph_objects.Figure` class we can see below. You can read more about the specifics of how `graph_objects` work [here](https://plotly.com/python/creating-and-updating-figures/)."
   ]
  },
  {
   "cell_type": "code",
   "execution_count": 42,
   "metadata": {},
   "outputs": [
    {
     "data": {
      "text/plain": [
       "plotly.graph_objs._figure.Figure"
      ]
     },
     "execution_count": 42,
     "metadata": {},
     "output_type": "execute_result"
    }
   ],
   "source": [
    "type(fig)"
   ]
  },
  {
   "cell_type": "markdown",
   "metadata": {},
   "source": [
    "We can use the fig object to add more elements to our plot, like below."
   ]
  },
  {
   "cell_type": "code",
   "execution_count": 43,
   "metadata": {},
   "outputs": [
    {
     "data": {
      "application/vnd.plotly.v1+json": {
       "config": {
        "plotlyServerURL": "https://plot.ly"
       },
       "data": [
        {
         "autobinx": false,
         "histnorm": "probability density",
         "legendgroup": "total",
         "marker": {
          "color": "rgb(31, 119, 180)"
         },
         "name": "total",
         "opacity": 0.7,
         "type": "histogram",
         "x": [
          18.8,
          18.1,
          18.6,
          22.4,
          12,
          13.6,
          10.8,
          16.2,
          5.9,
          17.9,
          15.6,
          17.5,
          15.3,
          12.8,
          14.5,
          15.7,
          17.8,
          21.4,
          20.5,
          15.1,
          12.5,
          8.2,
          14.1,
          9.6,
          17.6,
          16.1,
          21.4,
          14.9,
          14.7,
          11.6,
          11.2,
          18.4,
          12.3,
          16.8,
          23.9,
          14.1,
          19.9,
          12.8,
          18.2,
          11.1,
          23.9,
          19.4,
          19.5,
          19.4,
          11.3,
          13.6,
          12.7,
          10.6,
          23.8,
          13.8,
          17.4
         ],
         "xaxis": "x",
         "xbins": {
          "end": 23.9,
          "size": 1,
          "start": 5.9
         },
         "yaxis": "y"
        },
        {
         "legendgroup": "total",
         "marker": {
          "color": "rgb(31, 119, 180)"
         },
         "mode": "lines",
         "name": "total",
         "showlegend": false,
         "type": "scatter",
         "x": [
          5.9,
          5.936,
          5.972,
          6.008,
          6.0440000000000005,
          6.08,
          6.1160000000000005,
          6.152,
          6.188000000000001,
          6.224,
          6.260000000000001,
          6.296,
          6.332000000000001,
          6.368,
          6.404,
          6.44,
          6.476,
          6.5120000000000005,
          6.548,
          6.5840000000000005,
          6.62,
          6.656000000000001,
          6.692,
          6.728000000000001,
          6.764,
          6.800000000000001,
          6.836,
          6.872,
          6.908,
          6.944000000000001,
          6.98,
          7.016,
          7.0520000000000005,
          7.088,
          7.1240000000000006,
          7.16,
          7.196000000000001,
          7.232,
          7.268000000000001,
          7.304,
          7.34,
          7.376,
          7.412000000000001,
          7.448,
          7.484,
          7.5200000000000005,
          7.556,
          7.5920000000000005,
          7.628,
          7.664000000000001,
          7.7,
          7.736000000000001,
          7.772,
          7.808,
          7.844,
          7.880000000000001,
          7.916,
          7.952,
          7.988,
          8.024000000000001,
          8.06,
          8.096,
          8.132000000000001,
          8.168,
          8.204,
          8.24,
          8.276,
          8.312000000000001,
          8.348,
          8.384,
          8.42,
          8.456,
          8.492,
          8.528,
          8.564,
          8.600000000000001,
          8.636000000000001,
          8.672,
          8.708,
          8.744,
          8.780000000000001,
          8.816,
          8.852,
          8.888,
          8.924,
          8.96,
          8.996,
          9.032,
          9.068000000000001,
          9.104000000000001,
          9.14,
          9.176,
          9.212,
          9.248000000000001,
          9.284,
          9.32,
          9.356,
          9.392,
          9.428,
          9.464,
          9.5,
          9.536000000000001,
          9.572000000000001,
          9.608,
          9.644,
          9.68,
          9.716000000000001,
          9.752,
          9.788,
          9.824,
          9.86,
          9.896,
          9.932,
          9.968,
          10.004000000000001,
          10.04,
          10.076,
          10.112,
          10.148,
          10.184000000000001,
          10.22,
          10.256,
          10.292000000000002,
          10.328,
          10.364,
          10.4,
          10.436,
          10.472000000000001,
          10.508,
          10.544,
          10.58,
          10.616,
          10.652000000000001,
          10.688,
          10.724,
          10.760000000000002,
          10.796,
          10.832,
          10.868,
          10.904,
          10.940000000000001,
          10.975999999999999,
          11.012,
          11.048,
          11.084,
          11.120000000000001,
          11.156,
          11.192,
          11.228000000000002,
          11.264,
          11.3,
          11.336,
          11.372,
          11.408000000000001,
          11.443999999999999,
          11.48,
          11.516,
          11.552,
          11.588000000000001,
          11.624,
          11.66,
          11.696000000000002,
          11.732,
          11.768,
          11.804,
          11.84,
          11.876000000000001,
          11.911999999999999,
          11.948,
          11.984,
          12.02,
          12.056000000000001,
          12.092,
          12.128,
          12.164000000000001,
          12.2,
          12.236,
          12.272,
          12.308,
          12.344000000000001,
          12.38,
          12.416,
          12.452,
          12.488,
          12.524000000000001,
          12.56,
          12.596,
          12.632000000000001,
          12.668,
          12.704,
          12.74,
          12.776,
          12.812000000000001,
          12.848,
          12.884,
          12.92,
          12.956,
          12.992,
          13.028,
          13.064,
          13.100000000000001,
          13.136,
          13.172,
          13.208,
          13.244,
          13.280000000000001,
          13.316,
          13.352,
          13.388000000000002,
          13.424,
          13.46,
          13.496,
          13.532,
          13.568000000000001,
          13.604,
          13.64,
          13.676,
          13.712,
          13.748000000000001,
          13.784,
          13.82,
          13.856000000000002,
          13.892,
          13.928,
          13.964,
          14,
          14.036,
          14.072000000000001,
          14.108,
          14.144,
          14.18,
          14.216000000000001,
          14.252,
          14.288,
          14.324,
          14.360000000000001,
          14.396,
          14.432,
          14.468,
          14.504,
          14.540000000000001,
          14.576,
          14.612,
          14.648,
          14.684000000000001,
          14.72,
          14.756,
          14.792,
          14.828000000000001,
          14.864,
          14.9,
          14.936,
          14.972,
          15.008000000000001,
          15.044,
          15.08,
          15.116,
          15.152000000000001,
          15.188,
          15.224,
          15.26,
          15.296000000000001,
          15.332,
          15.368,
          15.404,
          15.44,
          15.476,
          15.512,
          15.548,
          15.584,
          15.620000000000001,
          15.656,
          15.692,
          15.728,
          15.764000000000001,
          15.8,
          15.836,
          15.872,
          15.908,
          15.944,
          15.98,
          16.016,
          16.052,
          16.088,
          16.124000000000002,
          16.16,
          16.195999999999998,
          16.232,
          16.268,
          16.304000000000002,
          16.34,
          16.376,
          16.412,
          16.448,
          16.484,
          16.52,
          16.556,
          16.592,
          16.628,
          16.664,
          16.700000000000003,
          16.736,
          16.772,
          16.808,
          16.844,
          16.880000000000003,
          16.916,
          16.951999999999998,
          16.988,
          17.024,
          17.060000000000002,
          17.096,
          17.131999999999998,
          17.168,
          17.204,
          17.240000000000002,
          17.276,
          17.312,
          17.348,
          17.384,
          17.42,
          17.456,
          17.492,
          17.528,
          17.564,
          17.6,
          17.636000000000003,
          17.672,
          17.708,
          17.744,
          17.78,
          17.816000000000003,
          17.852,
          17.887999999999998,
          17.924,
          17.96,
          17.996000000000002,
          18.032,
          18.067999999999998,
          18.104,
          18.14,
          18.176000000000002,
          18.212,
          18.248,
          18.284,
          18.32,
          18.356,
          18.392000000000003,
          18.428,
          18.464,
          18.5,
          18.536,
          18.572000000000003,
          18.608,
          18.644,
          18.68,
          18.716,
          18.752000000000002,
          18.788,
          18.823999999999998,
          18.86,
          18.896,
          18.932000000000002,
          18.968,
          19.003999999999998,
          19.04,
          19.076,
          19.112000000000002,
          19.148,
          19.184,
          19.22,
          19.256,
          19.292,
          19.328000000000003,
          19.364,
          19.4,
          19.436,
          19.472,
          19.508000000000003,
          19.544,
          19.58,
          19.616,
          19.652,
          19.688000000000002,
          19.724,
          19.759999999999998,
          19.796,
          19.832,
          19.868000000000002,
          19.904,
          19.939999999999998,
          19.976,
          20.012,
          20.048000000000002,
          20.084,
          20.12,
          20.156,
          20.192,
          20.228,
          20.264000000000003,
          20.3,
          20.336,
          20.372,
          20.408,
          20.444000000000003,
          20.48,
          20.516,
          20.552,
          20.588,
          20.624000000000002,
          20.66,
          20.695999999999998,
          20.732,
          20.768,
          20.804000000000002,
          20.84,
          20.876,
          20.912,
          20.948,
          20.984,
          21.02,
          21.056,
          21.092,
          21.128,
          21.164,
          21.200000000000003,
          21.236,
          21.272,
          21.308,
          21.344,
          21.380000000000003,
          21.416,
          21.451999999999998,
          21.488,
          21.524,
          21.560000000000002,
          21.596,
          21.631999999999998,
          21.668,
          21.704,
          21.740000000000002,
          21.776,
          21.812,
          21.848,
          21.884,
          21.92,
          21.956000000000003,
          21.991999999999997,
          22.028,
          22.064,
          22.1,
          22.136000000000003,
          22.171999999999997,
          22.208,
          22.244,
          22.28,
          22.316000000000003,
          22.352000000000004,
          22.387999999999998,
          22.424,
          22.46,
          22.496000000000002,
          22.532000000000004,
          22.567999999999998,
          22.604,
          22.64,
          22.676000000000002,
          22.712000000000003,
          22.747999999999998,
          22.784,
          22.82,
          22.856,
          22.892000000000003,
          22.927999999999997,
          22.964,
          23,
          23.036,
          23.072000000000003,
          23.107999999999997,
          23.144,
          23.18,
          23.216,
          23.252000000000002,
          23.288000000000004,
          23.323999999999998,
          23.36,
          23.396,
          23.432000000000002,
          23.468000000000004,
          23.503999999999998,
          23.54,
          23.576,
          23.612000000000002,
          23.648000000000003,
          23.683999999999997,
          23.72,
          23.756,
          23.792,
          23.828000000000003,
          23.863999999999997
         ],
         "xaxis": "x",
         "y": [
          0.0073882262040503525,
          0.007492359017058086,
          0.0075976224898012985,
          0.007704064049891381,
          0.0078117330932222315,
          0.007920680972844932,
          0.008030960984465369,
          0.008142628348535803,
          0.008255740188916423,
          0.008370355508087455,
          0.008486535158897348,
          0.00860434181283726,
          0.008723839924836706,
          0.008845095694580316,
          0.00896817702434983,
          0.009093153473400721,
          0.009220096208886964,
          0.009349077953352606,
          0.009480172928813016,
          0.00961345679745348,
          0.009749006598977233,
          0.009886900684639878,
          0.010027218648011033,
          0.010170041252509237,
          0.010315450355760081,
          0.010463528830832323,
          0.010614360484410886,
          0.010768029971970391,
          0.010924622710017042,
          0.01108422478547112,
          0.01124692286226697,
          0.011412804085251506,
          0.011581955981466791,
          0.011754466358906755,
          0.011930423202842452,
          0.012109914569814561,
          0.012293028479396667,
          0.012479852803836906,
          0.01267047515569031,
          0.012864982773558421,
          0.013063462406057512,
          0.013266000194141016,
          0.013472681551906222,
          0.01368359104601998,
          0.013898812273902472,
          0.014118427740812442,
          0.0143425187359819,
          0.014571165207952567,
          0.014804445639270683,
          0.015042436920700928,
          0.01528521422512462,
          0.01553285088129129,
          0.015785418247596605,
          0.01604298558606389,
          0.016305619936709818,
          0.016573385992478446,
          0.01684634597493162,
          0.01712455951088646,
          0.017408083510193833,
          0.017696972044854698,
          0.017991276229673326,
          0.018291044104649143,
          0.018596320519310174,
          0.01890714701919367,
          0.019223561734679817,
          0.01954559927238601,
          0.01987329060932938,
          0.02020666299006569,
          0.020545739827012122,
          0.02089054060416085,
          0.021241080784389604,
          0.02159737172057252,
          0.021959420570694287,
          0.022327230217165688,
          0.02270079919053785,
          0.02308012159780653,
          0.023465187055495048,
          0.023855980627699395,
          0.024252482769272377,
          0.02465466927432009,
          0.025062511230174774,
          0.02547597497700338,
          0.02589502207320182,
          0.026319609266717656,
          0.026749688472434512,
          0.02718520675574297,
          0.027626106322411633,
          0.028072324514863373,
          0.02852379381494898,
          0.028980441853300235,
          0.029442191425332973,
          0.029908960513956546,
          0.030380662319035967,
          0.03085720529363749,
          0.03133849318707701,
          0.03182442509477548,
          0.032314895514912026,
          0.032809794411851986,
          0.03330900728631071,
          0.033812415252201654,
          0.03431989512010082,
          0.0348313194872457,
          0.03534655683397144,
          0.035865471626473196,
          0.03638792442576738,
          0.0369137720027113,
          0.03744286745892568,
          0.03797506035344985,
          0.03851019683494684,
          0.03904811977925991,
          0.03958866893211128,
          0.04013168105671856,
          0.04067699008609377,
          0.041224427279777265,
          0.04177382138474767,
          0.04232499880023764,
          0.04287778374617726,
          0.04343199843497414,
          0.04398746324633433,
          0.04454399690481768,
          0.04510141665981493,
          0.04565953846762877,
          0.04621817717533316,
          0.046777146706083655,
          0.04733626024554595,
          0.04789533042910679,
          0.04845416952953284,
          0.049012589644737314,
          0.04957040288531942,
          0.050127421561539154,
          0.050683458369394224,
          0.05123832657546752,
          0.051791840200219534,
          0.05234381419940202,
          0.052894064643279316,
          0.05344240889334639,
          0.05398866577624325,
          0.05453265575457342,
          0.05507420109434224,
          0.055613126028743444,
          0.056149256918031396,
          0.05668242240522918,
          0.05721245356743572,
          0.057739184062506506,
          0.058262450270898956,
          0.0587820914324847,
          0.059297949778148895,
          0.05980987065600954,
          0.060317702652107286,
          0.06082129770543058,
          0.06132051121715915,
          0.061815202154023745,
          0.06230523314569747,
          0.06279047057615103,
          0.06327078466892003,
          0.06374604956625128,
          0.06421614340210817,
          0.06468094836903648,
          0.06514035077890336,
          0.06559424111754221,
          0.06604251409334923,
          0.0664850686798943,
          0.06692180815262191,
          0.0673526401197351,
          0.06777747654736468,
          0.06819623377914401,
          0.06860883255031816,
          0.06901519799652936,
          0.06941525965743296,
          0.06980895147530551,
          0.07019621178881826,
          0.07057698332215612,
          0.07095121316967147,
          0.07131885277626678,
          0.07167985791370704,
          0.07203418865306778,
          0.07238180933352678,
          0.07272268852771219,
          0.07305679900382032,
          0.07338411768471739,
          0.07370462560423907,
          0.07401830786090183,
          0.07432515356923526,
          0.07462515580894462,
          0.07491831157210571,
          0.07520462170859253,
          0.07548409086992836,
          0.07575672745174868,
          0.07602254353505276,
          0.07628155482641588,
          0.07653378059732253,
          0.0767792436227731,
          0.07701797011930588,
          0.07724998968256419,
          0.07747533522452942,
          0.07769404291052653,
          0.07790615209609794,
          0.07811170526382885,
          0.0783107479601937,
          0.07850332873248142,
          0.07868949906584306,
          0.07886931332049252,
          0.07904282866907866,
          0.07921010503423224,
          0.07937120502628008,
          0.0795261938811042,
          0.07967513939811344,
          0.07981811187827983,
          0.0799551840621838,
          0.08008643106799744,
          0.08021193032932808,
          0.08033176153283006,
          0.0804460065554874,
          0.08055474940145792,
          0.08065807613836323,
          0.08075607483290144,
          0.08084883548565241,
          0.08093644996494175,
          0.08101901193962217,
          0.08109661681063204,
          0.08116936164118284,
          0.08123734508543105,
          0.08130066731548638,
          0.0813594299466098,
          0.08141373596045771,
          0.08146368962622945,
          0.08150939641958185,
          0.08155096293917723,
          0.08158849682073929,
          0.08162210664849859,
          0.08165190186391512,
          0.08167799267157923,
          0.08170048994219868,
          0.08171950511259318,
          0.08173515008262934,
          0.08174753710904249,
          0.08175677869610552,
          0.08176298748312094,
          0.08176627612872583,
          0.08176675719201851,
          0.08176454301053009,
          0.08175974557508318,
          0.08175247640159805,
          0.08174284639992306,
          0.08173096573978798,
          0.0817169437139949,
          0.08170088859898211,
          0.08168290751291545,
          0.08166310627148007,
          0.08164158924156585,
          0.08161845919305713,
          0.08159381714895828,
          0.08156776223410195,
          0.08154039152270784,
          0.08151179988507531,
          0.08148207983370943,
          0.0814513213691988,
          0.08141961182617466,
          0.08138703571969942,
          0.08135367459244243,
          0.08131960686301623,
          0.08128490767585525,
          0.0812496487530315,
          0.08121389824840786,
          0.08117772060454076,
          0.08114117641274644,
          0.08110432227675295,
          0.08106721068036096,
          0.08102988985954142,
          0.08099240367939492,
          0.08095479151639898,
          0.08091708814636621,
          0.08087932363853131,
          0.08084152325617946,
          0.0808037073642212,
          0.08076589134411002,
          0.08072808551648622,
          0.08069029507192185,
          0.0806525200101236,
          0.08061475508793897,
          0.08057698977648993,
          0.08053920822774457,
          0.08050138925081345,
          0.0804635062982381,
          0.08042552746251719,
          0.08038741548309035,
          0.08034912776397626,
          0.08031061640223566,
          0.08027182822740168,
          0.08023270485199402,
          0.08019318273320264,
          0.080153193245799,
          0.08011266276630162,
          0.08007151276839321,
          0.08002965992955384,
          0.07998701624884533,
          0.07994348917574894,
          0.07989898174992713,
          0.0798533927517485,
          0.07980661686338375,
          0.07975854484024826,
          0.07970906369253634,
          0.07965805687656224,
          0.07960540449559105,
          0.07955098350981571,
          0.07949466795510535,
          0.0794363291701244,
          0.07937583603139338,
          0.07931305519583824,
          0.079247851350349,
          0.07918008746784655,
          0.07910962506933353,
          0.07903632449138454,
          0.07896004515851368,
          0.0788806458598377,
          0.07879798502943784,
          0.07871192102981094,
          0.07862231243778554,
          0.07852901833227016,
          0.07843189858319052,
          0.07833081414096703,
          0.07822562732587805,
          0.07811620211665109,
          0.07800240443762399,
          0.07788410244381735,
          0.07776116680326443,
          0.07763347097594574,
          0.07750089148868669,
          0.07736330820538037,
          0.07722060459191157,
          0.07707266797516708,
          0.07691938979553403,
          0.07676066585230018,
          0.07659639654139147,
          0.07642648708489555,
          0.07625084775184655,
          0.07606939406976213,
          0.07588204702645135,
          0.07568873326163436,
          0.0754893852479407,
          0.07528394146088113,
          0.07507234653741346,
          0.07485455142275463,
          0.07463051350511785,
          0.07440019673808775,
          0.07416357175037228,
          0.07392061594270896,
          0.0736713135717274,
          0.07341565582060901,
          0.07315364085641259,
          0.07288527387397109,
          0.07261056712629506,
          0.07232953994145178,
          0.07204221872592255,
          0.07174863695447195,
          0.07144883514659492,
          0.07114286082963937,
          0.07083076848873299,
          0.07051261950367271,
          0.070188482072965,
          0.06985843112523508,
          0.06952254821824873,
          0.06918092142581951,
          0.06883364521289868,
          0.06848082029917095,
          0.068122553511502,
          0.06775895762560662,
          0.06739015119732754,
          0.06701625838393498,
          0.06663740875587532,
          0.06625373709941537,
          0.06586538321064278,
          0.06547249168130045,
          0.06507521167694312,
          0.06467369670791703,
          0.06426810439367507,
          0.06385859622094577,
          0.06344533729628488,
          0.06302849609354137,
          0.06260824419677688,
          0.06218475603917832,
          0.061758208638507305,
          0.06132878132962851,
          0.06089665549465989,
          0.0604620142912841,
          0.06002504237975814,
          0.059585925649153056,
          0.059144850943350605,
          0.05870200578731506,
          0.058257578114153115,
          0.057811755993463505,
          0.05736472736147027,
          0.05691667975342065,
          0.05646780003871898,
          0.05601827415925414,
          0.05556828687136642,
          0.055118021491884286,
          0.054667659648648365,
          0.054217381035925195,
          0.05376736317509607,
          0.053317781180992924,
          0.052868807534234896,
          0.05242061185990415,
          0.05197336071288096,
          0.05152721737014264,
          0.051082341630312764,
          0.0506388896207291,
          0.050197013612282945,
          0.049756861842262926,
          0.04931857834542024,
          0.04888230279345357,
          0.048448170343095814,
          0.04801631149296619,
          0.04758685194933476,
          0.04715991250092866,
          0.04673560890289325,
          0.04631405177000424,
          0.04589534647921057,
          0.04547959308157098,
          0.045066886223633223,
          0.04465731507828663,
          0.0442509632851049,
          0.043847908900181976,
          0.04344822435544614,
          0.04305197642742695,
          0.04265922621543153,
          0.04227002912907669,
          0.04188443488510774,
          0.04150248751342195,
          0.041124225372203484,
          0.04074968117206175,
          0.040378882009055636,
          0.040011849406472025,
          0.03964859936521757,
          0.03928914242267019,
          0.03893348371982643,
          0.03858162307657031,
          0.03823355507487919,
          0.037889269149772316,
          0.03754874968779745,
          0.037211976132842356,
          0.036878923099048985,
          0.036549560490598466,
          0.03622385362812749,
          0.035901763381527875,
          0.035583246308873884,
          0.03526825480121282,
          0.03495673723294879,
          0.03464863811754086,
          0.034343898268231816,
          0.034042454963514705,
          0.03374424211704099,
          0.03344919045166625,
          0.03315722767732466,
          0.032868278672418184,
          0.03258226566840132,
          0.03229910843723824,
          0.03201872448140424,
          0.031741029226100816,
          0.031465936213348915,
          0.031193357297624034,
          0.030923202842691608,
          0.030655381919302085,
          0.03038980250340162,
          0.03012637167451334,
          0.029864995813945572,
          0.029605580802480203,
          0.029348032217198186,
          0.02909225552709778,
          0.028838156287164286,
          0.028585640330552227,
          0.028334613958542577,
          0.02808498412794258,
          0.02783665863559934,
          0.02758954629970248,
          0.027343557137558195,
          0.02709860253952059,
          0.026854595438775688,
          0.02661145047667887,
          0.02636908416335512,
          0.02612741503328093,
          0.025886363795574473,
          0.025645853478732317,
          0.025405809569560157,
          0.02516616014605746,
          0.024926836004026804,
          0.024687770777192045,
          0.02444890105062135,
          0.024210166467265964,
          0.023971509827438727,
          0.02373287718107097,
          0.02349421791260261,
          0.023255484818373914,
          0.02301663417640496,
          0.022777625808463965,
          0.022538423134342678,
          0.022298993218274523,
          0.022059306807446263,
          0.021819338362573854,
          0.021579066080528522
         ],
         "yaxis": "y"
        },
        {
         "legendgroup": "total",
         "marker": {
          "color": "rgb(31, 119, 180)",
          "symbol": "line-ns-open"
         },
         "mode": "markers",
         "name": "total",
         "showlegend": false,
         "type": "scatter",
         "x": [
          18.8,
          18.1,
          18.6,
          22.4,
          12,
          13.6,
          10.8,
          16.2,
          5.9,
          17.9,
          15.6,
          17.5,
          15.3,
          12.8,
          14.5,
          15.7,
          17.8,
          21.4,
          20.5,
          15.1,
          12.5,
          8.2,
          14.1,
          9.6,
          17.6,
          16.1,
          21.4,
          14.9,
          14.7,
          11.6,
          11.2,
          18.4,
          12.3,
          16.8,
          23.9,
          14.1,
          19.9,
          12.8,
          18.2,
          11.1,
          23.9,
          19.4,
          19.5,
          19.4,
          11.3,
          13.6,
          12.7,
          10.6,
          23.8,
          13.8,
          17.4
         ],
         "xaxis": "x",
         "y": [
          "total",
          "total",
          "total",
          "total",
          "total",
          "total",
          "total",
          "total",
          "total",
          "total",
          "total",
          "total",
          "total",
          "total",
          "total",
          "total",
          "total",
          "total",
          "total",
          "total",
          "total",
          "total",
          "total",
          "total",
          "total",
          "total",
          "total",
          "total",
          "total",
          "total",
          "total",
          "total",
          "total",
          "total",
          "total",
          "total",
          "total",
          "total",
          "total",
          "total",
          "total",
          "total",
          "total",
          "total",
          "total",
          "total",
          "total",
          "total",
          "total",
          "total",
          "total"
         ],
         "yaxis": "y2"
        }
       ],
       "layout": {
        "barmode": "overlay",
        "hovermode": "closest",
        "legend": {
         "traceorder": "reversed"
        },
        "template": {
         "data": {
          "bar": [
           {
            "error_x": {
             "color": "#2a3f5f"
            },
            "error_y": {
             "color": "#2a3f5f"
            },
            "marker": {
             "line": {
              "color": "#E5ECF6",
              "width": 0.5
             },
             "pattern": {
              "fillmode": "overlay",
              "size": 10,
              "solidity": 0.2
             }
            },
            "type": "bar"
           }
          ],
          "barpolar": [
           {
            "marker": {
             "line": {
              "color": "#E5ECF6",
              "width": 0.5
             },
             "pattern": {
              "fillmode": "overlay",
              "size": 10,
              "solidity": 0.2
             }
            },
            "type": "barpolar"
           }
          ],
          "carpet": [
           {
            "aaxis": {
             "endlinecolor": "#2a3f5f",
             "gridcolor": "white",
             "linecolor": "white",
             "minorgridcolor": "white",
             "startlinecolor": "#2a3f5f"
            },
            "baxis": {
             "endlinecolor": "#2a3f5f",
             "gridcolor": "white",
             "linecolor": "white",
             "minorgridcolor": "white",
             "startlinecolor": "#2a3f5f"
            },
            "type": "carpet"
           }
          ],
          "choropleth": [
           {
            "colorbar": {
             "outlinewidth": 0,
             "ticks": ""
            },
            "type": "choropleth"
           }
          ],
          "contour": [
           {
            "colorbar": {
             "outlinewidth": 0,
             "ticks": ""
            },
            "colorscale": [
             [
              0,
              "#0d0887"
             ],
             [
              0.1111111111111111,
              "#46039f"
             ],
             [
              0.2222222222222222,
              "#7201a8"
             ],
             [
              0.3333333333333333,
              "#9c179e"
             ],
             [
              0.4444444444444444,
              "#bd3786"
             ],
             [
              0.5555555555555556,
              "#d8576b"
             ],
             [
              0.6666666666666666,
              "#ed7953"
             ],
             [
              0.7777777777777778,
              "#fb9f3a"
             ],
             [
              0.8888888888888888,
              "#fdca26"
             ],
             [
              1,
              "#f0f921"
             ]
            ],
            "type": "contour"
           }
          ],
          "contourcarpet": [
           {
            "colorbar": {
             "outlinewidth": 0,
             "ticks": ""
            },
            "type": "contourcarpet"
           }
          ],
          "heatmap": [
           {
            "colorbar": {
             "outlinewidth": 0,
             "ticks": ""
            },
            "colorscale": [
             [
              0,
              "#0d0887"
             ],
             [
              0.1111111111111111,
              "#46039f"
             ],
             [
              0.2222222222222222,
              "#7201a8"
             ],
             [
              0.3333333333333333,
              "#9c179e"
             ],
             [
              0.4444444444444444,
              "#bd3786"
             ],
             [
              0.5555555555555556,
              "#d8576b"
             ],
             [
              0.6666666666666666,
              "#ed7953"
             ],
             [
              0.7777777777777778,
              "#fb9f3a"
             ],
             [
              0.8888888888888888,
              "#fdca26"
             ],
             [
              1,
              "#f0f921"
             ]
            ],
            "type": "heatmap"
           }
          ],
          "heatmapgl": [
           {
            "colorbar": {
             "outlinewidth": 0,
             "ticks": ""
            },
            "colorscale": [
             [
              0,
              "#0d0887"
             ],
             [
              0.1111111111111111,
              "#46039f"
             ],
             [
              0.2222222222222222,
              "#7201a8"
             ],
             [
              0.3333333333333333,
              "#9c179e"
             ],
             [
              0.4444444444444444,
              "#bd3786"
             ],
             [
              0.5555555555555556,
              "#d8576b"
             ],
             [
              0.6666666666666666,
              "#ed7953"
             ],
             [
              0.7777777777777778,
              "#fb9f3a"
             ],
             [
              0.8888888888888888,
              "#fdca26"
             ],
             [
              1,
              "#f0f921"
             ]
            ],
            "type": "heatmapgl"
           }
          ],
          "histogram": [
           {
            "marker": {
             "pattern": {
              "fillmode": "overlay",
              "size": 10,
              "solidity": 0.2
             }
            },
            "type": "histogram"
           }
          ],
          "histogram2d": [
           {
            "colorbar": {
             "outlinewidth": 0,
             "ticks": ""
            },
            "colorscale": [
             [
              0,
              "#0d0887"
             ],
             [
              0.1111111111111111,
              "#46039f"
             ],
             [
              0.2222222222222222,
              "#7201a8"
             ],
             [
              0.3333333333333333,
              "#9c179e"
             ],
             [
              0.4444444444444444,
              "#bd3786"
             ],
             [
              0.5555555555555556,
              "#d8576b"
             ],
             [
              0.6666666666666666,
              "#ed7953"
             ],
             [
              0.7777777777777778,
              "#fb9f3a"
             ],
             [
              0.8888888888888888,
              "#fdca26"
             ],
             [
              1,
              "#f0f921"
             ]
            ],
            "type": "histogram2d"
           }
          ],
          "histogram2dcontour": [
           {
            "colorbar": {
             "outlinewidth": 0,
             "ticks": ""
            },
            "colorscale": [
             [
              0,
              "#0d0887"
             ],
             [
              0.1111111111111111,
              "#46039f"
             ],
             [
              0.2222222222222222,
              "#7201a8"
             ],
             [
              0.3333333333333333,
              "#9c179e"
             ],
             [
              0.4444444444444444,
              "#bd3786"
             ],
             [
              0.5555555555555556,
              "#d8576b"
             ],
             [
              0.6666666666666666,
              "#ed7953"
             ],
             [
              0.7777777777777778,
              "#fb9f3a"
             ],
             [
              0.8888888888888888,
              "#fdca26"
             ],
             [
              1,
              "#f0f921"
             ]
            ],
            "type": "histogram2dcontour"
           }
          ],
          "mesh3d": [
           {
            "colorbar": {
             "outlinewidth": 0,
             "ticks": ""
            },
            "type": "mesh3d"
           }
          ],
          "parcoords": [
           {
            "line": {
             "colorbar": {
              "outlinewidth": 0,
              "ticks": ""
             }
            },
            "type": "parcoords"
           }
          ],
          "pie": [
           {
            "automargin": true,
            "type": "pie"
           }
          ],
          "scatter": [
           {
            "marker": {
             "colorbar": {
              "outlinewidth": 0,
              "ticks": ""
             }
            },
            "type": "scatter"
           }
          ],
          "scatter3d": [
           {
            "line": {
             "colorbar": {
              "outlinewidth": 0,
              "ticks": ""
             }
            },
            "marker": {
             "colorbar": {
              "outlinewidth": 0,
              "ticks": ""
             }
            },
            "type": "scatter3d"
           }
          ],
          "scattercarpet": [
           {
            "marker": {
             "colorbar": {
              "outlinewidth": 0,
              "ticks": ""
             }
            },
            "type": "scattercarpet"
           }
          ],
          "scattergeo": [
           {
            "marker": {
             "colorbar": {
              "outlinewidth": 0,
              "ticks": ""
             }
            },
            "type": "scattergeo"
           }
          ],
          "scattergl": [
           {
            "marker": {
             "colorbar": {
              "outlinewidth": 0,
              "ticks": ""
             }
            },
            "type": "scattergl"
           }
          ],
          "scattermapbox": [
           {
            "marker": {
             "colorbar": {
              "outlinewidth": 0,
              "ticks": ""
             }
            },
            "type": "scattermapbox"
           }
          ],
          "scatterpolar": [
           {
            "marker": {
             "colorbar": {
              "outlinewidth": 0,
              "ticks": ""
             }
            },
            "type": "scatterpolar"
           }
          ],
          "scatterpolargl": [
           {
            "marker": {
             "colorbar": {
              "outlinewidth": 0,
              "ticks": ""
             }
            },
            "type": "scatterpolargl"
           }
          ],
          "scatterternary": [
           {
            "marker": {
             "colorbar": {
              "outlinewidth": 0,
              "ticks": ""
             }
            },
            "type": "scatterternary"
           }
          ],
          "surface": [
           {
            "colorbar": {
             "outlinewidth": 0,
             "ticks": ""
            },
            "colorscale": [
             [
              0,
              "#0d0887"
             ],
             [
              0.1111111111111111,
              "#46039f"
             ],
             [
              0.2222222222222222,
              "#7201a8"
             ],
             [
              0.3333333333333333,
              "#9c179e"
             ],
             [
              0.4444444444444444,
              "#bd3786"
             ],
             [
              0.5555555555555556,
              "#d8576b"
             ],
             [
              0.6666666666666666,
              "#ed7953"
             ],
             [
              0.7777777777777778,
              "#fb9f3a"
             ],
             [
              0.8888888888888888,
              "#fdca26"
             ],
             [
              1,
              "#f0f921"
             ]
            ],
            "type": "surface"
           }
          ],
          "table": [
           {
            "cells": {
             "fill": {
              "color": "#EBF0F8"
             },
             "line": {
              "color": "white"
             }
            },
            "header": {
             "fill": {
              "color": "#C8D4E3"
             },
             "line": {
              "color": "white"
             }
            },
            "type": "table"
           }
          ]
         },
         "layout": {
          "annotationdefaults": {
           "arrowcolor": "#2a3f5f",
           "arrowhead": 0,
           "arrowwidth": 1
          },
          "autotypenumbers": "strict",
          "coloraxis": {
           "colorbar": {
            "outlinewidth": 0,
            "ticks": ""
           }
          },
          "colorscale": {
           "diverging": [
            [
             0,
             "#8e0152"
            ],
            [
             0.1,
             "#c51b7d"
            ],
            [
             0.2,
             "#de77ae"
            ],
            [
             0.3,
             "#f1b6da"
            ],
            [
             0.4,
             "#fde0ef"
            ],
            [
             0.5,
             "#f7f7f7"
            ],
            [
             0.6,
             "#e6f5d0"
            ],
            [
             0.7,
             "#b8e186"
            ],
            [
             0.8,
             "#7fbc41"
            ],
            [
             0.9,
             "#4d9221"
            ],
            [
             1,
             "#276419"
            ]
           ],
           "sequential": [
            [
             0,
             "#0d0887"
            ],
            [
             0.1111111111111111,
             "#46039f"
            ],
            [
             0.2222222222222222,
             "#7201a8"
            ],
            [
             0.3333333333333333,
             "#9c179e"
            ],
            [
             0.4444444444444444,
             "#bd3786"
            ],
            [
             0.5555555555555556,
             "#d8576b"
            ],
            [
             0.6666666666666666,
             "#ed7953"
            ],
            [
             0.7777777777777778,
             "#fb9f3a"
            ],
            [
             0.8888888888888888,
             "#fdca26"
            ],
            [
             1,
             "#f0f921"
            ]
           ],
           "sequentialminus": [
            [
             0,
             "#0d0887"
            ],
            [
             0.1111111111111111,
             "#46039f"
            ],
            [
             0.2222222222222222,
             "#7201a8"
            ],
            [
             0.3333333333333333,
             "#9c179e"
            ],
            [
             0.4444444444444444,
             "#bd3786"
            ],
            [
             0.5555555555555556,
             "#d8576b"
            ],
            [
             0.6666666666666666,
             "#ed7953"
            ],
            [
             0.7777777777777778,
             "#fb9f3a"
            ],
            [
             0.8888888888888888,
             "#fdca26"
            ],
            [
             1,
             "#f0f921"
            ]
           ]
          },
          "colorway": [
           "#636efa",
           "#EF553B",
           "#00cc96",
           "#ab63fa",
           "#FFA15A",
           "#19d3f3",
           "#FF6692",
           "#B6E880",
           "#FF97FF",
           "#FECB52"
          ],
          "font": {
           "color": "#2a3f5f"
          },
          "geo": {
           "bgcolor": "white",
           "lakecolor": "white",
           "landcolor": "#E5ECF6",
           "showlakes": true,
           "showland": true,
           "subunitcolor": "white"
          },
          "hoverlabel": {
           "align": "left"
          },
          "hovermode": "closest",
          "mapbox": {
           "style": "light"
          },
          "paper_bgcolor": "white",
          "plot_bgcolor": "#E5ECF6",
          "polar": {
           "angularaxis": {
            "gridcolor": "white",
            "linecolor": "white",
            "ticks": ""
           },
           "bgcolor": "#E5ECF6",
           "radialaxis": {
            "gridcolor": "white",
            "linecolor": "white",
            "ticks": ""
           }
          },
          "scene": {
           "xaxis": {
            "backgroundcolor": "#E5ECF6",
            "gridcolor": "white",
            "gridwidth": 2,
            "linecolor": "white",
            "showbackground": true,
            "ticks": "",
            "zerolinecolor": "white"
           },
           "yaxis": {
            "backgroundcolor": "#E5ECF6",
            "gridcolor": "white",
            "gridwidth": 2,
            "linecolor": "white",
            "showbackground": true,
            "ticks": "",
            "zerolinecolor": "white"
           },
           "zaxis": {
            "backgroundcolor": "#E5ECF6",
            "gridcolor": "white",
            "gridwidth": 2,
            "linecolor": "white",
            "showbackground": true,
            "ticks": "",
            "zerolinecolor": "white"
           }
          },
          "shapedefaults": {
           "line": {
            "color": "#2a3f5f"
           }
          },
          "ternary": {
           "aaxis": {
            "gridcolor": "white",
            "linecolor": "white",
            "ticks": ""
           },
           "baxis": {
            "gridcolor": "white",
            "linecolor": "white",
            "ticks": ""
           },
           "bgcolor": "#E5ECF6",
           "caxis": {
            "gridcolor": "white",
            "linecolor": "white",
            "ticks": ""
           }
          },
          "title": {
           "x": 0.05
          },
          "xaxis": {
           "automargin": true,
           "gridcolor": "white",
           "linecolor": "white",
           "ticks": "",
           "title": {
            "standoff": 15
           },
           "zerolinecolor": "white",
           "zerolinewidth": 2
          },
          "yaxis": {
           "automargin": true,
           "gridcolor": "white",
           "linecolor": "white",
           "ticks": "",
           "title": {
            "standoff": 15
           },
           "zerolinecolor": "white",
           "zerolinewidth": 2
          }
         }
        },
        "title": {
         "text": "Distplot of Total Car Crashes"
        },
        "xaxis": {
         "anchor": "y2",
         "domain": [
          0,
          1
         ],
         "zeroline": false
        },
        "yaxis": {
         "anchor": "free",
         "domain": [
          0.35,
          1
         ],
         "position": 0
        },
        "yaxis2": {
         "anchor": "x",
         "domain": [
          0,
          0.25
         ],
         "dtick": 1,
         "showticklabels": false
        }
       }
      },
      "text/html": [
       "<div>                            <div id=\"283bb913-669d-4c3f-bf07-463a02b8a43e\" class=\"plotly-graph-div\" style=\"height:525px; width:100%;\"></div>            <script type=\"text/javascript\">                require([\"plotly\"], function(Plotly) {                    window.PLOTLYENV=window.PLOTLYENV || {};                                    if (document.getElementById(\"283bb913-669d-4c3f-bf07-463a02b8a43e\")) {                    Plotly.newPlot(                        \"283bb913-669d-4c3f-bf07-463a02b8a43e\",                        [{\"autobinx\":false,\"histnorm\":\"probability density\",\"legendgroup\":\"total\",\"marker\":{\"color\":\"rgb(31, 119, 180)\"},\"name\":\"total\",\"opacity\":0.7,\"type\":\"histogram\",\"x\":[18.8,18.1,18.6,22.4,12.0,13.6,10.8,16.2,5.9,17.9,15.6,17.5,15.3,12.8,14.5,15.7,17.8,21.4,20.5,15.1,12.5,8.2,14.1,9.6,17.6,16.1,21.4,14.9,14.7,11.6,11.2,18.4,12.3,16.8,23.9,14.1,19.9,12.8,18.2,11.1,23.9,19.4,19.5,19.4,11.3,13.6,12.7,10.6,23.8,13.8,17.4],\"xaxis\":\"x\",\"xbins\":{\"end\":23.9,\"size\":1.0,\"start\":5.9},\"yaxis\":\"y\"},{\"legendgroup\":\"total\",\"marker\":{\"color\":\"rgb(31, 119, 180)\"},\"mode\":\"lines\",\"name\":\"total\",\"showlegend\":false,\"type\":\"scatter\",\"x\":[5.9,5.936,5.972,6.008,6.0440000000000005,6.08,6.1160000000000005,6.152,6.188000000000001,6.224,6.260000000000001,6.296,6.332000000000001,6.368,6.404,6.44,6.476,6.5120000000000005,6.548,6.5840000000000005,6.62,6.656000000000001,6.692,6.728000000000001,6.764,6.800000000000001,6.836,6.872,6.908,6.944000000000001,6.98,7.016,7.0520000000000005,7.088,7.1240000000000006,7.16,7.196000000000001,7.232,7.268000000000001,7.304,7.34,7.376,7.412000000000001,7.448,7.484,7.5200000000000005,7.556,7.5920000000000005,7.628,7.664000000000001,7.7,7.736000000000001,7.772,7.808,7.844,7.880000000000001,7.916,7.952,7.988,8.024000000000001,8.06,8.096,8.132000000000001,8.168,8.204,8.24,8.276,8.312000000000001,8.348,8.384,8.42,8.456,8.492,8.528,8.564,8.600000000000001,8.636000000000001,8.672,8.708,8.744,8.780000000000001,8.816,8.852,8.888,8.924,8.96,8.996,9.032,9.068000000000001,9.104000000000001,9.14,9.176,9.212,9.248000000000001,9.284,9.32,9.356,9.392,9.428,9.464,9.5,9.536000000000001,9.572000000000001,9.608,9.644,9.68,9.716000000000001,9.752,9.788,9.824,9.86,9.896,9.932,9.968,10.004000000000001,10.04,10.076,10.112,10.148,10.184000000000001,10.22,10.256,10.292000000000002,10.328,10.364,10.4,10.436,10.472000000000001,10.508,10.544,10.58,10.616,10.652000000000001,10.688,10.724,10.760000000000002,10.796,10.832,10.868,10.904,10.940000000000001,10.975999999999999,11.012,11.048,11.084,11.120000000000001,11.156,11.192,11.228000000000002,11.264,11.3,11.336,11.372,11.408000000000001,11.443999999999999,11.48,11.516,11.552,11.588000000000001,11.624,11.66,11.696000000000002,11.732,11.768,11.804,11.84,11.876000000000001,11.911999999999999,11.948,11.984,12.02,12.056000000000001,12.092,12.128,12.164000000000001,12.2,12.236,12.272,12.308,12.344000000000001,12.38,12.416,12.452,12.488,12.524000000000001,12.56,12.596,12.632000000000001,12.668,12.704,12.74,12.776,12.812000000000001,12.848,12.884,12.92,12.956,12.992,13.028,13.064,13.100000000000001,13.136,13.172,13.208,13.244,13.280000000000001,13.316,13.352,13.388000000000002,13.424,13.46,13.496,13.532,13.568000000000001,13.604,13.64,13.676,13.712,13.748000000000001,13.784,13.82,13.856000000000002,13.892,13.928,13.964,14.0,14.036,14.072000000000001,14.108,14.144,14.18,14.216000000000001,14.252,14.288,14.324,14.360000000000001,14.396,14.432,14.468,14.504,14.540000000000001,14.576,14.612,14.648,14.684000000000001,14.72,14.756,14.792,14.828000000000001,14.864,14.9,14.936,14.972,15.008000000000001,15.044,15.08,15.116,15.152000000000001,15.188,15.224,15.26,15.296000000000001,15.332,15.368,15.404,15.44,15.476,15.512,15.548,15.584,15.620000000000001,15.656,15.692,15.728,15.764000000000001,15.8,15.836,15.872,15.908,15.944,15.98,16.016,16.052,16.088,16.124000000000002,16.16,16.195999999999998,16.232,16.268,16.304000000000002,16.34,16.376,16.412,16.448,16.484,16.52,16.556,16.592,16.628,16.664,16.700000000000003,16.736,16.772,16.808,16.844,16.880000000000003,16.916,16.951999999999998,16.988,17.024,17.060000000000002,17.096,17.131999999999998,17.168,17.204,17.240000000000002,17.276,17.312,17.348,17.384,17.42,17.456,17.492,17.528,17.564,17.6,17.636000000000003,17.672,17.708,17.744,17.78,17.816000000000003,17.852,17.887999999999998,17.924,17.96,17.996000000000002,18.032,18.067999999999998,18.104,18.14,18.176000000000002,18.212,18.248,18.284,18.32,18.356,18.392000000000003,18.428,18.464,18.5,18.536,18.572000000000003,18.608,18.644,18.68,18.716,18.752000000000002,18.788,18.823999999999998,18.86,18.896,18.932000000000002,18.968,19.003999999999998,19.04,19.076,19.112000000000002,19.148,19.184,19.22,19.256,19.292,19.328000000000003,19.364,19.4,19.436,19.472,19.508000000000003,19.544,19.58,19.616,19.652,19.688000000000002,19.724,19.759999999999998,19.796,19.832,19.868000000000002,19.904,19.939999999999998,19.976,20.012,20.048000000000002,20.084,20.12,20.156,20.192,20.228,20.264000000000003,20.3,20.336,20.372,20.408,20.444000000000003,20.48,20.516,20.552,20.588,20.624000000000002,20.66,20.695999999999998,20.732,20.768,20.804000000000002,20.84,20.876,20.912,20.948,20.984,21.02,21.056,21.092,21.128,21.164,21.200000000000003,21.236,21.272,21.308,21.344,21.380000000000003,21.416,21.451999999999998,21.488,21.524,21.560000000000002,21.596,21.631999999999998,21.668,21.704,21.740000000000002,21.776,21.812,21.848,21.884,21.92,21.956000000000003,21.991999999999997,22.028,22.064,22.1,22.136000000000003,22.171999999999997,22.208,22.244,22.28,22.316000000000003,22.352000000000004,22.387999999999998,22.424,22.46,22.496000000000002,22.532000000000004,22.567999999999998,22.604,22.64,22.676000000000002,22.712000000000003,22.747999999999998,22.784,22.82,22.856,22.892000000000003,22.927999999999997,22.964,23.0,23.036,23.072000000000003,23.107999999999997,23.144,23.18,23.216,23.252000000000002,23.288000000000004,23.323999999999998,23.36,23.396,23.432000000000002,23.468000000000004,23.503999999999998,23.54,23.576,23.612000000000002,23.648000000000003,23.683999999999997,23.72,23.756,23.792,23.828000000000003,23.863999999999997],\"xaxis\":\"x\",\"y\":[0.0073882262040503525,0.007492359017058086,0.0075976224898012985,0.007704064049891381,0.0078117330932222315,0.007920680972844932,0.008030960984465369,0.008142628348535803,0.008255740188916423,0.008370355508087455,0.008486535158897348,0.00860434181283726,0.008723839924836706,0.008845095694580316,0.00896817702434983,0.009093153473400721,0.009220096208886964,0.009349077953352606,0.009480172928813016,0.00961345679745348,0.009749006598977233,0.009886900684639878,0.010027218648011033,0.010170041252509237,0.010315450355760081,0.010463528830832323,0.010614360484410886,0.010768029971970391,0.010924622710017042,0.01108422478547112,0.01124692286226697,0.011412804085251506,0.011581955981466791,0.011754466358906755,0.011930423202842452,0.012109914569814561,0.012293028479396667,0.012479852803836906,0.01267047515569031,0.012864982773558421,0.013063462406057512,0.013266000194141016,0.013472681551906222,0.01368359104601998,0.013898812273902472,0.014118427740812442,0.0143425187359819,0.014571165207952567,0.014804445639270683,0.015042436920700928,0.01528521422512462,0.01553285088129129,0.015785418247596605,0.01604298558606389,0.016305619936709818,0.016573385992478446,0.01684634597493162,0.01712455951088646,0.017408083510193833,0.017696972044854698,0.017991276229673326,0.018291044104649143,0.018596320519310174,0.01890714701919367,0.019223561734679817,0.01954559927238601,0.01987329060932938,0.02020666299006569,0.020545739827012122,0.02089054060416085,0.021241080784389604,0.02159737172057252,0.021959420570694287,0.022327230217165688,0.02270079919053785,0.02308012159780653,0.023465187055495048,0.023855980627699395,0.024252482769272377,0.02465466927432009,0.025062511230174774,0.02547597497700338,0.02589502207320182,0.026319609266717656,0.026749688472434512,0.02718520675574297,0.027626106322411633,0.028072324514863373,0.02852379381494898,0.028980441853300235,0.029442191425332973,0.029908960513956546,0.030380662319035967,0.03085720529363749,0.03133849318707701,0.03182442509477548,0.032314895514912026,0.032809794411851986,0.03330900728631071,0.033812415252201654,0.03431989512010082,0.0348313194872457,0.03534655683397144,0.035865471626473196,0.03638792442576738,0.0369137720027113,0.03744286745892568,0.03797506035344985,0.03851019683494684,0.03904811977925991,0.03958866893211128,0.04013168105671856,0.04067699008609377,0.041224427279777265,0.04177382138474767,0.04232499880023764,0.04287778374617726,0.04343199843497414,0.04398746324633433,0.04454399690481768,0.04510141665981493,0.04565953846762877,0.04621817717533316,0.046777146706083655,0.04733626024554595,0.04789533042910679,0.04845416952953284,0.049012589644737314,0.04957040288531942,0.050127421561539154,0.050683458369394224,0.05123832657546752,0.051791840200219534,0.05234381419940202,0.052894064643279316,0.05344240889334639,0.05398866577624325,0.05453265575457342,0.05507420109434224,0.055613126028743444,0.056149256918031396,0.05668242240522918,0.05721245356743572,0.057739184062506506,0.058262450270898956,0.0587820914324847,0.059297949778148895,0.05980987065600954,0.060317702652107286,0.06082129770543058,0.06132051121715915,0.061815202154023745,0.06230523314569747,0.06279047057615103,0.06327078466892003,0.06374604956625128,0.06421614340210817,0.06468094836903648,0.06514035077890336,0.06559424111754221,0.06604251409334923,0.0664850686798943,0.06692180815262191,0.0673526401197351,0.06777747654736468,0.06819623377914401,0.06860883255031816,0.06901519799652936,0.06941525965743296,0.06980895147530551,0.07019621178881826,0.07057698332215612,0.07095121316967147,0.07131885277626678,0.07167985791370704,0.07203418865306778,0.07238180933352678,0.07272268852771219,0.07305679900382032,0.07338411768471739,0.07370462560423907,0.07401830786090183,0.07432515356923526,0.07462515580894462,0.07491831157210571,0.07520462170859253,0.07548409086992836,0.07575672745174868,0.07602254353505276,0.07628155482641588,0.07653378059732253,0.0767792436227731,0.07701797011930588,0.07724998968256419,0.07747533522452942,0.07769404291052653,0.07790615209609794,0.07811170526382885,0.0783107479601937,0.07850332873248142,0.07868949906584306,0.07886931332049252,0.07904282866907866,0.07921010503423224,0.07937120502628008,0.0795261938811042,0.07967513939811344,0.07981811187827983,0.0799551840621838,0.08008643106799744,0.08021193032932808,0.08033176153283006,0.0804460065554874,0.08055474940145792,0.08065807613836323,0.08075607483290144,0.08084883548565241,0.08093644996494175,0.08101901193962217,0.08109661681063204,0.08116936164118284,0.08123734508543105,0.08130066731548638,0.0813594299466098,0.08141373596045771,0.08146368962622945,0.08150939641958185,0.08155096293917723,0.08158849682073929,0.08162210664849859,0.08165190186391512,0.08167799267157923,0.08170048994219868,0.08171950511259318,0.08173515008262934,0.08174753710904249,0.08175677869610552,0.08176298748312094,0.08176627612872583,0.08176675719201851,0.08176454301053009,0.08175974557508318,0.08175247640159805,0.08174284639992306,0.08173096573978798,0.0817169437139949,0.08170088859898211,0.08168290751291545,0.08166310627148007,0.08164158924156585,0.08161845919305713,0.08159381714895828,0.08156776223410195,0.08154039152270784,0.08151179988507531,0.08148207983370943,0.0814513213691988,0.08141961182617466,0.08138703571969942,0.08135367459244243,0.08131960686301623,0.08128490767585525,0.0812496487530315,0.08121389824840786,0.08117772060454076,0.08114117641274644,0.08110432227675295,0.08106721068036096,0.08102988985954142,0.08099240367939492,0.08095479151639898,0.08091708814636621,0.08087932363853131,0.08084152325617946,0.0808037073642212,0.08076589134411002,0.08072808551648622,0.08069029507192185,0.0806525200101236,0.08061475508793897,0.08057698977648993,0.08053920822774457,0.08050138925081345,0.0804635062982381,0.08042552746251719,0.08038741548309035,0.08034912776397626,0.08031061640223566,0.08027182822740168,0.08023270485199402,0.08019318273320264,0.080153193245799,0.08011266276630162,0.08007151276839321,0.08002965992955384,0.07998701624884533,0.07994348917574894,0.07989898174992713,0.0798533927517485,0.07980661686338375,0.07975854484024826,0.07970906369253634,0.07965805687656224,0.07960540449559105,0.07955098350981571,0.07949466795510535,0.0794363291701244,0.07937583603139338,0.07931305519583824,0.079247851350349,0.07918008746784655,0.07910962506933353,0.07903632449138454,0.07896004515851368,0.0788806458598377,0.07879798502943784,0.07871192102981094,0.07862231243778554,0.07852901833227016,0.07843189858319052,0.07833081414096703,0.07822562732587805,0.07811620211665109,0.07800240443762399,0.07788410244381735,0.07776116680326443,0.07763347097594574,0.07750089148868669,0.07736330820538037,0.07722060459191157,0.07707266797516708,0.07691938979553403,0.07676066585230018,0.07659639654139147,0.07642648708489555,0.07625084775184655,0.07606939406976213,0.07588204702645135,0.07568873326163436,0.0754893852479407,0.07528394146088113,0.07507234653741346,0.07485455142275463,0.07463051350511785,0.07440019673808775,0.07416357175037228,0.07392061594270896,0.0736713135717274,0.07341565582060901,0.07315364085641259,0.07288527387397109,0.07261056712629506,0.07232953994145178,0.07204221872592255,0.07174863695447195,0.07144883514659492,0.07114286082963937,0.07083076848873299,0.07051261950367271,0.070188482072965,0.06985843112523508,0.06952254821824873,0.06918092142581951,0.06883364521289868,0.06848082029917095,0.068122553511502,0.06775895762560662,0.06739015119732754,0.06701625838393498,0.06663740875587532,0.06625373709941537,0.06586538321064278,0.06547249168130045,0.06507521167694312,0.06467369670791703,0.06426810439367507,0.06385859622094577,0.06344533729628488,0.06302849609354137,0.06260824419677688,0.06218475603917832,0.061758208638507305,0.06132878132962851,0.06089665549465989,0.0604620142912841,0.06002504237975814,0.059585925649153056,0.059144850943350605,0.05870200578731506,0.058257578114153115,0.057811755993463505,0.05736472736147027,0.05691667975342065,0.05646780003871898,0.05601827415925414,0.05556828687136642,0.055118021491884286,0.054667659648648365,0.054217381035925195,0.05376736317509607,0.053317781180992924,0.052868807534234896,0.05242061185990415,0.05197336071288096,0.05152721737014264,0.051082341630312764,0.0506388896207291,0.050197013612282945,0.049756861842262926,0.04931857834542024,0.04888230279345357,0.048448170343095814,0.04801631149296619,0.04758685194933476,0.04715991250092866,0.04673560890289325,0.04631405177000424,0.04589534647921057,0.04547959308157098,0.045066886223633223,0.04465731507828663,0.0442509632851049,0.043847908900181976,0.04344822435544614,0.04305197642742695,0.04265922621543153,0.04227002912907669,0.04188443488510774,0.04150248751342195,0.041124225372203484,0.04074968117206175,0.040378882009055636,0.040011849406472025,0.03964859936521757,0.03928914242267019,0.03893348371982643,0.03858162307657031,0.03823355507487919,0.037889269149772316,0.03754874968779745,0.037211976132842356,0.036878923099048985,0.036549560490598466,0.03622385362812749,0.035901763381527875,0.035583246308873884,0.03526825480121282,0.03495673723294879,0.03464863811754086,0.034343898268231816,0.034042454963514705,0.03374424211704099,0.03344919045166625,0.03315722767732466,0.032868278672418184,0.03258226566840132,0.03229910843723824,0.03201872448140424,0.031741029226100816,0.031465936213348915,0.031193357297624034,0.030923202842691608,0.030655381919302085,0.03038980250340162,0.03012637167451334,0.029864995813945572,0.029605580802480203,0.029348032217198186,0.02909225552709778,0.028838156287164286,0.028585640330552227,0.028334613958542577,0.02808498412794258,0.02783665863559934,0.02758954629970248,0.027343557137558195,0.02709860253952059,0.026854595438775688,0.02661145047667887,0.02636908416335512,0.02612741503328093,0.025886363795574473,0.025645853478732317,0.025405809569560157,0.02516616014605746,0.024926836004026804,0.024687770777192045,0.02444890105062135,0.024210166467265964,0.023971509827438727,0.02373287718107097,0.02349421791260261,0.023255484818373914,0.02301663417640496,0.022777625808463965,0.022538423134342678,0.022298993218274523,0.022059306807446263,0.021819338362573854,0.021579066080528522],\"yaxis\":\"y\"},{\"legendgroup\":\"total\",\"marker\":{\"color\":\"rgb(31, 119, 180)\",\"symbol\":\"line-ns-open\"},\"mode\":\"markers\",\"name\":\"total\",\"showlegend\":false,\"type\":\"scatter\",\"x\":[18.8,18.1,18.6,22.4,12.0,13.6,10.8,16.2,5.9,17.9,15.6,17.5,15.3,12.8,14.5,15.7,17.8,21.4,20.5,15.1,12.5,8.2,14.1,9.6,17.6,16.1,21.4,14.9,14.7,11.6,11.2,18.4,12.3,16.8,23.9,14.1,19.9,12.8,18.2,11.1,23.9,19.4,19.5,19.4,11.3,13.6,12.7,10.6,23.8,13.8,17.4],\"xaxis\":\"x\",\"y\":[\"total\",\"total\",\"total\",\"total\",\"total\",\"total\",\"total\",\"total\",\"total\",\"total\",\"total\",\"total\",\"total\",\"total\",\"total\",\"total\",\"total\",\"total\",\"total\",\"total\",\"total\",\"total\",\"total\",\"total\",\"total\",\"total\",\"total\",\"total\",\"total\",\"total\",\"total\",\"total\",\"total\",\"total\",\"total\",\"total\",\"total\",\"total\",\"total\",\"total\",\"total\",\"total\",\"total\",\"total\",\"total\",\"total\",\"total\",\"total\",\"total\",\"total\",\"total\"],\"yaxis\":\"y2\"}],                        {\"barmode\":\"overlay\",\"hovermode\":\"closest\",\"legend\":{\"traceorder\":\"reversed\"},\"template\":{\"data\":{\"bar\":[{\"error_x\":{\"color\":\"#2a3f5f\"},\"error_y\":{\"color\":\"#2a3f5f\"},\"marker\":{\"line\":{\"color\":\"#E5ECF6\",\"width\":0.5},\"pattern\":{\"fillmode\":\"overlay\",\"size\":10,\"solidity\":0.2}},\"type\":\"bar\"}],\"barpolar\":[{\"marker\":{\"line\":{\"color\":\"#E5ECF6\",\"width\":0.5},\"pattern\":{\"fillmode\":\"overlay\",\"size\":10,\"solidity\":0.2}},\"type\":\"barpolar\"}],\"carpet\":[{\"aaxis\":{\"endlinecolor\":\"#2a3f5f\",\"gridcolor\":\"white\",\"linecolor\":\"white\",\"minorgridcolor\":\"white\",\"startlinecolor\":\"#2a3f5f\"},\"baxis\":{\"endlinecolor\":\"#2a3f5f\",\"gridcolor\":\"white\",\"linecolor\":\"white\",\"minorgridcolor\":\"white\",\"startlinecolor\":\"#2a3f5f\"},\"type\":\"carpet\"}],\"choropleth\":[{\"colorbar\":{\"outlinewidth\":0,\"ticks\":\"\"},\"type\":\"choropleth\"}],\"contour\":[{\"colorbar\":{\"outlinewidth\":0,\"ticks\":\"\"},\"colorscale\":[[0.0,\"#0d0887\"],[0.1111111111111111,\"#46039f\"],[0.2222222222222222,\"#7201a8\"],[0.3333333333333333,\"#9c179e\"],[0.4444444444444444,\"#bd3786\"],[0.5555555555555556,\"#d8576b\"],[0.6666666666666666,\"#ed7953\"],[0.7777777777777778,\"#fb9f3a\"],[0.8888888888888888,\"#fdca26\"],[1.0,\"#f0f921\"]],\"type\":\"contour\"}],\"contourcarpet\":[{\"colorbar\":{\"outlinewidth\":0,\"ticks\":\"\"},\"type\":\"contourcarpet\"}],\"heatmap\":[{\"colorbar\":{\"outlinewidth\":0,\"ticks\":\"\"},\"colorscale\":[[0.0,\"#0d0887\"],[0.1111111111111111,\"#46039f\"],[0.2222222222222222,\"#7201a8\"],[0.3333333333333333,\"#9c179e\"],[0.4444444444444444,\"#bd3786\"],[0.5555555555555556,\"#d8576b\"],[0.6666666666666666,\"#ed7953\"],[0.7777777777777778,\"#fb9f3a\"],[0.8888888888888888,\"#fdca26\"],[1.0,\"#f0f921\"]],\"type\":\"heatmap\"}],\"heatmapgl\":[{\"colorbar\":{\"outlinewidth\":0,\"ticks\":\"\"},\"colorscale\":[[0.0,\"#0d0887\"],[0.1111111111111111,\"#46039f\"],[0.2222222222222222,\"#7201a8\"],[0.3333333333333333,\"#9c179e\"],[0.4444444444444444,\"#bd3786\"],[0.5555555555555556,\"#d8576b\"],[0.6666666666666666,\"#ed7953\"],[0.7777777777777778,\"#fb9f3a\"],[0.8888888888888888,\"#fdca26\"],[1.0,\"#f0f921\"]],\"type\":\"heatmapgl\"}],\"histogram\":[{\"marker\":{\"pattern\":{\"fillmode\":\"overlay\",\"size\":10,\"solidity\":0.2}},\"type\":\"histogram\"}],\"histogram2d\":[{\"colorbar\":{\"outlinewidth\":0,\"ticks\":\"\"},\"colorscale\":[[0.0,\"#0d0887\"],[0.1111111111111111,\"#46039f\"],[0.2222222222222222,\"#7201a8\"],[0.3333333333333333,\"#9c179e\"],[0.4444444444444444,\"#bd3786\"],[0.5555555555555556,\"#d8576b\"],[0.6666666666666666,\"#ed7953\"],[0.7777777777777778,\"#fb9f3a\"],[0.8888888888888888,\"#fdca26\"],[1.0,\"#f0f921\"]],\"type\":\"histogram2d\"}],\"histogram2dcontour\":[{\"colorbar\":{\"outlinewidth\":0,\"ticks\":\"\"},\"colorscale\":[[0.0,\"#0d0887\"],[0.1111111111111111,\"#46039f\"],[0.2222222222222222,\"#7201a8\"],[0.3333333333333333,\"#9c179e\"],[0.4444444444444444,\"#bd3786\"],[0.5555555555555556,\"#d8576b\"],[0.6666666666666666,\"#ed7953\"],[0.7777777777777778,\"#fb9f3a\"],[0.8888888888888888,\"#fdca26\"],[1.0,\"#f0f921\"]],\"type\":\"histogram2dcontour\"}],\"mesh3d\":[{\"colorbar\":{\"outlinewidth\":0,\"ticks\":\"\"},\"type\":\"mesh3d\"}],\"parcoords\":[{\"line\":{\"colorbar\":{\"outlinewidth\":0,\"ticks\":\"\"}},\"type\":\"parcoords\"}],\"pie\":[{\"automargin\":true,\"type\":\"pie\"}],\"scatter\":[{\"marker\":{\"colorbar\":{\"outlinewidth\":0,\"ticks\":\"\"}},\"type\":\"scatter\"}],\"scatter3d\":[{\"line\":{\"colorbar\":{\"outlinewidth\":0,\"ticks\":\"\"}},\"marker\":{\"colorbar\":{\"outlinewidth\":0,\"ticks\":\"\"}},\"type\":\"scatter3d\"}],\"scattercarpet\":[{\"marker\":{\"colorbar\":{\"outlinewidth\":0,\"ticks\":\"\"}},\"type\":\"scattercarpet\"}],\"scattergeo\":[{\"marker\":{\"colorbar\":{\"outlinewidth\":0,\"ticks\":\"\"}},\"type\":\"scattergeo\"}],\"scattergl\":[{\"marker\":{\"colorbar\":{\"outlinewidth\":0,\"ticks\":\"\"}},\"type\":\"scattergl\"}],\"scattermapbox\":[{\"marker\":{\"colorbar\":{\"outlinewidth\":0,\"ticks\":\"\"}},\"type\":\"scattermapbox\"}],\"scatterpolar\":[{\"marker\":{\"colorbar\":{\"outlinewidth\":0,\"ticks\":\"\"}},\"type\":\"scatterpolar\"}],\"scatterpolargl\":[{\"marker\":{\"colorbar\":{\"outlinewidth\":0,\"ticks\":\"\"}},\"type\":\"scatterpolargl\"}],\"scatterternary\":[{\"marker\":{\"colorbar\":{\"outlinewidth\":0,\"ticks\":\"\"}},\"type\":\"scatterternary\"}],\"surface\":[{\"colorbar\":{\"outlinewidth\":0,\"ticks\":\"\"},\"colorscale\":[[0.0,\"#0d0887\"],[0.1111111111111111,\"#46039f\"],[0.2222222222222222,\"#7201a8\"],[0.3333333333333333,\"#9c179e\"],[0.4444444444444444,\"#bd3786\"],[0.5555555555555556,\"#d8576b\"],[0.6666666666666666,\"#ed7953\"],[0.7777777777777778,\"#fb9f3a\"],[0.8888888888888888,\"#fdca26\"],[1.0,\"#f0f921\"]],\"type\":\"surface\"}],\"table\":[{\"cells\":{\"fill\":{\"color\":\"#EBF0F8\"},\"line\":{\"color\":\"white\"}},\"header\":{\"fill\":{\"color\":\"#C8D4E3\"},\"line\":{\"color\":\"white\"}},\"type\":\"table\"}]},\"layout\":{\"annotationdefaults\":{\"arrowcolor\":\"#2a3f5f\",\"arrowhead\":0,\"arrowwidth\":1},\"autotypenumbers\":\"strict\",\"coloraxis\":{\"colorbar\":{\"outlinewidth\":0,\"ticks\":\"\"}},\"colorscale\":{\"diverging\":[[0,\"#8e0152\"],[0.1,\"#c51b7d\"],[0.2,\"#de77ae\"],[0.3,\"#f1b6da\"],[0.4,\"#fde0ef\"],[0.5,\"#f7f7f7\"],[0.6,\"#e6f5d0\"],[0.7,\"#b8e186\"],[0.8,\"#7fbc41\"],[0.9,\"#4d9221\"],[1,\"#276419\"]],\"sequential\":[[0.0,\"#0d0887\"],[0.1111111111111111,\"#46039f\"],[0.2222222222222222,\"#7201a8\"],[0.3333333333333333,\"#9c179e\"],[0.4444444444444444,\"#bd3786\"],[0.5555555555555556,\"#d8576b\"],[0.6666666666666666,\"#ed7953\"],[0.7777777777777778,\"#fb9f3a\"],[0.8888888888888888,\"#fdca26\"],[1.0,\"#f0f921\"]],\"sequentialminus\":[[0.0,\"#0d0887\"],[0.1111111111111111,\"#46039f\"],[0.2222222222222222,\"#7201a8\"],[0.3333333333333333,\"#9c179e\"],[0.4444444444444444,\"#bd3786\"],[0.5555555555555556,\"#d8576b\"],[0.6666666666666666,\"#ed7953\"],[0.7777777777777778,\"#fb9f3a\"],[0.8888888888888888,\"#fdca26\"],[1.0,\"#f0f921\"]]},\"colorway\":[\"#636efa\",\"#EF553B\",\"#00cc96\",\"#ab63fa\",\"#FFA15A\",\"#19d3f3\",\"#FF6692\",\"#B6E880\",\"#FF97FF\",\"#FECB52\"],\"font\":{\"color\":\"#2a3f5f\"},\"geo\":{\"bgcolor\":\"white\",\"lakecolor\":\"white\",\"landcolor\":\"#E5ECF6\",\"showlakes\":true,\"showland\":true,\"subunitcolor\":\"white\"},\"hoverlabel\":{\"align\":\"left\"},\"hovermode\":\"closest\",\"mapbox\":{\"style\":\"light\"},\"paper_bgcolor\":\"white\",\"plot_bgcolor\":\"#E5ECF6\",\"polar\":{\"angularaxis\":{\"gridcolor\":\"white\",\"linecolor\":\"white\",\"ticks\":\"\"},\"bgcolor\":\"#E5ECF6\",\"radialaxis\":{\"gridcolor\":\"white\",\"linecolor\":\"white\",\"ticks\":\"\"}},\"scene\":{\"xaxis\":{\"backgroundcolor\":\"#E5ECF6\",\"gridcolor\":\"white\",\"gridwidth\":2,\"linecolor\":\"white\",\"showbackground\":true,\"ticks\":\"\",\"zerolinecolor\":\"white\"},\"yaxis\":{\"backgroundcolor\":\"#E5ECF6\",\"gridcolor\":\"white\",\"gridwidth\":2,\"linecolor\":\"white\",\"showbackground\":true,\"ticks\":\"\",\"zerolinecolor\":\"white\"},\"zaxis\":{\"backgroundcolor\":\"#E5ECF6\",\"gridcolor\":\"white\",\"gridwidth\":2,\"linecolor\":\"white\",\"showbackground\":true,\"ticks\":\"\",\"zerolinecolor\":\"white\"}},\"shapedefaults\":{\"line\":{\"color\":\"#2a3f5f\"}},\"ternary\":{\"aaxis\":{\"gridcolor\":\"white\",\"linecolor\":\"white\",\"ticks\":\"\"},\"baxis\":{\"gridcolor\":\"white\",\"linecolor\":\"white\",\"ticks\":\"\"},\"bgcolor\":\"#E5ECF6\",\"caxis\":{\"gridcolor\":\"white\",\"linecolor\":\"white\",\"ticks\":\"\"}},\"title\":{\"x\":0.05},\"xaxis\":{\"automargin\":true,\"gridcolor\":\"white\",\"linecolor\":\"white\",\"ticks\":\"\",\"title\":{\"standoff\":15},\"zerolinecolor\":\"white\",\"zerolinewidth\":2},\"yaxis\":{\"automargin\":true,\"gridcolor\":\"white\",\"linecolor\":\"white\",\"ticks\":\"\",\"title\":{\"standoff\":15},\"zerolinecolor\":\"white\",\"zerolinewidth\":2}}},\"title\":{\"text\":\"Distplot of Total Car Crashes\"},\"xaxis\":{\"anchor\":\"y2\",\"domain\":[0.0,1.0],\"zeroline\":false},\"yaxis\":{\"anchor\":\"free\",\"domain\":[0.35,1],\"position\":0.0},\"yaxis2\":{\"anchor\":\"x\",\"domain\":[0,0.25],\"dtick\":1,\"showticklabels\":false}},                        {\"responsive\": true}                    ).then(function(){\n",
       "                            \n",
       "var gd = document.getElementById('283bb913-669d-4c3f-bf07-463a02b8a43e');\n",
       "var x = new MutationObserver(function (mutations, observer) {{\n",
       "        var display = window.getComputedStyle(gd).display;\n",
       "        if (!display || display === 'none') {{\n",
       "            console.log([gd, 'removed!']);\n",
       "            Plotly.purge(gd);\n",
       "            observer.disconnect();\n",
       "        }}\n",
       "}});\n",
       "\n",
       "// Listen for the removal of the full notebook cells\n",
       "var notebookContainer = gd.closest('#notebook-container');\n",
       "if (notebookContainer) {{\n",
       "    x.observe(notebookContainer, {childList: true});\n",
       "}}\n",
       "\n",
       "// Listen for the clearing of the current output cell\n",
       "var outputEl = gd.closest('.output');\n",
       "if (outputEl) {{\n",
       "    x.observe(outputEl, {childList: true});\n",
       "}}\n",
       "\n",
       "                        })                };                });            </script>        </div>"
      ]
     },
     "metadata": {},
     "output_type": "display_data"
    }
   ],
   "source": [
    "# Add title\n",
    "fig.update_layout(title_text='Distplot of Total Car Crashes')\n",
    "fig.show()"
   ]
  },
  {
   "cell_type": "markdown",
   "metadata": {},
   "source": [
    "Let's see if there is any correlation between two of the columns in our dataset. We will be using marginal distribution plots from the `express` library. You can read more about this library [here](https://plotly.com/python/plotly-express/)."
   ]
  },
  {
   "cell_type": "code",
   "execution_count": 44,
   "metadata": {},
   "outputs": [
    {
     "data": {
      "application/vnd.plotly.v1+json": {
       "config": {
        "plotlyServerURL": "https://plot.ly"
       },
       "data": [
        {
         "hovertemplate": "total=%{x}<br>alcohol=%{y}<extra></extra>",
         "legendgroup": "",
         "marker": {
          "color": "#1F77B4",
          "symbol": "circle"
         },
         "mode": "markers",
         "name": "",
         "orientation": "v",
         "showlegend": false,
         "type": "scatter",
         "x": [
          18.8,
          18.1,
          18.6,
          22.4,
          12,
          13.6,
          10.8,
          16.2,
          5.9,
          17.9,
          15.6,
          17.5,
          15.3,
          12.8,
          14.5,
          15.7,
          17.8,
          21.4,
          20.5,
          15.1,
          12.5,
          8.2,
          14.1,
          9.6,
          17.6,
          16.1,
          21.4,
          14.9,
          14.7,
          11.6,
          11.2,
          18.4,
          12.3,
          16.8,
          23.9,
          14.1,
          19.9,
          12.8,
          18.2,
          11.1,
          23.9,
          19.4,
          19.5,
          19.4,
          11.3,
          13.6,
          12.7,
          10.6,
          23.8,
          13.8,
          17.4
         ],
         "xaxis": "x",
         "y": [
          5.64,
          4.525,
          5.208000000000001,
          5.824,
          3.36,
          3.808,
          3.888,
          4.86,
          1.5930000000000002,
          5.190999999999999,
          3.9,
          7.175,
          4.437,
          4.352,
          4.205,
          3.925,
          4.272,
          4.922,
          6.765,
          4.53,
          4,
          2.87,
          3.948,
          2.784,
          5.456,
          5.474000000000001,
          9.416,
          5.215,
          4.704,
          3.48,
          3.136,
          4.968,
          3.5670000000000006,
          5.208000000000001,
          10.038,
          4.794,
          5.770999999999999,
          3.3280000000000003,
          5.642,
          4.218,
          9.799,
          6.401999999999999,
          5.655,
          7.371999999999999,
          1.808,
          4.08,
          3.429,
          3.498,
          6.664,
          4.554,
          5.568
         ],
         "yaxis": "y"
        },
        {
         "alignmentgroup": "True",
         "bingroup": "x",
         "hovertemplate": "total=%{x}<br>count=%{y}<extra></extra>",
         "legendgroup": "",
         "marker": {
          "color": "#1F77B4"
         },
         "name": "",
         "offsetgroup": "",
         "opacity": 0.5,
         "showlegend": false,
         "type": "histogram",
         "x": [
          18.8,
          18.1,
          18.6,
          22.4,
          12,
          13.6,
          10.8,
          16.2,
          5.9,
          17.9,
          15.6,
          17.5,
          15.3,
          12.8,
          14.5,
          15.7,
          17.8,
          21.4,
          20.5,
          15.1,
          12.5,
          8.2,
          14.1,
          9.6,
          17.6,
          16.1,
          21.4,
          14.9,
          14.7,
          11.6,
          11.2,
          18.4,
          12.3,
          16.8,
          23.9,
          14.1,
          19.9,
          12.8,
          18.2,
          11.1,
          23.9,
          19.4,
          19.5,
          19.4,
          11.3,
          13.6,
          12.7,
          10.6,
          23.8,
          13.8,
          17.4
         ],
         "xaxis": "x3",
         "yaxis": "y3"
        },
        {
         "alignmentgroup": "True",
         "bingroup": "y",
         "hovertemplate": "alcohol=%{y}<br>count=%{x}<extra></extra>",
         "legendgroup": "",
         "marker": {
          "color": "#1F77B4"
         },
         "name": "",
         "offsetgroup": "",
         "opacity": 0.5,
         "showlegend": false,
         "type": "histogram",
         "xaxis": "x2",
         "y": [
          5.64,
          4.525,
          5.208000000000001,
          5.824,
          3.36,
          3.808,
          3.888,
          4.86,
          1.5930000000000002,
          5.190999999999999,
          3.9,
          7.175,
          4.437,
          4.352,
          4.205,
          3.925,
          4.272,
          4.922,
          6.765,
          4.53,
          4,
          2.87,
          3.948,
          2.784,
          5.456,
          5.474000000000001,
          9.416,
          5.215,
          4.704,
          3.48,
          3.136,
          4.968,
          3.5670000000000006,
          5.208000000000001,
          10.038,
          4.794,
          5.770999999999999,
          3.3280000000000003,
          5.642,
          4.218,
          9.799,
          6.401999999999999,
          5.655,
          7.371999999999999,
          1.808,
          4.08,
          3.429,
          3.498,
          6.664,
          4.554,
          5.568
         ],
         "yaxis": "y2"
        },
        {
         "hovertemplate": "<b>OLS trendline</b><br>alcohol = 0.357662 * total + -0.760761<br>R<sup>2</sup>=0.726949<br><br>total=%{x}<br>alcohol=%{y} <b>(trend)</b><extra></extra>",
         "legendgroup": "",
         "marker": {
          "color": "#1F77B4",
          "symbol": "circle"
         },
         "mode": "lines",
         "name": "",
         "showlegend": false,
         "type": "scatter",
         "x": [
          5.9,
          8.2,
          9.6,
          10.6,
          10.8,
          11.1,
          11.2,
          11.3,
          11.6,
          12,
          12.3,
          12.5,
          12.7,
          12.8,
          12.8,
          13.6,
          13.6,
          13.8,
          14.1,
          14.1,
          14.5,
          14.7,
          14.9,
          15.1,
          15.3,
          15.6,
          15.7,
          16.1,
          16.2,
          16.8,
          17.4,
          17.5,
          17.6,
          17.8,
          17.9,
          18.1,
          18.2,
          18.4,
          18.6,
          18.8,
          19.4,
          19.4,
          19.5,
          19.9,
          20.5,
          21.4,
          21.4,
          22.4,
          23.8,
          23.9,
          23.9
         ],
         "xaxis": "x",
         "y": [
          1.3494417386005875,
          2.1720632375342723,
          2.672789367319994,
          3.0304508885955093,
          3.101983192850613,
          3.209281649233267,
          3.2450478013608186,
          3.2808139534883707,
          3.388112409871025,
          3.5311770183812308,
          3.638475474763886,
          3.7100077790189885,
          3.7815400832740917,
          3.817306235401644,
          3.817306235401644,
          4.103435452422055,
          4.103435452422055,
          4.174967756677159,
          4.282266213059813,
          4.282266213059813,
          4.42533082157002,
          4.496863125825122,
          4.568395430080226,
          4.639927734335329,
          4.711460038590433,
          4.8187584949730855,
          4.854524647100638,
          4.997589255610844,
          5.033355407738396,
          5.247952320503705,
          5.462549233269014,
          5.498315385396566,
          5.534081537524118,
          5.6056138417792205,
          5.641379993906771,
          5.712912298161875,
          5.748678450289425,
          5.820210754544529,
          5.891743058799634,
          5.963275363054736,
          6.177872275820045,
          6.177872275820045,
          6.213638427947597,
          6.356703036457802,
          6.571299949223112,
          6.893195318371076,
          6.893195318371076,
          7.250856839646591,
          7.751582969432313,
          7.787349121559863,
          7.787349121559863
         ],
         "yaxis": "y"
        }
       ],
       "layout": {
        "barmode": "overlay",
        "legend": {
         "tracegroupgap": 0
        },
        "margin": {
         "t": 60
        },
        "template": {
         "data": {
          "bar": [
           {
            "error_x": {
             "color": "rgb(36,36,36)"
            },
            "error_y": {
             "color": "rgb(36,36,36)"
            },
            "marker": {
             "line": {
              "color": "white",
              "width": 0.5
             },
             "pattern": {
              "fillmode": "overlay",
              "size": 10,
              "solidity": 0.2
             }
            },
            "type": "bar"
           }
          ],
          "barpolar": [
           {
            "marker": {
             "line": {
              "color": "white",
              "width": 0.5
             },
             "pattern": {
              "fillmode": "overlay",
              "size": 10,
              "solidity": 0.2
             }
            },
            "type": "barpolar"
           }
          ],
          "carpet": [
           {
            "aaxis": {
             "endlinecolor": "rgb(36,36,36)",
             "gridcolor": "white",
             "linecolor": "white",
             "minorgridcolor": "white",
             "startlinecolor": "rgb(36,36,36)"
            },
            "baxis": {
             "endlinecolor": "rgb(36,36,36)",
             "gridcolor": "white",
             "linecolor": "white",
             "minorgridcolor": "white",
             "startlinecolor": "rgb(36,36,36)"
            },
            "type": "carpet"
           }
          ],
          "choropleth": [
           {
            "colorbar": {
             "outlinewidth": 1,
             "tickcolor": "rgb(36,36,36)",
             "ticks": "outside"
            },
            "type": "choropleth"
           }
          ],
          "contour": [
           {
            "colorbar": {
             "outlinewidth": 1,
             "tickcolor": "rgb(36,36,36)",
             "ticks": "outside"
            },
            "colorscale": [
             [
              0,
              "#440154"
             ],
             [
              0.1111111111111111,
              "#482878"
             ],
             [
              0.2222222222222222,
              "#3e4989"
             ],
             [
              0.3333333333333333,
              "#31688e"
             ],
             [
              0.4444444444444444,
              "#26828e"
             ],
             [
              0.5555555555555556,
              "#1f9e89"
             ],
             [
              0.6666666666666666,
              "#35b779"
             ],
             [
              0.7777777777777778,
              "#6ece58"
             ],
             [
              0.8888888888888888,
              "#b5de2b"
             ],
             [
              1,
              "#fde725"
             ]
            ],
            "type": "contour"
           }
          ],
          "contourcarpet": [
           {
            "colorbar": {
             "outlinewidth": 1,
             "tickcolor": "rgb(36,36,36)",
             "ticks": "outside"
            },
            "type": "contourcarpet"
           }
          ],
          "heatmap": [
           {
            "colorbar": {
             "outlinewidth": 1,
             "tickcolor": "rgb(36,36,36)",
             "ticks": "outside"
            },
            "colorscale": [
             [
              0,
              "#440154"
             ],
             [
              0.1111111111111111,
              "#482878"
             ],
             [
              0.2222222222222222,
              "#3e4989"
             ],
             [
              0.3333333333333333,
              "#31688e"
             ],
             [
              0.4444444444444444,
              "#26828e"
             ],
             [
              0.5555555555555556,
              "#1f9e89"
             ],
             [
              0.6666666666666666,
              "#35b779"
             ],
             [
              0.7777777777777778,
              "#6ece58"
             ],
             [
              0.8888888888888888,
              "#b5de2b"
             ],
             [
              1,
              "#fde725"
             ]
            ],
            "type": "heatmap"
           }
          ],
          "heatmapgl": [
           {
            "colorbar": {
             "outlinewidth": 1,
             "tickcolor": "rgb(36,36,36)",
             "ticks": "outside"
            },
            "colorscale": [
             [
              0,
              "#440154"
             ],
             [
              0.1111111111111111,
              "#482878"
             ],
             [
              0.2222222222222222,
              "#3e4989"
             ],
             [
              0.3333333333333333,
              "#31688e"
             ],
             [
              0.4444444444444444,
              "#26828e"
             ],
             [
              0.5555555555555556,
              "#1f9e89"
             ],
             [
              0.6666666666666666,
              "#35b779"
             ],
             [
              0.7777777777777778,
              "#6ece58"
             ],
             [
              0.8888888888888888,
              "#b5de2b"
             ],
             [
              1,
              "#fde725"
             ]
            ],
            "type": "heatmapgl"
           }
          ],
          "histogram": [
           {
            "marker": {
             "line": {
              "color": "white",
              "width": 0.6
             }
            },
            "type": "histogram"
           }
          ],
          "histogram2d": [
           {
            "colorbar": {
             "outlinewidth": 1,
             "tickcolor": "rgb(36,36,36)",
             "ticks": "outside"
            },
            "colorscale": [
             [
              0,
              "#440154"
             ],
             [
              0.1111111111111111,
              "#482878"
             ],
             [
              0.2222222222222222,
              "#3e4989"
             ],
             [
              0.3333333333333333,
              "#31688e"
             ],
             [
              0.4444444444444444,
              "#26828e"
             ],
             [
              0.5555555555555556,
              "#1f9e89"
             ],
             [
              0.6666666666666666,
              "#35b779"
             ],
             [
              0.7777777777777778,
              "#6ece58"
             ],
             [
              0.8888888888888888,
              "#b5de2b"
             ],
             [
              1,
              "#fde725"
             ]
            ],
            "type": "histogram2d"
           }
          ],
          "histogram2dcontour": [
           {
            "colorbar": {
             "outlinewidth": 1,
             "tickcolor": "rgb(36,36,36)",
             "ticks": "outside"
            },
            "colorscale": [
             [
              0,
              "#440154"
             ],
             [
              0.1111111111111111,
              "#482878"
             ],
             [
              0.2222222222222222,
              "#3e4989"
             ],
             [
              0.3333333333333333,
              "#31688e"
             ],
             [
              0.4444444444444444,
              "#26828e"
             ],
             [
              0.5555555555555556,
              "#1f9e89"
             ],
             [
              0.6666666666666666,
              "#35b779"
             ],
             [
              0.7777777777777778,
              "#6ece58"
             ],
             [
              0.8888888888888888,
              "#b5de2b"
             ],
             [
              1,
              "#fde725"
             ]
            ],
            "type": "histogram2dcontour"
           }
          ],
          "mesh3d": [
           {
            "colorbar": {
             "outlinewidth": 1,
             "tickcolor": "rgb(36,36,36)",
             "ticks": "outside"
            },
            "type": "mesh3d"
           }
          ],
          "parcoords": [
           {
            "line": {
             "colorbar": {
              "outlinewidth": 1,
              "tickcolor": "rgb(36,36,36)",
              "ticks": "outside"
             }
            },
            "type": "parcoords"
           }
          ],
          "pie": [
           {
            "automargin": true,
            "type": "pie"
           }
          ],
          "scatter": [
           {
            "marker": {
             "colorbar": {
              "outlinewidth": 1,
              "tickcolor": "rgb(36,36,36)",
              "ticks": "outside"
             }
            },
            "type": "scatter"
           }
          ],
          "scatter3d": [
           {
            "line": {
             "colorbar": {
              "outlinewidth": 1,
              "tickcolor": "rgb(36,36,36)",
              "ticks": "outside"
             }
            },
            "marker": {
             "colorbar": {
              "outlinewidth": 1,
              "tickcolor": "rgb(36,36,36)",
              "ticks": "outside"
             }
            },
            "type": "scatter3d"
           }
          ],
          "scattercarpet": [
           {
            "marker": {
             "colorbar": {
              "outlinewidth": 1,
              "tickcolor": "rgb(36,36,36)",
              "ticks": "outside"
             }
            },
            "type": "scattercarpet"
           }
          ],
          "scattergeo": [
           {
            "marker": {
             "colorbar": {
              "outlinewidth": 1,
              "tickcolor": "rgb(36,36,36)",
              "ticks": "outside"
             }
            },
            "type": "scattergeo"
           }
          ],
          "scattergl": [
           {
            "marker": {
             "colorbar": {
              "outlinewidth": 1,
              "tickcolor": "rgb(36,36,36)",
              "ticks": "outside"
             }
            },
            "type": "scattergl"
           }
          ],
          "scattermapbox": [
           {
            "marker": {
             "colorbar": {
              "outlinewidth": 1,
              "tickcolor": "rgb(36,36,36)",
              "ticks": "outside"
             }
            },
            "type": "scattermapbox"
           }
          ],
          "scatterpolar": [
           {
            "marker": {
             "colorbar": {
              "outlinewidth": 1,
              "tickcolor": "rgb(36,36,36)",
              "ticks": "outside"
             }
            },
            "type": "scatterpolar"
           }
          ],
          "scatterpolargl": [
           {
            "marker": {
             "colorbar": {
              "outlinewidth": 1,
              "tickcolor": "rgb(36,36,36)",
              "ticks": "outside"
             }
            },
            "type": "scatterpolargl"
           }
          ],
          "scatterternary": [
           {
            "marker": {
             "colorbar": {
              "outlinewidth": 1,
              "tickcolor": "rgb(36,36,36)",
              "ticks": "outside"
             }
            },
            "type": "scatterternary"
           }
          ],
          "surface": [
           {
            "colorbar": {
             "outlinewidth": 1,
             "tickcolor": "rgb(36,36,36)",
             "ticks": "outside"
            },
            "colorscale": [
             [
              0,
              "#440154"
             ],
             [
              0.1111111111111111,
              "#482878"
             ],
             [
              0.2222222222222222,
              "#3e4989"
             ],
             [
              0.3333333333333333,
              "#31688e"
             ],
             [
              0.4444444444444444,
              "#26828e"
             ],
             [
              0.5555555555555556,
              "#1f9e89"
             ],
             [
              0.6666666666666666,
              "#35b779"
             ],
             [
              0.7777777777777778,
              "#6ece58"
             ],
             [
              0.8888888888888888,
              "#b5de2b"
             ],
             [
              1,
              "#fde725"
             ]
            ],
            "type": "surface"
           }
          ],
          "table": [
           {
            "cells": {
             "fill": {
              "color": "rgb(237,237,237)"
             },
             "line": {
              "color": "white"
             }
            },
            "header": {
             "fill": {
              "color": "rgb(217,217,217)"
             },
             "line": {
              "color": "white"
             }
            },
            "type": "table"
           }
          ]
         },
         "layout": {
          "annotationdefaults": {
           "arrowhead": 0,
           "arrowwidth": 1
          },
          "autotypenumbers": "strict",
          "coloraxis": {
           "colorbar": {
            "outlinewidth": 1,
            "tickcolor": "rgb(36,36,36)",
            "ticks": "outside"
           }
          },
          "colorscale": {
           "diverging": [
            [
             0,
             "rgb(103,0,31)"
            ],
            [
             0.1,
             "rgb(178,24,43)"
            ],
            [
             0.2,
             "rgb(214,96,77)"
            ],
            [
             0.3,
             "rgb(244,165,130)"
            ],
            [
             0.4,
             "rgb(253,219,199)"
            ],
            [
             0.5,
             "rgb(247,247,247)"
            ],
            [
             0.6,
             "rgb(209,229,240)"
            ],
            [
             0.7,
             "rgb(146,197,222)"
            ],
            [
             0.8,
             "rgb(67,147,195)"
            ],
            [
             0.9,
             "rgb(33,102,172)"
            ],
            [
             1,
             "rgb(5,48,97)"
            ]
           ],
           "sequential": [
            [
             0,
             "#440154"
            ],
            [
             0.1111111111111111,
             "#482878"
            ],
            [
             0.2222222222222222,
             "#3e4989"
            ],
            [
             0.3333333333333333,
             "#31688e"
            ],
            [
             0.4444444444444444,
             "#26828e"
            ],
            [
             0.5555555555555556,
             "#1f9e89"
            ],
            [
             0.6666666666666666,
             "#35b779"
            ],
            [
             0.7777777777777778,
             "#6ece58"
            ],
            [
             0.8888888888888888,
             "#b5de2b"
            ],
            [
             1,
             "#fde725"
            ]
           ],
           "sequentialminus": [
            [
             0,
             "#440154"
            ],
            [
             0.1111111111111111,
             "#482878"
            ],
            [
             0.2222222222222222,
             "#3e4989"
            ],
            [
             0.3333333333333333,
             "#31688e"
            ],
            [
             0.4444444444444444,
             "#26828e"
            ],
            [
             0.5555555555555556,
             "#1f9e89"
            ],
            [
             0.6666666666666666,
             "#35b779"
            ],
            [
             0.7777777777777778,
             "#6ece58"
            ],
            [
             0.8888888888888888,
             "#b5de2b"
            ],
            [
             1,
             "#fde725"
            ]
           ]
          },
          "colorway": [
           "#1F77B4",
           "#FF7F0E",
           "#2CA02C",
           "#D62728",
           "#9467BD",
           "#8C564B",
           "#E377C2",
           "#7F7F7F",
           "#BCBD22",
           "#17BECF"
          ],
          "font": {
           "color": "rgb(36,36,36)"
          },
          "geo": {
           "bgcolor": "white",
           "lakecolor": "white",
           "landcolor": "white",
           "showlakes": true,
           "showland": true,
           "subunitcolor": "white"
          },
          "hoverlabel": {
           "align": "left"
          },
          "hovermode": "closest",
          "mapbox": {
           "style": "light"
          },
          "paper_bgcolor": "white",
          "plot_bgcolor": "white",
          "polar": {
           "angularaxis": {
            "gridcolor": "rgb(232,232,232)",
            "linecolor": "rgb(36,36,36)",
            "showgrid": false,
            "showline": true,
            "ticks": "outside"
           },
           "bgcolor": "white",
           "radialaxis": {
            "gridcolor": "rgb(232,232,232)",
            "linecolor": "rgb(36,36,36)",
            "showgrid": false,
            "showline": true,
            "ticks": "outside"
           }
          },
          "scene": {
           "xaxis": {
            "backgroundcolor": "white",
            "gridcolor": "rgb(232,232,232)",
            "gridwidth": 2,
            "linecolor": "rgb(36,36,36)",
            "showbackground": true,
            "showgrid": false,
            "showline": true,
            "ticks": "outside",
            "zeroline": false,
            "zerolinecolor": "rgb(36,36,36)"
           },
           "yaxis": {
            "backgroundcolor": "white",
            "gridcolor": "rgb(232,232,232)",
            "gridwidth": 2,
            "linecolor": "rgb(36,36,36)",
            "showbackground": true,
            "showgrid": false,
            "showline": true,
            "ticks": "outside",
            "zeroline": false,
            "zerolinecolor": "rgb(36,36,36)"
           },
           "zaxis": {
            "backgroundcolor": "white",
            "gridcolor": "rgb(232,232,232)",
            "gridwidth": 2,
            "linecolor": "rgb(36,36,36)",
            "showbackground": true,
            "showgrid": false,
            "showline": true,
            "ticks": "outside",
            "zeroline": false,
            "zerolinecolor": "rgb(36,36,36)"
           }
          },
          "shapedefaults": {
           "fillcolor": "black",
           "line": {
            "width": 0
           },
           "opacity": 0.3
          },
          "ternary": {
           "aaxis": {
            "gridcolor": "rgb(232,232,232)",
            "linecolor": "rgb(36,36,36)",
            "showgrid": false,
            "showline": true,
            "ticks": "outside"
           },
           "baxis": {
            "gridcolor": "rgb(232,232,232)",
            "linecolor": "rgb(36,36,36)",
            "showgrid": false,
            "showline": true,
            "ticks": "outside"
           },
           "bgcolor": "white",
           "caxis": {
            "gridcolor": "rgb(232,232,232)",
            "linecolor": "rgb(36,36,36)",
            "showgrid": false,
            "showline": true,
            "ticks": "outside"
           }
          },
          "title": {
           "x": 0.05
          },
          "xaxis": {
           "automargin": true,
           "gridcolor": "rgb(232,232,232)",
           "linecolor": "rgb(36,36,36)",
           "showgrid": false,
           "showline": true,
           "ticks": "outside",
           "title": {
            "standoff": 15
           },
           "zeroline": false,
           "zerolinecolor": "rgb(36,36,36)"
          },
          "yaxis": {
           "automargin": true,
           "gridcolor": "rgb(232,232,232)",
           "linecolor": "rgb(36,36,36)",
           "showgrid": false,
           "showline": true,
           "ticks": "outside",
           "title": {
            "standoff": 15
           },
           "zeroline": false,
           "zerolinecolor": "rgb(36,36,36)"
          }
         }
        },
        "title": {
         "text": "Marginal Distribution of Total Car Crashes and Alcohol related Car Crashes"
        },
        "xaxis": {
         "anchor": "y",
         "domain": [
          0,
          0.7363
         ],
         "title": {
          "text": "total"
         }
        },
        "xaxis2": {
         "anchor": "y2",
         "domain": [
          0.7413,
          1
         ],
         "matches": "x2",
         "showline": false,
         "showticklabels": false,
         "ticks": ""
        },
        "xaxis3": {
         "anchor": "y3",
         "domain": [
          0,
          0.7363
         ],
         "matches": "x",
         "showticklabels": false
        },
        "xaxis4": {
         "anchor": "y4",
         "domain": [
          0.7413,
          1
         ],
         "matches": "x2",
         "showline": false,
         "showticklabels": false,
         "ticks": ""
        },
        "yaxis": {
         "anchor": "x",
         "domain": [
          0,
          0.7326
         ],
         "title": {
          "text": "alcohol"
         }
        },
        "yaxis2": {
         "anchor": "x2",
         "domain": [
          0,
          0.7326
         ],
         "matches": "y",
         "showticklabels": false
        },
        "yaxis3": {
         "anchor": "x3",
         "domain": [
          0.7426,
          1
         ],
         "matches": "y3",
         "showline": false,
         "showticklabels": false,
         "ticks": ""
        },
        "yaxis4": {
         "anchor": "x4",
         "domain": [
          0.7426,
          1
         ],
         "matches": "y3",
         "showline": false,
         "showticklabels": false,
         "ticks": ""
        }
       }
      },
      "text/html": [
       "<div>                            <div id=\"e6d5cfab-4b5e-4bdc-9a94-c865edeab4ad\" class=\"plotly-graph-div\" style=\"height:525px; width:100%;\"></div>            <script type=\"text/javascript\">                require([\"plotly\"], function(Plotly) {                    window.PLOTLYENV=window.PLOTLYENV || {};                                    if (document.getElementById(\"e6d5cfab-4b5e-4bdc-9a94-c865edeab4ad\")) {                    Plotly.newPlot(                        \"e6d5cfab-4b5e-4bdc-9a94-c865edeab4ad\",                        [{\"hovertemplate\":\"total=%{x}<br>alcohol=%{y}<extra></extra>\",\"legendgroup\":\"\",\"marker\":{\"color\":\"#1F77B4\",\"symbol\":\"circle\"},\"mode\":\"markers\",\"name\":\"\",\"orientation\":\"v\",\"showlegend\":false,\"type\":\"scatter\",\"x\":[18.8,18.1,18.6,22.4,12.0,13.6,10.8,16.2,5.9,17.9,15.6,17.5,15.3,12.8,14.5,15.7,17.8,21.4,20.5,15.1,12.5,8.2,14.1,9.6,17.6,16.1,21.4,14.9,14.7,11.6,11.2,18.4,12.3,16.8,23.9,14.1,19.9,12.8,18.2,11.1,23.9,19.4,19.5,19.4,11.3,13.6,12.7,10.6,23.8,13.8,17.4],\"xaxis\":\"x\",\"y\":[5.64,4.525,5.208000000000001,5.824,3.36,3.808,3.888,4.86,1.5930000000000002,5.190999999999999,3.9,7.175,4.437,4.352,4.205,3.925,4.272,4.922,6.765,4.53,4.0,2.87,3.948,2.784,5.456,5.474000000000001,9.416,5.215,4.704,3.48,3.136,4.968,3.5670000000000006,5.208000000000001,10.038,4.794,5.770999999999999,3.3280000000000003,5.642,4.218,9.799,6.401999999999999,5.655,7.371999999999999,1.808,4.08,3.429,3.498,6.664,4.554,5.568],\"yaxis\":\"y\"},{\"alignmentgroup\":\"True\",\"bingroup\":\"x\",\"hovertemplate\":\"total=%{x}<br>count=%{y}<extra></extra>\",\"legendgroup\":\"\",\"marker\":{\"color\":\"#1F77B4\"},\"name\":\"\",\"offsetgroup\":\"\",\"opacity\":0.5,\"showlegend\":false,\"type\":\"histogram\",\"x\":[18.8,18.1,18.6,22.4,12.0,13.6,10.8,16.2,5.9,17.9,15.6,17.5,15.3,12.8,14.5,15.7,17.8,21.4,20.5,15.1,12.5,8.2,14.1,9.6,17.6,16.1,21.4,14.9,14.7,11.6,11.2,18.4,12.3,16.8,23.9,14.1,19.9,12.8,18.2,11.1,23.9,19.4,19.5,19.4,11.3,13.6,12.7,10.6,23.8,13.8,17.4],\"xaxis\":\"x3\",\"yaxis\":\"y3\"},{\"alignmentgroup\":\"True\",\"bingroup\":\"y\",\"hovertemplate\":\"alcohol=%{y}<br>count=%{x}<extra></extra>\",\"legendgroup\":\"\",\"marker\":{\"color\":\"#1F77B4\"},\"name\":\"\",\"offsetgroup\":\"\",\"opacity\":0.5,\"showlegend\":false,\"type\":\"histogram\",\"xaxis\":\"x2\",\"y\":[5.64,4.525,5.208000000000001,5.824,3.36,3.808,3.888,4.86,1.5930000000000002,5.190999999999999,3.9,7.175,4.437,4.352,4.205,3.925,4.272,4.922,6.765,4.53,4.0,2.87,3.948,2.784,5.456,5.474000000000001,9.416,5.215,4.704,3.48,3.136,4.968,3.5670000000000006,5.208000000000001,10.038,4.794,5.770999999999999,3.3280000000000003,5.642,4.218,9.799,6.401999999999999,5.655,7.371999999999999,1.808,4.08,3.429,3.498,6.664,4.554,5.568],\"yaxis\":\"y2\"},{\"hovertemplate\":\"<b>OLS trendline</b><br>alcohol = 0.357662 * total + -0.760761<br>R<sup>2</sup>=0.726949<br><br>total=%{x}<br>alcohol=%{y} <b>(trend)</b><extra></extra>\",\"legendgroup\":\"\",\"marker\":{\"color\":\"#1F77B4\",\"symbol\":\"circle\"},\"mode\":\"lines\",\"name\":\"\",\"showlegend\":false,\"type\":\"scatter\",\"x\":[5.9,8.2,9.6,10.6,10.8,11.1,11.2,11.3,11.6,12.0,12.3,12.5,12.7,12.8,12.8,13.6,13.6,13.8,14.1,14.1,14.5,14.7,14.9,15.1,15.3,15.6,15.7,16.1,16.2,16.8,17.4,17.5,17.6,17.8,17.9,18.1,18.2,18.4,18.6,18.8,19.4,19.4,19.5,19.9,20.5,21.4,21.4,22.4,23.8,23.9,23.9],\"xaxis\":\"x\",\"y\":[1.3494417386005875,2.1720632375342723,2.672789367319994,3.0304508885955093,3.101983192850613,3.209281649233267,3.2450478013608186,3.2808139534883707,3.388112409871025,3.5311770183812308,3.638475474763886,3.7100077790189885,3.7815400832740917,3.817306235401644,3.817306235401644,4.103435452422055,4.103435452422055,4.174967756677159,4.282266213059813,4.282266213059813,4.42533082157002,4.496863125825122,4.568395430080226,4.639927734335329,4.711460038590433,4.8187584949730855,4.854524647100638,4.997589255610844,5.033355407738396,5.247952320503705,5.462549233269014,5.498315385396566,5.534081537524118,5.6056138417792205,5.641379993906771,5.712912298161875,5.748678450289425,5.820210754544529,5.891743058799634,5.963275363054736,6.177872275820045,6.177872275820045,6.213638427947597,6.356703036457802,6.571299949223112,6.893195318371076,6.893195318371076,7.250856839646591,7.751582969432313,7.787349121559863,7.787349121559863],\"yaxis\":\"y\"}],                        {\"barmode\":\"overlay\",\"legend\":{\"tracegroupgap\":0},\"margin\":{\"t\":60},\"template\":{\"data\":{\"bar\":[{\"error_x\":{\"color\":\"rgb(36,36,36)\"},\"error_y\":{\"color\":\"rgb(36,36,36)\"},\"marker\":{\"line\":{\"color\":\"white\",\"width\":0.5},\"pattern\":{\"fillmode\":\"overlay\",\"size\":10,\"solidity\":0.2}},\"type\":\"bar\"}],\"barpolar\":[{\"marker\":{\"line\":{\"color\":\"white\",\"width\":0.5},\"pattern\":{\"fillmode\":\"overlay\",\"size\":10,\"solidity\":0.2}},\"type\":\"barpolar\"}],\"carpet\":[{\"aaxis\":{\"endlinecolor\":\"rgb(36,36,36)\",\"gridcolor\":\"white\",\"linecolor\":\"white\",\"minorgridcolor\":\"white\",\"startlinecolor\":\"rgb(36,36,36)\"},\"baxis\":{\"endlinecolor\":\"rgb(36,36,36)\",\"gridcolor\":\"white\",\"linecolor\":\"white\",\"minorgridcolor\":\"white\",\"startlinecolor\":\"rgb(36,36,36)\"},\"type\":\"carpet\"}],\"choropleth\":[{\"colorbar\":{\"outlinewidth\":1,\"tickcolor\":\"rgb(36,36,36)\",\"ticks\":\"outside\"},\"type\":\"choropleth\"}],\"contour\":[{\"colorbar\":{\"outlinewidth\":1,\"tickcolor\":\"rgb(36,36,36)\",\"ticks\":\"outside\"},\"colorscale\":[[0.0,\"#440154\"],[0.1111111111111111,\"#482878\"],[0.2222222222222222,\"#3e4989\"],[0.3333333333333333,\"#31688e\"],[0.4444444444444444,\"#26828e\"],[0.5555555555555556,\"#1f9e89\"],[0.6666666666666666,\"#35b779\"],[0.7777777777777778,\"#6ece58\"],[0.8888888888888888,\"#b5de2b\"],[1.0,\"#fde725\"]],\"type\":\"contour\"}],\"contourcarpet\":[{\"colorbar\":{\"outlinewidth\":1,\"tickcolor\":\"rgb(36,36,36)\",\"ticks\":\"outside\"},\"type\":\"contourcarpet\"}],\"heatmap\":[{\"colorbar\":{\"outlinewidth\":1,\"tickcolor\":\"rgb(36,36,36)\",\"ticks\":\"outside\"},\"colorscale\":[[0.0,\"#440154\"],[0.1111111111111111,\"#482878\"],[0.2222222222222222,\"#3e4989\"],[0.3333333333333333,\"#31688e\"],[0.4444444444444444,\"#26828e\"],[0.5555555555555556,\"#1f9e89\"],[0.6666666666666666,\"#35b779\"],[0.7777777777777778,\"#6ece58\"],[0.8888888888888888,\"#b5de2b\"],[1.0,\"#fde725\"]],\"type\":\"heatmap\"}],\"heatmapgl\":[{\"colorbar\":{\"outlinewidth\":1,\"tickcolor\":\"rgb(36,36,36)\",\"ticks\":\"outside\"},\"colorscale\":[[0.0,\"#440154\"],[0.1111111111111111,\"#482878\"],[0.2222222222222222,\"#3e4989\"],[0.3333333333333333,\"#31688e\"],[0.4444444444444444,\"#26828e\"],[0.5555555555555556,\"#1f9e89\"],[0.6666666666666666,\"#35b779\"],[0.7777777777777778,\"#6ece58\"],[0.8888888888888888,\"#b5de2b\"],[1.0,\"#fde725\"]],\"type\":\"heatmapgl\"}],\"histogram\":[{\"marker\":{\"line\":{\"color\":\"white\",\"width\":0.6}},\"type\":\"histogram\"}],\"histogram2d\":[{\"colorbar\":{\"outlinewidth\":1,\"tickcolor\":\"rgb(36,36,36)\",\"ticks\":\"outside\"},\"colorscale\":[[0.0,\"#440154\"],[0.1111111111111111,\"#482878\"],[0.2222222222222222,\"#3e4989\"],[0.3333333333333333,\"#31688e\"],[0.4444444444444444,\"#26828e\"],[0.5555555555555556,\"#1f9e89\"],[0.6666666666666666,\"#35b779\"],[0.7777777777777778,\"#6ece58\"],[0.8888888888888888,\"#b5de2b\"],[1.0,\"#fde725\"]],\"type\":\"histogram2d\"}],\"histogram2dcontour\":[{\"colorbar\":{\"outlinewidth\":1,\"tickcolor\":\"rgb(36,36,36)\",\"ticks\":\"outside\"},\"colorscale\":[[0.0,\"#440154\"],[0.1111111111111111,\"#482878\"],[0.2222222222222222,\"#3e4989\"],[0.3333333333333333,\"#31688e\"],[0.4444444444444444,\"#26828e\"],[0.5555555555555556,\"#1f9e89\"],[0.6666666666666666,\"#35b779\"],[0.7777777777777778,\"#6ece58\"],[0.8888888888888888,\"#b5de2b\"],[1.0,\"#fde725\"]],\"type\":\"histogram2dcontour\"}],\"mesh3d\":[{\"colorbar\":{\"outlinewidth\":1,\"tickcolor\":\"rgb(36,36,36)\",\"ticks\":\"outside\"},\"type\":\"mesh3d\"}],\"parcoords\":[{\"line\":{\"colorbar\":{\"outlinewidth\":1,\"tickcolor\":\"rgb(36,36,36)\",\"ticks\":\"outside\"}},\"type\":\"parcoords\"}],\"pie\":[{\"automargin\":true,\"type\":\"pie\"}],\"scatter\":[{\"marker\":{\"colorbar\":{\"outlinewidth\":1,\"tickcolor\":\"rgb(36,36,36)\",\"ticks\":\"outside\"}},\"type\":\"scatter\"}],\"scatter3d\":[{\"line\":{\"colorbar\":{\"outlinewidth\":1,\"tickcolor\":\"rgb(36,36,36)\",\"ticks\":\"outside\"}},\"marker\":{\"colorbar\":{\"outlinewidth\":1,\"tickcolor\":\"rgb(36,36,36)\",\"ticks\":\"outside\"}},\"type\":\"scatter3d\"}],\"scattercarpet\":[{\"marker\":{\"colorbar\":{\"outlinewidth\":1,\"tickcolor\":\"rgb(36,36,36)\",\"ticks\":\"outside\"}},\"type\":\"scattercarpet\"}],\"scattergeo\":[{\"marker\":{\"colorbar\":{\"outlinewidth\":1,\"tickcolor\":\"rgb(36,36,36)\",\"ticks\":\"outside\"}},\"type\":\"scattergeo\"}],\"scattergl\":[{\"marker\":{\"colorbar\":{\"outlinewidth\":1,\"tickcolor\":\"rgb(36,36,36)\",\"ticks\":\"outside\"}},\"type\":\"scattergl\"}],\"scattermapbox\":[{\"marker\":{\"colorbar\":{\"outlinewidth\":1,\"tickcolor\":\"rgb(36,36,36)\",\"ticks\":\"outside\"}},\"type\":\"scattermapbox\"}],\"scatterpolar\":[{\"marker\":{\"colorbar\":{\"outlinewidth\":1,\"tickcolor\":\"rgb(36,36,36)\",\"ticks\":\"outside\"}},\"type\":\"scatterpolar\"}],\"scatterpolargl\":[{\"marker\":{\"colorbar\":{\"outlinewidth\":1,\"tickcolor\":\"rgb(36,36,36)\",\"ticks\":\"outside\"}},\"type\":\"scatterpolargl\"}],\"scatterternary\":[{\"marker\":{\"colorbar\":{\"outlinewidth\":1,\"tickcolor\":\"rgb(36,36,36)\",\"ticks\":\"outside\"}},\"type\":\"scatterternary\"}],\"surface\":[{\"colorbar\":{\"outlinewidth\":1,\"tickcolor\":\"rgb(36,36,36)\",\"ticks\":\"outside\"},\"colorscale\":[[0.0,\"#440154\"],[0.1111111111111111,\"#482878\"],[0.2222222222222222,\"#3e4989\"],[0.3333333333333333,\"#31688e\"],[0.4444444444444444,\"#26828e\"],[0.5555555555555556,\"#1f9e89\"],[0.6666666666666666,\"#35b779\"],[0.7777777777777778,\"#6ece58\"],[0.8888888888888888,\"#b5de2b\"],[1.0,\"#fde725\"]],\"type\":\"surface\"}],\"table\":[{\"cells\":{\"fill\":{\"color\":\"rgb(237,237,237)\"},\"line\":{\"color\":\"white\"}},\"header\":{\"fill\":{\"color\":\"rgb(217,217,217)\"},\"line\":{\"color\":\"white\"}},\"type\":\"table\"}]},\"layout\":{\"annotationdefaults\":{\"arrowhead\":0,\"arrowwidth\":1},\"autotypenumbers\":\"strict\",\"coloraxis\":{\"colorbar\":{\"outlinewidth\":1,\"tickcolor\":\"rgb(36,36,36)\",\"ticks\":\"outside\"}},\"colorscale\":{\"diverging\":[[0.0,\"rgb(103,0,31)\"],[0.1,\"rgb(178,24,43)\"],[0.2,\"rgb(214,96,77)\"],[0.3,\"rgb(244,165,130)\"],[0.4,\"rgb(253,219,199)\"],[0.5,\"rgb(247,247,247)\"],[0.6,\"rgb(209,229,240)\"],[0.7,\"rgb(146,197,222)\"],[0.8,\"rgb(67,147,195)\"],[0.9,\"rgb(33,102,172)\"],[1.0,\"rgb(5,48,97)\"]],\"sequential\":[[0.0,\"#440154\"],[0.1111111111111111,\"#482878\"],[0.2222222222222222,\"#3e4989\"],[0.3333333333333333,\"#31688e\"],[0.4444444444444444,\"#26828e\"],[0.5555555555555556,\"#1f9e89\"],[0.6666666666666666,\"#35b779\"],[0.7777777777777778,\"#6ece58\"],[0.8888888888888888,\"#b5de2b\"],[1.0,\"#fde725\"]],\"sequentialminus\":[[0.0,\"#440154\"],[0.1111111111111111,\"#482878\"],[0.2222222222222222,\"#3e4989\"],[0.3333333333333333,\"#31688e\"],[0.4444444444444444,\"#26828e\"],[0.5555555555555556,\"#1f9e89\"],[0.6666666666666666,\"#35b779\"],[0.7777777777777778,\"#6ece58\"],[0.8888888888888888,\"#b5de2b\"],[1.0,\"#fde725\"]]},\"colorway\":[\"#1F77B4\",\"#FF7F0E\",\"#2CA02C\",\"#D62728\",\"#9467BD\",\"#8C564B\",\"#E377C2\",\"#7F7F7F\",\"#BCBD22\",\"#17BECF\"],\"font\":{\"color\":\"rgb(36,36,36)\"},\"geo\":{\"bgcolor\":\"white\",\"lakecolor\":\"white\",\"landcolor\":\"white\",\"showlakes\":true,\"showland\":true,\"subunitcolor\":\"white\"},\"hoverlabel\":{\"align\":\"left\"},\"hovermode\":\"closest\",\"mapbox\":{\"style\":\"light\"},\"paper_bgcolor\":\"white\",\"plot_bgcolor\":\"white\",\"polar\":{\"angularaxis\":{\"gridcolor\":\"rgb(232,232,232)\",\"linecolor\":\"rgb(36,36,36)\",\"showgrid\":false,\"showline\":true,\"ticks\":\"outside\"},\"bgcolor\":\"white\",\"radialaxis\":{\"gridcolor\":\"rgb(232,232,232)\",\"linecolor\":\"rgb(36,36,36)\",\"showgrid\":false,\"showline\":true,\"ticks\":\"outside\"}},\"scene\":{\"xaxis\":{\"backgroundcolor\":\"white\",\"gridcolor\":\"rgb(232,232,232)\",\"gridwidth\":2,\"linecolor\":\"rgb(36,36,36)\",\"showbackground\":true,\"showgrid\":false,\"showline\":true,\"ticks\":\"outside\",\"zeroline\":false,\"zerolinecolor\":\"rgb(36,36,36)\"},\"yaxis\":{\"backgroundcolor\":\"white\",\"gridcolor\":\"rgb(232,232,232)\",\"gridwidth\":2,\"linecolor\":\"rgb(36,36,36)\",\"showbackground\":true,\"showgrid\":false,\"showline\":true,\"ticks\":\"outside\",\"zeroline\":false,\"zerolinecolor\":\"rgb(36,36,36)\"},\"zaxis\":{\"backgroundcolor\":\"white\",\"gridcolor\":\"rgb(232,232,232)\",\"gridwidth\":2,\"linecolor\":\"rgb(36,36,36)\",\"showbackground\":true,\"showgrid\":false,\"showline\":true,\"ticks\":\"outside\",\"zeroline\":false,\"zerolinecolor\":\"rgb(36,36,36)\"}},\"shapedefaults\":{\"fillcolor\":\"black\",\"line\":{\"width\":0},\"opacity\":0.3},\"ternary\":{\"aaxis\":{\"gridcolor\":\"rgb(232,232,232)\",\"linecolor\":\"rgb(36,36,36)\",\"showgrid\":false,\"showline\":true,\"ticks\":\"outside\"},\"baxis\":{\"gridcolor\":\"rgb(232,232,232)\",\"linecolor\":\"rgb(36,36,36)\",\"showgrid\":false,\"showline\":true,\"ticks\":\"outside\"},\"bgcolor\":\"white\",\"caxis\":{\"gridcolor\":\"rgb(232,232,232)\",\"linecolor\":\"rgb(36,36,36)\",\"showgrid\":false,\"showline\":true,\"ticks\":\"outside\"}},\"title\":{\"x\":0.05},\"xaxis\":{\"automargin\":true,\"gridcolor\":\"rgb(232,232,232)\",\"linecolor\":\"rgb(36,36,36)\",\"showgrid\":false,\"showline\":true,\"ticks\":\"outside\",\"title\":{\"standoff\":15},\"zeroline\":false,\"zerolinecolor\":\"rgb(36,36,36)\"},\"yaxis\":{\"automargin\":true,\"gridcolor\":\"rgb(232,232,232)\",\"linecolor\":\"rgb(36,36,36)\",\"showgrid\":false,\"showline\":true,\"ticks\":\"outside\",\"title\":{\"standoff\":15},\"zeroline\":false,\"zerolinecolor\":\"rgb(36,36,36)\"}}},\"title\":{\"text\":\"Marginal Distribution of Total Car Crashes and Alcohol related Car Crashes\"},\"xaxis\":{\"anchor\":\"y\",\"domain\":[0.0,0.7363],\"title\":{\"text\":\"total\"}},\"xaxis2\":{\"anchor\":\"y2\",\"domain\":[0.7413,1.0],\"matches\":\"x2\",\"showline\":false,\"showticklabels\":false,\"ticks\":\"\"},\"xaxis3\":{\"anchor\":\"y3\",\"domain\":[0.0,0.7363],\"matches\":\"x\",\"showticklabels\":false},\"xaxis4\":{\"anchor\":\"y4\",\"domain\":[0.7413,1.0],\"matches\":\"x2\",\"showline\":false,\"showticklabels\":false,\"ticks\":\"\"},\"yaxis\":{\"anchor\":\"x\",\"domain\":[0.0,0.7326],\"title\":{\"text\":\"alcohol\"}},\"yaxis2\":{\"anchor\":\"x2\",\"domain\":[0.0,0.7326],\"matches\":\"y\",\"showticklabels\":false},\"yaxis3\":{\"anchor\":\"x3\",\"domain\":[0.7426,1.0],\"matches\":\"y3\",\"showline\":false,\"showticklabels\":false,\"ticks\":\"\"},\"yaxis4\":{\"anchor\":\"x4\",\"domain\":[0.7426,1.0],\"matches\":\"y3\",\"showline\":false,\"showticklabels\":false,\"ticks\":\"\"}},                        {\"responsive\": true}                    ).then(function(){\n",
       "                            \n",
       "var gd = document.getElementById('e6d5cfab-4b5e-4bdc-9a94-c865edeab4ad');\n",
       "var x = new MutationObserver(function (mutations, observer) {{\n",
       "        var display = window.getComputedStyle(gd).display;\n",
       "        if (!display || display === 'none') {{\n",
       "            console.log([gd, 'removed!']);\n",
       "            Plotly.purge(gd);\n",
       "            observer.disconnect();\n",
       "        }}\n",
       "}});\n",
       "\n",
       "// Listen for the removal of the full notebook cells\n",
       "var notebookContainer = gd.closest('#notebook-container');\n",
       "if (notebookContainer) {{\n",
       "    x.observe(notebookContainer, {childList: true});\n",
       "}}\n",
       "\n",
       "// Listen for the clearing of the current output cell\n",
       "var outputEl = gd.closest('.output');\n",
       "if (outputEl) {{\n",
       "    x.observe(outputEl, {childList: true});\n",
       "}}\n",
       "\n",
       "                        })                };                });            </script>        </div>"
      ]
     },
     "metadata": {},
     "output_type": "display_data"
    }
   ],
   "source": [
    "import plotly.express as px\n",
    "\n",
    "fig = px.scatter(car_crashes, x=\"total\", y=\"alcohol\", marginal_x=\"histogram\", marginal_y=\"histogram\",\n",
    "                trendline=\"ols\", template=\"simple_white\")\n",
    "fig.update_layout(title_text='Marginal Distribution of Total Car Crashes and Alcohol related Car Crashes')\n",
    "fig.show()"
   ]
  },
  {
   "cell_type": "markdown",
   "metadata": {},
   "source": [
    "We observe that there is a positive correlation between total number of car crashes and total number of alcohol-induced car crashes."
   ]
  },
  {
   "cell_type": "markdown",
   "metadata": {},
   "source": [
    "We can also use the parallel coordinates plot to see if there is any trend between the crash types and total number of crashes."
   ]
  },
  {
   "cell_type": "code",
   "execution_count": 45,
   "metadata": {},
   "outputs": [
    {
     "data": {
      "application/vnd.plotly.v1+json": {
       "config": {
        "plotlyServerURL": "https://plot.ly"
       },
       "data": [
        {
         "dimensions": [
          {
           "label": "Total Crashes",
           "values": [
            18.8,
            18.1,
            18.6,
            22.4,
            12,
            13.6,
            10.8,
            16.2,
            5.9,
            17.9,
            15.6,
            17.5,
            15.3,
            12.8,
            14.5,
            15.7,
            17.8,
            21.4,
            20.5,
            15.1,
            12.5,
            8.2,
            14.1,
            9.6,
            17.6,
            16.1,
            21.4,
            14.9,
            14.7,
            11.6,
            11.2,
            18.4,
            12.3,
            16.8,
            23.9,
            14.1,
            19.9,
            12.8,
            18.2,
            11.1,
            23.9,
            19.4,
            19.5,
            19.4,
            11.3,
            13.6,
            12.7,
            10.6,
            23.8,
            13.8,
            17.4
           ]
          },
          {
           "label": "Speed Related",
           "values": [
            7.332000000000001,
            7.421,
            6.51,
            4.032,
            4.2,
            5.032,
            4.968,
            6.156000000000001,
            2.006,
            3.759,
            2.964,
            9.45,
            5.508000000000001,
            4.6080000000000005,
            3.625,
            2.669,
            4.806,
            4.066,
            7.175,
            5.738,
            4.25,
            1.886,
            3.384,
            2.208,
            2.64,
            6.923000000000001,
            8.345999999999998,
            1.9370000000000005,
            5.439,
            4.06,
            1.7919999999999998,
            3.496,
            3.936,
            6.5520000000000005,
            5.496999999999999,
            3.948,
            6.367999999999999,
            4.224,
            9.1,
            3.774,
            9.082,
            6.013999999999999,
            4.095,
            7.76,
            4.859,
            4.08,
            2.413,
            4.452,
            8.092,
            4.968,
            7.308
           ]
          },
          {
           "label": "Alcohol Related",
           "values": [
            5.64,
            4.525,
            5.208000000000001,
            5.824,
            3.36,
            3.808,
            3.888,
            4.86,
            1.5930000000000002,
            5.190999999999999,
            3.9,
            7.175,
            4.437,
            4.352,
            4.205,
            3.925,
            4.272,
            4.922,
            6.765,
            4.53,
            4,
            2.87,
            3.948,
            2.784,
            5.456,
            5.474000000000001,
            9.416,
            5.215,
            4.704,
            3.48,
            3.136,
            4.968,
            3.5670000000000006,
            5.208000000000001,
            10.038,
            4.794,
            5.770999999999999,
            3.3280000000000003,
            5.642,
            4.218,
            9.799,
            6.401999999999999,
            5.655,
            7.371999999999999,
            1.808,
            4.08,
            3.429,
            3.498,
            6.664,
            4.554,
            5.568
           ]
          },
          {
           "label": "Not Distracted",
           "values": [
            18.048,
            16.290000000000003,
            15.624,
            21.056,
            10.92,
            10.743999999999998,
            9.396,
            14.094,
            5.9,
            16.468,
            14.82,
            14.35,
            13.005,
            12.032,
            13.775,
            15.229,
            13.706,
            16.691999999999997,
            14.965,
            13.137,
            8.875,
            7.134,
            13.395,
            8.448,
            1.76,
            14.812,
            17.976,
            13.857,
            13.965,
            10.092,
            9.632,
            12.328,
            10.824000000000002,
            15.792,
            23.661,
            13.958999999999998,
            18.308,
            8.576,
            17.471999999999998,
            10.212,
            22.944,
            19.012,
            15.99,
            17.654,
            9.944,
            13.056,
            11.049,
            8.692,
            23.086,
            5.382000000000001,
            14.094
           ]
          },
          {
           "label": "No Previous",
           "values": [
            15.04,
            17.014,
            17.856,
            21.28,
            10.68,
            12.92,
            8.856,
            16.038,
            5.9,
            16.826,
            14.508,
            15.225,
            14.994000000000002,
            12.288000000000002,
            13.775,
            13.659,
            15.13,
            16.264,
            20.09,
            12.684,
            12.375,
            6.56,
            10.857,
            8.448,
            17.6,
            13.524,
            18.19,
            13.41,
            14.553,
            9.628,
            8.735999999999999,
            18.032,
            9.84,
            13.608,
            20.554,
            11.562,
            18.706,
            11.52,
            16.016,
            8.769,
            19.359,
            16.683999999999997,
            15.795,
            16.878,
            10.848000000000004,
            12.92,
            11.175999999999998,
            9.116,
            20.706,
            11.592,
            15.659999999999998
           ]
          }
         ],
         "domain": {
          "x": [
           0,
           1
          ],
          "y": [
           0,
           1
          ]
         },
         "line": {
          "color": [
           18.8,
           18.1,
           18.6,
           22.4,
           12,
           13.6,
           10.8,
           16.2,
           5.9,
           17.9,
           15.6,
           17.5,
           15.3,
           12.8,
           14.5,
           15.7,
           17.8,
           21.4,
           20.5,
           15.1,
           12.5,
           8.2,
           14.1,
           9.6,
           17.6,
           16.1,
           21.4,
           14.9,
           14.7,
           11.6,
           11.2,
           18.4,
           12.3,
           16.8,
           23.9,
           14.1,
           19.9,
           12.8,
           18.2,
           11.1,
           23.9,
           19.4,
           19.5,
           19.4,
           11.3,
           13.6,
           12.7,
           10.6,
           23.8,
           13.8,
           17.4
          ],
          "coloraxis": "coloraxis"
         },
         "name": "",
         "type": "parcoords"
        }
       ],
       "layout": {
        "coloraxis": {
         "colorbar": {
          "title": {
           "text": "Total Crashes"
          }
         },
         "colorscale": [
          [
           0,
           "rgb(0, 147, 146)"
          ],
          [
           0.16666666666666666,
           "rgb(114, 170, 161)"
          ],
          [
           0.3333333333333333,
           "rgb(177, 199, 179)"
          ],
          [
           0.5,
           "rgb(241, 234, 200)"
          ],
          [
           0.6666666666666666,
           "rgb(229, 185, 173)"
          ],
          [
           0.8333333333333334,
           "rgb(217, 137, 148)"
          ],
          [
           1,
           "rgb(208, 88, 126)"
          ]
         ]
        },
        "legend": {
         "tracegroupgap": 0
        },
        "margin": {
         "t": 60
        },
        "template": {
         "data": {
          "bar": [
           {
            "error_x": {
             "color": "#2a3f5f"
            },
            "error_y": {
             "color": "#2a3f5f"
            },
            "marker": {
             "line": {
              "color": "#E5ECF6",
              "width": 0.5
             },
             "pattern": {
              "fillmode": "overlay",
              "size": 10,
              "solidity": 0.2
             }
            },
            "type": "bar"
           }
          ],
          "barpolar": [
           {
            "marker": {
             "line": {
              "color": "#E5ECF6",
              "width": 0.5
             },
             "pattern": {
              "fillmode": "overlay",
              "size": 10,
              "solidity": 0.2
             }
            },
            "type": "barpolar"
           }
          ],
          "carpet": [
           {
            "aaxis": {
             "endlinecolor": "#2a3f5f",
             "gridcolor": "white",
             "linecolor": "white",
             "minorgridcolor": "white",
             "startlinecolor": "#2a3f5f"
            },
            "baxis": {
             "endlinecolor": "#2a3f5f",
             "gridcolor": "white",
             "linecolor": "white",
             "minorgridcolor": "white",
             "startlinecolor": "#2a3f5f"
            },
            "type": "carpet"
           }
          ],
          "choropleth": [
           {
            "colorbar": {
             "outlinewidth": 0,
             "ticks": ""
            },
            "type": "choropleth"
           }
          ],
          "contour": [
           {
            "colorbar": {
             "outlinewidth": 0,
             "ticks": ""
            },
            "colorscale": [
             [
              0,
              "#0d0887"
             ],
             [
              0.1111111111111111,
              "#46039f"
             ],
             [
              0.2222222222222222,
              "#7201a8"
             ],
             [
              0.3333333333333333,
              "#9c179e"
             ],
             [
              0.4444444444444444,
              "#bd3786"
             ],
             [
              0.5555555555555556,
              "#d8576b"
             ],
             [
              0.6666666666666666,
              "#ed7953"
             ],
             [
              0.7777777777777778,
              "#fb9f3a"
             ],
             [
              0.8888888888888888,
              "#fdca26"
             ],
             [
              1,
              "#f0f921"
             ]
            ],
            "type": "contour"
           }
          ],
          "contourcarpet": [
           {
            "colorbar": {
             "outlinewidth": 0,
             "ticks": ""
            },
            "type": "contourcarpet"
           }
          ],
          "heatmap": [
           {
            "colorbar": {
             "outlinewidth": 0,
             "ticks": ""
            },
            "colorscale": [
             [
              0,
              "#0d0887"
             ],
             [
              0.1111111111111111,
              "#46039f"
             ],
             [
              0.2222222222222222,
              "#7201a8"
             ],
             [
              0.3333333333333333,
              "#9c179e"
             ],
             [
              0.4444444444444444,
              "#bd3786"
             ],
             [
              0.5555555555555556,
              "#d8576b"
             ],
             [
              0.6666666666666666,
              "#ed7953"
             ],
             [
              0.7777777777777778,
              "#fb9f3a"
             ],
             [
              0.8888888888888888,
              "#fdca26"
             ],
             [
              1,
              "#f0f921"
             ]
            ],
            "type": "heatmap"
           }
          ],
          "heatmapgl": [
           {
            "colorbar": {
             "outlinewidth": 0,
             "ticks": ""
            },
            "colorscale": [
             [
              0,
              "#0d0887"
             ],
             [
              0.1111111111111111,
              "#46039f"
             ],
             [
              0.2222222222222222,
              "#7201a8"
             ],
             [
              0.3333333333333333,
              "#9c179e"
             ],
             [
              0.4444444444444444,
              "#bd3786"
             ],
             [
              0.5555555555555556,
              "#d8576b"
             ],
             [
              0.6666666666666666,
              "#ed7953"
             ],
             [
              0.7777777777777778,
              "#fb9f3a"
             ],
             [
              0.8888888888888888,
              "#fdca26"
             ],
             [
              1,
              "#f0f921"
             ]
            ],
            "type": "heatmapgl"
           }
          ],
          "histogram": [
           {
            "marker": {
             "pattern": {
              "fillmode": "overlay",
              "size": 10,
              "solidity": 0.2
             }
            },
            "type": "histogram"
           }
          ],
          "histogram2d": [
           {
            "colorbar": {
             "outlinewidth": 0,
             "ticks": ""
            },
            "colorscale": [
             [
              0,
              "#0d0887"
             ],
             [
              0.1111111111111111,
              "#46039f"
             ],
             [
              0.2222222222222222,
              "#7201a8"
             ],
             [
              0.3333333333333333,
              "#9c179e"
             ],
             [
              0.4444444444444444,
              "#bd3786"
             ],
             [
              0.5555555555555556,
              "#d8576b"
             ],
             [
              0.6666666666666666,
              "#ed7953"
             ],
             [
              0.7777777777777778,
              "#fb9f3a"
             ],
             [
              0.8888888888888888,
              "#fdca26"
             ],
             [
              1,
              "#f0f921"
             ]
            ],
            "type": "histogram2d"
           }
          ],
          "histogram2dcontour": [
           {
            "colorbar": {
             "outlinewidth": 0,
             "ticks": ""
            },
            "colorscale": [
             [
              0,
              "#0d0887"
             ],
             [
              0.1111111111111111,
              "#46039f"
             ],
             [
              0.2222222222222222,
              "#7201a8"
             ],
             [
              0.3333333333333333,
              "#9c179e"
             ],
             [
              0.4444444444444444,
              "#bd3786"
             ],
             [
              0.5555555555555556,
              "#d8576b"
             ],
             [
              0.6666666666666666,
              "#ed7953"
             ],
             [
              0.7777777777777778,
              "#fb9f3a"
             ],
             [
              0.8888888888888888,
              "#fdca26"
             ],
             [
              1,
              "#f0f921"
             ]
            ],
            "type": "histogram2dcontour"
           }
          ],
          "mesh3d": [
           {
            "colorbar": {
             "outlinewidth": 0,
             "ticks": ""
            },
            "type": "mesh3d"
           }
          ],
          "parcoords": [
           {
            "line": {
             "colorbar": {
              "outlinewidth": 0,
              "ticks": ""
             }
            },
            "type": "parcoords"
           }
          ],
          "pie": [
           {
            "automargin": true,
            "type": "pie"
           }
          ],
          "scatter": [
           {
            "marker": {
             "colorbar": {
              "outlinewidth": 0,
              "ticks": ""
             }
            },
            "type": "scatter"
           }
          ],
          "scatter3d": [
           {
            "line": {
             "colorbar": {
              "outlinewidth": 0,
              "ticks": ""
             }
            },
            "marker": {
             "colorbar": {
              "outlinewidth": 0,
              "ticks": ""
             }
            },
            "type": "scatter3d"
           }
          ],
          "scattercarpet": [
           {
            "marker": {
             "colorbar": {
              "outlinewidth": 0,
              "ticks": ""
             }
            },
            "type": "scattercarpet"
           }
          ],
          "scattergeo": [
           {
            "marker": {
             "colorbar": {
              "outlinewidth": 0,
              "ticks": ""
             }
            },
            "type": "scattergeo"
           }
          ],
          "scattergl": [
           {
            "marker": {
             "colorbar": {
              "outlinewidth": 0,
              "ticks": ""
             }
            },
            "type": "scattergl"
           }
          ],
          "scattermapbox": [
           {
            "marker": {
             "colorbar": {
              "outlinewidth": 0,
              "ticks": ""
             }
            },
            "type": "scattermapbox"
           }
          ],
          "scatterpolar": [
           {
            "marker": {
             "colorbar": {
              "outlinewidth": 0,
              "ticks": ""
             }
            },
            "type": "scatterpolar"
           }
          ],
          "scatterpolargl": [
           {
            "marker": {
             "colorbar": {
              "outlinewidth": 0,
              "ticks": ""
             }
            },
            "type": "scatterpolargl"
           }
          ],
          "scatterternary": [
           {
            "marker": {
             "colorbar": {
              "outlinewidth": 0,
              "ticks": ""
             }
            },
            "type": "scatterternary"
           }
          ],
          "surface": [
           {
            "colorbar": {
             "outlinewidth": 0,
             "ticks": ""
            },
            "colorscale": [
             [
              0,
              "#0d0887"
             ],
             [
              0.1111111111111111,
              "#46039f"
             ],
             [
              0.2222222222222222,
              "#7201a8"
             ],
             [
              0.3333333333333333,
              "#9c179e"
             ],
             [
              0.4444444444444444,
              "#bd3786"
             ],
             [
              0.5555555555555556,
              "#d8576b"
             ],
             [
              0.6666666666666666,
              "#ed7953"
             ],
             [
              0.7777777777777778,
              "#fb9f3a"
             ],
             [
              0.8888888888888888,
              "#fdca26"
             ],
             [
              1,
              "#f0f921"
             ]
            ],
            "type": "surface"
           }
          ],
          "table": [
           {
            "cells": {
             "fill": {
              "color": "#EBF0F8"
             },
             "line": {
              "color": "white"
             }
            },
            "header": {
             "fill": {
              "color": "#C8D4E3"
             },
             "line": {
              "color": "white"
             }
            },
            "type": "table"
           }
          ]
         },
         "layout": {
          "annotationdefaults": {
           "arrowcolor": "#2a3f5f",
           "arrowhead": 0,
           "arrowwidth": 1
          },
          "autotypenumbers": "strict",
          "coloraxis": {
           "colorbar": {
            "outlinewidth": 0,
            "ticks": ""
           }
          },
          "colorscale": {
           "diverging": [
            [
             0,
             "#8e0152"
            ],
            [
             0.1,
             "#c51b7d"
            ],
            [
             0.2,
             "#de77ae"
            ],
            [
             0.3,
             "#f1b6da"
            ],
            [
             0.4,
             "#fde0ef"
            ],
            [
             0.5,
             "#f7f7f7"
            ],
            [
             0.6,
             "#e6f5d0"
            ],
            [
             0.7,
             "#b8e186"
            ],
            [
             0.8,
             "#7fbc41"
            ],
            [
             0.9,
             "#4d9221"
            ],
            [
             1,
             "#276419"
            ]
           ],
           "sequential": [
            [
             0,
             "#0d0887"
            ],
            [
             0.1111111111111111,
             "#46039f"
            ],
            [
             0.2222222222222222,
             "#7201a8"
            ],
            [
             0.3333333333333333,
             "#9c179e"
            ],
            [
             0.4444444444444444,
             "#bd3786"
            ],
            [
             0.5555555555555556,
             "#d8576b"
            ],
            [
             0.6666666666666666,
             "#ed7953"
            ],
            [
             0.7777777777777778,
             "#fb9f3a"
            ],
            [
             0.8888888888888888,
             "#fdca26"
            ],
            [
             1,
             "#f0f921"
            ]
           ],
           "sequentialminus": [
            [
             0,
             "#0d0887"
            ],
            [
             0.1111111111111111,
             "#46039f"
            ],
            [
             0.2222222222222222,
             "#7201a8"
            ],
            [
             0.3333333333333333,
             "#9c179e"
            ],
            [
             0.4444444444444444,
             "#bd3786"
            ],
            [
             0.5555555555555556,
             "#d8576b"
            ],
            [
             0.6666666666666666,
             "#ed7953"
            ],
            [
             0.7777777777777778,
             "#fb9f3a"
            ],
            [
             0.8888888888888888,
             "#fdca26"
            ],
            [
             1,
             "#f0f921"
            ]
           ]
          },
          "colorway": [
           "#636efa",
           "#EF553B",
           "#00cc96",
           "#ab63fa",
           "#FFA15A",
           "#19d3f3",
           "#FF6692",
           "#B6E880",
           "#FF97FF",
           "#FECB52"
          ],
          "font": {
           "color": "#2a3f5f"
          },
          "geo": {
           "bgcolor": "white",
           "lakecolor": "white",
           "landcolor": "#E5ECF6",
           "showlakes": true,
           "showland": true,
           "subunitcolor": "white"
          },
          "hoverlabel": {
           "align": "left"
          },
          "hovermode": "closest",
          "mapbox": {
           "style": "light"
          },
          "paper_bgcolor": "white",
          "plot_bgcolor": "#E5ECF6",
          "polar": {
           "angularaxis": {
            "gridcolor": "white",
            "linecolor": "white",
            "ticks": ""
           },
           "bgcolor": "#E5ECF6",
           "radialaxis": {
            "gridcolor": "white",
            "linecolor": "white",
            "ticks": ""
           }
          },
          "scene": {
           "xaxis": {
            "backgroundcolor": "#E5ECF6",
            "gridcolor": "white",
            "gridwidth": 2,
            "linecolor": "white",
            "showbackground": true,
            "ticks": "",
            "zerolinecolor": "white"
           },
           "yaxis": {
            "backgroundcolor": "#E5ECF6",
            "gridcolor": "white",
            "gridwidth": 2,
            "linecolor": "white",
            "showbackground": true,
            "ticks": "",
            "zerolinecolor": "white"
           },
           "zaxis": {
            "backgroundcolor": "#E5ECF6",
            "gridcolor": "white",
            "gridwidth": 2,
            "linecolor": "white",
            "showbackground": true,
            "ticks": "",
            "zerolinecolor": "white"
           }
          },
          "shapedefaults": {
           "line": {
            "color": "#2a3f5f"
           }
          },
          "ternary": {
           "aaxis": {
            "gridcolor": "white",
            "linecolor": "white",
            "ticks": ""
           },
           "baxis": {
            "gridcolor": "white",
            "linecolor": "white",
            "ticks": ""
           },
           "bgcolor": "#E5ECF6",
           "caxis": {
            "gridcolor": "white",
            "linecolor": "white",
            "ticks": ""
           }
          },
          "title": {
           "x": 0.05
          },
          "xaxis": {
           "automargin": true,
           "gridcolor": "white",
           "linecolor": "white",
           "ticks": "",
           "title": {
            "standoff": 15
           },
           "zerolinecolor": "white",
           "zerolinewidth": 2
          },
          "yaxis": {
           "automargin": true,
           "gridcolor": "white",
           "linecolor": "white",
           "ticks": "",
           "title": {
            "standoff": 15
           },
           "zerolinecolor": "white",
           "zerolinewidth": 2
          }
         }
        }
       }
      },
      "text/html": [
       "<div>                            <div id=\"a8ab3b2b-bee4-4b02-94a3-56a67057a0fd\" class=\"plotly-graph-div\" style=\"height:525px; width:100%;\"></div>            <script type=\"text/javascript\">                require([\"plotly\"], function(Plotly) {                    window.PLOTLYENV=window.PLOTLYENV || {};                                    if (document.getElementById(\"a8ab3b2b-bee4-4b02-94a3-56a67057a0fd\")) {                    Plotly.newPlot(                        \"a8ab3b2b-bee4-4b02-94a3-56a67057a0fd\",                        [{\"dimensions\":[{\"label\":\"Total Crashes\",\"values\":[18.8,18.1,18.6,22.4,12.0,13.6,10.8,16.2,5.9,17.9,15.6,17.5,15.3,12.8,14.5,15.7,17.8,21.4,20.5,15.1,12.5,8.2,14.1,9.6,17.6,16.1,21.4,14.9,14.7,11.6,11.2,18.4,12.3,16.8,23.9,14.1,19.9,12.8,18.2,11.1,23.9,19.4,19.5,19.4,11.3,13.6,12.7,10.6,23.8,13.8,17.4]},{\"label\":\"Speed Related\",\"values\":[7.332000000000001,7.421,6.51,4.032,4.2,5.032,4.968,6.156000000000001,2.006,3.759,2.964,9.45,5.508000000000001,4.6080000000000005,3.625,2.669,4.806,4.066,7.175,5.738,4.25,1.886,3.384,2.208,2.64,6.923000000000001,8.345999999999998,1.9370000000000005,5.439,4.06,1.7919999999999998,3.496,3.936,6.5520000000000005,5.496999999999999,3.948,6.367999999999999,4.224,9.1,3.774,9.082,6.013999999999999,4.095,7.76,4.859,4.08,2.413,4.452,8.092,4.968,7.308]},{\"label\":\"Alcohol Related\",\"values\":[5.64,4.525,5.208000000000001,5.824,3.36,3.808,3.888,4.86,1.5930000000000002,5.190999999999999,3.9,7.175,4.437,4.352,4.205,3.925,4.272,4.922,6.765,4.53,4.0,2.87,3.948,2.784,5.456,5.474000000000001,9.416,5.215,4.704,3.48,3.136,4.968,3.5670000000000006,5.208000000000001,10.038,4.794,5.770999999999999,3.3280000000000003,5.642,4.218,9.799,6.401999999999999,5.655,7.371999999999999,1.808,4.08,3.429,3.498,6.664,4.554,5.568]},{\"label\":\"Not Distracted\",\"values\":[18.048,16.290000000000003,15.624,21.056,10.92,10.743999999999998,9.396,14.094,5.9,16.468,14.82,14.35,13.005,12.032,13.775,15.229,13.706,16.691999999999997,14.965,13.137,8.875,7.134,13.395,8.448,1.76,14.812,17.976,13.857,13.965,10.092,9.632,12.328,10.824000000000002,15.792,23.661,13.958999999999998,18.308,8.576,17.471999999999998,10.212,22.944,19.012,15.99,17.654,9.944,13.056,11.049,8.692,23.086,5.382000000000001,14.094]},{\"label\":\"No Previous\",\"values\":[15.04,17.014,17.856,21.28,10.68,12.92,8.856,16.038,5.9,16.826,14.508,15.225,14.994000000000002,12.288000000000002,13.775,13.659,15.13,16.264,20.09,12.684,12.375,6.56,10.857,8.448,17.6,13.524,18.19,13.41,14.553,9.628,8.735999999999999,18.032,9.84,13.608,20.554,11.562,18.706,11.52,16.016,8.769,19.359,16.683999999999997,15.795,16.878,10.848000000000004,12.92,11.175999999999998,9.116,20.706,11.592,15.659999999999998]}],\"domain\":{\"x\":[0.0,1.0],\"y\":[0.0,1.0]},\"line\":{\"color\":[18.8,18.1,18.6,22.4,12.0,13.6,10.8,16.2,5.9,17.9,15.6,17.5,15.3,12.8,14.5,15.7,17.8,21.4,20.5,15.1,12.5,8.2,14.1,9.6,17.6,16.1,21.4,14.9,14.7,11.6,11.2,18.4,12.3,16.8,23.9,14.1,19.9,12.8,18.2,11.1,23.9,19.4,19.5,19.4,11.3,13.6,12.7,10.6,23.8,13.8,17.4],\"coloraxis\":\"coloraxis\"},\"name\":\"\",\"type\":\"parcoords\"}],                        {\"coloraxis\":{\"colorbar\":{\"title\":{\"text\":\"Total Crashes\"}},\"colorscale\":[[0.0,\"rgb(0, 147, 146)\"],[0.16666666666666666,\"rgb(114, 170, 161)\"],[0.3333333333333333,\"rgb(177, 199, 179)\"],[0.5,\"rgb(241, 234, 200)\"],[0.6666666666666666,\"rgb(229, 185, 173)\"],[0.8333333333333334,\"rgb(217, 137, 148)\"],[1.0,\"rgb(208, 88, 126)\"]]},\"legend\":{\"tracegroupgap\":0},\"margin\":{\"t\":60},\"template\":{\"data\":{\"bar\":[{\"error_x\":{\"color\":\"#2a3f5f\"},\"error_y\":{\"color\":\"#2a3f5f\"},\"marker\":{\"line\":{\"color\":\"#E5ECF6\",\"width\":0.5},\"pattern\":{\"fillmode\":\"overlay\",\"size\":10,\"solidity\":0.2}},\"type\":\"bar\"}],\"barpolar\":[{\"marker\":{\"line\":{\"color\":\"#E5ECF6\",\"width\":0.5},\"pattern\":{\"fillmode\":\"overlay\",\"size\":10,\"solidity\":0.2}},\"type\":\"barpolar\"}],\"carpet\":[{\"aaxis\":{\"endlinecolor\":\"#2a3f5f\",\"gridcolor\":\"white\",\"linecolor\":\"white\",\"minorgridcolor\":\"white\",\"startlinecolor\":\"#2a3f5f\"},\"baxis\":{\"endlinecolor\":\"#2a3f5f\",\"gridcolor\":\"white\",\"linecolor\":\"white\",\"minorgridcolor\":\"white\",\"startlinecolor\":\"#2a3f5f\"},\"type\":\"carpet\"}],\"choropleth\":[{\"colorbar\":{\"outlinewidth\":0,\"ticks\":\"\"},\"type\":\"choropleth\"}],\"contour\":[{\"colorbar\":{\"outlinewidth\":0,\"ticks\":\"\"},\"colorscale\":[[0.0,\"#0d0887\"],[0.1111111111111111,\"#46039f\"],[0.2222222222222222,\"#7201a8\"],[0.3333333333333333,\"#9c179e\"],[0.4444444444444444,\"#bd3786\"],[0.5555555555555556,\"#d8576b\"],[0.6666666666666666,\"#ed7953\"],[0.7777777777777778,\"#fb9f3a\"],[0.8888888888888888,\"#fdca26\"],[1.0,\"#f0f921\"]],\"type\":\"contour\"}],\"contourcarpet\":[{\"colorbar\":{\"outlinewidth\":0,\"ticks\":\"\"},\"type\":\"contourcarpet\"}],\"heatmap\":[{\"colorbar\":{\"outlinewidth\":0,\"ticks\":\"\"},\"colorscale\":[[0.0,\"#0d0887\"],[0.1111111111111111,\"#46039f\"],[0.2222222222222222,\"#7201a8\"],[0.3333333333333333,\"#9c179e\"],[0.4444444444444444,\"#bd3786\"],[0.5555555555555556,\"#d8576b\"],[0.6666666666666666,\"#ed7953\"],[0.7777777777777778,\"#fb9f3a\"],[0.8888888888888888,\"#fdca26\"],[1.0,\"#f0f921\"]],\"type\":\"heatmap\"}],\"heatmapgl\":[{\"colorbar\":{\"outlinewidth\":0,\"ticks\":\"\"},\"colorscale\":[[0.0,\"#0d0887\"],[0.1111111111111111,\"#46039f\"],[0.2222222222222222,\"#7201a8\"],[0.3333333333333333,\"#9c179e\"],[0.4444444444444444,\"#bd3786\"],[0.5555555555555556,\"#d8576b\"],[0.6666666666666666,\"#ed7953\"],[0.7777777777777778,\"#fb9f3a\"],[0.8888888888888888,\"#fdca26\"],[1.0,\"#f0f921\"]],\"type\":\"heatmapgl\"}],\"histogram\":[{\"marker\":{\"pattern\":{\"fillmode\":\"overlay\",\"size\":10,\"solidity\":0.2}},\"type\":\"histogram\"}],\"histogram2d\":[{\"colorbar\":{\"outlinewidth\":0,\"ticks\":\"\"},\"colorscale\":[[0.0,\"#0d0887\"],[0.1111111111111111,\"#46039f\"],[0.2222222222222222,\"#7201a8\"],[0.3333333333333333,\"#9c179e\"],[0.4444444444444444,\"#bd3786\"],[0.5555555555555556,\"#d8576b\"],[0.6666666666666666,\"#ed7953\"],[0.7777777777777778,\"#fb9f3a\"],[0.8888888888888888,\"#fdca26\"],[1.0,\"#f0f921\"]],\"type\":\"histogram2d\"}],\"histogram2dcontour\":[{\"colorbar\":{\"outlinewidth\":0,\"ticks\":\"\"},\"colorscale\":[[0.0,\"#0d0887\"],[0.1111111111111111,\"#46039f\"],[0.2222222222222222,\"#7201a8\"],[0.3333333333333333,\"#9c179e\"],[0.4444444444444444,\"#bd3786\"],[0.5555555555555556,\"#d8576b\"],[0.6666666666666666,\"#ed7953\"],[0.7777777777777778,\"#fb9f3a\"],[0.8888888888888888,\"#fdca26\"],[1.0,\"#f0f921\"]],\"type\":\"histogram2dcontour\"}],\"mesh3d\":[{\"colorbar\":{\"outlinewidth\":0,\"ticks\":\"\"},\"type\":\"mesh3d\"}],\"parcoords\":[{\"line\":{\"colorbar\":{\"outlinewidth\":0,\"ticks\":\"\"}},\"type\":\"parcoords\"}],\"pie\":[{\"automargin\":true,\"type\":\"pie\"}],\"scatter\":[{\"marker\":{\"colorbar\":{\"outlinewidth\":0,\"ticks\":\"\"}},\"type\":\"scatter\"}],\"scatter3d\":[{\"line\":{\"colorbar\":{\"outlinewidth\":0,\"ticks\":\"\"}},\"marker\":{\"colorbar\":{\"outlinewidth\":0,\"ticks\":\"\"}},\"type\":\"scatter3d\"}],\"scattercarpet\":[{\"marker\":{\"colorbar\":{\"outlinewidth\":0,\"ticks\":\"\"}},\"type\":\"scattercarpet\"}],\"scattergeo\":[{\"marker\":{\"colorbar\":{\"outlinewidth\":0,\"ticks\":\"\"}},\"type\":\"scattergeo\"}],\"scattergl\":[{\"marker\":{\"colorbar\":{\"outlinewidth\":0,\"ticks\":\"\"}},\"type\":\"scattergl\"}],\"scattermapbox\":[{\"marker\":{\"colorbar\":{\"outlinewidth\":0,\"ticks\":\"\"}},\"type\":\"scattermapbox\"}],\"scatterpolar\":[{\"marker\":{\"colorbar\":{\"outlinewidth\":0,\"ticks\":\"\"}},\"type\":\"scatterpolar\"}],\"scatterpolargl\":[{\"marker\":{\"colorbar\":{\"outlinewidth\":0,\"ticks\":\"\"}},\"type\":\"scatterpolargl\"}],\"scatterternary\":[{\"marker\":{\"colorbar\":{\"outlinewidth\":0,\"ticks\":\"\"}},\"type\":\"scatterternary\"}],\"surface\":[{\"colorbar\":{\"outlinewidth\":0,\"ticks\":\"\"},\"colorscale\":[[0.0,\"#0d0887\"],[0.1111111111111111,\"#46039f\"],[0.2222222222222222,\"#7201a8\"],[0.3333333333333333,\"#9c179e\"],[0.4444444444444444,\"#bd3786\"],[0.5555555555555556,\"#d8576b\"],[0.6666666666666666,\"#ed7953\"],[0.7777777777777778,\"#fb9f3a\"],[0.8888888888888888,\"#fdca26\"],[1.0,\"#f0f921\"]],\"type\":\"surface\"}],\"table\":[{\"cells\":{\"fill\":{\"color\":\"#EBF0F8\"},\"line\":{\"color\":\"white\"}},\"header\":{\"fill\":{\"color\":\"#C8D4E3\"},\"line\":{\"color\":\"white\"}},\"type\":\"table\"}]},\"layout\":{\"annotationdefaults\":{\"arrowcolor\":\"#2a3f5f\",\"arrowhead\":0,\"arrowwidth\":1},\"autotypenumbers\":\"strict\",\"coloraxis\":{\"colorbar\":{\"outlinewidth\":0,\"ticks\":\"\"}},\"colorscale\":{\"diverging\":[[0,\"#8e0152\"],[0.1,\"#c51b7d\"],[0.2,\"#de77ae\"],[0.3,\"#f1b6da\"],[0.4,\"#fde0ef\"],[0.5,\"#f7f7f7\"],[0.6,\"#e6f5d0\"],[0.7,\"#b8e186\"],[0.8,\"#7fbc41\"],[0.9,\"#4d9221\"],[1,\"#276419\"]],\"sequential\":[[0.0,\"#0d0887\"],[0.1111111111111111,\"#46039f\"],[0.2222222222222222,\"#7201a8\"],[0.3333333333333333,\"#9c179e\"],[0.4444444444444444,\"#bd3786\"],[0.5555555555555556,\"#d8576b\"],[0.6666666666666666,\"#ed7953\"],[0.7777777777777778,\"#fb9f3a\"],[0.8888888888888888,\"#fdca26\"],[1.0,\"#f0f921\"]],\"sequentialminus\":[[0.0,\"#0d0887\"],[0.1111111111111111,\"#46039f\"],[0.2222222222222222,\"#7201a8\"],[0.3333333333333333,\"#9c179e\"],[0.4444444444444444,\"#bd3786\"],[0.5555555555555556,\"#d8576b\"],[0.6666666666666666,\"#ed7953\"],[0.7777777777777778,\"#fb9f3a\"],[0.8888888888888888,\"#fdca26\"],[1.0,\"#f0f921\"]]},\"colorway\":[\"#636efa\",\"#EF553B\",\"#00cc96\",\"#ab63fa\",\"#FFA15A\",\"#19d3f3\",\"#FF6692\",\"#B6E880\",\"#FF97FF\",\"#FECB52\"],\"font\":{\"color\":\"#2a3f5f\"},\"geo\":{\"bgcolor\":\"white\",\"lakecolor\":\"white\",\"landcolor\":\"#E5ECF6\",\"showlakes\":true,\"showland\":true,\"subunitcolor\":\"white\"},\"hoverlabel\":{\"align\":\"left\"},\"hovermode\":\"closest\",\"mapbox\":{\"style\":\"light\"},\"paper_bgcolor\":\"white\",\"plot_bgcolor\":\"#E5ECF6\",\"polar\":{\"angularaxis\":{\"gridcolor\":\"white\",\"linecolor\":\"white\",\"ticks\":\"\"},\"bgcolor\":\"#E5ECF6\",\"radialaxis\":{\"gridcolor\":\"white\",\"linecolor\":\"white\",\"ticks\":\"\"}},\"scene\":{\"xaxis\":{\"backgroundcolor\":\"#E5ECF6\",\"gridcolor\":\"white\",\"gridwidth\":2,\"linecolor\":\"white\",\"showbackground\":true,\"ticks\":\"\",\"zerolinecolor\":\"white\"},\"yaxis\":{\"backgroundcolor\":\"#E5ECF6\",\"gridcolor\":\"white\",\"gridwidth\":2,\"linecolor\":\"white\",\"showbackground\":true,\"ticks\":\"\",\"zerolinecolor\":\"white\"},\"zaxis\":{\"backgroundcolor\":\"#E5ECF6\",\"gridcolor\":\"white\",\"gridwidth\":2,\"linecolor\":\"white\",\"showbackground\":true,\"ticks\":\"\",\"zerolinecolor\":\"white\"}},\"shapedefaults\":{\"line\":{\"color\":\"#2a3f5f\"}},\"ternary\":{\"aaxis\":{\"gridcolor\":\"white\",\"linecolor\":\"white\",\"ticks\":\"\"},\"baxis\":{\"gridcolor\":\"white\",\"linecolor\":\"white\",\"ticks\":\"\"},\"bgcolor\":\"#E5ECF6\",\"caxis\":{\"gridcolor\":\"white\",\"linecolor\":\"white\",\"ticks\":\"\"}},\"title\":{\"x\":0.05},\"xaxis\":{\"automargin\":true,\"gridcolor\":\"white\",\"linecolor\":\"white\",\"ticks\":\"\",\"title\":{\"standoff\":15},\"zerolinecolor\":\"white\",\"zerolinewidth\":2},\"yaxis\":{\"automargin\":true,\"gridcolor\":\"white\",\"linecolor\":\"white\",\"ticks\":\"\",\"title\":{\"standoff\":15},\"zerolinecolor\":\"white\",\"zerolinewidth\":2}}}},                        {\"responsive\": true}                    ).then(function(){\n",
       "                            \n",
       "var gd = document.getElementById('a8ab3b2b-bee4-4b02-94a3-56a67057a0fd');\n",
       "var x = new MutationObserver(function (mutations, observer) {{\n",
       "        var display = window.getComputedStyle(gd).display;\n",
       "        if (!display || display === 'none') {{\n",
       "            console.log([gd, 'removed!']);\n",
       "            Plotly.purge(gd);\n",
       "            observer.disconnect();\n",
       "        }}\n",
       "}});\n",
       "\n",
       "// Listen for the removal of the full notebook cells\n",
       "var notebookContainer = gd.closest('#notebook-container');\n",
       "if (notebookContainer) {{\n",
       "    x.observe(notebookContainer, {childList: true});\n",
       "}}\n",
       "\n",
       "// Listen for the clearing of the current output cell\n",
       "var outputEl = gd.closest('.output');\n",
       "if (outputEl) {{\n",
       "    x.observe(outputEl, {childList: true});\n",
       "}}\n",
       "\n",
       "                        })                };                });            </script>        </div>"
      ]
     },
     "metadata": {},
     "output_type": "display_data"
    }
   ],
   "source": [
    "fig = px.parallel_coordinates(car_crashes[['total', 'speeding', 'alcohol', 'not_distracted', 'no_previous']], \n",
    "                              color=\"total\", labels={\"total\": \"Total Crashes\",\n",
    "                              \"alcohol\": \"Alcohol Related\", \"speeding\": \"Speed Related\",\n",
    "                              \"not_distracted\": \"Not Distracted\", \"no_previous\": \"No Previous\",},\n",
    "                                color_continuous_scale=px.colors.diverging.Tealrose)\n",
    "fig.show()"
   ]
  },
  {
   "cell_type": "markdown",
   "metadata": {},
   "source": [
    "Higher numbers of total crashes see higher rates of speed related, alcohol related, non-distracted, and first time car crashes. We can also observe that states with smaller total car crashes mainly see non-distracted crashes, indicating to us that distracted drivers induce higher total car crashes."
   ]
  },
  {
   "cell_type": "markdown",
   "metadata": {},
   "source": [
    "Finally let's see if there are any regions with a higher number of car crashes than others."
   ]
  },
  {
   "cell_type": "code",
   "execution_count": 46,
   "metadata": {},
   "outputs": [
    {
     "data": {
      "application/vnd.plotly.v1+json": {
       "config": {
        "plotlyServerURL": "https://plot.ly"
       },
       "data": [
        {
         "coloraxis": "coloraxis",
         "geo": "geo",
         "hovertemplate": "<b>%{hovertext}</b><br><br>abbrev=%{location}<br>Total Car Crashes=%{z}<extra></extra>",
         "hovertext": [
          "AL",
          "AK",
          "AZ",
          "AR",
          "CA",
          "CO",
          "CT",
          "DE",
          "DC",
          "FL",
          "GA",
          "HI",
          "ID",
          "IL",
          "IN",
          "IA",
          "KS",
          "KY",
          "LA",
          "ME",
          "MD",
          "MA",
          "MI",
          "MN",
          "MS",
          "MO",
          "MT",
          "NE",
          "NV",
          "NH",
          "NJ",
          "NM",
          "NY",
          "NC",
          "ND",
          "OH",
          "OK",
          "OR",
          "PA",
          "RI",
          "SC",
          "SD",
          "TN",
          "TX",
          "UT",
          "VT",
          "VA",
          "WA",
          "WV",
          "WI",
          "WY"
         ],
         "locationmode": "USA-states",
         "locations": [
          "AL",
          "AK",
          "AZ",
          "AR",
          "CA",
          "CO",
          "CT",
          "DE",
          "DC",
          "FL",
          "GA",
          "HI",
          "ID",
          "IL",
          "IN",
          "IA",
          "KS",
          "KY",
          "LA",
          "ME",
          "MD",
          "MA",
          "MI",
          "MN",
          "MS",
          "MO",
          "MT",
          "NE",
          "NV",
          "NH",
          "NJ",
          "NM",
          "NY",
          "NC",
          "ND",
          "OH",
          "OK",
          "OR",
          "PA",
          "RI",
          "SC",
          "SD",
          "TN",
          "TX",
          "UT",
          "VT",
          "VA",
          "WA",
          "WV",
          "WI",
          "WY"
         ],
         "name": "",
         "type": "choropleth",
         "z": [
          18.8,
          18.1,
          18.6,
          22.4,
          12,
          13.6,
          10.8,
          16.2,
          5.9,
          17.9,
          15.6,
          17.5,
          15.3,
          12.8,
          14.5,
          15.7,
          17.8,
          21.4,
          20.5,
          15.1,
          12.5,
          8.2,
          14.1,
          9.6,
          17.6,
          16.1,
          21.4,
          14.9,
          14.7,
          11.6,
          11.2,
          18.4,
          12.3,
          16.8,
          23.9,
          14.1,
          19.9,
          12.8,
          18.2,
          11.1,
          23.9,
          19.4,
          19.5,
          19.4,
          11.3,
          13.6,
          12.7,
          10.6,
          23.8,
          13.8,
          17.4
         ]
        }
       ],
       "layout": {
        "coloraxis": {
         "colorbar": {
          "title": {
           "text": "Total Car Crashes"
          }
         },
         "colorscale": [
          [
           0,
           "rgb(94,79,162)"
          ],
          [
           0.1,
           "rgb(50,136,189)"
          ],
          [
           0.2,
           "rgb(102,194,165)"
          ],
          [
           0.3,
           "rgb(171,221,164)"
          ],
          [
           0.4,
           "rgb(230,245,152)"
          ],
          [
           0.5,
           "rgb(255,255,191)"
          ],
          [
           0.6,
           "rgb(254,224,139)"
          ],
          [
           0.7,
           "rgb(253,174,97)"
          ],
          [
           0.8,
           "rgb(244,109,67)"
          ],
          [
           0.9,
           "rgb(213,62,79)"
          ],
          [
           1,
           "rgb(158,1,66)"
          ]
         ]
        },
        "geo": {
         "center": {},
         "domain": {
          "x": [
           0,
           1
          ],
          "y": [
           0,
           1
          ]
         },
         "scope": "usa"
        },
        "legend": {
         "tracegroupgap": 0
        },
        "margin": {
         "t": 60
        },
        "template": {
         "data": {
          "bar": [
           {
            "error_x": {
             "color": "#2a3f5f"
            },
            "error_y": {
             "color": "#2a3f5f"
            },
            "marker": {
             "line": {
              "color": "#E5ECF6",
              "width": 0.5
             },
             "pattern": {
              "fillmode": "overlay",
              "size": 10,
              "solidity": 0.2
             }
            },
            "type": "bar"
           }
          ],
          "barpolar": [
           {
            "marker": {
             "line": {
              "color": "#E5ECF6",
              "width": 0.5
             },
             "pattern": {
              "fillmode": "overlay",
              "size": 10,
              "solidity": 0.2
             }
            },
            "type": "barpolar"
           }
          ],
          "carpet": [
           {
            "aaxis": {
             "endlinecolor": "#2a3f5f",
             "gridcolor": "white",
             "linecolor": "white",
             "minorgridcolor": "white",
             "startlinecolor": "#2a3f5f"
            },
            "baxis": {
             "endlinecolor": "#2a3f5f",
             "gridcolor": "white",
             "linecolor": "white",
             "minorgridcolor": "white",
             "startlinecolor": "#2a3f5f"
            },
            "type": "carpet"
           }
          ],
          "choropleth": [
           {
            "colorbar": {
             "outlinewidth": 0,
             "ticks": ""
            },
            "type": "choropleth"
           }
          ],
          "contour": [
           {
            "colorbar": {
             "outlinewidth": 0,
             "ticks": ""
            },
            "colorscale": [
             [
              0,
              "#0d0887"
             ],
             [
              0.1111111111111111,
              "#46039f"
             ],
             [
              0.2222222222222222,
              "#7201a8"
             ],
             [
              0.3333333333333333,
              "#9c179e"
             ],
             [
              0.4444444444444444,
              "#bd3786"
             ],
             [
              0.5555555555555556,
              "#d8576b"
             ],
             [
              0.6666666666666666,
              "#ed7953"
             ],
             [
              0.7777777777777778,
              "#fb9f3a"
             ],
             [
              0.8888888888888888,
              "#fdca26"
             ],
             [
              1,
              "#f0f921"
             ]
            ],
            "type": "contour"
           }
          ],
          "contourcarpet": [
           {
            "colorbar": {
             "outlinewidth": 0,
             "ticks": ""
            },
            "type": "contourcarpet"
           }
          ],
          "heatmap": [
           {
            "colorbar": {
             "outlinewidth": 0,
             "ticks": ""
            },
            "colorscale": [
             [
              0,
              "#0d0887"
             ],
             [
              0.1111111111111111,
              "#46039f"
             ],
             [
              0.2222222222222222,
              "#7201a8"
             ],
             [
              0.3333333333333333,
              "#9c179e"
             ],
             [
              0.4444444444444444,
              "#bd3786"
             ],
             [
              0.5555555555555556,
              "#d8576b"
             ],
             [
              0.6666666666666666,
              "#ed7953"
             ],
             [
              0.7777777777777778,
              "#fb9f3a"
             ],
             [
              0.8888888888888888,
              "#fdca26"
             ],
             [
              1,
              "#f0f921"
             ]
            ],
            "type": "heatmap"
           }
          ],
          "heatmapgl": [
           {
            "colorbar": {
             "outlinewidth": 0,
             "ticks": ""
            },
            "colorscale": [
             [
              0,
              "#0d0887"
             ],
             [
              0.1111111111111111,
              "#46039f"
             ],
             [
              0.2222222222222222,
              "#7201a8"
             ],
             [
              0.3333333333333333,
              "#9c179e"
             ],
             [
              0.4444444444444444,
              "#bd3786"
             ],
             [
              0.5555555555555556,
              "#d8576b"
             ],
             [
              0.6666666666666666,
              "#ed7953"
             ],
             [
              0.7777777777777778,
              "#fb9f3a"
             ],
             [
              0.8888888888888888,
              "#fdca26"
             ],
             [
              1,
              "#f0f921"
             ]
            ],
            "type": "heatmapgl"
           }
          ],
          "histogram": [
           {
            "marker": {
             "pattern": {
              "fillmode": "overlay",
              "size": 10,
              "solidity": 0.2
             }
            },
            "type": "histogram"
           }
          ],
          "histogram2d": [
           {
            "colorbar": {
             "outlinewidth": 0,
             "ticks": ""
            },
            "colorscale": [
             [
              0,
              "#0d0887"
             ],
             [
              0.1111111111111111,
              "#46039f"
             ],
             [
              0.2222222222222222,
              "#7201a8"
             ],
             [
              0.3333333333333333,
              "#9c179e"
             ],
             [
              0.4444444444444444,
              "#bd3786"
             ],
             [
              0.5555555555555556,
              "#d8576b"
             ],
             [
              0.6666666666666666,
              "#ed7953"
             ],
             [
              0.7777777777777778,
              "#fb9f3a"
             ],
             [
              0.8888888888888888,
              "#fdca26"
             ],
             [
              1,
              "#f0f921"
             ]
            ],
            "type": "histogram2d"
           }
          ],
          "histogram2dcontour": [
           {
            "colorbar": {
             "outlinewidth": 0,
             "ticks": ""
            },
            "colorscale": [
             [
              0,
              "#0d0887"
             ],
             [
              0.1111111111111111,
              "#46039f"
             ],
             [
              0.2222222222222222,
              "#7201a8"
             ],
             [
              0.3333333333333333,
              "#9c179e"
             ],
             [
              0.4444444444444444,
              "#bd3786"
             ],
             [
              0.5555555555555556,
              "#d8576b"
             ],
             [
              0.6666666666666666,
              "#ed7953"
             ],
             [
              0.7777777777777778,
              "#fb9f3a"
             ],
             [
              0.8888888888888888,
              "#fdca26"
             ],
             [
              1,
              "#f0f921"
             ]
            ],
            "type": "histogram2dcontour"
           }
          ],
          "mesh3d": [
           {
            "colorbar": {
             "outlinewidth": 0,
             "ticks": ""
            },
            "type": "mesh3d"
           }
          ],
          "parcoords": [
           {
            "line": {
             "colorbar": {
              "outlinewidth": 0,
              "ticks": ""
             }
            },
            "type": "parcoords"
           }
          ],
          "pie": [
           {
            "automargin": true,
            "type": "pie"
           }
          ],
          "scatter": [
           {
            "marker": {
             "colorbar": {
              "outlinewidth": 0,
              "ticks": ""
             }
            },
            "type": "scatter"
           }
          ],
          "scatter3d": [
           {
            "line": {
             "colorbar": {
              "outlinewidth": 0,
              "ticks": ""
             }
            },
            "marker": {
             "colorbar": {
              "outlinewidth": 0,
              "ticks": ""
             }
            },
            "type": "scatter3d"
           }
          ],
          "scattercarpet": [
           {
            "marker": {
             "colorbar": {
              "outlinewidth": 0,
              "ticks": ""
             }
            },
            "type": "scattercarpet"
           }
          ],
          "scattergeo": [
           {
            "marker": {
             "colorbar": {
              "outlinewidth": 0,
              "ticks": ""
             }
            },
            "type": "scattergeo"
           }
          ],
          "scattergl": [
           {
            "marker": {
             "colorbar": {
              "outlinewidth": 0,
              "ticks": ""
             }
            },
            "type": "scattergl"
           }
          ],
          "scattermapbox": [
           {
            "marker": {
             "colorbar": {
              "outlinewidth": 0,
              "ticks": ""
             }
            },
            "type": "scattermapbox"
           }
          ],
          "scatterpolar": [
           {
            "marker": {
             "colorbar": {
              "outlinewidth": 0,
              "ticks": ""
             }
            },
            "type": "scatterpolar"
           }
          ],
          "scatterpolargl": [
           {
            "marker": {
             "colorbar": {
              "outlinewidth": 0,
              "ticks": ""
             }
            },
            "type": "scatterpolargl"
           }
          ],
          "scatterternary": [
           {
            "marker": {
             "colorbar": {
              "outlinewidth": 0,
              "ticks": ""
             }
            },
            "type": "scatterternary"
           }
          ],
          "surface": [
           {
            "colorbar": {
             "outlinewidth": 0,
             "ticks": ""
            },
            "colorscale": [
             [
              0,
              "#0d0887"
             ],
             [
              0.1111111111111111,
              "#46039f"
             ],
             [
              0.2222222222222222,
              "#7201a8"
             ],
             [
              0.3333333333333333,
              "#9c179e"
             ],
             [
              0.4444444444444444,
              "#bd3786"
             ],
             [
              0.5555555555555556,
              "#d8576b"
             ],
             [
              0.6666666666666666,
              "#ed7953"
             ],
             [
              0.7777777777777778,
              "#fb9f3a"
             ],
             [
              0.8888888888888888,
              "#fdca26"
             ],
             [
              1,
              "#f0f921"
             ]
            ],
            "type": "surface"
           }
          ],
          "table": [
           {
            "cells": {
             "fill": {
              "color": "#EBF0F8"
             },
             "line": {
              "color": "white"
             }
            },
            "header": {
             "fill": {
              "color": "#C8D4E3"
             },
             "line": {
              "color": "white"
             }
            },
            "type": "table"
           }
          ]
         },
         "layout": {
          "annotationdefaults": {
           "arrowcolor": "#2a3f5f",
           "arrowhead": 0,
           "arrowwidth": 1
          },
          "autotypenumbers": "strict",
          "coloraxis": {
           "colorbar": {
            "outlinewidth": 0,
            "ticks": ""
           }
          },
          "colorscale": {
           "diverging": [
            [
             0,
             "#8e0152"
            ],
            [
             0.1,
             "#c51b7d"
            ],
            [
             0.2,
             "#de77ae"
            ],
            [
             0.3,
             "#f1b6da"
            ],
            [
             0.4,
             "#fde0ef"
            ],
            [
             0.5,
             "#f7f7f7"
            ],
            [
             0.6,
             "#e6f5d0"
            ],
            [
             0.7,
             "#b8e186"
            ],
            [
             0.8,
             "#7fbc41"
            ],
            [
             0.9,
             "#4d9221"
            ],
            [
             1,
             "#276419"
            ]
           ],
           "sequential": [
            [
             0,
             "#0d0887"
            ],
            [
             0.1111111111111111,
             "#46039f"
            ],
            [
             0.2222222222222222,
             "#7201a8"
            ],
            [
             0.3333333333333333,
             "#9c179e"
            ],
            [
             0.4444444444444444,
             "#bd3786"
            ],
            [
             0.5555555555555556,
             "#d8576b"
            ],
            [
             0.6666666666666666,
             "#ed7953"
            ],
            [
             0.7777777777777778,
             "#fb9f3a"
            ],
            [
             0.8888888888888888,
             "#fdca26"
            ],
            [
             1,
             "#f0f921"
            ]
           ],
           "sequentialminus": [
            [
             0,
             "#0d0887"
            ],
            [
             0.1111111111111111,
             "#46039f"
            ],
            [
             0.2222222222222222,
             "#7201a8"
            ],
            [
             0.3333333333333333,
             "#9c179e"
            ],
            [
             0.4444444444444444,
             "#bd3786"
            ],
            [
             0.5555555555555556,
             "#d8576b"
            ],
            [
             0.6666666666666666,
             "#ed7953"
            ],
            [
             0.7777777777777778,
             "#fb9f3a"
            ],
            [
             0.8888888888888888,
             "#fdca26"
            ],
            [
             1,
             "#f0f921"
            ]
           ]
          },
          "colorway": [
           "#636efa",
           "#EF553B",
           "#00cc96",
           "#ab63fa",
           "#FFA15A",
           "#19d3f3",
           "#FF6692",
           "#B6E880",
           "#FF97FF",
           "#FECB52"
          ],
          "font": {
           "color": "#2a3f5f"
          },
          "geo": {
           "bgcolor": "white",
           "lakecolor": "white",
           "landcolor": "#E5ECF6",
           "showlakes": true,
           "showland": true,
           "subunitcolor": "white"
          },
          "hoverlabel": {
           "align": "left"
          },
          "hovermode": "closest",
          "mapbox": {
           "style": "light"
          },
          "paper_bgcolor": "white",
          "plot_bgcolor": "#E5ECF6",
          "polar": {
           "angularaxis": {
            "gridcolor": "white",
            "linecolor": "white",
            "ticks": ""
           },
           "bgcolor": "#E5ECF6",
           "radialaxis": {
            "gridcolor": "white",
            "linecolor": "white",
            "ticks": ""
           }
          },
          "scene": {
           "xaxis": {
            "backgroundcolor": "#E5ECF6",
            "gridcolor": "white",
            "gridwidth": 2,
            "linecolor": "white",
            "showbackground": true,
            "ticks": "",
            "zerolinecolor": "white"
           },
           "yaxis": {
            "backgroundcolor": "#E5ECF6",
            "gridcolor": "white",
            "gridwidth": 2,
            "linecolor": "white",
            "showbackground": true,
            "ticks": "",
            "zerolinecolor": "white"
           },
           "zaxis": {
            "backgroundcolor": "#E5ECF6",
            "gridcolor": "white",
            "gridwidth": 2,
            "linecolor": "white",
            "showbackground": true,
            "ticks": "",
            "zerolinecolor": "white"
           }
          },
          "shapedefaults": {
           "line": {
            "color": "#2a3f5f"
           }
          },
          "ternary": {
           "aaxis": {
            "gridcolor": "white",
            "linecolor": "white",
            "ticks": ""
           },
           "baxis": {
            "gridcolor": "white",
            "linecolor": "white",
            "ticks": ""
           },
           "bgcolor": "#E5ECF6",
           "caxis": {
            "gridcolor": "white",
            "linecolor": "white",
            "ticks": ""
           }
          },
          "title": {
           "x": 0.05
          },
          "xaxis": {
           "automargin": true,
           "gridcolor": "white",
           "linecolor": "white",
           "ticks": "",
           "title": {
            "standoff": 15
           },
           "zerolinecolor": "white",
           "zerolinewidth": 2
          },
          "yaxis": {
           "automargin": true,
           "gridcolor": "white",
           "linecolor": "white",
           "ticks": "",
           "title": {
            "standoff": 15
           },
           "zerolinecolor": "white",
           "zerolinewidth": 2
          }
         }
        },
        "title": {
         "text": "Total Car Crashes in the US by state"
        }
       }
      },
      "text/html": [
       "<div>                            <div id=\"4547a647-2bd8-497d-8ea7-21a53c46c111\" class=\"plotly-graph-div\" style=\"height:525px; width:100%;\"></div>            <script type=\"text/javascript\">                require([\"plotly\"], function(Plotly) {                    window.PLOTLYENV=window.PLOTLYENV || {};                                    if (document.getElementById(\"4547a647-2bd8-497d-8ea7-21a53c46c111\")) {                    Plotly.newPlot(                        \"4547a647-2bd8-497d-8ea7-21a53c46c111\",                        [{\"coloraxis\":\"coloraxis\",\"geo\":\"geo\",\"hovertemplate\":\"<b>%{hovertext}</b><br><br>abbrev=%{location}<br>Total Car Crashes=%{z}<extra></extra>\",\"hovertext\":[\"AL\",\"AK\",\"AZ\",\"AR\",\"CA\",\"CO\",\"CT\",\"DE\",\"DC\",\"FL\",\"GA\",\"HI\",\"ID\",\"IL\",\"IN\",\"IA\",\"KS\",\"KY\",\"LA\",\"ME\",\"MD\",\"MA\",\"MI\",\"MN\",\"MS\",\"MO\",\"MT\",\"NE\",\"NV\",\"NH\",\"NJ\",\"NM\",\"NY\",\"NC\",\"ND\",\"OH\",\"OK\",\"OR\",\"PA\",\"RI\",\"SC\",\"SD\",\"TN\",\"TX\",\"UT\",\"VT\",\"VA\",\"WA\",\"WV\",\"WI\",\"WY\"],\"locationmode\":\"USA-states\",\"locations\":[\"AL\",\"AK\",\"AZ\",\"AR\",\"CA\",\"CO\",\"CT\",\"DE\",\"DC\",\"FL\",\"GA\",\"HI\",\"ID\",\"IL\",\"IN\",\"IA\",\"KS\",\"KY\",\"LA\",\"ME\",\"MD\",\"MA\",\"MI\",\"MN\",\"MS\",\"MO\",\"MT\",\"NE\",\"NV\",\"NH\",\"NJ\",\"NM\",\"NY\",\"NC\",\"ND\",\"OH\",\"OK\",\"OR\",\"PA\",\"RI\",\"SC\",\"SD\",\"TN\",\"TX\",\"UT\",\"VT\",\"VA\",\"WA\",\"WV\",\"WI\",\"WY\"],\"name\":\"\",\"type\":\"choropleth\",\"z\":[18.8,18.1,18.6,22.4,12.0,13.6,10.8,16.2,5.9,17.9,15.6,17.5,15.3,12.8,14.5,15.7,17.8,21.4,20.5,15.1,12.5,8.2,14.1,9.6,17.6,16.1,21.4,14.9,14.7,11.6,11.2,18.4,12.3,16.8,23.9,14.1,19.9,12.8,18.2,11.1,23.9,19.4,19.5,19.4,11.3,13.6,12.7,10.6,23.8,13.8,17.4]}],                        {\"coloraxis\":{\"colorbar\":{\"title\":{\"text\":\"Total Car Crashes\"}},\"colorscale\":[[0.0,\"rgb(94,79,162)\"],[0.1,\"rgb(50,136,189)\"],[0.2,\"rgb(102,194,165)\"],[0.3,\"rgb(171,221,164)\"],[0.4,\"rgb(230,245,152)\"],[0.5,\"rgb(255,255,191)\"],[0.6,\"rgb(254,224,139)\"],[0.7,\"rgb(253,174,97)\"],[0.8,\"rgb(244,109,67)\"],[0.9,\"rgb(213,62,79)\"],[1.0,\"rgb(158,1,66)\"]]},\"geo\":{\"center\":{},\"domain\":{\"x\":[0.0,1.0],\"y\":[0.0,1.0]},\"scope\":\"usa\"},\"legend\":{\"tracegroupgap\":0},\"margin\":{\"t\":60},\"template\":{\"data\":{\"bar\":[{\"error_x\":{\"color\":\"#2a3f5f\"},\"error_y\":{\"color\":\"#2a3f5f\"},\"marker\":{\"line\":{\"color\":\"#E5ECF6\",\"width\":0.5},\"pattern\":{\"fillmode\":\"overlay\",\"size\":10,\"solidity\":0.2}},\"type\":\"bar\"}],\"barpolar\":[{\"marker\":{\"line\":{\"color\":\"#E5ECF6\",\"width\":0.5},\"pattern\":{\"fillmode\":\"overlay\",\"size\":10,\"solidity\":0.2}},\"type\":\"barpolar\"}],\"carpet\":[{\"aaxis\":{\"endlinecolor\":\"#2a3f5f\",\"gridcolor\":\"white\",\"linecolor\":\"white\",\"minorgridcolor\":\"white\",\"startlinecolor\":\"#2a3f5f\"},\"baxis\":{\"endlinecolor\":\"#2a3f5f\",\"gridcolor\":\"white\",\"linecolor\":\"white\",\"minorgridcolor\":\"white\",\"startlinecolor\":\"#2a3f5f\"},\"type\":\"carpet\"}],\"choropleth\":[{\"colorbar\":{\"outlinewidth\":0,\"ticks\":\"\"},\"type\":\"choropleth\"}],\"contour\":[{\"colorbar\":{\"outlinewidth\":0,\"ticks\":\"\"},\"colorscale\":[[0.0,\"#0d0887\"],[0.1111111111111111,\"#46039f\"],[0.2222222222222222,\"#7201a8\"],[0.3333333333333333,\"#9c179e\"],[0.4444444444444444,\"#bd3786\"],[0.5555555555555556,\"#d8576b\"],[0.6666666666666666,\"#ed7953\"],[0.7777777777777778,\"#fb9f3a\"],[0.8888888888888888,\"#fdca26\"],[1.0,\"#f0f921\"]],\"type\":\"contour\"}],\"contourcarpet\":[{\"colorbar\":{\"outlinewidth\":0,\"ticks\":\"\"},\"type\":\"contourcarpet\"}],\"heatmap\":[{\"colorbar\":{\"outlinewidth\":0,\"ticks\":\"\"},\"colorscale\":[[0.0,\"#0d0887\"],[0.1111111111111111,\"#46039f\"],[0.2222222222222222,\"#7201a8\"],[0.3333333333333333,\"#9c179e\"],[0.4444444444444444,\"#bd3786\"],[0.5555555555555556,\"#d8576b\"],[0.6666666666666666,\"#ed7953\"],[0.7777777777777778,\"#fb9f3a\"],[0.8888888888888888,\"#fdca26\"],[1.0,\"#f0f921\"]],\"type\":\"heatmap\"}],\"heatmapgl\":[{\"colorbar\":{\"outlinewidth\":0,\"ticks\":\"\"},\"colorscale\":[[0.0,\"#0d0887\"],[0.1111111111111111,\"#46039f\"],[0.2222222222222222,\"#7201a8\"],[0.3333333333333333,\"#9c179e\"],[0.4444444444444444,\"#bd3786\"],[0.5555555555555556,\"#d8576b\"],[0.6666666666666666,\"#ed7953\"],[0.7777777777777778,\"#fb9f3a\"],[0.8888888888888888,\"#fdca26\"],[1.0,\"#f0f921\"]],\"type\":\"heatmapgl\"}],\"histogram\":[{\"marker\":{\"pattern\":{\"fillmode\":\"overlay\",\"size\":10,\"solidity\":0.2}},\"type\":\"histogram\"}],\"histogram2d\":[{\"colorbar\":{\"outlinewidth\":0,\"ticks\":\"\"},\"colorscale\":[[0.0,\"#0d0887\"],[0.1111111111111111,\"#46039f\"],[0.2222222222222222,\"#7201a8\"],[0.3333333333333333,\"#9c179e\"],[0.4444444444444444,\"#bd3786\"],[0.5555555555555556,\"#d8576b\"],[0.6666666666666666,\"#ed7953\"],[0.7777777777777778,\"#fb9f3a\"],[0.8888888888888888,\"#fdca26\"],[1.0,\"#f0f921\"]],\"type\":\"histogram2d\"}],\"histogram2dcontour\":[{\"colorbar\":{\"outlinewidth\":0,\"ticks\":\"\"},\"colorscale\":[[0.0,\"#0d0887\"],[0.1111111111111111,\"#46039f\"],[0.2222222222222222,\"#7201a8\"],[0.3333333333333333,\"#9c179e\"],[0.4444444444444444,\"#bd3786\"],[0.5555555555555556,\"#d8576b\"],[0.6666666666666666,\"#ed7953\"],[0.7777777777777778,\"#fb9f3a\"],[0.8888888888888888,\"#fdca26\"],[1.0,\"#f0f921\"]],\"type\":\"histogram2dcontour\"}],\"mesh3d\":[{\"colorbar\":{\"outlinewidth\":0,\"ticks\":\"\"},\"type\":\"mesh3d\"}],\"parcoords\":[{\"line\":{\"colorbar\":{\"outlinewidth\":0,\"ticks\":\"\"}},\"type\":\"parcoords\"}],\"pie\":[{\"automargin\":true,\"type\":\"pie\"}],\"scatter\":[{\"marker\":{\"colorbar\":{\"outlinewidth\":0,\"ticks\":\"\"}},\"type\":\"scatter\"}],\"scatter3d\":[{\"line\":{\"colorbar\":{\"outlinewidth\":0,\"ticks\":\"\"}},\"marker\":{\"colorbar\":{\"outlinewidth\":0,\"ticks\":\"\"}},\"type\":\"scatter3d\"}],\"scattercarpet\":[{\"marker\":{\"colorbar\":{\"outlinewidth\":0,\"ticks\":\"\"}},\"type\":\"scattercarpet\"}],\"scattergeo\":[{\"marker\":{\"colorbar\":{\"outlinewidth\":0,\"ticks\":\"\"}},\"type\":\"scattergeo\"}],\"scattergl\":[{\"marker\":{\"colorbar\":{\"outlinewidth\":0,\"ticks\":\"\"}},\"type\":\"scattergl\"}],\"scattermapbox\":[{\"marker\":{\"colorbar\":{\"outlinewidth\":0,\"ticks\":\"\"}},\"type\":\"scattermapbox\"}],\"scatterpolar\":[{\"marker\":{\"colorbar\":{\"outlinewidth\":0,\"ticks\":\"\"}},\"type\":\"scatterpolar\"}],\"scatterpolargl\":[{\"marker\":{\"colorbar\":{\"outlinewidth\":0,\"ticks\":\"\"}},\"type\":\"scatterpolargl\"}],\"scatterternary\":[{\"marker\":{\"colorbar\":{\"outlinewidth\":0,\"ticks\":\"\"}},\"type\":\"scatterternary\"}],\"surface\":[{\"colorbar\":{\"outlinewidth\":0,\"ticks\":\"\"},\"colorscale\":[[0.0,\"#0d0887\"],[0.1111111111111111,\"#46039f\"],[0.2222222222222222,\"#7201a8\"],[0.3333333333333333,\"#9c179e\"],[0.4444444444444444,\"#bd3786\"],[0.5555555555555556,\"#d8576b\"],[0.6666666666666666,\"#ed7953\"],[0.7777777777777778,\"#fb9f3a\"],[0.8888888888888888,\"#fdca26\"],[1.0,\"#f0f921\"]],\"type\":\"surface\"}],\"table\":[{\"cells\":{\"fill\":{\"color\":\"#EBF0F8\"},\"line\":{\"color\":\"white\"}},\"header\":{\"fill\":{\"color\":\"#C8D4E3\"},\"line\":{\"color\":\"white\"}},\"type\":\"table\"}]},\"layout\":{\"annotationdefaults\":{\"arrowcolor\":\"#2a3f5f\",\"arrowhead\":0,\"arrowwidth\":1},\"autotypenumbers\":\"strict\",\"coloraxis\":{\"colorbar\":{\"outlinewidth\":0,\"ticks\":\"\"}},\"colorscale\":{\"diverging\":[[0,\"#8e0152\"],[0.1,\"#c51b7d\"],[0.2,\"#de77ae\"],[0.3,\"#f1b6da\"],[0.4,\"#fde0ef\"],[0.5,\"#f7f7f7\"],[0.6,\"#e6f5d0\"],[0.7,\"#b8e186\"],[0.8,\"#7fbc41\"],[0.9,\"#4d9221\"],[1,\"#276419\"]],\"sequential\":[[0.0,\"#0d0887\"],[0.1111111111111111,\"#46039f\"],[0.2222222222222222,\"#7201a8\"],[0.3333333333333333,\"#9c179e\"],[0.4444444444444444,\"#bd3786\"],[0.5555555555555556,\"#d8576b\"],[0.6666666666666666,\"#ed7953\"],[0.7777777777777778,\"#fb9f3a\"],[0.8888888888888888,\"#fdca26\"],[1.0,\"#f0f921\"]],\"sequentialminus\":[[0.0,\"#0d0887\"],[0.1111111111111111,\"#46039f\"],[0.2222222222222222,\"#7201a8\"],[0.3333333333333333,\"#9c179e\"],[0.4444444444444444,\"#bd3786\"],[0.5555555555555556,\"#d8576b\"],[0.6666666666666666,\"#ed7953\"],[0.7777777777777778,\"#fb9f3a\"],[0.8888888888888888,\"#fdca26\"],[1.0,\"#f0f921\"]]},\"colorway\":[\"#636efa\",\"#EF553B\",\"#00cc96\",\"#ab63fa\",\"#FFA15A\",\"#19d3f3\",\"#FF6692\",\"#B6E880\",\"#FF97FF\",\"#FECB52\"],\"font\":{\"color\":\"#2a3f5f\"},\"geo\":{\"bgcolor\":\"white\",\"lakecolor\":\"white\",\"landcolor\":\"#E5ECF6\",\"showlakes\":true,\"showland\":true,\"subunitcolor\":\"white\"},\"hoverlabel\":{\"align\":\"left\"},\"hovermode\":\"closest\",\"mapbox\":{\"style\":\"light\"},\"paper_bgcolor\":\"white\",\"plot_bgcolor\":\"#E5ECF6\",\"polar\":{\"angularaxis\":{\"gridcolor\":\"white\",\"linecolor\":\"white\",\"ticks\":\"\"},\"bgcolor\":\"#E5ECF6\",\"radialaxis\":{\"gridcolor\":\"white\",\"linecolor\":\"white\",\"ticks\":\"\"}},\"scene\":{\"xaxis\":{\"backgroundcolor\":\"#E5ECF6\",\"gridcolor\":\"white\",\"gridwidth\":2,\"linecolor\":\"white\",\"showbackground\":true,\"ticks\":\"\",\"zerolinecolor\":\"white\"},\"yaxis\":{\"backgroundcolor\":\"#E5ECF6\",\"gridcolor\":\"white\",\"gridwidth\":2,\"linecolor\":\"white\",\"showbackground\":true,\"ticks\":\"\",\"zerolinecolor\":\"white\"},\"zaxis\":{\"backgroundcolor\":\"#E5ECF6\",\"gridcolor\":\"white\",\"gridwidth\":2,\"linecolor\":\"white\",\"showbackground\":true,\"ticks\":\"\",\"zerolinecolor\":\"white\"}},\"shapedefaults\":{\"line\":{\"color\":\"#2a3f5f\"}},\"ternary\":{\"aaxis\":{\"gridcolor\":\"white\",\"linecolor\":\"white\",\"ticks\":\"\"},\"baxis\":{\"gridcolor\":\"white\",\"linecolor\":\"white\",\"ticks\":\"\"},\"bgcolor\":\"#E5ECF6\",\"caxis\":{\"gridcolor\":\"white\",\"linecolor\":\"white\",\"ticks\":\"\"}},\"title\":{\"x\":0.05},\"xaxis\":{\"automargin\":true,\"gridcolor\":\"white\",\"linecolor\":\"white\",\"ticks\":\"\",\"title\":{\"standoff\":15},\"zerolinecolor\":\"white\",\"zerolinewidth\":2},\"yaxis\":{\"automargin\":true,\"gridcolor\":\"white\",\"linecolor\":\"white\",\"ticks\":\"\",\"title\":{\"standoff\":15},\"zerolinecolor\":\"white\",\"zerolinewidth\":2}}},\"title\":{\"text\":\"Total Car Crashes in the US by state\"}},                        {\"responsive\": true}                    ).then(function(){\n",
       "                            \n",
       "var gd = document.getElementById('4547a647-2bd8-497d-8ea7-21a53c46c111');\n",
       "var x = new MutationObserver(function (mutations, observer) {{\n",
       "        var display = window.getComputedStyle(gd).display;\n",
       "        if (!display || display === 'none') {{\n",
       "            console.log([gd, 'removed!']);\n",
       "            Plotly.purge(gd);\n",
       "            observer.disconnect();\n",
       "        }}\n",
       "}});\n",
       "\n",
       "// Listen for the removal of the full notebook cells\n",
       "var notebookContainer = gd.closest('#notebook-container');\n",
       "if (notebookContainer) {{\n",
       "    x.observe(notebookContainer, {childList: true});\n",
       "}}\n",
       "\n",
       "// Listen for the clearing of the current output cell\n",
       "var outputEl = gd.closest('.output');\n",
       "if (outputEl) {{\n",
       "    x.observe(outputEl, {childList: true});\n",
       "}}\n",
       "\n",
       "                        })                };                });            </script>        </div>"
      ]
     },
     "metadata": {},
     "output_type": "display_data"
    }
   ],
   "source": [
    "fig = px.choropleth(car_crashes,\n",
    "                    locations='abbrev',\n",
    "                    color='total',\n",
    "                    color_continuous_scale='spectral_r',\n",
    "                    hover_name='abbrev',\n",
    "                    locationmode='USA-states',\n",
    "                    labels={'total':'Total Car Crashes'},\n",
    "                    scope='usa')\n",
    "fig.update_layout(title_text='Total Car Crashes in the US by state')\n",
    "fig.show()"
   ]
  },
  {
   "cell_type": "markdown",
   "metadata": {},
   "source": [
    "Southern states seem to have higher totals of car crashes."
   ]
  },
  {
   "cell_type": "markdown",
   "metadata": {},
   "source": [
    "## Your Turn"
   ]
  },
  {
   "cell_type": "markdown",
   "metadata": {},
   "source": [
    "We're going to try some data manipulations on our own now! Get into groups, find a dataset, and try to come up with 2-3 visuals using plotly (bonus tips if you use Pandas to manipulate the data before making the visual)! Feel free to read the tips in the conclusion section.\n",
    "\n",
    "(Additional Tip: click on the cell block outside of the text box and hit \"b\" on your keyboard to create a cell **below**, \"a\" to create a cell **above**, and \"d\" twice to **delete** the current cell you clicked on)"
   ]
  },
  {
   "cell_type": "code",
   "execution_count": 47,
   "metadata": {},
   "outputs": [
    {
     "data": {
      "application/vnd.plotly.v1+json": {
       "config": {
        "plotlyServerURL": "https://plot.ly"
       },
       "data": [
        {
         "autobinx": false,
         "histnorm": "probability density",
         "legendgroup": "speeding",
         "marker": {
          "color": "rgb(31, 119, 180)"
         },
         "name": "speeding",
         "opacity": 0.7,
         "type": "histogram",
         "x": [
          7.332000000000001,
          7.421,
          6.51,
          4.032,
          4.2,
          5.032,
          4.968,
          6.156000000000001,
          2.006,
          3.759,
          2.964,
          9.45,
          5.508000000000001,
          4.6080000000000005,
          3.625,
          2.669,
          4.806,
          4.066,
          7.175,
          5.738,
          4.25,
          1.886,
          3.384,
          2.208,
          2.64,
          6.923000000000001,
          8.345999999999998,
          1.9370000000000005,
          5.439,
          4.06,
          1.7919999999999998,
          3.496,
          3.936,
          6.5520000000000005,
          5.496999999999999,
          3.948,
          6.367999999999999,
          4.224,
          9.1,
          3.774,
          9.082,
          6.013999999999999,
          4.095,
          7.76,
          4.859,
          4.08,
          2.413,
          4.452,
          8.092,
          4.968,
          7.308
         ],
         "xaxis": "x",
         "xbins": {
          "end": 9.45,
          "size": 1,
          "start": 1.7919999999999998
         },
         "yaxis": "y"
        },
        {
         "legendgroup": "speeding",
         "marker": {
          "color": "rgb(31, 119, 180)"
         },
         "mode": "lines",
         "name": "speeding",
         "showlegend": false,
         "type": "scatter",
         "x": [
          1.7919999999999998,
          1.807316,
          1.8226319999999998,
          1.837948,
          1.8532639999999998,
          1.86858,
          1.8838959999999998,
          1.899212,
          1.9145279999999998,
          1.929844,
          1.9451599999999998,
          1.9604759999999999,
          1.9757919999999998,
          1.9911079999999999,
          2.006424,
          2.02174,
          2.0370559999999998,
          2.0523719999999996,
          2.067688,
          2.083004,
          2.0983199999999997,
          2.1136359999999996,
          2.128952,
          2.144268,
          2.1595839999999997,
          2.1748999999999996,
          2.190216,
          2.205532,
          2.2208479999999997,
          2.2361639999999996,
          2.25148,
          2.266796,
          2.2821119999999997,
          2.297428,
          2.3127439999999995,
          2.32806,
          2.3433759999999997,
          2.3586919999999996,
          2.374008,
          2.389324,
          2.4046399999999997,
          2.419956,
          2.435272,
          2.4505879999999998,
          2.4659039999999997,
          2.4812199999999995,
          2.496536,
          2.5118519999999998,
          2.5271679999999996,
          2.542484,
          2.5578,
          2.5731159999999997,
          2.5884319999999996,
          2.6037479999999995,
          2.619064,
          2.6343799999999997,
          2.6496959999999996,
          2.665012,
          2.680328,
          2.6956439999999997,
          2.7109599999999996,
          2.726276,
          2.741592,
          2.7569079999999997,
          2.7722239999999996,
          2.78754,
          2.802856,
          2.8181719999999997,
          2.8334879999999996,
          2.8488039999999994,
          2.8641199999999998,
          2.8794359999999997,
          2.8947519999999995,
          2.910068,
          2.9253839999999998,
          2.9406999999999996,
          2.956016,
          2.9713319999999994,
          2.9866479999999997,
          3.001964,
          3.0172799999999995,
          3.032596,
          3.0479119999999997,
          3.0632279999999996,
          3.078544,
          3.0938599999999994,
          3.1091759999999997,
          3.124492,
          3.1398079999999995,
          3.155124,
          3.1704399999999997,
          3.1857559999999996,
          3.201072,
          3.216388,
          3.2317039999999997,
          3.24702,
          3.2623359999999995,
          3.277652,
          3.2929679999999997,
          3.3082839999999996,
          3.3236,
          3.3389159999999998,
          3.3542319999999997,
          3.369548,
          3.3848639999999994,
          3.4001799999999998,
          3.4154959999999996,
          3.4308119999999995,
          3.446128,
          3.4614439999999997,
          3.4767599999999996,
          3.4920759999999995,
          3.5073919999999994,
          3.5227079999999997,
          3.5380239999999996,
          3.5533399999999995,
          3.568656,
          3.5839719999999997,
          3.5992879999999996,
          3.614604,
          3.6299199999999994,
          3.6452359999999997,
          3.660552,
          3.6758679999999995,
          3.691184,
          3.7064999999999997,
          3.7218159999999996,
          3.737132,
          3.752448,
          3.7677639999999997,
          3.78308,
          3.798396,
          3.8137119999999998,
          3.8290279999999997,
          3.844344,
          3.85966,
          3.8749759999999993,
          3.8902919999999996,
          3.9056079999999995,
          3.920924,
          3.9362399999999997,
          3.951556,
          3.9668719999999995,
          3.9821879999999994,
          3.9975039999999997,
          4.01282,
          4.028136,
          4.043451999999999,
          4.058768,
          4.074083999999999,
          4.0893999999999995,
          4.104716,
          4.120032,
          4.135348,
          4.150663999999999,
          4.165979999999999,
          4.181296,
          4.196612,
          4.211928,
          4.227243999999999,
          4.242559999999999,
          4.2578759999999996,
          4.273192,
          4.288508,
          4.303824,
          4.319139999999999,
          4.334455999999999,
          4.349772,
          4.365088,
          4.380404,
          4.395719999999999,
          4.411035999999999,
          4.426352,
          4.441668,
          4.456984,
          4.4723,
          4.487615999999999,
          4.5029319999999995,
          4.518248,
          4.533564,
          4.54888,
          4.564196,
          4.579511999999999,
          4.594828,
          4.610144,
          4.6254599999999995,
          4.640776,
          4.656091999999999,
          4.671408,
          4.686724,
          4.70204,
          4.717356,
          4.732671999999999,
          4.747987999999999,
          4.763304,
          4.77862,
          4.7939359999999995,
          4.809252,
          4.824567999999999,
          4.839884,
          4.8552,
          4.870515999999999,
          4.885832,
          4.901147999999999,
          4.9164639999999995,
          4.93178,
          4.947096,
          4.962412,
          4.977727999999999,
          4.993043999999999,
          5.00836,
          5.023676,
          5.0389919999999995,
          5.054308,
          5.069623999999999,
          5.08494,
          5.100256,
          5.115571999999999,
          5.130888,
          5.146203999999999,
          5.161519999999999,
          5.176836,
          5.192151999999999,
          5.2074679999999995,
          5.222783999999999,
          5.238099999999999,
          5.253416,
          5.268732,
          5.284047999999999,
          5.299363999999999,
          5.314679999999999,
          5.3299959999999995,
          5.345312,
          5.360628,
          5.375944,
          5.391259999999999,
          5.406575999999999,
          5.421892,
          5.437208,
          5.4525239999999995,
          5.467839999999999,
          5.483155999999999,
          5.498472,
          5.513788,
          5.529104,
          5.544419999999999,
          5.559735999999999,
          5.5750519999999995,
          5.590368,
          5.605684,
          5.6209999999999996,
          5.636315999999999,
          5.651631999999999,
          5.666948,
          5.682264,
          5.69758,
          5.712896,
          5.728211999999999,
          5.7435279999999995,
          5.758844,
          5.77416,
          5.789476,
          5.804792,
          5.820107999999999,
          5.835424,
          5.850739999999999,
          5.8660559999999995,
          5.881372,
          5.896688,
          5.912004,
          5.92732,
          5.942635999999999,
          5.957951999999999,
          5.973268,
          5.9885839999999995,
          6.0039,
          6.019215999999999,
          6.034532,
          6.049848,
          6.065163999999999,
          6.08048,
          6.095795999999999,
          6.111112,
          6.126428,
          6.141743999999999,
          6.1570599999999995,
          6.172375999999999,
          6.187692,
          6.203008,
          6.218323999999999,
          6.233639999999999,
          6.248956,
          6.264272,
          6.2795879999999995,
          6.294903999999999,
          6.310219999999999,
          6.325536,
          6.340852,
          6.356167999999999,
          6.371484,
          6.386799999999999,
          6.4021159999999995,
          6.417432,
          6.432747999999999,
          6.448064,
          6.46338,
          6.478695999999999,
          6.494012,
          6.509327999999999,
          6.5246439999999994,
          6.53996,
          6.555275999999999,
          6.5705919999999995,
          6.585907999999999,
          6.601223999999999,
          6.61654,
          6.631856,
          6.647171999999999,
          6.662487999999999,
          6.677804,
          6.6931199999999995,
          6.708436,
          6.723751999999999,
          6.739067999999999,
          6.754384,
          6.769699999999999,
          6.785016,
          6.800331999999999,
          6.8156479999999995,
          6.830964,
          6.846279999999999,
          6.861596,
          6.876911999999999,
          6.892228,
          6.907544,
          6.922859999999999,
          6.9381759999999995,
          6.953491999999999,
          6.968808,
          6.9841239999999996,
          6.999439999999999,
          7.014755999999999,
          7.030071999999999,
          7.045388,
          7.060703999999999,
          7.07602,
          7.091335999999999,
          7.1066519999999995,
          7.121968,
          7.137283999999999,
          7.1526,
          7.167915999999999,
          7.183231999999999,
          7.198548,
          7.213863999999999,
          7.2291799999999995,
          7.244495999999999,
          7.259812,
          7.275128,
          7.290443999999999,
          7.305759999999999,
          7.321076,
          7.336392,
          7.3517079999999995,
          7.367023999999999,
          7.382339999999999,
          7.397656,
          7.412972,
          7.428287999999999,
          7.443603999999999,
          7.458919999999999,
          7.474235999999999,
          7.489552,
          7.504867999999999,
          7.5201839999999995,
          7.5355,
          7.550815999999999,
          7.566132,
          7.581447999999999,
          7.596763999999999,
          7.61208,
          7.627395999999999,
          7.6427119999999995,
          7.658027999999999,
          7.673343999999999,
          7.68866,
          7.703975999999999,
          7.719291999999999,
          7.734607999999999,
          7.749924,
          7.7652399999999995,
          7.780556,
          7.795871999999999,
          7.811187999999999,
          7.826504,
          7.841819999999999,
          7.857136,
          7.872451999999999,
          7.8877679999999994,
          7.903084,
          7.918399999999999,
          7.9337159999999995,
          7.949031999999999,
          7.964348,
          7.979664,
          7.994979999999999,
          8.010296,
          8.025611999999999,
          8.040928000000001,
          8.056244,
          8.071559999999998,
          8.086876,
          8.102191999999999,
          8.117508,
          8.132824,
          8.148139999999998,
          8.163456,
          8.178771999999999,
          8.194088,
          8.209404,
          8.22472,
          8.240036,
          8.255351999999998,
          8.270668,
          8.285984,
          8.3013,
          8.316616,
          8.331931999999998,
          8.347248,
          8.362563999999999,
          8.37788,
          8.393196,
          8.408511999999998,
          8.423828,
          8.439143999999999,
          8.45446,
          8.469776,
          8.485092,
          8.500408,
          8.515723999999999,
          8.53104,
          8.546356,
          8.561672,
          8.576988,
          8.592303999999999,
          8.60762,
          8.622936,
          8.638252,
          8.653568,
          8.668883999999998,
          8.6842,
          8.699516,
          8.714832,
          8.730148,
          8.745464,
          8.76078,
          8.776095999999999,
          8.791412,
          8.806728,
          8.822044,
          8.83736,
          8.852675999999999,
          8.867992,
          8.883308,
          8.898624,
          8.91394,
          8.929255999999999,
          8.944571999999999,
          8.959888,
          8.975204,
          8.99052,
          9.005835999999999,
          9.021151999999999,
          9.036468,
          9.051784,
          9.0671,
          9.082415999999998,
          9.097731999999999,
          9.113048,
          9.128364,
          9.14368,
          9.158995999999998,
          9.174312,
          9.189627999999999,
          9.204944,
          9.22026,
          9.235575999999998,
          9.250892,
          9.266207999999999,
          9.281524,
          9.29684,
          9.312155999999998,
          9.327472,
          9.342787999999999,
          9.358103999999999,
          9.37342,
          9.388736,
          9.404052,
          9.419367999999999,
          9.434683999999999
         ],
         "xaxis": "x",
         "y": [
          0.07335612723110804,
          0.07418905842035381,
          0.07502146462957576,
          0.07585328669886249,
          0.07668447189147398,
          0.07751497395982207,
          0.07834475319807765,
          0.07917377648111859,
          0.08000201728955815,
          0.08082945572061986,
          0.08165607848465224,
          0.08248187888710326,
          0.08330685679580593,
          0.08413101859345257,
          0.08495437711516786,
          0.08577695157112099,
          0.0865987674541472,
          0.08741985643238274,
          0.08824025622694794,
          0.0890600104747455,
          0.08987916857647575,
          0.09069778553000085,
          0.09151592174922459,
          0.09233364286868767,
          0.09315101953411024,
          0.09396812717914749,
          0.09478504578865574,
          0.09560185964880076,
          0.09641865708436874,
          0.09723553018367687,
          0.09805257451150627,
          0.09886988881051496,
          0.09968757469161584,
          0.10050573631383493,
          0.10132448005419285,
          0.10214391416818036,
          0.10296414844142468,
          0.1037852938331699,
          0.1046074621122171,
          0.10543076548599485,
          0.10625531622345188,
          0.10708122627248297,
          0.10790860687262119,
          0.10873756816374444,
          0.10956821879156181,
          0.11040066551066045,
          0.11123501278590568,
          0.11207136239299907,
          0.11290981301900907,
          0.11375045986369722,
          0.11459339424246826,
          0.11543870319177807,
          0.11628646907783582,
          0.11713676920943719,
          0.11798967545576562,
          0.1188452538699945,
          0.11970356431951969,
          0.12056466012364496,
          0.12142858769953356,
          0.12229538621723085,
          0.1231650872645493,
          0.12403771452259262,
          0.12491328345268334,
          0.12579180099543533,
          0.12667326528269884,
          0.12755766536308114,
          0.1284449809417225,
          0.12933518213498718,
          0.13022822924069766,
          0.1311240725245153,
          0.13202265202304314,
          0.13292389736419127,
          0.1338277276053187,
          0.13473405108962727,
          0.13564276532125277,
          0.13655375685945936,
          0.13746690123230865,
          0.13838206287013627,
          0.13929909505912974,
          0.1402178399152608,
          0.14113812837878809,
          0.14205978022950128,
          0.14298260412283711,
          0.14390639764695787,
          0.14483094740083727,
          0.14575602909335614,
          0.1466814076633706,
          0.14760683742066721,
          0.14853206220768014,
          0.14945681558180174,
          0.15038082101807293,
          0.15130379213200046,
          0.15222543292220395,
          0.15314543803255373,
          0.15406349303342237,
          0.15497927472162826,
          0.1558924514386139,
          0.15680268340636117,
          0.15770962308050954,
          0.15861291552010368,
          0.1595121987733676,
          0.16040710427886098,
          0.16129725728134792,
          0.16218227726167056,
          0.16306177837989708,
          0.1639353699309782,
          0.16480265681212666,
          0.16566324000110336,
          0.16651671704457613,
          0.16736268255569117,
          0.16820072871998232,
          0.16903044580872065,
          0.16985142269879736,
          0.17066324739821429,
          0.171465507576248,
          0.1722577910973433,
          0.1730396865577829,
          0.17381078382417808,
          0.17457067457281908,
          0.17531895282892376,
          0.17605521550482506,
          0.17677906293613865,
          0.1774900994149608,
          0.1781879337191498,
          0.17887217963675633,
          0.1795424564846781,
          0.18019838962062867,
          0.18083961094752346,
          0.18146575940940451,
          0.18207648147804562,
          0.18267143162939645,
          0.18325027280905087,
          0.1838126768859461,
          0.18435832509352676,
          0.18488690845763334,
          0.18539812821040505,
          0.18589169618951687,
          0.18636733522210058,
          0.1868247794927352,
          0.18726377489492185,
          0.187684079365498,
          0.1880854632014775,
          0.18846770935884186,
          0.1888306137328458,
          0.1891739854194369,
          0.18949764695742852,
          0.18980143455110726,
          0.19008519827298934,
          0.19034880224648762,
          0.1905921248082866,
          0.1908150586502638,
          0.19101751094083722,
          0.19119940342565803,
          0.19136067250760813,
          0.19150126930610029,
          0.19162115969572058,
          0.19172032432429006,
          0.19179875861045947,
          0.19185647272099343,
          0.19189349152793017,
          0.19190985454584691,
          0.19190561584948893,
          0.19188084397206104,
          0.19183562178450847,
          0.19177004635614875,
          0.19168422879704836,
          0.19157829408256363,
          0.19145238086049843,
          0.19130664124135585,
          0.19114124057218632,
          0.19095635719456253,
          0.19075218218722823,
          0.1905289190939979,
          0.19028678363749565,
          0.1900260034193446,
          0.18974681760743653,
          0.189449476610921,
          0.18913424174357266,
          0.18880138487620346,
          0.1884511880787988,
          0.18808394325306457,
          0.18769995175608079,
          0.1872995240157601,
          0.18688297913881632,
          0.1864506445119494,
          0.18600285539695377,
          0.18553995452045746,
          0.18506229165899588,
          0.18457022322012182,
          0.1840641118202476,
          0.18354432585990918,
          0.1830112390971344,
          0.18246523021958677,
          0.18190668241615082,
          0.1813359829486075,
          0.1807535227240387,
          0.18015969586858824,
          0.17955489930318602,
          0.17893953232183418,
          0.17831399617302982,
          0.17767869364488742,
          0.1770340286545026,
          0.17638040584208,
          0.17571823017033084,
          0.17504790652962202,
          0.17436983934934147,
          0.17368443221592034,
          0.17299208749793185,
          0.17229320597866576,
          0.17158818649655405,
          0.1708774255938005,
          0.17016131717354518,
          0.16944025216587202,
          0.16871461820294437,
          0.1679847993035299,
          0.16725117556715635,
          0.16651412287811374,
          0.1657740126194974,
          0.16503121139746543,
          0.16428608077586088,
          0.1635389770213261,
          0.16279025085901996,
          0.16204024723902177,
          0.16128930511349104,
          0.16053775722462887,
          0.15978592990346874,
          0.15903414287950593,
          0.1582827091011546,
          0.15753193456700929,
          0.15678211816786233,
          0.15603355153942156,
          0.15528651892565054,
          0.15454129705264075,
          0.15379815501291352,
          0.1530573541600308,
          0.15231914801338736,
          0.15158378217303997,
          0.1508514942444208,
          0.15012251377277158,
          0.1493970621871248,
          0.14867535275364802,
          0.14795759053816387,
          0.1472439723776455,
          0.14653468686048277,
          0.14582991431531062,
          0.1451298268081818,
          0.14443458814786486,
          0.1437443538990437,
          0.1430592714031896,
          0.1423794798068781,
          0.14170511009731698,
          0.14103628514485417,
          0.1403731197522301,
          0.13971572071034208,
          0.13906418686028532,
          0.13841860916143986,
          0.13777907076537002,
          0.13714564709530858,
          0.1365184059309966,
          0.13589740749865542,
          0.1352827045658684,
          0.13467434254115376,
          0.13407235957801397,
          0.13347678668325103,
          0.1328876478293401,
          0.13230496007065987,
          0.13172873366338106,
          0.1311589721888211,
          0.13059567268007619,
          0.1300388257517471,
          0.12948841573258213,
          0.12894442080086324,
          0.1284068131223681,
          0.1278755589907458,
          0.12735061897014863,
          0.12683194803996836,
          0.12631949574152987,
          0.1258132063265995,
          0.12531301890757335,
          0.12481886760921072,
          0.12433068172178685,
          0.12384838585554221,
          0.12337190009630856,
          0.12290114016219951,
          0.12243601756125277,
          0.12197643974992005,
          0.12152231029230026,
          0.12107352902001675,
          0.12062999219264312,
          0.12019159265858259,
          0.11975822001631169,
          0.1193297607758996,
          0.11890609852071601,
          0.11848711406924445,
          0.11807268563691839,
          0.11766268899789839,
          0.11725699764671105,
          0.11685548295967056,
          0.1164580143560048,
          0.1160644594586078,
          0.1156746842543419,
          0.1152885532538113,
          0.11490592965052998,
          0.11452667547940601,
          0.1141506517744633,
          0.11377771872572214,
          0.11340773583515777,
          0.1130405620716571,
          0.11267605602488912,
          0.11231407605800758,
          0.11195448045909942,
          0.11159712759129337,
          0.1112418760414397,
          0.11088858476727248,
          0.11053711324296167,
          0.11018732160296346,
          0.10983907078407243,
          0.10949222266558059,
          0.10914664020744341,
          0.10880218758635489,
          0.10845873032962891,
          0.10811613544678443,
          0.10777427155873023,
          0.10743300902444425,
          0.10709222006503956,
          0.10675177888511035,
          0.10641156179124948,
          0.10607144730762695,
          0.10573131628852148,
          0.10539105202769404,
          0.10505054036449381,
          0.10470966978658627,
          0.10436833152919492,
          0.1040264196707466,
          0.10368383122481478,
          0.10334046622825124,
          0.10299622782540464,
          0.10265102234831965,
          0.102304759392818,
          0.10195735189036147,
          0.1016087161756009,
          0.10125877204951905,
          0.1009074428380778,
          0.10055465544628249,
          0.10020034040758385,
          0.09984443192853815,
          0.09948686792865324,
          0.09912759007535352,
          0.09876654381399953,
          0.09840367839290712,
          0.09803894688331267,
          0.09767230619424208,
          0.09730371708224207,
          0.09693314415594442,
          0.09656055587543677,
          0.09618592454642252,
          0.0958092263091603,
          0.09543044112217941,
          0.09504955274077781,
          0.09466654869031467,
          0.09428142023432022,
          0.09389416233745293,
          0.09350477362334149,
          0.09311325632735987,
          0.0927196162443917,
          0.09232386267164716,
          0.09192600834660801,
          0.09152606938018179,
          0.09112406518515755,
          0.09072001840006279,
          0.09031395480853188,
          0.0899059032543029,
          0.08949589555197009,
          0.08908396639362728,
          0.0886701532515462,
          0.08825449627704166,
          0.08783703819568392,
          0.0874178241990261,
          0.08699690183302357,
          0.08657432088332706,
          0.08615013325764173,
          0.08572439286534853,
          0.08529715549459171,
          0.08486847868704396,
          0.08443842161056327,
          0.08400704492996529,
          0.08357441067613579,
          0.08314058211371589,
          0.08270562360759515,
          0.08226960048845153,
          0.0818325789175815,
          0.08139462575126528,
          0.08095580840491515,
          0.08051619471725621,
          0.08007585281479186,
          0.0796348509768034,
          0.07919325750113805,
          0.07875114057103613,
          0.07830856812324788,
          0.07786560771769048,
          0.07742232640889243,
          0.0769787906194698,
          0.07653506601587781,
          0.07609121738667461,
          0.07564730852353332,
          0.07520340210523054,
          0.07475955958483668,
          0.07431584108032716,
          0.07387230526882504,
          0.07342900928468425,
          0.07298600862160773,
          0.07254335703899442,
          0.0721011064726968,
          0.07165930695036078,
          0.07121800651151615,
          0.07077725113256952,
          0.0703370846568469,
          0.06989754872982096,
          0.06945868273964555,
          0.06902052376311368,
          0.06858310651713793,
          0.06814646331584677,
          0.06771062403337383,
          0.06727561607240692,
          0.06684146433855309,
          0.0664081912205589,
          0.0659758165764192,
          0.06554435772538841,
          0.0651138294458998,
          0.06468424397938591,
          0.06425561103997528,
          0.0638279378300359,
          0.06340122906151553,
          0.06297548698302101,
          0.06255071141256498,
          0.0621268997758952,
          0.06170404715031102,
          0.06128214631385746,
          0.06086118779977829,
          0.06044115995609553,
          0.06002204901017217,
          0.05960383913810642,
          0.05918651253878994,
          0.05877004951245897,
          0.05835442854355165,
          0.05793962638767895,
          0.05752561816250668,
          0.05711237744233674,
          0.05669987635616993,
          0.05628808568902245,
          0.05587697498626381,
          0.05546651266073612,
          0.05505666610240805,
          0.05464740179031516,
          0.05423868540652818,
          0.05383048195189171,
          0.05342275586327007,
          0.05301547113203335,
          0.0526085914235173,
          0.05220208019718644,
          0.05179590082723017,
          0.05139001672332112,
          0.05098439145126537,
          0.050578988853275414,
          0.05017377316759701,
          0.04976870914722567,
          0.049363762177449186,
          0.04895889839195655,
          0.048554084787259956,
          0.0481492893351768,
          0.047744481093128496,
          0.04733963031201532,
          0.04693470854143471,
          0.04652968873201703,
          0.046124545334659116,
          0.045719254396445114,
          0.045313793653052305,
          0.04490814261744712,
          0.044502282664687504,
          0.0440961971126565,
          0.04368987129856153,
          0.04328329265104493,
          0.04287645075776187,
          0.04246933742829251,
          0.04206194675226521,
          0.04165427515258274,
          0.04124632143364996,
          0.04083808682451716,
          0.040429575016864505,
          0.04002079219776235,
          0.039611747077158505,
          0.03920245091005272,
          0.038792917513331,
          0.03838316327724674,
          0.03797320717154461,
          0.03756307074623831,
          0.037152778127062386,
          0.03674235600563252,
          0.03633183362435851,
          0.035921242756166594
         ],
         "yaxis": "y"
        },
        {
         "legendgroup": "speeding",
         "marker": {
          "color": "rgb(31, 119, 180)",
          "symbol": "line-ns-open"
         },
         "mode": "markers",
         "name": "speeding",
         "showlegend": false,
         "type": "scatter",
         "x": [
          7.332000000000001,
          7.421,
          6.51,
          4.032,
          4.2,
          5.032,
          4.968,
          6.156000000000001,
          2.006,
          3.759,
          2.964,
          9.45,
          5.508000000000001,
          4.6080000000000005,
          3.625,
          2.669,
          4.806,
          4.066,
          7.175,
          5.738,
          4.25,
          1.886,
          3.384,
          2.208,
          2.64,
          6.923000000000001,
          8.345999999999998,
          1.9370000000000005,
          5.439,
          4.06,
          1.7919999999999998,
          3.496,
          3.936,
          6.5520000000000005,
          5.496999999999999,
          3.948,
          6.367999999999999,
          4.224,
          9.1,
          3.774,
          9.082,
          6.013999999999999,
          4.095,
          7.76,
          4.859,
          4.08,
          2.413,
          4.452,
          8.092,
          4.968,
          7.308
         ],
         "xaxis": "x",
         "y": [
          "speeding",
          "speeding",
          "speeding",
          "speeding",
          "speeding",
          "speeding",
          "speeding",
          "speeding",
          "speeding",
          "speeding",
          "speeding",
          "speeding",
          "speeding",
          "speeding",
          "speeding",
          "speeding",
          "speeding",
          "speeding",
          "speeding",
          "speeding",
          "speeding",
          "speeding",
          "speeding",
          "speeding",
          "speeding",
          "speeding",
          "speeding",
          "speeding",
          "speeding",
          "speeding",
          "speeding",
          "speeding",
          "speeding",
          "speeding",
          "speeding",
          "speeding",
          "speeding",
          "speeding",
          "speeding",
          "speeding",
          "speeding",
          "speeding",
          "speeding",
          "speeding",
          "speeding",
          "speeding",
          "speeding",
          "speeding",
          "speeding",
          "speeding",
          "speeding"
         ],
         "yaxis": "y2"
        }
       ],
       "layout": {
        "barmode": "overlay",
        "hovermode": "closest",
        "legend": {
         "traceorder": "reversed"
        },
        "template": {
         "data": {
          "bar": [
           {
            "error_x": {
             "color": "#2a3f5f"
            },
            "error_y": {
             "color": "#2a3f5f"
            },
            "marker": {
             "line": {
              "color": "#E5ECF6",
              "width": 0.5
             },
             "pattern": {
              "fillmode": "overlay",
              "size": 10,
              "solidity": 0.2
             }
            },
            "type": "bar"
           }
          ],
          "barpolar": [
           {
            "marker": {
             "line": {
              "color": "#E5ECF6",
              "width": 0.5
             },
             "pattern": {
              "fillmode": "overlay",
              "size": 10,
              "solidity": 0.2
             }
            },
            "type": "barpolar"
           }
          ],
          "carpet": [
           {
            "aaxis": {
             "endlinecolor": "#2a3f5f",
             "gridcolor": "white",
             "linecolor": "white",
             "minorgridcolor": "white",
             "startlinecolor": "#2a3f5f"
            },
            "baxis": {
             "endlinecolor": "#2a3f5f",
             "gridcolor": "white",
             "linecolor": "white",
             "minorgridcolor": "white",
             "startlinecolor": "#2a3f5f"
            },
            "type": "carpet"
           }
          ],
          "choropleth": [
           {
            "colorbar": {
             "outlinewidth": 0,
             "ticks": ""
            },
            "type": "choropleth"
           }
          ],
          "contour": [
           {
            "colorbar": {
             "outlinewidth": 0,
             "ticks": ""
            },
            "colorscale": [
             [
              0,
              "#0d0887"
             ],
             [
              0.1111111111111111,
              "#46039f"
             ],
             [
              0.2222222222222222,
              "#7201a8"
             ],
             [
              0.3333333333333333,
              "#9c179e"
             ],
             [
              0.4444444444444444,
              "#bd3786"
             ],
             [
              0.5555555555555556,
              "#d8576b"
             ],
             [
              0.6666666666666666,
              "#ed7953"
             ],
             [
              0.7777777777777778,
              "#fb9f3a"
             ],
             [
              0.8888888888888888,
              "#fdca26"
             ],
             [
              1,
              "#f0f921"
             ]
            ],
            "type": "contour"
           }
          ],
          "contourcarpet": [
           {
            "colorbar": {
             "outlinewidth": 0,
             "ticks": ""
            },
            "type": "contourcarpet"
           }
          ],
          "heatmap": [
           {
            "colorbar": {
             "outlinewidth": 0,
             "ticks": ""
            },
            "colorscale": [
             [
              0,
              "#0d0887"
             ],
             [
              0.1111111111111111,
              "#46039f"
             ],
             [
              0.2222222222222222,
              "#7201a8"
             ],
             [
              0.3333333333333333,
              "#9c179e"
             ],
             [
              0.4444444444444444,
              "#bd3786"
             ],
             [
              0.5555555555555556,
              "#d8576b"
             ],
             [
              0.6666666666666666,
              "#ed7953"
             ],
             [
              0.7777777777777778,
              "#fb9f3a"
             ],
             [
              0.8888888888888888,
              "#fdca26"
             ],
             [
              1,
              "#f0f921"
             ]
            ],
            "type": "heatmap"
           }
          ],
          "heatmapgl": [
           {
            "colorbar": {
             "outlinewidth": 0,
             "ticks": ""
            },
            "colorscale": [
             [
              0,
              "#0d0887"
             ],
             [
              0.1111111111111111,
              "#46039f"
             ],
             [
              0.2222222222222222,
              "#7201a8"
             ],
             [
              0.3333333333333333,
              "#9c179e"
             ],
             [
              0.4444444444444444,
              "#bd3786"
             ],
             [
              0.5555555555555556,
              "#d8576b"
             ],
             [
              0.6666666666666666,
              "#ed7953"
             ],
             [
              0.7777777777777778,
              "#fb9f3a"
             ],
             [
              0.8888888888888888,
              "#fdca26"
             ],
             [
              1,
              "#f0f921"
             ]
            ],
            "type": "heatmapgl"
           }
          ],
          "histogram": [
           {
            "marker": {
             "pattern": {
              "fillmode": "overlay",
              "size": 10,
              "solidity": 0.2
             }
            },
            "type": "histogram"
           }
          ],
          "histogram2d": [
           {
            "colorbar": {
             "outlinewidth": 0,
             "ticks": ""
            },
            "colorscale": [
             [
              0,
              "#0d0887"
             ],
             [
              0.1111111111111111,
              "#46039f"
             ],
             [
              0.2222222222222222,
              "#7201a8"
             ],
             [
              0.3333333333333333,
              "#9c179e"
             ],
             [
              0.4444444444444444,
              "#bd3786"
             ],
             [
              0.5555555555555556,
              "#d8576b"
             ],
             [
              0.6666666666666666,
              "#ed7953"
             ],
             [
              0.7777777777777778,
              "#fb9f3a"
             ],
             [
              0.8888888888888888,
              "#fdca26"
             ],
             [
              1,
              "#f0f921"
             ]
            ],
            "type": "histogram2d"
           }
          ],
          "histogram2dcontour": [
           {
            "colorbar": {
             "outlinewidth": 0,
             "ticks": ""
            },
            "colorscale": [
             [
              0,
              "#0d0887"
             ],
             [
              0.1111111111111111,
              "#46039f"
             ],
             [
              0.2222222222222222,
              "#7201a8"
             ],
             [
              0.3333333333333333,
              "#9c179e"
             ],
             [
              0.4444444444444444,
              "#bd3786"
             ],
             [
              0.5555555555555556,
              "#d8576b"
             ],
             [
              0.6666666666666666,
              "#ed7953"
             ],
             [
              0.7777777777777778,
              "#fb9f3a"
             ],
             [
              0.8888888888888888,
              "#fdca26"
             ],
             [
              1,
              "#f0f921"
             ]
            ],
            "type": "histogram2dcontour"
           }
          ],
          "mesh3d": [
           {
            "colorbar": {
             "outlinewidth": 0,
             "ticks": ""
            },
            "type": "mesh3d"
           }
          ],
          "parcoords": [
           {
            "line": {
             "colorbar": {
              "outlinewidth": 0,
              "ticks": ""
             }
            },
            "type": "parcoords"
           }
          ],
          "pie": [
           {
            "automargin": true,
            "type": "pie"
           }
          ],
          "scatter": [
           {
            "marker": {
             "colorbar": {
              "outlinewidth": 0,
              "ticks": ""
             }
            },
            "type": "scatter"
           }
          ],
          "scatter3d": [
           {
            "line": {
             "colorbar": {
              "outlinewidth": 0,
              "ticks": ""
             }
            },
            "marker": {
             "colorbar": {
              "outlinewidth": 0,
              "ticks": ""
             }
            },
            "type": "scatter3d"
           }
          ],
          "scattercarpet": [
           {
            "marker": {
             "colorbar": {
              "outlinewidth": 0,
              "ticks": ""
             }
            },
            "type": "scattercarpet"
           }
          ],
          "scattergeo": [
           {
            "marker": {
             "colorbar": {
              "outlinewidth": 0,
              "ticks": ""
             }
            },
            "type": "scattergeo"
           }
          ],
          "scattergl": [
           {
            "marker": {
             "colorbar": {
              "outlinewidth": 0,
              "ticks": ""
             }
            },
            "type": "scattergl"
           }
          ],
          "scattermapbox": [
           {
            "marker": {
             "colorbar": {
              "outlinewidth": 0,
              "ticks": ""
             }
            },
            "type": "scattermapbox"
           }
          ],
          "scatterpolar": [
           {
            "marker": {
             "colorbar": {
              "outlinewidth": 0,
              "ticks": ""
             }
            },
            "type": "scatterpolar"
           }
          ],
          "scatterpolargl": [
           {
            "marker": {
             "colorbar": {
              "outlinewidth": 0,
              "ticks": ""
             }
            },
            "type": "scatterpolargl"
           }
          ],
          "scatterternary": [
           {
            "marker": {
             "colorbar": {
              "outlinewidth": 0,
              "ticks": ""
             }
            },
            "type": "scatterternary"
           }
          ],
          "surface": [
           {
            "colorbar": {
             "outlinewidth": 0,
             "ticks": ""
            },
            "colorscale": [
             [
              0,
              "#0d0887"
             ],
             [
              0.1111111111111111,
              "#46039f"
             ],
             [
              0.2222222222222222,
              "#7201a8"
             ],
             [
              0.3333333333333333,
              "#9c179e"
             ],
             [
              0.4444444444444444,
              "#bd3786"
             ],
             [
              0.5555555555555556,
              "#d8576b"
             ],
             [
              0.6666666666666666,
              "#ed7953"
             ],
             [
              0.7777777777777778,
              "#fb9f3a"
             ],
             [
              0.8888888888888888,
              "#fdca26"
             ],
             [
              1,
              "#f0f921"
             ]
            ],
            "type": "surface"
           }
          ],
          "table": [
           {
            "cells": {
             "fill": {
              "color": "#EBF0F8"
             },
             "line": {
              "color": "white"
             }
            },
            "header": {
             "fill": {
              "color": "#C8D4E3"
             },
             "line": {
              "color": "white"
             }
            },
            "type": "table"
           }
          ]
         },
         "layout": {
          "annotationdefaults": {
           "arrowcolor": "#2a3f5f",
           "arrowhead": 0,
           "arrowwidth": 1
          },
          "autotypenumbers": "strict",
          "coloraxis": {
           "colorbar": {
            "outlinewidth": 0,
            "ticks": ""
           }
          },
          "colorscale": {
           "diverging": [
            [
             0,
             "#8e0152"
            ],
            [
             0.1,
             "#c51b7d"
            ],
            [
             0.2,
             "#de77ae"
            ],
            [
             0.3,
             "#f1b6da"
            ],
            [
             0.4,
             "#fde0ef"
            ],
            [
             0.5,
             "#f7f7f7"
            ],
            [
             0.6,
             "#e6f5d0"
            ],
            [
             0.7,
             "#b8e186"
            ],
            [
             0.8,
             "#7fbc41"
            ],
            [
             0.9,
             "#4d9221"
            ],
            [
             1,
             "#276419"
            ]
           ],
           "sequential": [
            [
             0,
             "#0d0887"
            ],
            [
             0.1111111111111111,
             "#46039f"
            ],
            [
             0.2222222222222222,
             "#7201a8"
            ],
            [
             0.3333333333333333,
             "#9c179e"
            ],
            [
             0.4444444444444444,
             "#bd3786"
            ],
            [
             0.5555555555555556,
             "#d8576b"
            ],
            [
             0.6666666666666666,
             "#ed7953"
            ],
            [
             0.7777777777777778,
             "#fb9f3a"
            ],
            [
             0.8888888888888888,
             "#fdca26"
            ],
            [
             1,
             "#f0f921"
            ]
           ],
           "sequentialminus": [
            [
             0,
             "#0d0887"
            ],
            [
             0.1111111111111111,
             "#46039f"
            ],
            [
             0.2222222222222222,
             "#7201a8"
            ],
            [
             0.3333333333333333,
             "#9c179e"
            ],
            [
             0.4444444444444444,
             "#bd3786"
            ],
            [
             0.5555555555555556,
             "#d8576b"
            ],
            [
             0.6666666666666666,
             "#ed7953"
            ],
            [
             0.7777777777777778,
             "#fb9f3a"
            ],
            [
             0.8888888888888888,
             "#fdca26"
            ],
            [
             1,
             "#f0f921"
            ]
           ]
          },
          "colorway": [
           "#636efa",
           "#EF553B",
           "#00cc96",
           "#ab63fa",
           "#FFA15A",
           "#19d3f3",
           "#FF6692",
           "#B6E880",
           "#FF97FF",
           "#FECB52"
          ],
          "font": {
           "color": "#2a3f5f"
          },
          "geo": {
           "bgcolor": "white",
           "lakecolor": "white",
           "landcolor": "#E5ECF6",
           "showlakes": true,
           "showland": true,
           "subunitcolor": "white"
          },
          "hoverlabel": {
           "align": "left"
          },
          "hovermode": "closest",
          "mapbox": {
           "style": "light"
          },
          "paper_bgcolor": "white",
          "plot_bgcolor": "#E5ECF6",
          "polar": {
           "angularaxis": {
            "gridcolor": "white",
            "linecolor": "white",
            "ticks": ""
           },
           "bgcolor": "#E5ECF6",
           "radialaxis": {
            "gridcolor": "white",
            "linecolor": "white",
            "ticks": ""
           }
          },
          "scene": {
           "xaxis": {
            "backgroundcolor": "#E5ECF6",
            "gridcolor": "white",
            "gridwidth": 2,
            "linecolor": "white",
            "showbackground": true,
            "ticks": "",
            "zerolinecolor": "white"
           },
           "yaxis": {
            "backgroundcolor": "#E5ECF6",
            "gridcolor": "white",
            "gridwidth": 2,
            "linecolor": "white",
            "showbackground": true,
            "ticks": "",
            "zerolinecolor": "white"
           },
           "zaxis": {
            "backgroundcolor": "#E5ECF6",
            "gridcolor": "white",
            "gridwidth": 2,
            "linecolor": "white",
            "showbackground": true,
            "ticks": "",
            "zerolinecolor": "white"
           }
          },
          "shapedefaults": {
           "line": {
            "color": "#2a3f5f"
           }
          },
          "ternary": {
           "aaxis": {
            "gridcolor": "white",
            "linecolor": "white",
            "ticks": ""
           },
           "baxis": {
            "gridcolor": "white",
            "linecolor": "white",
            "ticks": ""
           },
           "bgcolor": "#E5ECF6",
           "caxis": {
            "gridcolor": "white",
            "linecolor": "white",
            "ticks": ""
           }
          },
          "title": {
           "x": 0.05
          },
          "xaxis": {
           "automargin": true,
           "gridcolor": "white",
           "linecolor": "white",
           "ticks": "",
           "title": {
            "standoff": 15
           },
           "zerolinecolor": "white",
           "zerolinewidth": 2
          },
          "yaxis": {
           "automargin": true,
           "gridcolor": "white",
           "linecolor": "white",
           "ticks": "",
           "title": {
            "standoff": 15
           },
           "zerolinecolor": "white",
           "zerolinewidth": 2
          }
         }
        },
        "title": {
         "text": "Distplot of Total Car Crashes"
        },
        "xaxis": {
         "anchor": "y2",
         "domain": [
          0,
          1
         ],
         "zeroline": false
        },
        "yaxis": {
         "anchor": "free",
         "domain": [
          0.35,
          1
         ],
         "position": 0
        },
        "yaxis2": {
         "anchor": "x",
         "domain": [
          0,
          0.25
         ],
         "dtick": 1,
         "showticklabels": false
        }
       }
      },
      "text/html": [
       "<div>                            <div id=\"d5d6fa38-a05c-4712-b8d4-a5aa67d2dfb0\" class=\"plotly-graph-div\" style=\"height:525px; width:100%;\"></div>            <script type=\"text/javascript\">                require([\"plotly\"], function(Plotly) {                    window.PLOTLYENV=window.PLOTLYENV || {};                                    if (document.getElementById(\"d5d6fa38-a05c-4712-b8d4-a5aa67d2dfb0\")) {                    Plotly.newPlot(                        \"d5d6fa38-a05c-4712-b8d4-a5aa67d2dfb0\",                        [{\"autobinx\":false,\"histnorm\":\"probability density\",\"legendgroup\":\"speeding\",\"marker\":{\"color\":\"rgb(31, 119, 180)\"},\"name\":\"speeding\",\"opacity\":0.7,\"type\":\"histogram\",\"x\":[7.332000000000001,7.421,6.51,4.032,4.2,5.032,4.968,6.156000000000001,2.006,3.759,2.964,9.45,5.508000000000001,4.6080000000000005,3.625,2.669,4.806,4.066,7.175,5.738,4.25,1.886,3.384,2.208,2.64,6.923000000000001,8.345999999999998,1.9370000000000005,5.439,4.06,1.7919999999999998,3.496,3.936,6.5520000000000005,5.496999999999999,3.948,6.367999999999999,4.224,9.1,3.774,9.082,6.013999999999999,4.095,7.76,4.859,4.08,2.413,4.452,8.092,4.968,7.308],\"xaxis\":\"x\",\"xbins\":{\"end\":9.45,\"size\":1.0,\"start\":1.7919999999999998},\"yaxis\":\"y\"},{\"legendgroup\":\"speeding\",\"marker\":{\"color\":\"rgb(31, 119, 180)\"},\"mode\":\"lines\",\"name\":\"speeding\",\"showlegend\":false,\"type\":\"scatter\",\"x\":[1.7919999999999998,1.807316,1.8226319999999998,1.837948,1.8532639999999998,1.86858,1.8838959999999998,1.899212,1.9145279999999998,1.929844,1.9451599999999998,1.9604759999999999,1.9757919999999998,1.9911079999999999,2.006424,2.02174,2.0370559999999998,2.0523719999999996,2.067688,2.083004,2.0983199999999997,2.1136359999999996,2.128952,2.144268,2.1595839999999997,2.1748999999999996,2.190216,2.205532,2.2208479999999997,2.2361639999999996,2.25148,2.266796,2.2821119999999997,2.297428,2.3127439999999995,2.32806,2.3433759999999997,2.3586919999999996,2.374008,2.389324,2.4046399999999997,2.419956,2.435272,2.4505879999999998,2.4659039999999997,2.4812199999999995,2.496536,2.5118519999999998,2.5271679999999996,2.542484,2.5578,2.5731159999999997,2.5884319999999996,2.6037479999999995,2.619064,2.6343799999999997,2.6496959999999996,2.665012,2.680328,2.6956439999999997,2.7109599999999996,2.726276,2.741592,2.7569079999999997,2.7722239999999996,2.78754,2.802856,2.8181719999999997,2.8334879999999996,2.8488039999999994,2.8641199999999998,2.8794359999999997,2.8947519999999995,2.910068,2.9253839999999998,2.9406999999999996,2.956016,2.9713319999999994,2.9866479999999997,3.001964,3.0172799999999995,3.032596,3.0479119999999997,3.0632279999999996,3.078544,3.0938599999999994,3.1091759999999997,3.124492,3.1398079999999995,3.155124,3.1704399999999997,3.1857559999999996,3.201072,3.216388,3.2317039999999997,3.24702,3.2623359999999995,3.277652,3.2929679999999997,3.3082839999999996,3.3236,3.3389159999999998,3.3542319999999997,3.369548,3.3848639999999994,3.4001799999999998,3.4154959999999996,3.4308119999999995,3.446128,3.4614439999999997,3.4767599999999996,3.4920759999999995,3.5073919999999994,3.5227079999999997,3.5380239999999996,3.5533399999999995,3.568656,3.5839719999999997,3.5992879999999996,3.614604,3.6299199999999994,3.6452359999999997,3.660552,3.6758679999999995,3.691184,3.7064999999999997,3.7218159999999996,3.737132,3.752448,3.7677639999999997,3.78308,3.798396,3.8137119999999998,3.8290279999999997,3.844344,3.85966,3.8749759999999993,3.8902919999999996,3.9056079999999995,3.920924,3.9362399999999997,3.951556,3.9668719999999995,3.9821879999999994,3.9975039999999997,4.01282,4.028136,4.043451999999999,4.058768,4.074083999999999,4.0893999999999995,4.104716,4.120032,4.135348,4.150663999999999,4.165979999999999,4.181296,4.196612,4.211928,4.227243999999999,4.242559999999999,4.2578759999999996,4.273192,4.288508,4.303824,4.319139999999999,4.334455999999999,4.349772,4.365088,4.380404,4.395719999999999,4.411035999999999,4.426352,4.441668,4.456984,4.4723,4.487615999999999,4.5029319999999995,4.518248,4.533564,4.54888,4.564196,4.579511999999999,4.594828,4.610144,4.6254599999999995,4.640776,4.656091999999999,4.671408,4.686724,4.70204,4.717356,4.732671999999999,4.747987999999999,4.763304,4.77862,4.7939359999999995,4.809252,4.824567999999999,4.839884,4.8552,4.870515999999999,4.885832,4.901147999999999,4.9164639999999995,4.93178,4.947096,4.962412,4.977727999999999,4.993043999999999,5.00836,5.023676,5.0389919999999995,5.054308,5.069623999999999,5.08494,5.100256,5.115571999999999,5.130888,5.146203999999999,5.161519999999999,5.176836,5.192151999999999,5.2074679999999995,5.222783999999999,5.238099999999999,5.253416,5.268732,5.284047999999999,5.299363999999999,5.314679999999999,5.3299959999999995,5.345312,5.360628,5.375944,5.391259999999999,5.406575999999999,5.421892,5.437208,5.4525239999999995,5.467839999999999,5.483155999999999,5.498472,5.513788,5.529104,5.544419999999999,5.559735999999999,5.5750519999999995,5.590368,5.605684,5.6209999999999996,5.636315999999999,5.651631999999999,5.666948,5.682264,5.69758,5.712896,5.728211999999999,5.7435279999999995,5.758844,5.77416,5.789476,5.804792,5.820107999999999,5.835424,5.850739999999999,5.8660559999999995,5.881372,5.896688,5.912004,5.92732,5.942635999999999,5.957951999999999,5.973268,5.9885839999999995,6.0039,6.019215999999999,6.034532,6.049848,6.065163999999999,6.08048,6.095795999999999,6.111112,6.126428,6.141743999999999,6.1570599999999995,6.172375999999999,6.187692,6.203008,6.218323999999999,6.233639999999999,6.248956,6.264272,6.2795879999999995,6.294903999999999,6.310219999999999,6.325536,6.340852,6.356167999999999,6.371484,6.386799999999999,6.4021159999999995,6.417432,6.432747999999999,6.448064,6.46338,6.478695999999999,6.494012,6.509327999999999,6.5246439999999994,6.53996,6.555275999999999,6.5705919999999995,6.585907999999999,6.601223999999999,6.61654,6.631856,6.647171999999999,6.662487999999999,6.677804,6.6931199999999995,6.708436,6.723751999999999,6.739067999999999,6.754384,6.769699999999999,6.785016,6.800331999999999,6.8156479999999995,6.830964,6.846279999999999,6.861596,6.876911999999999,6.892228,6.907544,6.922859999999999,6.9381759999999995,6.953491999999999,6.968808,6.9841239999999996,6.999439999999999,7.014755999999999,7.030071999999999,7.045388,7.060703999999999,7.07602,7.091335999999999,7.1066519999999995,7.121968,7.137283999999999,7.1526,7.167915999999999,7.183231999999999,7.198548,7.213863999999999,7.2291799999999995,7.244495999999999,7.259812,7.275128,7.290443999999999,7.305759999999999,7.321076,7.336392,7.3517079999999995,7.367023999999999,7.382339999999999,7.397656,7.412972,7.428287999999999,7.443603999999999,7.458919999999999,7.474235999999999,7.489552,7.504867999999999,7.5201839999999995,7.5355,7.550815999999999,7.566132,7.581447999999999,7.596763999999999,7.61208,7.627395999999999,7.6427119999999995,7.658027999999999,7.673343999999999,7.68866,7.703975999999999,7.719291999999999,7.734607999999999,7.749924,7.7652399999999995,7.780556,7.795871999999999,7.811187999999999,7.826504,7.841819999999999,7.857136,7.872451999999999,7.8877679999999994,7.903084,7.918399999999999,7.9337159999999995,7.949031999999999,7.964348,7.979664,7.994979999999999,8.010296,8.025611999999999,8.040928000000001,8.056244,8.071559999999998,8.086876,8.102191999999999,8.117508,8.132824,8.148139999999998,8.163456,8.178771999999999,8.194088,8.209404,8.22472,8.240036,8.255351999999998,8.270668,8.285984,8.3013,8.316616,8.331931999999998,8.347248,8.362563999999999,8.37788,8.393196,8.408511999999998,8.423828,8.439143999999999,8.45446,8.469776,8.485092,8.500408,8.515723999999999,8.53104,8.546356,8.561672,8.576988,8.592303999999999,8.60762,8.622936,8.638252,8.653568,8.668883999999998,8.6842,8.699516,8.714832,8.730148,8.745464,8.76078,8.776095999999999,8.791412,8.806728,8.822044,8.83736,8.852675999999999,8.867992,8.883308,8.898624,8.91394,8.929255999999999,8.944571999999999,8.959888,8.975204,8.99052,9.005835999999999,9.021151999999999,9.036468,9.051784,9.0671,9.082415999999998,9.097731999999999,9.113048,9.128364,9.14368,9.158995999999998,9.174312,9.189627999999999,9.204944,9.22026,9.235575999999998,9.250892,9.266207999999999,9.281524,9.29684,9.312155999999998,9.327472,9.342787999999999,9.358103999999999,9.37342,9.388736,9.404052,9.419367999999999,9.434683999999999],\"xaxis\":\"x\",\"y\":[0.07335612723110804,0.07418905842035381,0.07502146462957576,0.07585328669886249,0.07668447189147398,0.07751497395982207,0.07834475319807765,0.07917377648111859,0.08000201728955815,0.08082945572061986,0.08165607848465224,0.08248187888710326,0.08330685679580593,0.08413101859345257,0.08495437711516786,0.08577695157112099,0.0865987674541472,0.08741985643238274,0.08824025622694794,0.0890600104747455,0.08987916857647575,0.09069778553000085,0.09151592174922459,0.09233364286868767,0.09315101953411024,0.09396812717914749,0.09478504578865574,0.09560185964880076,0.09641865708436874,0.09723553018367687,0.09805257451150627,0.09886988881051496,0.09968757469161584,0.10050573631383493,0.10132448005419285,0.10214391416818036,0.10296414844142468,0.1037852938331699,0.1046074621122171,0.10543076548599485,0.10625531622345188,0.10708122627248297,0.10790860687262119,0.10873756816374444,0.10956821879156181,0.11040066551066045,0.11123501278590568,0.11207136239299907,0.11290981301900907,0.11375045986369722,0.11459339424246826,0.11543870319177807,0.11628646907783582,0.11713676920943719,0.11798967545576562,0.1188452538699945,0.11970356431951969,0.12056466012364496,0.12142858769953356,0.12229538621723085,0.1231650872645493,0.12403771452259262,0.12491328345268334,0.12579180099543533,0.12667326528269884,0.12755766536308114,0.1284449809417225,0.12933518213498718,0.13022822924069766,0.1311240725245153,0.13202265202304314,0.13292389736419127,0.1338277276053187,0.13473405108962727,0.13564276532125277,0.13655375685945936,0.13746690123230865,0.13838206287013627,0.13929909505912974,0.1402178399152608,0.14113812837878809,0.14205978022950128,0.14298260412283711,0.14390639764695787,0.14483094740083727,0.14575602909335614,0.1466814076633706,0.14760683742066721,0.14853206220768014,0.14945681558180174,0.15038082101807293,0.15130379213200046,0.15222543292220395,0.15314543803255373,0.15406349303342237,0.15497927472162826,0.1558924514386139,0.15680268340636117,0.15770962308050954,0.15861291552010368,0.1595121987733676,0.16040710427886098,0.16129725728134792,0.16218227726167056,0.16306177837989708,0.1639353699309782,0.16480265681212666,0.16566324000110336,0.16651671704457613,0.16736268255569117,0.16820072871998232,0.16903044580872065,0.16985142269879736,0.17066324739821429,0.171465507576248,0.1722577910973433,0.1730396865577829,0.17381078382417808,0.17457067457281908,0.17531895282892376,0.17605521550482506,0.17677906293613865,0.1774900994149608,0.1781879337191498,0.17887217963675633,0.1795424564846781,0.18019838962062867,0.18083961094752346,0.18146575940940451,0.18207648147804562,0.18267143162939645,0.18325027280905087,0.1838126768859461,0.18435832509352676,0.18488690845763334,0.18539812821040505,0.18589169618951687,0.18636733522210058,0.1868247794927352,0.18726377489492185,0.187684079365498,0.1880854632014775,0.18846770935884186,0.1888306137328458,0.1891739854194369,0.18949764695742852,0.18980143455110726,0.19008519827298934,0.19034880224648762,0.1905921248082866,0.1908150586502638,0.19101751094083722,0.19119940342565803,0.19136067250760813,0.19150126930610029,0.19162115969572058,0.19172032432429006,0.19179875861045947,0.19185647272099343,0.19189349152793017,0.19190985454584691,0.19190561584948893,0.19188084397206104,0.19183562178450847,0.19177004635614875,0.19168422879704836,0.19157829408256363,0.19145238086049843,0.19130664124135585,0.19114124057218632,0.19095635719456253,0.19075218218722823,0.1905289190939979,0.19028678363749565,0.1900260034193446,0.18974681760743653,0.189449476610921,0.18913424174357266,0.18880138487620346,0.1884511880787988,0.18808394325306457,0.18769995175608079,0.1872995240157601,0.18688297913881632,0.1864506445119494,0.18600285539695377,0.18553995452045746,0.18506229165899588,0.18457022322012182,0.1840641118202476,0.18354432585990918,0.1830112390971344,0.18246523021958677,0.18190668241615082,0.1813359829486075,0.1807535227240387,0.18015969586858824,0.17955489930318602,0.17893953232183418,0.17831399617302982,0.17767869364488742,0.1770340286545026,0.17638040584208,0.17571823017033084,0.17504790652962202,0.17436983934934147,0.17368443221592034,0.17299208749793185,0.17229320597866576,0.17158818649655405,0.1708774255938005,0.17016131717354518,0.16944025216587202,0.16871461820294437,0.1679847993035299,0.16725117556715635,0.16651412287811374,0.1657740126194974,0.16503121139746543,0.16428608077586088,0.1635389770213261,0.16279025085901996,0.16204024723902177,0.16128930511349104,0.16053775722462887,0.15978592990346874,0.15903414287950593,0.1582827091011546,0.15753193456700929,0.15678211816786233,0.15603355153942156,0.15528651892565054,0.15454129705264075,0.15379815501291352,0.1530573541600308,0.15231914801338736,0.15158378217303997,0.1508514942444208,0.15012251377277158,0.1493970621871248,0.14867535275364802,0.14795759053816387,0.1472439723776455,0.14653468686048277,0.14582991431531062,0.1451298268081818,0.14443458814786486,0.1437443538990437,0.1430592714031896,0.1423794798068781,0.14170511009731698,0.14103628514485417,0.1403731197522301,0.13971572071034208,0.13906418686028532,0.13841860916143986,0.13777907076537002,0.13714564709530858,0.1365184059309966,0.13589740749865542,0.1352827045658684,0.13467434254115376,0.13407235957801397,0.13347678668325103,0.1328876478293401,0.13230496007065987,0.13172873366338106,0.1311589721888211,0.13059567268007619,0.1300388257517471,0.12948841573258213,0.12894442080086324,0.1284068131223681,0.1278755589907458,0.12735061897014863,0.12683194803996836,0.12631949574152987,0.1258132063265995,0.12531301890757335,0.12481886760921072,0.12433068172178685,0.12384838585554221,0.12337190009630856,0.12290114016219951,0.12243601756125277,0.12197643974992005,0.12152231029230026,0.12107352902001675,0.12062999219264312,0.12019159265858259,0.11975822001631169,0.1193297607758996,0.11890609852071601,0.11848711406924445,0.11807268563691839,0.11766268899789839,0.11725699764671105,0.11685548295967056,0.1164580143560048,0.1160644594586078,0.1156746842543419,0.1152885532538113,0.11490592965052998,0.11452667547940601,0.1141506517744633,0.11377771872572214,0.11340773583515777,0.1130405620716571,0.11267605602488912,0.11231407605800758,0.11195448045909942,0.11159712759129337,0.1112418760414397,0.11088858476727248,0.11053711324296167,0.11018732160296346,0.10983907078407243,0.10949222266558059,0.10914664020744341,0.10880218758635489,0.10845873032962891,0.10811613544678443,0.10777427155873023,0.10743300902444425,0.10709222006503956,0.10675177888511035,0.10641156179124948,0.10607144730762695,0.10573131628852148,0.10539105202769404,0.10505054036449381,0.10470966978658627,0.10436833152919492,0.1040264196707466,0.10368383122481478,0.10334046622825124,0.10299622782540464,0.10265102234831965,0.102304759392818,0.10195735189036147,0.1016087161756009,0.10125877204951905,0.1009074428380778,0.10055465544628249,0.10020034040758385,0.09984443192853815,0.09948686792865324,0.09912759007535352,0.09876654381399953,0.09840367839290712,0.09803894688331267,0.09767230619424208,0.09730371708224207,0.09693314415594442,0.09656055587543677,0.09618592454642252,0.0958092263091603,0.09543044112217941,0.09504955274077781,0.09466654869031467,0.09428142023432022,0.09389416233745293,0.09350477362334149,0.09311325632735987,0.0927196162443917,0.09232386267164716,0.09192600834660801,0.09152606938018179,0.09112406518515755,0.09072001840006279,0.09031395480853188,0.0899059032543029,0.08949589555197009,0.08908396639362728,0.0886701532515462,0.08825449627704166,0.08783703819568392,0.0874178241990261,0.08699690183302357,0.08657432088332706,0.08615013325764173,0.08572439286534853,0.08529715549459171,0.08486847868704396,0.08443842161056327,0.08400704492996529,0.08357441067613579,0.08314058211371589,0.08270562360759515,0.08226960048845153,0.0818325789175815,0.08139462575126528,0.08095580840491515,0.08051619471725621,0.08007585281479186,0.0796348509768034,0.07919325750113805,0.07875114057103613,0.07830856812324788,0.07786560771769048,0.07742232640889243,0.0769787906194698,0.07653506601587781,0.07609121738667461,0.07564730852353332,0.07520340210523054,0.07475955958483668,0.07431584108032716,0.07387230526882504,0.07342900928468425,0.07298600862160773,0.07254335703899442,0.0721011064726968,0.07165930695036078,0.07121800651151615,0.07077725113256952,0.0703370846568469,0.06989754872982096,0.06945868273964555,0.06902052376311368,0.06858310651713793,0.06814646331584677,0.06771062403337383,0.06727561607240692,0.06684146433855309,0.0664081912205589,0.0659758165764192,0.06554435772538841,0.0651138294458998,0.06468424397938591,0.06425561103997528,0.0638279378300359,0.06340122906151553,0.06297548698302101,0.06255071141256498,0.0621268997758952,0.06170404715031102,0.06128214631385746,0.06086118779977829,0.06044115995609553,0.06002204901017217,0.05960383913810642,0.05918651253878994,0.05877004951245897,0.05835442854355165,0.05793962638767895,0.05752561816250668,0.05711237744233674,0.05669987635616993,0.05628808568902245,0.05587697498626381,0.05546651266073612,0.05505666610240805,0.05464740179031516,0.05423868540652818,0.05383048195189171,0.05342275586327007,0.05301547113203335,0.0526085914235173,0.05220208019718644,0.05179590082723017,0.05139001672332112,0.05098439145126537,0.050578988853275414,0.05017377316759701,0.04976870914722567,0.049363762177449186,0.04895889839195655,0.048554084787259956,0.0481492893351768,0.047744481093128496,0.04733963031201532,0.04693470854143471,0.04652968873201703,0.046124545334659116,0.045719254396445114,0.045313793653052305,0.04490814261744712,0.044502282664687504,0.0440961971126565,0.04368987129856153,0.04328329265104493,0.04287645075776187,0.04246933742829251,0.04206194675226521,0.04165427515258274,0.04124632143364996,0.04083808682451716,0.040429575016864505,0.04002079219776235,0.039611747077158505,0.03920245091005272,0.038792917513331,0.03838316327724674,0.03797320717154461,0.03756307074623831,0.037152778127062386,0.03674235600563252,0.03633183362435851,0.035921242756166594],\"yaxis\":\"y\"},{\"legendgroup\":\"speeding\",\"marker\":{\"color\":\"rgb(31, 119, 180)\",\"symbol\":\"line-ns-open\"},\"mode\":\"markers\",\"name\":\"speeding\",\"showlegend\":false,\"type\":\"scatter\",\"x\":[7.332000000000001,7.421,6.51,4.032,4.2,5.032,4.968,6.156000000000001,2.006,3.759,2.964,9.45,5.508000000000001,4.6080000000000005,3.625,2.669,4.806,4.066,7.175,5.738,4.25,1.886,3.384,2.208,2.64,6.923000000000001,8.345999999999998,1.9370000000000005,5.439,4.06,1.7919999999999998,3.496,3.936,6.5520000000000005,5.496999999999999,3.948,6.367999999999999,4.224,9.1,3.774,9.082,6.013999999999999,4.095,7.76,4.859,4.08,2.413,4.452,8.092,4.968,7.308],\"xaxis\":\"x\",\"y\":[\"speeding\",\"speeding\",\"speeding\",\"speeding\",\"speeding\",\"speeding\",\"speeding\",\"speeding\",\"speeding\",\"speeding\",\"speeding\",\"speeding\",\"speeding\",\"speeding\",\"speeding\",\"speeding\",\"speeding\",\"speeding\",\"speeding\",\"speeding\",\"speeding\",\"speeding\",\"speeding\",\"speeding\",\"speeding\",\"speeding\",\"speeding\",\"speeding\",\"speeding\",\"speeding\",\"speeding\",\"speeding\",\"speeding\",\"speeding\",\"speeding\",\"speeding\",\"speeding\",\"speeding\",\"speeding\",\"speeding\",\"speeding\",\"speeding\",\"speeding\",\"speeding\",\"speeding\",\"speeding\",\"speeding\",\"speeding\",\"speeding\",\"speeding\",\"speeding\"],\"yaxis\":\"y2\"}],                        {\"barmode\":\"overlay\",\"hovermode\":\"closest\",\"legend\":{\"traceorder\":\"reversed\"},\"template\":{\"data\":{\"bar\":[{\"error_x\":{\"color\":\"#2a3f5f\"},\"error_y\":{\"color\":\"#2a3f5f\"},\"marker\":{\"line\":{\"color\":\"#E5ECF6\",\"width\":0.5},\"pattern\":{\"fillmode\":\"overlay\",\"size\":10,\"solidity\":0.2}},\"type\":\"bar\"}],\"barpolar\":[{\"marker\":{\"line\":{\"color\":\"#E5ECF6\",\"width\":0.5},\"pattern\":{\"fillmode\":\"overlay\",\"size\":10,\"solidity\":0.2}},\"type\":\"barpolar\"}],\"carpet\":[{\"aaxis\":{\"endlinecolor\":\"#2a3f5f\",\"gridcolor\":\"white\",\"linecolor\":\"white\",\"minorgridcolor\":\"white\",\"startlinecolor\":\"#2a3f5f\"},\"baxis\":{\"endlinecolor\":\"#2a3f5f\",\"gridcolor\":\"white\",\"linecolor\":\"white\",\"minorgridcolor\":\"white\",\"startlinecolor\":\"#2a3f5f\"},\"type\":\"carpet\"}],\"choropleth\":[{\"colorbar\":{\"outlinewidth\":0,\"ticks\":\"\"},\"type\":\"choropleth\"}],\"contour\":[{\"colorbar\":{\"outlinewidth\":0,\"ticks\":\"\"},\"colorscale\":[[0.0,\"#0d0887\"],[0.1111111111111111,\"#46039f\"],[0.2222222222222222,\"#7201a8\"],[0.3333333333333333,\"#9c179e\"],[0.4444444444444444,\"#bd3786\"],[0.5555555555555556,\"#d8576b\"],[0.6666666666666666,\"#ed7953\"],[0.7777777777777778,\"#fb9f3a\"],[0.8888888888888888,\"#fdca26\"],[1.0,\"#f0f921\"]],\"type\":\"contour\"}],\"contourcarpet\":[{\"colorbar\":{\"outlinewidth\":0,\"ticks\":\"\"},\"type\":\"contourcarpet\"}],\"heatmap\":[{\"colorbar\":{\"outlinewidth\":0,\"ticks\":\"\"},\"colorscale\":[[0.0,\"#0d0887\"],[0.1111111111111111,\"#46039f\"],[0.2222222222222222,\"#7201a8\"],[0.3333333333333333,\"#9c179e\"],[0.4444444444444444,\"#bd3786\"],[0.5555555555555556,\"#d8576b\"],[0.6666666666666666,\"#ed7953\"],[0.7777777777777778,\"#fb9f3a\"],[0.8888888888888888,\"#fdca26\"],[1.0,\"#f0f921\"]],\"type\":\"heatmap\"}],\"heatmapgl\":[{\"colorbar\":{\"outlinewidth\":0,\"ticks\":\"\"},\"colorscale\":[[0.0,\"#0d0887\"],[0.1111111111111111,\"#46039f\"],[0.2222222222222222,\"#7201a8\"],[0.3333333333333333,\"#9c179e\"],[0.4444444444444444,\"#bd3786\"],[0.5555555555555556,\"#d8576b\"],[0.6666666666666666,\"#ed7953\"],[0.7777777777777778,\"#fb9f3a\"],[0.8888888888888888,\"#fdca26\"],[1.0,\"#f0f921\"]],\"type\":\"heatmapgl\"}],\"histogram\":[{\"marker\":{\"pattern\":{\"fillmode\":\"overlay\",\"size\":10,\"solidity\":0.2}},\"type\":\"histogram\"}],\"histogram2d\":[{\"colorbar\":{\"outlinewidth\":0,\"ticks\":\"\"},\"colorscale\":[[0.0,\"#0d0887\"],[0.1111111111111111,\"#46039f\"],[0.2222222222222222,\"#7201a8\"],[0.3333333333333333,\"#9c179e\"],[0.4444444444444444,\"#bd3786\"],[0.5555555555555556,\"#d8576b\"],[0.6666666666666666,\"#ed7953\"],[0.7777777777777778,\"#fb9f3a\"],[0.8888888888888888,\"#fdca26\"],[1.0,\"#f0f921\"]],\"type\":\"histogram2d\"}],\"histogram2dcontour\":[{\"colorbar\":{\"outlinewidth\":0,\"ticks\":\"\"},\"colorscale\":[[0.0,\"#0d0887\"],[0.1111111111111111,\"#46039f\"],[0.2222222222222222,\"#7201a8\"],[0.3333333333333333,\"#9c179e\"],[0.4444444444444444,\"#bd3786\"],[0.5555555555555556,\"#d8576b\"],[0.6666666666666666,\"#ed7953\"],[0.7777777777777778,\"#fb9f3a\"],[0.8888888888888888,\"#fdca26\"],[1.0,\"#f0f921\"]],\"type\":\"histogram2dcontour\"}],\"mesh3d\":[{\"colorbar\":{\"outlinewidth\":0,\"ticks\":\"\"},\"type\":\"mesh3d\"}],\"parcoords\":[{\"line\":{\"colorbar\":{\"outlinewidth\":0,\"ticks\":\"\"}},\"type\":\"parcoords\"}],\"pie\":[{\"automargin\":true,\"type\":\"pie\"}],\"scatter\":[{\"marker\":{\"colorbar\":{\"outlinewidth\":0,\"ticks\":\"\"}},\"type\":\"scatter\"}],\"scatter3d\":[{\"line\":{\"colorbar\":{\"outlinewidth\":0,\"ticks\":\"\"}},\"marker\":{\"colorbar\":{\"outlinewidth\":0,\"ticks\":\"\"}},\"type\":\"scatter3d\"}],\"scattercarpet\":[{\"marker\":{\"colorbar\":{\"outlinewidth\":0,\"ticks\":\"\"}},\"type\":\"scattercarpet\"}],\"scattergeo\":[{\"marker\":{\"colorbar\":{\"outlinewidth\":0,\"ticks\":\"\"}},\"type\":\"scattergeo\"}],\"scattergl\":[{\"marker\":{\"colorbar\":{\"outlinewidth\":0,\"ticks\":\"\"}},\"type\":\"scattergl\"}],\"scattermapbox\":[{\"marker\":{\"colorbar\":{\"outlinewidth\":0,\"ticks\":\"\"}},\"type\":\"scattermapbox\"}],\"scatterpolar\":[{\"marker\":{\"colorbar\":{\"outlinewidth\":0,\"ticks\":\"\"}},\"type\":\"scatterpolar\"}],\"scatterpolargl\":[{\"marker\":{\"colorbar\":{\"outlinewidth\":0,\"ticks\":\"\"}},\"type\":\"scatterpolargl\"}],\"scatterternary\":[{\"marker\":{\"colorbar\":{\"outlinewidth\":0,\"ticks\":\"\"}},\"type\":\"scatterternary\"}],\"surface\":[{\"colorbar\":{\"outlinewidth\":0,\"ticks\":\"\"},\"colorscale\":[[0.0,\"#0d0887\"],[0.1111111111111111,\"#46039f\"],[0.2222222222222222,\"#7201a8\"],[0.3333333333333333,\"#9c179e\"],[0.4444444444444444,\"#bd3786\"],[0.5555555555555556,\"#d8576b\"],[0.6666666666666666,\"#ed7953\"],[0.7777777777777778,\"#fb9f3a\"],[0.8888888888888888,\"#fdca26\"],[1.0,\"#f0f921\"]],\"type\":\"surface\"}],\"table\":[{\"cells\":{\"fill\":{\"color\":\"#EBF0F8\"},\"line\":{\"color\":\"white\"}},\"header\":{\"fill\":{\"color\":\"#C8D4E3\"},\"line\":{\"color\":\"white\"}},\"type\":\"table\"}]},\"layout\":{\"annotationdefaults\":{\"arrowcolor\":\"#2a3f5f\",\"arrowhead\":0,\"arrowwidth\":1},\"autotypenumbers\":\"strict\",\"coloraxis\":{\"colorbar\":{\"outlinewidth\":0,\"ticks\":\"\"}},\"colorscale\":{\"diverging\":[[0,\"#8e0152\"],[0.1,\"#c51b7d\"],[0.2,\"#de77ae\"],[0.3,\"#f1b6da\"],[0.4,\"#fde0ef\"],[0.5,\"#f7f7f7\"],[0.6,\"#e6f5d0\"],[0.7,\"#b8e186\"],[0.8,\"#7fbc41\"],[0.9,\"#4d9221\"],[1,\"#276419\"]],\"sequential\":[[0.0,\"#0d0887\"],[0.1111111111111111,\"#46039f\"],[0.2222222222222222,\"#7201a8\"],[0.3333333333333333,\"#9c179e\"],[0.4444444444444444,\"#bd3786\"],[0.5555555555555556,\"#d8576b\"],[0.6666666666666666,\"#ed7953\"],[0.7777777777777778,\"#fb9f3a\"],[0.8888888888888888,\"#fdca26\"],[1.0,\"#f0f921\"]],\"sequentialminus\":[[0.0,\"#0d0887\"],[0.1111111111111111,\"#46039f\"],[0.2222222222222222,\"#7201a8\"],[0.3333333333333333,\"#9c179e\"],[0.4444444444444444,\"#bd3786\"],[0.5555555555555556,\"#d8576b\"],[0.6666666666666666,\"#ed7953\"],[0.7777777777777778,\"#fb9f3a\"],[0.8888888888888888,\"#fdca26\"],[1.0,\"#f0f921\"]]},\"colorway\":[\"#636efa\",\"#EF553B\",\"#00cc96\",\"#ab63fa\",\"#FFA15A\",\"#19d3f3\",\"#FF6692\",\"#B6E880\",\"#FF97FF\",\"#FECB52\"],\"font\":{\"color\":\"#2a3f5f\"},\"geo\":{\"bgcolor\":\"white\",\"lakecolor\":\"white\",\"landcolor\":\"#E5ECF6\",\"showlakes\":true,\"showland\":true,\"subunitcolor\":\"white\"},\"hoverlabel\":{\"align\":\"left\"},\"hovermode\":\"closest\",\"mapbox\":{\"style\":\"light\"},\"paper_bgcolor\":\"white\",\"plot_bgcolor\":\"#E5ECF6\",\"polar\":{\"angularaxis\":{\"gridcolor\":\"white\",\"linecolor\":\"white\",\"ticks\":\"\"},\"bgcolor\":\"#E5ECF6\",\"radialaxis\":{\"gridcolor\":\"white\",\"linecolor\":\"white\",\"ticks\":\"\"}},\"scene\":{\"xaxis\":{\"backgroundcolor\":\"#E5ECF6\",\"gridcolor\":\"white\",\"gridwidth\":2,\"linecolor\":\"white\",\"showbackground\":true,\"ticks\":\"\",\"zerolinecolor\":\"white\"},\"yaxis\":{\"backgroundcolor\":\"#E5ECF6\",\"gridcolor\":\"white\",\"gridwidth\":2,\"linecolor\":\"white\",\"showbackground\":true,\"ticks\":\"\",\"zerolinecolor\":\"white\"},\"zaxis\":{\"backgroundcolor\":\"#E5ECF6\",\"gridcolor\":\"white\",\"gridwidth\":2,\"linecolor\":\"white\",\"showbackground\":true,\"ticks\":\"\",\"zerolinecolor\":\"white\"}},\"shapedefaults\":{\"line\":{\"color\":\"#2a3f5f\"}},\"ternary\":{\"aaxis\":{\"gridcolor\":\"white\",\"linecolor\":\"white\",\"ticks\":\"\"},\"baxis\":{\"gridcolor\":\"white\",\"linecolor\":\"white\",\"ticks\":\"\"},\"bgcolor\":\"#E5ECF6\",\"caxis\":{\"gridcolor\":\"white\",\"linecolor\":\"white\",\"ticks\":\"\"}},\"title\":{\"x\":0.05},\"xaxis\":{\"automargin\":true,\"gridcolor\":\"white\",\"linecolor\":\"white\",\"ticks\":\"\",\"title\":{\"standoff\":15},\"zerolinecolor\":\"white\",\"zerolinewidth\":2},\"yaxis\":{\"automargin\":true,\"gridcolor\":\"white\",\"linecolor\":\"white\",\"ticks\":\"\",\"title\":{\"standoff\":15},\"zerolinecolor\":\"white\",\"zerolinewidth\":2}}},\"title\":{\"text\":\"Distplot of Total Car Crashes\"},\"xaxis\":{\"anchor\":\"y2\",\"domain\":[0.0,1.0],\"zeroline\":false},\"yaxis\":{\"anchor\":\"free\",\"domain\":[0.35,1],\"position\":0.0},\"yaxis2\":{\"anchor\":\"x\",\"domain\":[0,0.25],\"dtick\":1,\"showticklabels\":false}},                        {\"responsive\": true}                    ).then(function(){\n",
       "                            \n",
       "var gd = document.getElementById('d5d6fa38-a05c-4712-b8d4-a5aa67d2dfb0');\n",
       "var x = new MutationObserver(function (mutations, observer) {{\n",
       "        var display = window.getComputedStyle(gd).display;\n",
       "        if (!display || display === 'none') {{\n",
       "            console.log([gd, 'removed!']);\n",
       "            Plotly.purge(gd);\n",
       "            observer.disconnect();\n",
       "        }}\n",
       "}});\n",
       "\n",
       "// Listen for the removal of the full notebook cells\n",
       "var notebookContainer = gd.closest('#notebook-container');\n",
       "if (notebookContainer) {{\n",
       "    x.observe(notebookContainer, {childList: true});\n",
       "}}\n",
       "\n",
       "// Listen for the clearing of the current output cell\n",
       "var outputEl = gd.closest('.output');\n",
       "if (outputEl) {{\n",
       "    x.observe(outputEl, {childList: true});\n",
       "}}\n",
       "\n",
       "                        })                };                });            </script>        </div>"
      ]
     },
     "metadata": {},
     "output_type": "display_data"
    }
   ],
   "source": [
    "fig2 = ff.create_distplot([car_crashes['speeding']], ['speeding'])\n",
    "fig2.update_layout(title_text='Distplot of Total Car Crashes')\n",
    "fig2.show()"
   ]
  },
  {
   "cell_type": "code",
   "execution_count": 77,
   "metadata": {},
   "outputs": [
    {
     "data": {
      "text/html": [
       "<div>\n",
       "<style scoped>\n",
       "    .dataframe tbody tr th:only-of-type {\n",
       "        vertical-align: middle;\n",
       "    }\n",
       "\n",
       "    .dataframe tbody tr th {\n",
       "        vertical-align: top;\n",
       "    }\n",
       "\n",
       "    .dataframe thead th {\n",
       "        text-align: right;\n",
       "    }\n",
       "</style>\n",
       "<table border=\"1\" class=\"dataframe\">\n",
       "  <thead>\n",
       "    <tr style=\"text-align: right;\">\n",
       "      <th></th>\n",
       "      <th>year</th>\n",
       "      <th>month</th>\n",
       "      <th>passengers</th>\n",
       "    </tr>\n",
       "  </thead>\n",
       "  <tbody>\n",
       "    <tr>\n",
       "      <th>0</th>\n",
       "      <td>1949</td>\n",
       "      <td>January</td>\n",
       "      <td>112</td>\n",
       "    </tr>\n",
       "    <tr>\n",
       "      <th>1</th>\n",
       "      <td>1949</td>\n",
       "      <td>February</td>\n",
       "      <td>118</td>\n",
       "    </tr>\n",
       "    <tr>\n",
       "      <th>2</th>\n",
       "      <td>1949</td>\n",
       "      <td>March</td>\n",
       "      <td>132</td>\n",
       "    </tr>\n",
       "    <tr>\n",
       "      <th>3</th>\n",
       "      <td>1949</td>\n",
       "      <td>April</td>\n",
       "      <td>129</td>\n",
       "    </tr>\n",
       "    <tr>\n",
       "      <th>4</th>\n",
       "      <td>1949</td>\n",
       "      <td>May</td>\n",
       "      <td>121</td>\n",
       "    </tr>\n",
       "    <tr>\n",
       "      <th>...</th>\n",
       "      <td>...</td>\n",
       "      <td>...</td>\n",
       "      <td>...</td>\n",
       "    </tr>\n",
       "    <tr>\n",
       "      <th>139</th>\n",
       "      <td>1960</td>\n",
       "      <td>August</td>\n",
       "      <td>606</td>\n",
       "    </tr>\n",
       "    <tr>\n",
       "      <th>140</th>\n",
       "      <td>1960</td>\n",
       "      <td>September</td>\n",
       "      <td>508</td>\n",
       "    </tr>\n",
       "    <tr>\n",
       "      <th>141</th>\n",
       "      <td>1960</td>\n",
       "      <td>October</td>\n",
       "      <td>461</td>\n",
       "    </tr>\n",
       "    <tr>\n",
       "      <th>142</th>\n",
       "      <td>1960</td>\n",
       "      <td>November</td>\n",
       "      <td>390</td>\n",
       "    </tr>\n",
       "    <tr>\n",
       "      <th>143</th>\n",
       "      <td>1960</td>\n",
       "      <td>December</td>\n",
       "      <td>432</td>\n",
       "    </tr>\n",
       "  </tbody>\n",
       "</table>\n",
       "<p>144 rows × 3 columns</p>\n",
       "</div>"
      ],
      "text/plain": [
       "     year      month  passengers\n",
       "0    1949    January         112\n",
       "1    1949   February         118\n",
       "2    1949      March         132\n",
       "3    1949      April         129\n",
       "4    1949        May         121\n",
       "..    ...        ...         ...\n",
       "139  1960     August         606\n",
       "140  1960  September         508\n",
       "141  1960    October         461\n",
       "142  1960   November         390\n",
       "143  1960   December         432\n",
       "\n",
       "[144 rows x 3 columns]"
      ]
     },
     "execution_count": 77,
     "metadata": {},
     "output_type": "execute_result"
    }
   ],
   "source": [
    "flights = pd.read_csv('https://raw.githubusercontent.com/mwaskom/seaborn-data/master/flights.csv')\n",
    "flights.head(145)"
   ]
  },
  {
   "cell_type": "code",
   "execution_count": 69,
   "metadata": {},
   "outputs": [
    {
     "data": {
      "text/html": [
       "<div>\n",
       "<style scoped>\n",
       "    .dataframe tbody tr th:only-of-type {\n",
       "        vertical-align: middle;\n",
       "    }\n",
       "\n",
       "    .dataframe tbody tr th {\n",
       "        vertical-align: top;\n",
       "    }\n",
       "\n",
       "    .dataframe thead th {\n",
       "        text-align: right;\n",
       "    }\n",
       "</style>\n",
       "<table border=\"1\" class=\"dataframe\">\n",
       "  <thead>\n",
       "    <tr style=\"text-align: right;\">\n",
       "      <th></th>\n",
       "      <th>year</th>\n",
       "      <th>passengers</th>\n",
       "    </tr>\n",
       "  </thead>\n",
       "  <tbody>\n",
       "    <tr>\n",
       "      <th>count</th>\n",
       "      <td>144.000000</td>\n",
       "      <td>144.000000</td>\n",
       "    </tr>\n",
       "    <tr>\n",
       "      <th>mean</th>\n",
       "      <td>1954.500000</td>\n",
       "      <td>280.298611</td>\n",
       "    </tr>\n",
       "    <tr>\n",
       "      <th>std</th>\n",
       "      <td>3.464102</td>\n",
       "      <td>119.966317</td>\n",
       "    </tr>\n",
       "    <tr>\n",
       "      <th>min</th>\n",
       "      <td>1949.000000</td>\n",
       "      <td>104.000000</td>\n",
       "    </tr>\n",
       "    <tr>\n",
       "      <th>25%</th>\n",
       "      <td>1951.750000</td>\n",
       "      <td>180.000000</td>\n",
       "    </tr>\n",
       "    <tr>\n",
       "      <th>50%</th>\n",
       "      <td>1954.500000</td>\n",
       "      <td>265.500000</td>\n",
       "    </tr>\n",
       "    <tr>\n",
       "      <th>75%</th>\n",
       "      <td>1957.250000</td>\n",
       "      <td>360.500000</td>\n",
       "    </tr>\n",
       "    <tr>\n",
       "      <th>max</th>\n",
       "      <td>1960.000000</td>\n",
       "      <td>622.000000</td>\n",
       "    </tr>\n",
       "  </tbody>\n",
       "</table>\n",
       "</div>"
      ],
      "text/plain": [
       "              year  passengers\n",
       "count   144.000000  144.000000\n",
       "mean   1954.500000  280.298611\n",
       "std       3.464102  119.966317\n",
       "min    1949.000000  104.000000\n",
       "25%    1951.750000  180.000000\n",
       "50%    1954.500000  265.500000\n",
       "75%    1957.250000  360.500000\n",
       "max    1960.000000  622.000000"
      ]
     },
     "execution_count": 69,
     "metadata": {},
     "output_type": "execute_result"
    }
   ],
   "source": [
    "flights.describe()"
   ]
  },
  {
   "cell_type": "code",
   "execution_count": 78,
   "metadata": {},
   "outputs": [
    {
     "data": {
      "text/html": [
       "<div>\n",
       "<style scoped>\n",
       "    .dataframe tbody tr th:only-of-type {\n",
       "        vertical-align: middle;\n",
       "    }\n",
       "\n",
       "    .dataframe tbody tr th {\n",
       "        vertical-align: top;\n",
       "    }\n",
       "\n",
       "    .dataframe thead th {\n",
       "        text-align: right;\n",
       "    }\n",
       "</style>\n",
       "<table border=\"1\" class=\"dataframe\">\n",
       "  <thead>\n",
       "    <tr style=\"text-align: right;\">\n",
       "      <th></th>\n",
       "      <th>year</th>\n",
       "      <th>month</th>\n",
       "      <th>passengers</th>\n",
       "    </tr>\n",
       "  </thead>\n",
       "  <tbody>\n",
       "    <tr>\n",
       "      <th>66</th>\n",
       "      <td>1954</td>\n",
       "      <td>July</td>\n",
       "      <td>302</td>\n",
       "    </tr>\n",
       "    <tr>\n",
       "      <th>67</th>\n",
       "      <td>1954</td>\n",
       "      <td>August</td>\n",
       "      <td>293</td>\n",
       "    </tr>\n",
       "    <tr>\n",
       "      <th>77</th>\n",
       "      <td>1955</td>\n",
       "      <td>June</td>\n",
       "      <td>315</td>\n",
       "    </tr>\n",
       "    <tr>\n",
       "      <th>78</th>\n",
       "      <td>1955</td>\n",
       "      <td>July</td>\n",
       "      <td>364</td>\n",
       "    </tr>\n",
       "    <tr>\n",
       "      <th>79</th>\n",
       "      <td>1955</td>\n",
       "      <td>August</td>\n",
       "      <td>347</td>\n",
       "    </tr>\n",
       "    <tr>\n",
       "      <th>...</th>\n",
       "      <td>...</td>\n",
       "      <td>...</td>\n",
       "      <td>...</td>\n",
       "    </tr>\n",
       "    <tr>\n",
       "      <th>139</th>\n",
       "      <td>1960</td>\n",
       "      <td>August</td>\n",
       "      <td>606</td>\n",
       "    </tr>\n",
       "    <tr>\n",
       "      <th>140</th>\n",
       "      <td>1960</td>\n",
       "      <td>September</td>\n",
       "      <td>508</td>\n",
       "    </tr>\n",
       "    <tr>\n",
       "      <th>141</th>\n",
       "      <td>1960</td>\n",
       "      <td>October</td>\n",
       "      <td>461</td>\n",
       "    </tr>\n",
       "    <tr>\n",
       "      <th>142</th>\n",
       "      <td>1960</td>\n",
       "      <td>November</td>\n",
       "      <td>390</td>\n",
       "    </tr>\n",
       "    <tr>\n",
       "      <th>143</th>\n",
       "      <td>1960</td>\n",
       "      <td>December</td>\n",
       "      <td>432</td>\n",
       "    </tr>\n",
       "  </tbody>\n",
       "</table>\n",
       "<p>64 rows × 3 columns</p>\n",
       "</div>"
      ],
      "text/plain": [
       "     year      month  passengers\n",
       "66   1954       July         302\n",
       "67   1954     August         293\n",
       "77   1955       June         315\n",
       "78   1955       July         364\n",
       "79   1955     August         347\n",
       "..    ...        ...         ...\n",
       "139  1960     August         606\n",
       "140  1960  September         508\n",
       "141  1960    October         461\n",
       "142  1960   November         390\n",
       "143  1960   December         432\n",
       "\n",
       "[64 rows x 3 columns]"
      ]
     },
     "execution_count": 78,
     "metadata": {},
     "output_type": "execute_result"
    }
   ],
   "source": [
    "flights[flights['passengers'] > flights['passengers'].mean()]"
   ]
  },
  {
   "cell_type": "code",
   "execution_count": 81,
   "metadata": {},
   "outputs": [
    {
     "data": {
      "text/html": [
       "<div>\n",
       "<style scoped>\n",
       "    .dataframe tbody tr th:only-of-type {\n",
       "        vertical-align: middle;\n",
       "    }\n",
       "\n",
       "    .dataframe tbody tr th {\n",
       "        vertical-align: top;\n",
       "    }\n",
       "\n",
       "    .dataframe thead th {\n",
       "        text-align: right;\n",
       "    }\n",
       "</style>\n",
       "<table border=\"1\" class=\"dataframe\">\n",
       "  <thead>\n",
       "    <tr style=\"text-align: right;\">\n",
       "      <th></th>\n",
       "      <th>year</th>\n",
       "      <th>month</th>\n",
       "      <th>passengers</th>\n",
       "      <th>above_mean</th>\n",
       "    </tr>\n",
       "  </thead>\n",
       "  <tbody>\n",
       "    <tr>\n",
       "      <th>0</th>\n",
       "      <td>1949</td>\n",
       "      <td>January</td>\n",
       "      <td>112</td>\n",
       "      <td>False</td>\n",
       "    </tr>\n",
       "    <tr>\n",
       "      <th>1</th>\n",
       "      <td>1949</td>\n",
       "      <td>February</td>\n",
       "      <td>118</td>\n",
       "      <td>False</td>\n",
       "    </tr>\n",
       "    <tr>\n",
       "      <th>2</th>\n",
       "      <td>1949</td>\n",
       "      <td>March</td>\n",
       "      <td>132</td>\n",
       "      <td>False</td>\n",
       "    </tr>\n",
       "    <tr>\n",
       "      <th>3</th>\n",
       "      <td>1949</td>\n",
       "      <td>April</td>\n",
       "      <td>129</td>\n",
       "      <td>False</td>\n",
       "    </tr>\n",
       "    <tr>\n",
       "      <th>4</th>\n",
       "      <td>1949</td>\n",
       "      <td>May</td>\n",
       "      <td>121</td>\n",
       "      <td>False</td>\n",
       "    </tr>\n",
       "    <tr>\n",
       "      <th>...</th>\n",
       "      <td>...</td>\n",
       "      <td>...</td>\n",
       "      <td>...</td>\n",
       "      <td>...</td>\n",
       "    </tr>\n",
       "    <tr>\n",
       "      <th>139</th>\n",
       "      <td>1960</td>\n",
       "      <td>August</td>\n",
       "      <td>606</td>\n",
       "      <td>True</td>\n",
       "    </tr>\n",
       "    <tr>\n",
       "      <th>140</th>\n",
       "      <td>1960</td>\n",
       "      <td>September</td>\n",
       "      <td>508</td>\n",
       "      <td>True</td>\n",
       "    </tr>\n",
       "    <tr>\n",
       "      <th>141</th>\n",
       "      <td>1960</td>\n",
       "      <td>October</td>\n",
       "      <td>461</td>\n",
       "      <td>True</td>\n",
       "    </tr>\n",
       "    <tr>\n",
       "      <th>142</th>\n",
       "      <td>1960</td>\n",
       "      <td>November</td>\n",
       "      <td>390</td>\n",
       "      <td>True</td>\n",
       "    </tr>\n",
       "    <tr>\n",
       "      <th>143</th>\n",
       "      <td>1960</td>\n",
       "      <td>December</td>\n",
       "      <td>432</td>\n",
       "      <td>True</td>\n",
       "    </tr>\n",
       "  </tbody>\n",
       "</table>\n",
       "<p>144 rows × 4 columns</p>\n",
       "</div>"
      ],
      "text/plain": [
       "     year      month  passengers  above_mean\n",
       "0    1949    January         112       False\n",
       "1    1949   February         118       False\n",
       "2    1949      March         132       False\n",
       "3    1949      April         129       False\n",
       "4    1949        May         121       False\n",
       "..    ...        ...         ...         ...\n",
       "139  1960     August         606        True\n",
       "140  1960  September         508        True\n",
       "141  1960    October         461        True\n",
       "142  1960   November         390        True\n",
       "143  1960   December         432        True\n",
       "\n",
       "[144 rows x 4 columns]"
      ]
     },
     "execution_count": 81,
     "metadata": {},
     "output_type": "execute_result"
    }
   ],
   "source": [
    "flights['above_mean'] =  flights['passengers'] > flights['passengers'].mean()\n",
    "flights.head(145)"
   ]
  },
  {
   "cell_type": "code",
   "execution_count": 82,
   "metadata": {
    "scrolled": false
   },
   "outputs": [
    {
     "data": {
      "text/html": [
       "<div>\n",
       "<style scoped>\n",
       "    .dataframe tbody tr th:only-of-type {\n",
       "        vertical-align: middle;\n",
       "    }\n",
       "\n",
       "    .dataframe tbody tr th {\n",
       "        vertical-align: top;\n",
       "    }\n",
       "\n",
       "    .dataframe thead th {\n",
       "        text-align: right;\n",
       "    }\n",
       "</style>\n",
       "<table border=\"1\" class=\"dataframe\">\n",
       "  <thead>\n",
       "    <tr style=\"text-align: right;\">\n",
       "      <th></th>\n",
       "      <th>year</th>\n",
       "      <th>month</th>\n",
       "      <th>passengers</th>\n",
       "      <th>above_mean</th>\n",
       "    </tr>\n",
       "  </thead>\n",
       "  <tbody>\n",
       "    <tr>\n",
       "      <th>55</th>\n",
       "      <td>1953</td>\n",
       "      <td>August</td>\n",
       "      <td>272</td>\n",
       "      <td>False</td>\n",
       "    </tr>\n",
       "    <tr>\n",
       "      <th>66</th>\n",
       "      <td>1954</td>\n",
       "      <td>July</td>\n",
       "      <td>302</td>\n",
       "      <td>True</td>\n",
       "    </tr>\n",
       "    <tr>\n",
       "      <th>67</th>\n",
       "      <td>1954</td>\n",
       "      <td>August</td>\n",
       "      <td>293</td>\n",
       "      <td>True</td>\n",
       "    </tr>\n",
       "    <tr>\n",
       "      <th>74</th>\n",
       "      <td>1955</td>\n",
       "      <td>March</td>\n",
       "      <td>267</td>\n",
       "      <td>False</td>\n",
       "    </tr>\n",
       "    <tr>\n",
       "      <th>75</th>\n",
       "      <td>1955</td>\n",
       "      <td>April</td>\n",
       "      <td>269</td>\n",
       "      <td>False</td>\n",
       "    </tr>\n",
       "    <tr>\n",
       "      <th>...</th>\n",
       "      <td>...</td>\n",
       "      <td>...</td>\n",
       "      <td>...</td>\n",
       "      <td>...</td>\n",
       "    </tr>\n",
       "    <tr>\n",
       "      <th>139</th>\n",
       "      <td>1960</td>\n",
       "      <td>August</td>\n",
       "      <td>606</td>\n",
       "      <td>True</td>\n",
       "    </tr>\n",
       "    <tr>\n",
       "      <th>140</th>\n",
       "      <td>1960</td>\n",
       "      <td>September</td>\n",
       "      <td>508</td>\n",
       "      <td>True</td>\n",
       "    </tr>\n",
       "    <tr>\n",
       "      <th>141</th>\n",
       "      <td>1960</td>\n",
       "      <td>October</td>\n",
       "      <td>461</td>\n",
       "      <td>True</td>\n",
       "    </tr>\n",
       "    <tr>\n",
       "      <th>142</th>\n",
       "      <td>1960</td>\n",
       "      <td>November</td>\n",
       "      <td>390</td>\n",
       "      <td>True</td>\n",
       "    </tr>\n",
       "    <tr>\n",
       "      <th>143</th>\n",
       "      <td>1960</td>\n",
       "      <td>December</td>\n",
       "      <td>432</td>\n",
       "      <td>True</td>\n",
       "    </tr>\n",
       "  </tbody>\n",
       "</table>\n",
       "<p>72 rows × 4 columns</p>\n",
       "</div>"
      ],
      "text/plain": [
       "     year      month  passengers  above_mean\n",
       "55   1953     August         272       False\n",
       "66   1954       July         302        True\n",
       "67   1954     August         293        True\n",
       "74   1955      March         267       False\n",
       "75   1955      April         269       False\n",
       "..    ...        ...         ...         ...\n",
       "139  1960     August         606        True\n",
       "140  1960  September         508        True\n",
       "141  1960    October         461        True\n",
       "142  1960   November         390        True\n",
       "143  1960   December         432        True\n",
       "\n",
       "[72 rows x 4 columns]"
      ]
     },
     "execution_count": 82,
     "metadata": {},
     "output_type": "execute_result"
    }
   ],
   "source": [
    "flights[flights['passengers'] > flights['passengers'].median()]"
   ]
  },
  {
   "cell_type": "code",
   "execution_count": 83,
   "metadata": {},
   "outputs": [
    {
     "data": {
      "text/html": [
       "<div>\n",
       "<style scoped>\n",
       "    .dataframe tbody tr th:only-of-type {\n",
       "        vertical-align: middle;\n",
       "    }\n",
       "\n",
       "    .dataframe tbody tr th {\n",
       "        vertical-align: top;\n",
       "    }\n",
       "\n",
       "    .dataframe thead th {\n",
       "        text-align: right;\n",
       "    }\n",
       "</style>\n",
       "<table border=\"1\" class=\"dataframe\">\n",
       "  <thead>\n",
       "    <tr style=\"text-align: right;\">\n",
       "      <th></th>\n",
       "      <th>year</th>\n",
       "      <th>month</th>\n",
       "      <th>passengers</th>\n",
       "      <th>above_mean</th>\n",
       "      <th>above_median</th>\n",
       "    </tr>\n",
       "  </thead>\n",
       "  <tbody>\n",
       "    <tr>\n",
       "      <th>0</th>\n",
       "      <td>1949</td>\n",
       "      <td>January</td>\n",
       "      <td>112</td>\n",
       "      <td>False</td>\n",
       "      <td>False</td>\n",
       "    </tr>\n",
       "    <tr>\n",
       "      <th>1</th>\n",
       "      <td>1949</td>\n",
       "      <td>February</td>\n",
       "      <td>118</td>\n",
       "      <td>False</td>\n",
       "      <td>False</td>\n",
       "    </tr>\n",
       "    <tr>\n",
       "      <th>2</th>\n",
       "      <td>1949</td>\n",
       "      <td>March</td>\n",
       "      <td>132</td>\n",
       "      <td>False</td>\n",
       "      <td>False</td>\n",
       "    </tr>\n",
       "    <tr>\n",
       "      <th>3</th>\n",
       "      <td>1949</td>\n",
       "      <td>April</td>\n",
       "      <td>129</td>\n",
       "      <td>False</td>\n",
       "      <td>False</td>\n",
       "    </tr>\n",
       "    <tr>\n",
       "      <th>4</th>\n",
       "      <td>1949</td>\n",
       "      <td>May</td>\n",
       "      <td>121</td>\n",
       "      <td>False</td>\n",
       "      <td>False</td>\n",
       "    </tr>\n",
       "    <tr>\n",
       "      <th>...</th>\n",
       "      <td>...</td>\n",
       "      <td>...</td>\n",
       "      <td>...</td>\n",
       "      <td>...</td>\n",
       "      <td>...</td>\n",
       "    </tr>\n",
       "    <tr>\n",
       "      <th>139</th>\n",
       "      <td>1960</td>\n",
       "      <td>August</td>\n",
       "      <td>606</td>\n",
       "      <td>True</td>\n",
       "      <td>True</td>\n",
       "    </tr>\n",
       "    <tr>\n",
       "      <th>140</th>\n",
       "      <td>1960</td>\n",
       "      <td>September</td>\n",
       "      <td>508</td>\n",
       "      <td>True</td>\n",
       "      <td>True</td>\n",
       "    </tr>\n",
       "    <tr>\n",
       "      <th>141</th>\n",
       "      <td>1960</td>\n",
       "      <td>October</td>\n",
       "      <td>461</td>\n",
       "      <td>True</td>\n",
       "      <td>True</td>\n",
       "    </tr>\n",
       "    <tr>\n",
       "      <th>142</th>\n",
       "      <td>1960</td>\n",
       "      <td>November</td>\n",
       "      <td>390</td>\n",
       "      <td>True</td>\n",
       "      <td>True</td>\n",
       "    </tr>\n",
       "    <tr>\n",
       "      <th>143</th>\n",
       "      <td>1960</td>\n",
       "      <td>December</td>\n",
       "      <td>432</td>\n",
       "      <td>True</td>\n",
       "      <td>True</td>\n",
       "    </tr>\n",
       "  </tbody>\n",
       "</table>\n",
       "<p>144 rows × 5 columns</p>\n",
       "</div>"
      ],
      "text/plain": [
       "     year      month  passengers  above_mean  above_median\n",
       "0    1949    January         112       False         False\n",
       "1    1949   February         118       False         False\n",
       "2    1949      March         132       False         False\n",
       "3    1949      April         129       False         False\n",
       "4    1949        May         121       False         False\n",
       "..    ...        ...         ...         ...           ...\n",
       "139  1960     August         606        True          True\n",
       "140  1960  September         508        True          True\n",
       "141  1960    October         461        True          True\n",
       "142  1960   November         390        True          True\n",
       "143  1960   December         432        True          True\n",
       "\n",
       "[144 rows x 5 columns]"
      ]
     },
     "execution_count": 83,
     "metadata": {},
     "output_type": "execute_result"
    }
   ],
   "source": [
    "flights['above_median'] =  flights['passengers'] > flights['passengers'].median()\n",
    "flights.head(145)"
   ]
  },
  {
   "cell_type": "code",
   "execution_count": 86,
   "metadata": {},
   "outputs": [
    {
     "data": {
      "application/vnd.plotly.v1+json": {
       "config": {
        "plotlyServerURL": "https://plot.ly"
       },
       "data": [
        {
         "hovertemplate": "year=%{x}<br>passengers=%{y}<extra></extra>",
         "legendgroup": "",
         "marker": {
          "color": "#1F77B4",
          "symbol": "circle"
         },
         "mode": "markers",
         "name": "",
         "orientation": "v",
         "showlegend": false,
         "type": "scatter",
         "x": [
          1949,
          1949,
          1949,
          1949,
          1949,
          1949,
          1949,
          1949,
          1949,
          1949,
          1949,
          1949,
          1950,
          1950,
          1950,
          1950,
          1950,
          1950,
          1950,
          1950,
          1950,
          1950,
          1950,
          1950,
          1951,
          1951,
          1951,
          1951,
          1951,
          1951,
          1951,
          1951,
          1951,
          1951,
          1951,
          1951,
          1952,
          1952,
          1952,
          1952,
          1952,
          1952,
          1952,
          1952,
          1952,
          1952,
          1952,
          1952,
          1953,
          1953,
          1953,
          1953,
          1953,
          1953,
          1953,
          1953,
          1953,
          1953,
          1953,
          1953,
          1954,
          1954,
          1954,
          1954,
          1954,
          1954,
          1954,
          1954,
          1954,
          1954,
          1954,
          1954,
          1955,
          1955,
          1955,
          1955,
          1955,
          1955,
          1955,
          1955,
          1955,
          1955,
          1955,
          1955,
          1956,
          1956,
          1956,
          1956,
          1956,
          1956,
          1956,
          1956,
          1956,
          1956,
          1956,
          1956,
          1957,
          1957,
          1957,
          1957,
          1957,
          1957,
          1957,
          1957,
          1957,
          1957,
          1957,
          1957,
          1958,
          1958,
          1958,
          1958,
          1958,
          1958,
          1958,
          1958,
          1958,
          1958,
          1958,
          1958,
          1959,
          1959,
          1959,
          1959,
          1959,
          1959,
          1959,
          1959,
          1959,
          1959,
          1959,
          1959,
          1960,
          1960,
          1960,
          1960,
          1960,
          1960,
          1960,
          1960,
          1960,
          1960,
          1960,
          1960
         ],
         "xaxis": "x",
         "y": [
          112,
          118,
          132,
          129,
          121,
          135,
          148,
          148,
          136,
          119,
          104,
          118,
          115,
          126,
          141,
          135,
          125,
          149,
          170,
          170,
          158,
          133,
          114,
          140,
          145,
          150,
          178,
          163,
          172,
          178,
          199,
          199,
          184,
          162,
          146,
          166,
          171,
          180,
          193,
          181,
          183,
          218,
          230,
          242,
          209,
          191,
          172,
          194,
          196,
          196,
          236,
          235,
          229,
          243,
          264,
          272,
          237,
          211,
          180,
          201,
          204,
          188,
          235,
          227,
          234,
          264,
          302,
          293,
          259,
          229,
          203,
          229,
          242,
          233,
          267,
          269,
          270,
          315,
          364,
          347,
          312,
          274,
          237,
          278,
          284,
          277,
          317,
          313,
          318,
          374,
          413,
          405,
          355,
          306,
          271,
          306,
          315,
          301,
          356,
          348,
          355,
          422,
          465,
          467,
          404,
          347,
          305,
          336,
          340,
          318,
          362,
          348,
          363,
          435,
          491,
          505,
          404,
          359,
          310,
          337,
          360,
          342,
          406,
          396,
          420,
          472,
          548,
          559,
          463,
          407,
          362,
          405,
          417,
          391,
          419,
          461,
          472,
          535,
          622,
          606,
          508,
          461,
          390,
          432
         ],
         "yaxis": "y"
        },
        {
         "hovertemplate": "<b>OLS trendline</b><br>passengers = 31.924 * year + -62115.1<br>R<sup>2</sup>=0.849759<br><br>year=%{x}<br>passengers=%{y} <b>(trend)</b><extra></extra>",
         "legendgroup": "",
         "marker": {
          "color": "#1F77B4",
          "symbol": "circle"
         },
         "mode": "lines",
         "name": "",
         "showlegend": false,
         "type": "scatter",
         "x": [
          1949,
          1949,
          1949,
          1949,
          1949,
          1949,
          1949,
          1949,
          1949,
          1949,
          1949,
          1949,
          1950,
          1950,
          1950,
          1950,
          1950,
          1950,
          1950,
          1950,
          1950,
          1950,
          1950,
          1950,
          1951,
          1951,
          1951,
          1951,
          1951,
          1951,
          1951,
          1951,
          1951,
          1951,
          1951,
          1951,
          1952,
          1952,
          1952,
          1952,
          1952,
          1952,
          1952,
          1952,
          1952,
          1952,
          1952,
          1952,
          1953,
          1953,
          1953,
          1953,
          1953,
          1953,
          1953,
          1953,
          1953,
          1953,
          1953,
          1953,
          1954,
          1954,
          1954,
          1954,
          1954,
          1954,
          1954,
          1954,
          1954,
          1954,
          1954,
          1954,
          1955,
          1955,
          1955,
          1955,
          1955,
          1955,
          1955,
          1955,
          1955,
          1955,
          1955,
          1955,
          1956,
          1956,
          1956,
          1956,
          1956,
          1956,
          1956,
          1956,
          1956,
          1956,
          1956,
          1956,
          1957,
          1957,
          1957,
          1957,
          1957,
          1957,
          1957,
          1957,
          1957,
          1957,
          1957,
          1957,
          1958,
          1958,
          1958,
          1958,
          1958,
          1958,
          1958,
          1958,
          1958,
          1958,
          1958,
          1958,
          1959,
          1959,
          1959,
          1959,
          1959,
          1959,
          1959,
          1959,
          1959,
          1959,
          1959,
          1959,
          1960,
          1960,
          1960,
          1960,
          1960,
          1960,
          1960,
          1960,
          1960,
          1960,
          1960,
          1960
         ],
         "xaxis": "x",
         "y": [
          104.71688034193357,
          104.71688034193357,
          104.71688034193357,
          104.71688034193357,
          104.71688034193357,
          104.71688034193357,
          104.71688034193357,
          104.71688034193357,
          104.71688034193357,
          104.71688034193357,
          104.71688034193357,
          104.71688034193357,
          136.64083139088325,
          136.64083139088325,
          136.64083139088325,
          136.64083139088325,
          136.64083139088325,
          136.64083139088325,
          136.64083139088325,
          136.64083139088325,
          136.64083139088325,
          136.64083139088325,
          136.64083139088325,
          136.64083139088325,
          168.56478243983292,
          168.56478243983292,
          168.56478243983292,
          168.56478243983292,
          168.56478243983292,
          168.56478243983292,
          168.56478243983292,
          168.56478243983292,
          168.56478243983292,
          168.56478243983292,
          168.56478243983292,
          168.56478243983292,
          200.4887334887826,
          200.4887334887826,
          200.4887334887826,
          200.4887334887826,
          200.4887334887826,
          200.4887334887826,
          200.4887334887826,
          200.4887334887826,
          200.4887334887826,
          200.4887334887826,
          200.4887334887826,
          200.4887334887826,
          232.41268453773228,
          232.41268453773228,
          232.41268453773228,
          232.41268453773228,
          232.41268453773228,
          232.41268453773228,
          232.41268453773228,
          232.41268453773228,
          232.41268453773228,
          232.41268453773228,
          232.41268453773228,
          232.41268453773228,
          264.33663558668195,
          264.33663558668195,
          264.33663558668195,
          264.33663558668195,
          264.33663558668195,
          264.33663558668195,
          264.33663558668195,
          264.33663558668195,
          264.33663558668195,
          264.33663558668195,
          264.33663558668195,
          264.33663558668195,
          296.2605866356316,
          296.2605866356316,
          296.2605866356316,
          296.2605866356316,
          296.2605866356316,
          296.2605866356316,
          296.2605866356316,
          296.2605866356316,
          296.2605866356316,
          296.2605866356316,
          296.2605866356316,
          296.2605866356316,
          328.1845376845813,
          328.1845376845813,
          328.1845376845813,
          328.1845376845813,
          328.1845376845813,
          328.1845376845813,
          328.1845376845813,
          328.1845376845813,
          328.1845376845813,
          328.1845376845813,
          328.1845376845813,
          328.1845376845813,
          360.108488733531,
          360.108488733531,
          360.108488733531,
          360.108488733531,
          360.108488733531,
          360.108488733531,
          360.108488733531,
          360.108488733531,
          360.108488733531,
          360.108488733531,
          360.108488733531,
          360.108488733531,
          392.0324397824879,
          392.0324397824879,
          392.0324397824879,
          392.0324397824879,
          392.0324397824879,
          392.0324397824879,
          392.0324397824879,
          392.0324397824879,
          392.0324397824879,
          392.0324397824879,
          392.0324397824879,
          392.0324397824879,
          423.9563908314376,
          423.9563908314376,
          423.9563908314376,
          423.9563908314376,
          423.9563908314376,
          423.9563908314376,
          423.9563908314376,
          423.9563908314376,
          423.9563908314376,
          423.9563908314376,
          423.9563908314376,
          423.9563908314376,
          455.8803418803873,
          455.8803418803873,
          455.8803418803873,
          455.8803418803873,
          455.8803418803873,
          455.8803418803873,
          455.8803418803873,
          455.8803418803873,
          455.8803418803873,
          455.8803418803873,
          455.8803418803873,
          455.8803418803873
         ],
         "yaxis": "y"
        }
       ],
       "layout": {
        "legend": {
         "tracegroupgap": 0
        },
        "margin": {
         "t": 60
        },
        "template": {
         "data": {
          "bar": [
           {
            "error_x": {
             "color": "rgb(36,36,36)"
            },
            "error_y": {
             "color": "rgb(36,36,36)"
            },
            "marker": {
             "line": {
              "color": "white",
              "width": 0.5
             },
             "pattern": {
              "fillmode": "overlay",
              "size": 10,
              "solidity": 0.2
             }
            },
            "type": "bar"
           }
          ],
          "barpolar": [
           {
            "marker": {
             "line": {
              "color": "white",
              "width": 0.5
             },
             "pattern": {
              "fillmode": "overlay",
              "size": 10,
              "solidity": 0.2
             }
            },
            "type": "barpolar"
           }
          ],
          "carpet": [
           {
            "aaxis": {
             "endlinecolor": "rgb(36,36,36)",
             "gridcolor": "white",
             "linecolor": "white",
             "minorgridcolor": "white",
             "startlinecolor": "rgb(36,36,36)"
            },
            "baxis": {
             "endlinecolor": "rgb(36,36,36)",
             "gridcolor": "white",
             "linecolor": "white",
             "minorgridcolor": "white",
             "startlinecolor": "rgb(36,36,36)"
            },
            "type": "carpet"
           }
          ],
          "choropleth": [
           {
            "colorbar": {
             "outlinewidth": 1,
             "tickcolor": "rgb(36,36,36)",
             "ticks": "outside"
            },
            "type": "choropleth"
           }
          ],
          "contour": [
           {
            "colorbar": {
             "outlinewidth": 1,
             "tickcolor": "rgb(36,36,36)",
             "ticks": "outside"
            },
            "colorscale": [
             [
              0,
              "#440154"
             ],
             [
              0.1111111111111111,
              "#482878"
             ],
             [
              0.2222222222222222,
              "#3e4989"
             ],
             [
              0.3333333333333333,
              "#31688e"
             ],
             [
              0.4444444444444444,
              "#26828e"
             ],
             [
              0.5555555555555556,
              "#1f9e89"
             ],
             [
              0.6666666666666666,
              "#35b779"
             ],
             [
              0.7777777777777778,
              "#6ece58"
             ],
             [
              0.8888888888888888,
              "#b5de2b"
             ],
             [
              1,
              "#fde725"
             ]
            ],
            "type": "contour"
           }
          ],
          "contourcarpet": [
           {
            "colorbar": {
             "outlinewidth": 1,
             "tickcolor": "rgb(36,36,36)",
             "ticks": "outside"
            },
            "type": "contourcarpet"
           }
          ],
          "heatmap": [
           {
            "colorbar": {
             "outlinewidth": 1,
             "tickcolor": "rgb(36,36,36)",
             "ticks": "outside"
            },
            "colorscale": [
             [
              0,
              "#440154"
             ],
             [
              0.1111111111111111,
              "#482878"
             ],
             [
              0.2222222222222222,
              "#3e4989"
             ],
             [
              0.3333333333333333,
              "#31688e"
             ],
             [
              0.4444444444444444,
              "#26828e"
             ],
             [
              0.5555555555555556,
              "#1f9e89"
             ],
             [
              0.6666666666666666,
              "#35b779"
             ],
             [
              0.7777777777777778,
              "#6ece58"
             ],
             [
              0.8888888888888888,
              "#b5de2b"
             ],
             [
              1,
              "#fde725"
             ]
            ],
            "type": "heatmap"
           }
          ],
          "heatmapgl": [
           {
            "colorbar": {
             "outlinewidth": 1,
             "tickcolor": "rgb(36,36,36)",
             "ticks": "outside"
            },
            "colorscale": [
             [
              0,
              "#440154"
             ],
             [
              0.1111111111111111,
              "#482878"
             ],
             [
              0.2222222222222222,
              "#3e4989"
             ],
             [
              0.3333333333333333,
              "#31688e"
             ],
             [
              0.4444444444444444,
              "#26828e"
             ],
             [
              0.5555555555555556,
              "#1f9e89"
             ],
             [
              0.6666666666666666,
              "#35b779"
             ],
             [
              0.7777777777777778,
              "#6ece58"
             ],
             [
              0.8888888888888888,
              "#b5de2b"
             ],
             [
              1,
              "#fde725"
             ]
            ],
            "type": "heatmapgl"
           }
          ],
          "histogram": [
           {
            "marker": {
             "line": {
              "color": "white",
              "width": 0.6
             }
            },
            "type": "histogram"
           }
          ],
          "histogram2d": [
           {
            "colorbar": {
             "outlinewidth": 1,
             "tickcolor": "rgb(36,36,36)",
             "ticks": "outside"
            },
            "colorscale": [
             [
              0,
              "#440154"
             ],
             [
              0.1111111111111111,
              "#482878"
             ],
             [
              0.2222222222222222,
              "#3e4989"
             ],
             [
              0.3333333333333333,
              "#31688e"
             ],
             [
              0.4444444444444444,
              "#26828e"
             ],
             [
              0.5555555555555556,
              "#1f9e89"
             ],
             [
              0.6666666666666666,
              "#35b779"
             ],
             [
              0.7777777777777778,
              "#6ece58"
             ],
             [
              0.8888888888888888,
              "#b5de2b"
             ],
             [
              1,
              "#fde725"
             ]
            ],
            "type": "histogram2d"
           }
          ],
          "histogram2dcontour": [
           {
            "colorbar": {
             "outlinewidth": 1,
             "tickcolor": "rgb(36,36,36)",
             "ticks": "outside"
            },
            "colorscale": [
             [
              0,
              "#440154"
             ],
             [
              0.1111111111111111,
              "#482878"
             ],
             [
              0.2222222222222222,
              "#3e4989"
             ],
             [
              0.3333333333333333,
              "#31688e"
             ],
             [
              0.4444444444444444,
              "#26828e"
             ],
             [
              0.5555555555555556,
              "#1f9e89"
             ],
             [
              0.6666666666666666,
              "#35b779"
             ],
             [
              0.7777777777777778,
              "#6ece58"
             ],
             [
              0.8888888888888888,
              "#b5de2b"
             ],
             [
              1,
              "#fde725"
             ]
            ],
            "type": "histogram2dcontour"
           }
          ],
          "mesh3d": [
           {
            "colorbar": {
             "outlinewidth": 1,
             "tickcolor": "rgb(36,36,36)",
             "ticks": "outside"
            },
            "type": "mesh3d"
           }
          ],
          "parcoords": [
           {
            "line": {
             "colorbar": {
              "outlinewidth": 1,
              "tickcolor": "rgb(36,36,36)",
              "ticks": "outside"
             }
            },
            "type": "parcoords"
           }
          ],
          "pie": [
           {
            "automargin": true,
            "type": "pie"
           }
          ],
          "scatter": [
           {
            "marker": {
             "colorbar": {
              "outlinewidth": 1,
              "tickcolor": "rgb(36,36,36)",
              "ticks": "outside"
             }
            },
            "type": "scatter"
           }
          ],
          "scatter3d": [
           {
            "line": {
             "colorbar": {
              "outlinewidth": 1,
              "tickcolor": "rgb(36,36,36)",
              "ticks": "outside"
             }
            },
            "marker": {
             "colorbar": {
              "outlinewidth": 1,
              "tickcolor": "rgb(36,36,36)",
              "ticks": "outside"
             }
            },
            "type": "scatter3d"
           }
          ],
          "scattercarpet": [
           {
            "marker": {
             "colorbar": {
              "outlinewidth": 1,
              "tickcolor": "rgb(36,36,36)",
              "ticks": "outside"
             }
            },
            "type": "scattercarpet"
           }
          ],
          "scattergeo": [
           {
            "marker": {
             "colorbar": {
              "outlinewidth": 1,
              "tickcolor": "rgb(36,36,36)",
              "ticks": "outside"
             }
            },
            "type": "scattergeo"
           }
          ],
          "scattergl": [
           {
            "marker": {
             "colorbar": {
              "outlinewidth": 1,
              "tickcolor": "rgb(36,36,36)",
              "ticks": "outside"
             }
            },
            "type": "scattergl"
           }
          ],
          "scattermapbox": [
           {
            "marker": {
             "colorbar": {
              "outlinewidth": 1,
              "tickcolor": "rgb(36,36,36)",
              "ticks": "outside"
             }
            },
            "type": "scattermapbox"
           }
          ],
          "scatterpolar": [
           {
            "marker": {
             "colorbar": {
              "outlinewidth": 1,
              "tickcolor": "rgb(36,36,36)",
              "ticks": "outside"
             }
            },
            "type": "scatterpolar"
           }
          ],
          "scatterpolargl": [
           {
            "marker": {
             "colorbar": {
              "outlinewidth": 1,
              "tickcolor": "rgb(36,36,36)",
              "ticks": "outside"
             }
            },
            "type": "scatterpolargl"
           }
          ],
          "scatterternary": [
           {
            "marker": {
             "colorbar": {
              "outlinewidth": 1,
              "tickcolor": "rgb(36,36,36)",
              "ticks": "outside"
             }
            },
            "type": "scatterternary"
           }
          ],
          "surface": [
           {
            "colorbar": {
             "outlinewidth": 1,
             "tickcolor": "rgb(36,36,36)",
             "ticks": "outside"
            },
            "colorscale": [
             [
              0,
              "#440154"
             ],
             [
              0.1111111111111111,
              "#482878"
             ],
             [
              0.2222222222222222,
              "#3e4989"
             ],
             [
              0.3333333333333333,
              "#31688e"
             ],
             [
              0.4444444444444444,
              "#26828e"
             ],
             [
              0.5555555555555556,
              "#1f9e89"
             ],
             [
              0.6666666666666666,
              "#35b779"
             ],
             [
              0.7777777777777778,
              "#6ece58"
             ],
             [
              0.8888888888888888,
              "#b5de2b"
             ],
             [
              1,
              "#fde725"
             ]
            ],
            "type": "surface"
           }
          ],
          "table": [
           {
            "cells": {
             "fill": {
              "color": "rgb(237,237,237)"
             },
             "line": {
              "color": "white"
             }
            },
            "header": {
             "fill": {
              "color": "rgb(217,217,217)"
             },
             "line": {
              "color": "white"
             }
            },
            "type": "table"
           }
          ]
         },
         "layout": {
          "annotationdefaults": {
           "arrowhead": 0,
           "arrowwidth": 1
          },
          "autotypenumbers": "strict",
          "coloraxis": {
           "colorbar": {
            "outlinewidth": 1,
            "tickcolor": "rgb(36,36,36)",
            "ticks": "outside"
           }
          },
          "colorscale": {
           "diverging": [
            [
             0,
             "rgb(103,0,31)"
            ],
            [
             0.1,
             "rgb(178,24,43)"
            ],
            [
             0.2,
             "rgb(214,96,77)"
            ],
            [
             0.3,
             "rgb(244,165,130)"
            ],
            [
             0.4,
             "rgb(253,219,199)"
            ],
            [
             0.5,
             "rgb(247,247,247)"
            ],
            [
             0.6,
             "rgb(209,229,240)"
            ],
            [
             0.7,
             "rgb(146,197,222)"
            ],
            [
             0.8,
             "rgb(67,147,195)"
            ],
            [
             0.9,
             "rgb(33,102,172)"
            ],
            [
             1,
             "rgb(5,48,97)"
            ]
           ],
           "sequential": [
            [
             0,
             "#440154"
            ],
            [
             0.1111111111111111,
             "#482878"
            ],
            [
             0.2222222222222222,
             "#3e4989"
            ],
            [
             0.3333333333333333,
             "#31688e"
            ],
            [
             0.4444444444444444,
             "#26828e"
            ],
            [
             0.5555555555555556,
             "#1f9e89"
            ],
            [
             0.6666666666666666,
             "#35b779"
            ],
            [
             0.7777777777777778,
             "#6ece58"
            ],
            [
             0.8888888888888888,
             "#b5de2b"
            ],
            [
             1,
             "#fde725"
            ]
           ],
           "sequentialminus": [
            [
             0,
             "#440154"
            ],
            [
             0.1111111111111111,
             "#482878"
            ],
            [
             0.2222222222222222,
             "#3e4989"
            ],
            [
             0.3333333333333333,
             "#31688e"
            ],
            [
             0.4444444444444444,
             "#26828e"
            ],
            [
             0.5555555555555556,
             "#1f9e89"
            ],
            [
             0.6666666666666666,
             "#35b779"
            ],
            [
             0.7777777777777778,
             "#6ece58"
            ],
            [
             0.8888888888888888,
             "#b5de2b"
            ],
            [
             1,
             "#fde725"
            ]
           ]
          },
          "colorway": [
           "#1F77B4",
           "#FF7F0E",
           "#2CA02C",
           "#D62728",
           "#9467BD",
           "#8C564B",
           "#E377C2",
           "#7F7F7F",
           "#BCBD22",
           "#17BECF"
          ],
          "font": {
           "color": "rgb(36,36,36)"
          },
          "geo": {
           "bgcolor": "white",
           "lakecolor": "white",
           "landcolor": "white",
           "showlakes": true,
           "showland": true,
           "subunitcolor": "white"
          },
          "hoverlabel": {
           "align": "left"
          },
          "hovermode": "closest",
          "mapbox": {
           "style": "light"
          },
          "paper_bgcolor": "white",
          "plot_bgcolor": "white",
          "polar": {
           "angularaxis": {
            "gridcolor": "rgb(232,232,232)",
            "linecolor": "rgb(36,36,36)",
            "showgrid": false,
            "showline": true,
            "ticks": "outside"
           },
           "bgcolor": "white",
           "radialaxis": {
            "gridcolor": "rgb(232,232,232)",
            "linecolor": "rgb(36,36,36)",
            "showgrid": false,
            "showline": true,
            "ticks": "outside"
           }
          },
          "scene": {
           "xaxis": {
            "backgroundcolor": "white",
            "gridcolor": "rgb(232,232,232)",
            "gridwidth": 2,
            "linecolor": "rgb(36,36,36)",
            "showbackground": true,
            "showgrid": false,
            "showline": true,
            "ticks": "outside",
            "zeroline": false,
            "zerolinecolor": "rgb(36,36,36)"
           },
           "yaxis": {
            "backgroundcolor": "white",
            "gridcolor": "rgb(232,232,232)",
            "gridwidth": 2,
            "linecolor": "rgb(36,36,36)",
            "showbackground": true,
            "showgrid": false,
            "showline": true,
            "ticks": "outside",
            "zeroline": false,
            "zerolinecolor": "rgb(36,36,36)"
           },
           "zaxis": {
            "backgroundcolor": "white",
            "gridcolor": "rgb(232,232,232)",
            "gridwidth": 2,
            "linecolor": "rgb(36,36,36)",
            "showbackground": true,
            "showgrid": false,
            "showline": true,
            "ticks": "outside",
            "zeroline": false,
            "zerolinecolor": "rgb(36,36,36)"
           }
          },
          "shapedefaults": {
           "fillcolor": "black",
           "line": {
            "width": 0
           },
           "opacity": 0.3
          },
          "ternary": {
           "aaxis": {
            "gridcolor": "rgb(232,232,232)",
            "linecolor": "rgb(36,36,36)",
            "showgrid": false,
            "showline": true,
            "ticks": "outside"
           },
           "baxis": {
            "gridcolor": "rgb(232,232,232)",
            "linecolor": "rgb(36,36,36)",
            "showgrid": false,
            "showline": true,
            "ticks": "outside"
           },
           "bgcolor": "white",
           "caxis": {
            "gridcolor": "rgb(232,232,232)",
            "linecolor": "rgb(36,36,36)",
            "showgrid": false,
            "showline": true,
            "ticks": "outside"
           }
          },
          "title": {
           "x": 0.05
          },
          "xaxis": {
           "automargin": true,
           "gridcolor": "rgb(232,232,232)",
           "linecolor": "rgb(36,36,36)",
           "showgrid": false,
           "showline": true,
           "ticks": "outside",
           "title": {
            "standoff": 15
           },
           "zeroline": false,
           "zerolinecolor": "rgb(36,36,36)"
          },
          "yaxis": {
           "automargin": true,
           "gridcolor": "rgb(232,232,232)",
           "linecolor": "rgb(36,36,36)",
           "showgrid": false,
           "showline": true,
           "ticks": "outside",
           "title": {
            "standoff": 15
           },
           "zeroline": false,
           "zerolinecolor": "rgb(36,36,36)"
          }
         }
        },
        "title": {
         "text": "Relationship between flights passengers and year between years 1949 and 1960"
        },
        "xaxis": {
         "anchor": "y",
         "domain": [
          0,
          1
         ],
         "title": {
          "text": "year"
         }
        },
        "yaxis": {
         "anchor": "x",
         "domain": [
          0,
          1
         ],
         "title": {
          "text": "passengers"
         }
        }
       }
      },
      "text/html": [
       "<div>                            <div id=\"9d4c1a60-c2db-45d7-aede-1573e7638f1d\" class=\"plotly-graph-div\" style=\"height:525px; width:100%;\"></div>            <script type=\"text/javascript\">                require([\"plotly\"], function(Plotly) {                    window.PLOTLYENV=window.PLOTLYENV || {};                                    if (document.getElementById(\"9d4c1a60-c2db-45d7-aede-1573e7638f1d\")) {                    Plotly.newPlot(                        \"9d4c1a60-c2db-45d7-aede-1573e7638f1d\",                        [{\"hovertemplate\":\"year=%{x}<br>passengers=%{y}<extra></extra>\",\"legendgroup\":\"\",\"marker\":{\"color\":\"#1F77B4\",\"symbol\":\"circle\"},\"mode\":\"markers\",\"name\":\"\",\"orientation\":\"v\",\"showlegend\":false,\"type\":\"scatter\",\"x\":[1949,1949,1949,1949,1949,1949,1949,1949,1949,1949,1949,1949,1950,1950,1950,1950,1950,1950,1950,1950,1950,1950,1950,1950,1951,1951,1951,1951,1951,1951,1951,1951,1951,1951,1951,1951,1952,1952,1952,1952,1952,1952,1952,1952,1952,1952,1952,1952,1953,1953,1953,1953,1953,1953,1953,1953,1953,1953,1953,1953,1954,1954,1954,1954,1954,1954,1954,1954,1954,1954,1954,1954,1955,1955,1955,1955,1955,1955,1955,1955,1955,1955,1955,1955,1956,1956,1956,1956,1956,1956,1956,1956,1956,1956,1956,1956,1957,1957,1957,1957,1957,1957,1957,1957,1957,1957,1957,1957,1958,1958,1958,1958,1958,1958,1958,1958,1958,1958,1958,1958,1959,1959,1959,1959,1959,1959,1959,1959,1959,1959,1959,1959,1960,1960,1960,1960,1960,1960,1960,1960,1960,1960,1960,1960],\"xaxis\":\"x\",\"y\":[112,118,132,129,121,135,148,148,136,119,104,118,115,126,141,135,125,149,170,170,158,133,114,140,145,150,178,163,172,178,199,199,184,162,146,166,171,180,193,181,183,218,230,242,209,191,172,194,196,196,236,235,229,243,264,272,237,211,180,201,204,188,235,227,234,264,302,293,259,229,203,229,242,233,267,269,270,315,364,347,312,274,237,278,284,277,317,313,318,374,413,405,355,306,271,306,315,301,356,348,355,422,465,467,404,347,305,336,340,318,362,348,363,435,491,505,404,359,310,337,360,342,406,396,420,472,548,559,463,407,362,405,417,391,419,461,472,535,622,606,508,461,390,432],\"yaxis\":\"y\"},{\"hovertemplate\":\"<b>OLS trendline</b><br>passengers = 31.924 * year + -62115.1<br>R<sup>2</sup>=0.849759<br><br>year=%{x}<br>passengers=%{y} <b>(trend)</b><extra></extra>\",\"legendgroup\":\"\",\"marker\":{\"color\":\"#1F77B4\",\"symbol\":\"circle\"},\"mode\":\"lines\",\"name\":\"\",\"showlegend\":false,\"type\":\"scatter\",\"x\":[1949,1949,1949,1949,1949,1949,1949,1949,1949,1949,1949,1949,1950,1950,1950,1950,1950,1950,1950,1950,1950,1950,1950,1950,1951,1951,1951,1951,1951,1951,1951,1951,1951,1951,1951,1951,1952,1952,1952,1952,1952,1952,1952,1952,1952,1952,1952,1952,1953,1953,1953,1953,1953,1953,1953,1953,1953,1953,1953,1953,1954,1954,1954,1954,1954,1954,1954,1954,1954,1954,1954,1954,1955,1955,1955,1955,1955,1955,1955,1955,1955,1955,1955,1955,1956,1956,1956,1956,1956,1956,1956,1956,1956,1956,1956,1956,1957,1957,1957,1957,1957,1957,1957,1957,1957,1957,1957,1957,1958,1958,1958,1958,1958,1958,1958,1958,1958,1958,1958,1958,1959,1959,1959,1959,1959,1959,1959,1959,1959,1959,1959,1959,1960,1960,1960,1960,1960,1960,1960,1960,1960,1960,1960,1960],\"xaxis\":\"x\",\"y\":[104.71688034193357,104.71688034193357,104.71688034193357,104.71688034193357,104.71688034193357,104.71688034193357,104.71688034193357,104.71688034193357,104.71688034193357,104.71688034193357,104.71688034193357,104.71688034193357,136.64083139088325,136.64083139088325,136.64083139088325,136.64083139088325,136.64083139088325,136.64083139088325,136.64083139088325,136.64083139088325,136.64083139088325,136.64083139088325,136.64083139088325,136.64083139088325,168.56478243983292,168.56478243983292,168.56478243983292,168.56478243983292,168.56478243983292,168.56478243983292,168.56478243983292,168.56478243983292,168.56478243983292,168.56478243983292,168.56478243983292,168.56478243983292,200.4887334887826,200.4887334887826,200.4887334887826,200.4887334887826,200.4887334887826,200.4887334887826,200.4887334887826,200.4887334887826,200.4887334887826,200.4887334887826,200.4887334887826,200.4887334887826,232.41268453773228,232.41268453773228,232.41268453773228,232.41268453773228,232.41268453773228,232.41268453773228,232.41268453773228,232.41268453773228,232.41268453773228,232.41268453773228,232.41268453773228,232.41268453773228,264.33663558668195,264.33663558668195,264.33663558668195,264.33663558668195,264.33663558668195,264.33663558668195,264.33663558668195,264.33663558668195,264.33663558668195,264.33663558668195,264.33663558668195,264.33663558668195,296.2605866356316,296.2605866356316,296.2605866356316,296.2605866356316,296.2605866356316,296.2605866356316,296.2605866356316,296.2605866356316,296.2605866356316,296.2605866356316,296.2605866356316,296.2605866356316,328.1845376845813,328.1845376845813,328.1845376845813,328.1845376845813,328.1845376845813,328.1845376845813,328.1845376845813,328.1845376845813,328.1845376845813,328.1845376845813,328.1845376845813,328.1845376845813,360.108488733531,360.108488733531,360.108488733531,360.108488733531,360.108488733531,360.108488733531,360.108488733531,360.108488733531,360.108488733531,360.108488733531,360.108488733531,360.108488733531,392.0324397824879,392.0324397824879,392.0324397824879,392.0324397824879,392.0324397824879,392.0324397824879,392.0324397824879,392.0324397824879,392.0324397824879,392.0324397824879,392.0324397824879,392.0324397824879,423.9563908314376,423.9563908314376,423.9563908314376,423.9563908314376,423.9563908314376,423.9563908314376,423.9563908314376,423.9563908314376,423.9563908314376,423.9563908314376,423.9563908314376,423.9563908314376,455.8803418803873,455.8803418803873,455.8803418803873,455.8803418803873,455.8803418803873,455.8803418803873,455.8803418803873,455.8803418803873,455.8803418803873,455.8803418803873,455.8803418803873,455.8803418803873],\"yaxis\":\"y\"}],                        {\"legend\":{\"tracegroupgap\":0},\"margin\":{\"t\":60},\"template\":{\"data\":{\"bar\":[{\"error_x\":{\"color\":\"rgb(36,36,36)\"},\"error_y\":{\"color\":\"rgb(36,36,36)\"},\"marker\":{\"line\":{\"color\":\"white\",\"width\":0.5},\"pattern\":{\"fillmode\":\"overlay\",\"size\":10,\"solidity\":0.2}},\"type\":\"bar\"}],\"barpolar\":[{\"marker\":{\"line\":{\"color\":\"white\",\"width\":0.5},\"pattern\":{\"fillmode\":\"overlay\",\"size\":10,\"solidity\":0.2}},\"type\":\"barpolar\"}],\"carpet\":[{\"aaxis\":{\"endlinecolor\":\"rgb(36,36,36)\",\"gridcolor\":\"white\",\"linecolor\":\"white\",\"minorgridcolor\":\"white\",\"startlinecolor\":\"rgb(36,36,36)\"},\"baxis\":{\"endlinecolor\":\"rgb(36,36,36)\",\"gridcolor\":\"white\",\"linecolor\":\"white\",\"minorgridcolor\":\"white\",\"startlinecolor\":\"rgb(36,36,36)\"},\"type\":\"carpet\"}],\"choropleth\":[{\"colorbar\":{\"outlinewidth\":1,\"tickcolor\":\"rgb(36,36,36)\",\"ticks\":\"outside\"},\"type\":\"choropleth\"}],\"contour\":[{\"colorbar\":{\"outlinewidth\":1,\"tickcolor\":\"rgb(36,36,36)\",\"ticks\":\"outside\"},\"colorscale\":[[0.0,\"#440154\"],[0.1111111111111111,\"#482878\"],[0.2222222222222222,\"#3e4989\"],[0.3333333333333333,\"#31688e\"],[0.4444444444444444,\"#26828e\"],[0.5555555555555556,\"#1f9e89\"],[0.6666666666666666,\"#35b779\"],[0.7777777777777778,\"#6ece58\"],[0.8888888888888888,\"#b5de2b\"],[1.0,\"#fde725\"]],\"type\":\"contour\"}],\"contourcarpet\":[{\"colorbar\":{\"outlinewidth\":1,\"tickcolor\":\"rgb(36,36,36)\",\"ticks\":\"outside\"},\"type\":\"contourcarpet\"}],\"heatmap\":[{\"colorbar\":{\"outlinewidth\":1,\"tickcolor\":\"rgb(36,36,36)\",\"ticks\":\"outside\"},\"colorscale\":[[0.0,\"#440154\"],[0.1111111111111111,\"#482878\"],[0.2222222222222222,\"#3e4989\"],[0.3333333333333333,\"#31688e\"],[0.4444444444444444,\"#26828e\"],[0.5555555555555556,\"#1f9e89\"],[0.6666666666666666,\"#35b779\"],[0.7777777777777778,\"#6ece58\"],[0.8888888888888888,\"#b5de2b\"],[1.0,\"#fde725\"]],\"type\":\"heatmap\"}],\"heatmapgl\":[{\"colorbar\":{\"outlinewidth\":1,\"tickcolor\":\"rgb(36,36,36)\",\"ticks\":\"outside\"},\"colorscale\":[[0.0,\"#440154\"],[0.1111111111111111,\"#482878\"],[0.2222222222222222,\"#3e4989\"],[0.3333333333333333,\"#31688e\"],[0.4444444444444444,\"#26828e\"],[0.5555555555555556,\"#1f9e89\"],[0.6666666666666666,\"#35b779\"],[0.7777777777777778,\"#6ece58\"],[0.8888888888888888,\"#b5de2b\"],[1.0,\"#fde725\"]],\"type\":\"heatmapgl\"}],\"histogram\":[{\"marker\":{\"line\":{\"color\":\"white\",\"width\":0.6}},\"type\":\"histogram\"}],\"histogram2d\":[{\"colorbar\":{\"outlinewidth\":1,\"tickcolor\":\"rgb(36,36,36)\",\"ticks\":\"outside\"},\"colorscale\":[[0.0,\"#440154\"],[0.1111111111111111,\"#482878\"],[0.2222222222222222,\"#3e4989\"],[0.3333333333333333,\"#31688e\"],[0.4444444444444444,\"#26828e\"],[0.5555555555555556,\"#1f9e89\"],[0.6666666666666666,\"#35b779\"],[0.7777777777777778,\"#6ece58\"],[0.8888888888888888,\"#b5de2b\"],[1.0,\"#fde725\"]],\"type\":\"histogram2d\"}],\"histogram2dcontour\":[{\"colorbar\":{\"outlinewidth\":1,\"tickcolor\":\"rgb(36,36,36)\",\"ticks\":\"outside\"},\"colorscale\":[[0.0,\"#440154\"],[0.1111111111111111,\"#482878\"],[0.2222222222222222,\"#3e4989\"],[0.3333333333333333,\"#31688e\"],[0.4444444444444444,\"#26828e\"],[0.5555555555555556,\"#1f9e89\"],[0.6666666666666666,\"#35b779\"],[0.7777777777777778,\"#6ece58\"],[0.8888888888888888,\"#b5de2b\"],[1.0,\"#fde725\"]],\"type\":\"histogram2dcontour\"}],\"mesh3d\":[{\"colorbar\":{\"outlinewidth\":1,\"tickcolor\":\"rgb(36,36,36)\",\"ticks\":\"outside\"},\"type\":\"mesh3d\"}],\"parcoords\":[{\"line\":{\"colorbar\":{\"outlinewidth\":1,\"tickcolor\":\"rgb(36,36,36)\",\"ticks\":\"outside\"}},\"type\":\"parcoords\"}],\"pie\":[{\"automargin\":true,\"type\":\"pie\"}],\"scatter\":[{\"marker\":{\"colorbar\":{\"outlinewidth\":1,\"tickcolor\":\"rgb(36,36,36)\",\"ticks\":\"outside\"}},\"type\":\"scatter\"}],\"scatter3d\":[{\"line\":{\"colorbar\":{\"outlinewidth\":1,\"tickcolor\":\"rgb(36,36,36)\",\"ticks\":\"outside\"}},\"marker\":{\"colorbar\":{\"outlinewidth\":1,\"tickcolor\":\"rgb(36,36,36)\",\"ticks\":\"outside\"}},\"type\":\"scatter3d\"}],\"scattercarpet\":[{\"marker\":{\"colorbar\":{\"outlinewidth\":1,\"tickcolor\":\"rgb(36,36,36)\",\"ticks\":\"outside\"}},\"type\":\"scattercarpet\"}],\"scattergeo\":[{\"marker\":{\"colorbar\":{\"outlinewidth\":1,\"tickcolor\":\"rgb(36,36,36)\",\"ticks\":\"outside\"}},\"type\":\"scattergeo\"}],\"scattergl\":[{\"marker\":{\"colorbar\":{\"outlinewidth\":1,\"tickcolor\":\"rgb(36,36,36)\",\"ticks\":\"outside\"}},\"type\":\"scattergl\"}],\"scattermapbox\":[{\"marker\":{\"colorbar\":{\"outlinewidth\":1,\"tickcolor\":\"rgb(36,36,36)\",\"ticks\":\"outside\"}},\"type\":\"scattermapbox\"}],\"scatterpolar\":[{\"marker\":{\"colorbar\":{\"outlinewidth\":1,\"tickcolor\":\"rgb(36,36,36)\",\"ticks\":\"outside\"}},\"type\":\"scatterpolar\"}],\"scatterpolargl\":[{\"marker\":{\"colorbar\":{\"outlinewidth\":1,\"tickcolor\":\"rgb(36,36,36)\",\"ticks\":\"outside\"}},\"type\":\"scatterpolargl\"}],\"scatterternary\":[{\"marker\":{\"colorbar\":{\"outlinewidth\":1,\"tickcolor\":\"rgb(36,36,36)\",\"ticks\":\"outside\"}},\"type\":\"scatterternary\"}],\"surface\":[{\"colorbar\":{\"outlinewidth\":1,\"tickcolor\":\"rgb(36,36,36)\",\"ticks\":\"outside\"},\"colorscale\":[[0.0,\"#440154\"],[0.1111111111111111,\"#482878\"],[0.2222222222222222,\"#3e4989\"],[0.3333333333333333,\"#31688e\"],[0.4444444444444444,\"#26828e\"],[0.5555555555555556,\"#1f9e89\"],[0.6666666666666666,\"#35b779\"],[0.7777777777777778,\"#6ece58\"],[0.8888888888888888,\"#b5de2b\"],[1.0,\"#fde725\"]],\"type\":\"surface\"}],\"table\":[{\"cells\":{\"fill\":{\"color\":\"rgb(237,237,237)\"},\"line\":{\"color\":\"white\"}},\"header\":{\"fill\":{\"color\":\"rgb(217,217,217)\"},\"line\":{\"color\":\"white\"}},\"type\":\"table\"}]},\"layout\":{\"annotationdefaults\":{\"arrowhead\":0,\"arrowwidth\":1},\"autotypenumbers\":\"strict\",\"coloraxis\":{\"colorbar\":{\"outlinewidth\":1,\"tickcolor\":\"rgb(36,36,36)\",\"ticks\":\"outside\"}},\"colorscale\":{\"diverging\":[[0.0,\"rgb(103,0,31)\"],[0.1,\"rgb(178,24,43)\"],[0.2,\"rgb(214,96,77)\"],[0.3,\"rgb(244,165,130)\"],[0.4,\"rgb(253,219,199)\"],[0.5,\"rgb(247,247,247)\"],[0.6,\"rgb(209,229,240)\"],[0.7,\"rgb(146,197,222)\"],[0.8,\"rgb(67,147,195)\"],[0.9,\"rgb(33,102,172)\"],[1.0,\"rgb(5,48,97)\"]],\"sequential\":[[0.0,\"#440154\"],[0.1111111111111111,\"#482878\"],[0.2222222222222222,\"#3e4989\"],[0.3333333333333333,\"#31688e\"],[0.4444444444444444,\"#26828e\"],[0.5555555555555556,\"#1f9e89\"],[0.6666666666666666,\"#35b779\"],[0.7777777777777778,\"#6ece58\"],[0.8888888888888888,\"#b5de2b\"],[1.0,\"#fde725\"]],\"sequentialminus\":[[0.0,\"#440154\"],[0.1111111111111111,\"#482878\"],[0.2222222222222222,\"#3e4989\"],[0.3333333333333333,\"#31688e\"],[0.4444444444444444,\"#26828e\"],[0.5555555555555556,\"#1f9e89\"],[0.6666666666666666,\"#35b779\"],[0.7777777777777778,\"#6ece58\"],[0.8888888888888888,\"#b5de2b\"],[1.0,\"#fde725\"]]},\"colorway\":[\"#1F77B4\",\"#FF7F0E\",\"#2CA02C\",\"#D62728\",\"#9467BD\",\"#8C564B\",\"#E377C2\",\"#7F7F7F\",\"#BCBD22\",\"#17BECF\"],\"font\":{\"color\":\"rgb(36,36,36)\"},\"geo\":{\"bgcolor\":\"white\",\"lakecolor\":\"white\",\"landcolor\":\"white\",\"showlakes\":true,\"showland\":true,\"subunitcolor\":\"white\"},\"hoverlabel\":{\"align\":\"left\"},\"hovermode\":\"closest\",\"mapbox\":{\"style\":\"light\"},\"paper_bgcolor\":\"white\",\"plot_bgcolor\":\"white\",\"polar\":{\"angularaxis\":{\"gridcolor\":\"rgb(232,232,232)\",\"linecolor\":\"rgb(36,36,36)\",\"showgrid\":false,\"showline\":true,\"ticks\":\"outside\"},\"bgcolor\":\"white\",\"radialaxis\":{\"gridcolor\":\"rgb(232,232,232)\",\"linecolor\":\"rgb(36,36,36)\",\"showgrid\":false,\"showline\":true,\"ticks\":\"outside\"}},\"scene\":{\"xaxis\":{\"backgroundcolor\":\"white\",\"gridcolor\":\"rgb(232,232,232)\",\"gridwidth\":2,\"linecolor\":\"rgb(36,36,36)\",\"showbackground\":true,\"showgrid\":false,\"showline\":true,\"ticks\":\"outside\",\"zeroline\":false,\"zerolinecolor\":\"rgb(36,36,36)\"},\"yaxis\":{\"backgroundcolor\":\"white\",\"gridcolor\":\"rgb(232,232,232)\",\"gridwidth\":2,\"linecolor\":\"rgb(36,36,36)\",\"showbackground\":true,\"showgrid\":false,\"showline\":true,\"ticks\":\"outside\",\"zeroline\":false,\"zerolinecolor\":\"rgb(36,36,36)\"},\"zaxis\":{\"backgroundcolor\":\"white\",\"gridcolor\":\"rgb(232,232,232)\",\"gridwidth\":2,\"linecolor\":\"rgb(36,36,36)\",\"showbackground\":true,\"showgrid\":false,\"showline\":true,\"ticks\":\"outside\",\"zeroline\":false,\"zerolinecolor\":\"rgb(36,36,36)\"}},\"shapedefaults\":{\"fillcolor\":\"black\",\"line\":{\"width\":0},\"opacity\":0.3},\"ternary\":{\"aaxis\":{\"gridcolor\":\"rgb(232,232,232)\",\"linecolor\":\"rgb(36,36,36)\",\"showgrid\":false,\"showline\":true,\"ticks\":\"outside\"},\"baxis\":{\"gridcolor\":\"rgb(232,232,232)\",\"linecolor\":\"rgb(36,36,36)\",\"showgrid\":false,\"showline\":true,\"ticks\":\"outside\"},\"bgcolor\":\"white\",\"caxis\":{\"gridcolor\":\"rgb(232,232,232)\",\"linecolor\":\"rgb(36,36,36)\",\"showgrid\":false,\"showline\":true,\"ticks\":\"outside\"}},\"title\":{\"x\":0.05},\"xaxis\":{\"automargin\":true,\"gridcolor\":\"rgb(232,232,232)\",\"linecolor\":\"rgb(36,36,36)\",\"showgrid\":false,\"showline\":true,\"ticks\":\"outside\",\"title\":{\"standoff\":15},\"zeroline\":false,\"zerolinecolor\":\"rgb(36,36,36)\"},\"yaxis\":{\"automargin\":true,\"gridcolor\":\"rgb(232,232,232)\",\"linecolor\":\"rgb(36,36,36)\",\"showgrid\":false,\"showline\":true,\"ticks\":\"outside\",\"title\":{\"standoff\":15},\"zeroline\":false,\"zerolinecolor\":\"rgb(36,36,36)\"}}},\"title\":{\"text\":\"Relationship between flights passengers and year between years 1949 and 1960\"},\"xaxis\":{\"anchor\":\"y\",\"domain\":[0.0,1.0],\"title\":{\"text\":\"year\"}},\"yaxis\":{\"anchor\":\"x\",\"domain\":[0.0,1.0],\"title\":{\"text\":\"passengers\"}}},                        {\"responsive\": true}                    ).then(function(){\n",
       "                            \n",
       "var gd = document.getElementById('9d4c1a60-c2db-45d7-aede-1573e7638f1d');\n",
       "var x = new MutationObserver(function (mutations, observer) {{\n",
       "        var display = window.getComputedStyle(gd).display;\n",
       "        if (!display || display === 'none') {{\n",
       "            console.log([gd, 'removed!']);\n",
       "            Plotly.purge(gd);\n",
       "            observer.disconnect();\n",
       "        }}\n",
       "}});\n",
       "\n",
       "// Listen for the removal of the full notebook cells\n",
       "var notebookContainer = gd.closest('#notebook-container');\n",
       "if (notebookContainer) {{\n",
       "    x.observe(notebookContainer, {childList: true});\n",
       "}}\n",
       "\n",
       "// Listen for the clearing of the current output cell\n",
       "var outputEl = gd.closest('.output');\n",
       "if (outputEl) {{\n",
       "    x.observe(outputEl, {childList: true});\n",
       "}}\n",
       "\n",
       "                        })                };                });            </script>        </div>"
      ]
     },
     "metadata": {},
     "output_type": "display_data"
    }
   ],
   "source": [
    "flightFig = px.scatter(flights, x=\"year\", y=\"passengers\", trendline=\"ols\", template=\"simple_white\")\n",
    "flightFig.update_layout(title_text='Relationship between flights passengers and year between years 1949 and 1960')\n",
    "flightFig.show()"
   ]
  },
  {
   "cell_type": "markdown",
   "metadata": {},
   "source": [
    "# Concluding Thoughts"
   ]
  },
  {
   "cell_type": "markdown",
   "metadata": {},
   "source": [
    "Pandas and Plotly are great tools to get into data science. Pandas is especially useful for data cleaning and manipulation, while Plotly is an easy tool to generate interactive and sophisticated-looking plots. However, there are many more tools out there to use, and we encourage you to use the biggest tool of all for your future data science projects: Googling! A great SWE, DS, etc. is a great googler--they don't memorize lines of codes or libraries, they just know what the right questions are to ask!\n",
    "\n",
    "Below you will find some links to useful sites for data analysis."
   ]
  },
  {
   "cell_type": "markdown",
   "metadata": {},
   "source": [
    "**Datasets:**\n",
    "* Sample datasets (like car crashes) on [this github repository](https://github.com/mwaskom/seaborn-data)\n",
    "* [Kaggle](https://www.kaggle.com/)\n",
    "* [Google's Public Data Search Engine](https://www.google.com/publicdata/directory)\n",
    "* [US Government's Open Data](data.gov)\n",
    "\n",
    "**Data Visualization Libraries:**\n",
    "* [Plotly](https://plotly.com/python/)\n",
    "* [Matplotlib](https://matplotlib.org/)\n",
    "* [Seaborn](https://seaborn.pydata.org/)"
   ]
  },
  {
   "cell_type": "markdown",
   "metadata": {},
   "source": [
    "Additionally, I encourage you to explore more advanced functions in [pandas](https://pandas.pydata.org/). Querying data is a relevant skill for data analysis, and understand Pandas can make it easy to learn R, SQL, and other data analysis-related programming tools!\n",
    "\n",
    "That's all, happy coding!"
   ]
  }
 ],
 "metadata": {
  "kernelspec": {
   "display_name": "Python 3 (ipykernel)",
   "language": "python",
   "name": "python3"
  },
  "language_info": {
   "codemirror_mode": {
    "name": "ipython",
    "version": 3
   },
   "file_extension": ".py",
   "mimetype": "text/x-python",
   "name": "python",
   "nbconvert_exporter": "python",
   "pygments_lexer": "ipython3",
   "version": "3.9.7"
  }
 },
 "nbformat": 4,
 "nbformat_minor": 4
}
